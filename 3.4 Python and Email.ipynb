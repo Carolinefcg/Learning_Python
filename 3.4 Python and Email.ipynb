{
 "cells": [
  {
   "cell_type": "markdown",
   "id": "b83eea2f",
   "metadata": {},
   "source": [
    "# Python and email integration"
   ]
  },
  {
   "cell_type": "code",
   "execution_count": null,
   "id": "7b425da8",
   "metadata": {},
   "outputs": [],
   "source": [
    "from imap_tools import MailBox, AND\n",
    "from senha_email import minha_senha"
   ]
  },
  {
   "cell_type": "markdown",
   "id": "524c7f26",
   "metadata": {},
   "source": [
    "# Login"
   ]
  },
  {
   "cell_type": "code",
   "execution_count": null,
   "id": "e81162b8",
   "metadata": {},
   "outputs": [],
   "source": [
    "# Allow in your email account to codes that are nor from Google to access it\n",
    "usuario = \"emailsender@gmail.com\"\n",
    "senha = minha_senha\n",
    "\n",
    "meu_email = MailBox(\"imap.gmail.com\").login(usuario, senha)"
   ]
  },
  {
   "cell_type": "markdown",
   "id": "ef274637",
   "metadata": {},
   "source": [
    "# Get emails from a specific sender "
   ]
  },
  {
   "cell_type": "code",
   "execution_count": null,
   "id": "ebee7f0f",
   "metadata": {},
   "outputs": [],
   "source": [
    "\n",
    "lista_emails = meu_email.fetch(AND(from_=\"emailsender@gmail.com\",\n",
    "                                   to=\"emailsender+someone@gmail.com\"))\n",
    "for email in lista_emails:\n",
    "    print(email.subject)\n",
    "    print(email.text)"
   ]
  },
  {
   "cell_type": "markdown",
   "id": "92cc02fa",
   "metadata": {},
   "source": [
    "# Get email inbox files"
   ]
  },
  {
   "cell_type": "code",
   "execution_count": null,
   "id": "24573987",
   "metadata": {
    "ExecuteTime": {
     "end_time": "2023-07-25T21:19:55.078774Z",
     "start_time": "2023-07-25T21:19:54.134457Z"
    }
   },
   "outputs": [],
   "source": [
    "lista_emails = meu_email.fetch(AND(from_=\"emailsender@gmail.com\"))\n",
    "for email in lista_emails:\n",
    "    if len(email.attachments) > 0:\n",
    "        for anexo in email.attachments:\n",
    "            if \"RelatorioExcel\" in anexo.filename:\n",
    "                informacoes_anexo = anexo.payload\n",
    "                with open(\"RelatorioExcel.xlsx\", \"wb\") as arquivo_excel:\n",
    "                    arquivo_excel.write(informacoes_anexo)"
   ]
  },
  {
   "cell_type": "code",
   "execution_count": null,
   "id": "4075eb73",
   "metadata": {},
   "outputs": [],
   "source": []
  }
 ],
 "metadata": {
  "kernelspec": {
   "display_name": "Python 3 (ipykernel)",
   "language": "python",
   "name": "python3"
  },
  "language_info": {
   "codemirror_mode": {
    "name": "ipython",
    "version": 3
   },
   "file_extension": ".py",
   "mimetype": "text/x-python",
   "name": "python",
   "nbconvert_exporter": "python",
   "pygments_lexer": "ipython3",
   "version": "3.9.12"
  },
  "toc": {
   "base_numbering": 1,
   "nav_menu": {},
   "number_sections": true,
   "sideBar": true,
   "skip_h1_title": false,
   "title_cell": "Table of Contents",
   "title_sidebar": "Contents",
   "toc_cell": false,
   "toc_position": {},
   "toc_section_display": true,
   "toc_window_display": false
  },
  "varInspector": {
   "cols": {
    "lenName": 16,
    "lenType": 16,
    "lenVar": 40
   },
   "kernels_config": {
    "python": {
     "delete_cmd_postfix": "",
     "delete_cmd_prefix": "del ",
     "library": "var_list.py",
     "varRefreshCmd": "print(var_dic_list())"
    },
    "r": {
     "delete_cmd_postfix": ") ",
     "delete_cmd_prefix": "rm(",
     "library": "var_list.r",
     "varRefreshCmd": "cat(var_dic_list()) "
    }
   },
   "types_to_exclude": [
    "module",
    "function",
    "builtin_function_or_method",
    "instance",
    "_Feature"
   ],
   "window_display": false
  }
 },
 "nbformat": 4,
 "nbformat_minor": 5
}
