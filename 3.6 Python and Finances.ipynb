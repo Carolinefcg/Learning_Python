{
 "cells": [
  {
   "cell_type": "markdown",
   "id": "e40c5c7a",
   "metadata": {},
   "source": [
    "# Libraries"
   ]
  },
  {
   "cell_type": "code",
   "execution_count": 7,
   "id": "ae039b9d",
   "metadata": {
    "ExecuteTime": {
     "end_time": "2023-08-08T21:56:34.542526Z",
     "start_time": "2023-08-08T21:56:34.533534Z"
    }
   },
   "outputs": [],
   "source": [
    "import numpy as np\n",
    "import pandas as pd\n",
    "import matplotlib.pyplot as plt\n",
    "import yfinance as yf\n",
    "import os"
   ]
  },
  {
   "cell_type": "code",
   "execution_count": 9,
   "id": "21dece59",
   "metadata": {
    "ExecuteTime": {
     "end_time": "2023-08-08T21:58:00.619902Z",
     "start_time": "2023-08-08T21:58:00.607890Z"
    }
   },
   "outputs": [],
   "source": [
    "path = os.getcwd().replace('GitHub', 'github_data')"
   ]
  },
  {
   "cell_type": "markdown",
   "id": "ead422fe",
   "metadata": {
    "ExecuteTime": {
     "end_time": "2023-08-08T21:47:17.120332Z",
     "start_time": "2023-08-08T21:47:17.089157Z"
    }
   },
   "source": [
    "# Getting IBOVESPA data from Yahoo!"
   ]
  },
  {
   "cell_type": "code",
   "execution_count": 3,
   "id": "dab48d41",
   "metadata": {
    "ExecuteTime": {
     "end_time": "2023-08-08T21:52:22.457407Z",
     "start_time": "2023-08-08T21:52:22.210122Z"
    }
   },
   "outputs": [
    {
     "name": "stdout",
     "output_type": "stream",
     "text": [
      "[*********************100%***********************]  1 of 1 completed\n"
     ]
    },
    {
     "data": {
      "text/html": [
       "<div>\n",
       "<style scoped>\n",
       "    .dataframe tbody tr th:only-of-type {\n",
       "        vertical-align: middle;\n",
       "    }\n",
       "\n",
       "    .dataframe tbody tr th {\n",
       "        vertical-align: top;\n",
       "    }\n",
       "\n",
       "    .dataframe thead th {\n",
       "        text-align: right;\n",
       "    }\n",
       "</style>\n",
       "<table border=\"1\" class=\"dataframe\">\n",
       "  <thead>\n",
       "    <tr style=\"text-align: right;\">\n",
       "      <th></th>\n",
       "      <th>Open</th>\n",
       "      <th>High</th>\n",
       "      <th>Low</th>\n",
       "      <th>Close</th>\n",
       "      <th>Adj Close</th>\n",
       "      <th>Volume</th>\n",
       "    </tr>\n",
       "    <tr>\n",
       "      <th>Date</th>\n",
       "      <th></th>\n",
       "      <th></th>\n",
       "      <th></th>\n",
       "      <th></th>\n",
       "      <th></th>\n",
       "      <th></th>\n",
       "    </tr>\n",
       "  </thead>\n",
       "  <tbody>\n",
       "    <tr>\n",
       "      <th>2023-01-02</th>\n",
       "      <td>109734.0</td>\n",
       "      <td>109734.0</td>\n",
       "      <td>105981.0</td>\n",
       "      <td>106376.0</td>\n",
       "      <td>106376.0</td>\n",
       "      <td>8130500</td>\n",
       "    </tr>\n",
       "    <tr>\n",
       "      <th>2023-01-03</th>\n",
       "      <td>106377.0</td>\n",
       "      <td>106684.0</td>\n",
       "      <td>103852.0</td>\n",
       "      <td>104166.0</td>\n",
       "      <td>104166.0</td>\n",
       "      <td>14466700</td>\n",
       "    </tr>\n",
       "    <tr>\n",
       "      <th>2023-01-04</th>\n",
       "      <td>104167.0</td>\n",
       "      <td>105627.0</td>\n",
       "      <td>103915.0</td>\n",
       "      <td>105334.0</td>\n",
       "      <td>105334.0</td>\n",
       "      <td>14451200</td>\n",
       "    </tr>\n",
       "    <tr>\n",
       "      <th>2023-01-05</th>\n",
       "      <td>105336.0</td>\n",
       "      <td>107743.0</td>\n",
       "      <td>105333.0</td>\n",
       "      <td>107518.0</td>\n",
       "      <td>107518.0</td>\n",
       "      <td>15512000</td>\n",
       "    </tr>\n",
       "    <tr>\n",
       "      <th>2023-01-06</th>\n",
       "      <td>107642.0</td>\n",
       "      <td>109433.0</td>\n",
       "      <td>107642.0</td>\n",
       "      <td>108836.0</td>\n",
       "      <td>108836.0</td>\n",
       "      <td>12626600</td>\n",
       "    </tr>\n",
       "  </tbody>\n",
       "</table>\n",
       "</div>"
      ],
      "text/plain": [
       "                Open      High       Low     Close  Adj Close    Volume\n",
       "Date                                                                   \n",
       "2023-01-02  109734.0  109734.0  105981.0  106376.0   106376.0   8130500\n",
       "2023-01-03  106377.0  106684.0  103852.0  104166.0   104166.0  14466700\n",
       "2023-01-04  104167.0  105627.0  103915.0  105334.0   105334.0  14451200\n",
       "2023-01-05  105336.0  107743.0  105333.0  107518.0   107518.0  15512000\n",
       "2023-01-06  107642.0  109433.0  107642.0  108836.0   108836.0  12626600"
      ]
     },
     "execution_count": 3,
     "metadata": {},
     "output_type": "execute_result"
    }
   ],
   "source": [
    "cotacao_ibov = yf.download('^BVSP', start = \"2023-01-01\", end = \"2023-08-07\")\n",
    "cotacao_ibov.head(5)"
   ]
  },
  {
   "cell_type": "code",
   "execution_count": 4,
   "id": "a5abf86f",
   "metadata": {
    "ExecuteTime": {
     "end_time": "2023-08-08T21:52:31.848863Z",
     "start_time": "2023-08-08T21:52:29.434594Z"
    }
   },
   "outputs": [
    {
     "data": {
      "text/plain": [
       "<Axes: xlabel='Date'>"
      ]
     },
     "execution_count": 4,
     "metadata": {},
     "output_type": "execute_result"
    },
    {
     "data": {
      "image/png": "[encoded data removed]",
      "text/plain": [
       "<Figure size 1500x500 with 1 Axes>"
      ]
     },
     "metadata": {},
     "output_type": "display_data"
    }
   ],
   "source": [
    "cotacao_ibov['Adj Close'].plot(figsize=(15, 5))"
   ]
  },
  {
   "cell_type": "code",
   "execution_count": 5,
   "id": "96259778",
   "metadata": {
    "ExecuteTime": {
     "end_time": "2023-08-08T21:53:30.802283Z",
     "start_time": "2023-08-08T21:53:30.776598Z"
    }
   },
   "outputs": [
    {
     "name": "stdout",
     "output_type": "stream",
     "text": [
      "Retorno de 12.34%\n"
     ]
    }
   ],
   "source": [
    "return_ibov = cotacao_ibov['Adj Close'][-1] / cotacao_ibov['Adj Close'][0] - 1\n",
    "print('Return de {:.2%}'.format(return_ibov))"
   ]
  },
  {
   "cell_type": "markdown",
   "id": "ad3d50d7",
   "metadata": {},
   "source": [
    "## Moving average"
   ]
  },
  {
   "cell_type": "code",
   "execution_count": 6,
   "id": "53e183bc",
   "metadata": {
    "ExecuteTime": {
     "end_time": "2023-08-08T21:53:32.951915Z",
     "start_time": "2023-08-08T21:53:32.598209Z"
    }
   },
   "outputs": [
    {
     "data": {
      "image/png": "[encoded data removed]",
      "text/plain": [
       "<Figure size 1500x500 with 1 Axes>"
      ]
     },
     "metadata": {},
     "output_type": "display_data"
    }
   ],
   "source": [
    "cotacao_ibov['Adj Close'].plot(figsize=(15, 5), label='IBOV')\n",
    "cotacao_ibov['Adj Close'].rolling(21).mean().plot(label='MM21')\n",
    "cotacao_ibov['Adj Close'].rolling(34).mean().plot(label='MM34')\n",
    "plt.legend()\n",
    "plt.show()"
   ]
  },
  {
   "cell_type": "markdown",
   "id": "e8cd97b5",
   "metadata": {},
   "source": [
    "# Custom wallet"
   ]
  },
  {
   "cell_type": "code",
   "execution_count": 10,
   "id": "420fae6a",
   "metadata": {
    "ExecuteTime": {
     "end_time": "2023-08-08T21:59:35.832471Z",
     "start_time": "2023-08-08T21:59:31.659021Z"
    }
   },
   "outputs": [
    {
     "data": {
      "text/html": [
       "<div>\n",
       "<style scoped>\n",
       "    .dataframe tbody tr th:only-of-type {\n",
       "        vertical-align: middle;\n",
       "    }\n",
       "\n",
       "    .dataframe tbody tr th {\n",
       "        vertical-align: top;\n",
       "    }\n",
       "\n",
       "    .dataframe thead th {\n",
       "        text-align: right;\n",
       "    }\n",
       "</style>\n",
       "<table border=\"1\" class=\"dataframe\">\n",
       "  <thead>\n",
       "    <tr style=\"text-align: right;\">\n",
       "      <th></th>\n",
       "      <th>Ativos</th>\n",
       "      <th>Tipo</th>\n",
       "      <th>Qtde</th>\n",
       "    </tr>\n",
       "  </thead>\n",
       "  <tbody>\n",
       "    <tr>\n",
       "      <th>0</th>\n",
       "      <td>BOVA11</td>\n",
       "      <td>ETF</td>\n",
       "      <td>100</td>\n",
       "    </tr>\n",
       "    <tr>\n",
       "      <th>1</th>\n",
       "      <td>SMAL11</td>\n",
       "      <td>ETF</td>\n",
       "      <td>100</td>\n",
       "    </tr>\n",
       "    <tr>\n",
       "      <th>2</th>\n",
       "      <td>MGLU3</td>\n",
       "      <td>Ação</td>\n",
       "      <td>1000</td>\n",
       "    </tr>\n",
       "    <tr>\n",
       "      <th>3</th>\n",
       "      <td>BBDC4</td>\n",
       "      <td>Ação</td>\n",
       "      <td>100</td>\n",
       "    </tr>\n",
       "    <tr>\n",
       "      <th>4</th>\n",
       "      <td>ITUB4</td>\n",
       "      <td>Ação</td>\n",
       "      <td>100</td>\n",
       "    </tr>\n",
       "    <tr>\n",
       "      <th>5</th>\n",
       "      <td>ENEV3</td>\n",
       "      <td>Ação</td>\n",
       "      <td>300</td>\n",
       "    </tr>\n",
       "    <tr>\n",
       "      <th>6</th>\n",
       "      <td>MOVI3</td>\n",
       "      <td>Ação</td>\n",
       "      <td>100</td>\n",
       "    </tr>\n",
       "    <tr>\n",
       "      <th>7</th>\n",
       "      <td>BPAC11</td>\n",
       "      <td>Ação</td>\n",
       "      <td>100</td>\n",
       "    </tr>\n",
       "    <tr>\n",
       "      <th>8</th>\n",
       "      <td>GNDI3</td>\n",
       "      <td>Ação</td>\n",
       "      <td>100</td>\n",
       "    </tr>\n",
       "    <tr>\n",
       "      <th>9</th>\n",
       "      <td>NTCO3</td>\n",
       "      <td>Ação</td>\n",
       "      <td>100</td>\n",
       "    </tr>\n",
       "    <tr>\n",
       "      <th>10</th>\n",
       "      <td>BCRI11</td>\n",
       "      <td>FII</td>\n",
       "      <td>100</td>\n",
       "    </tr>\n",
       "    <tr>\n",
       "      <th>11</th>\n",
       "      <td>VILG11</td>\n",
       "      <td>FII</td>\n",
       "      <td>100</td>\n",
       "    </tr>\n",
       "    <tr>\n",
       "      <th>12</th>\n",
       "      <td>KNRI11</td>\n",
       "      <td>FII</td>\n",
       "      <td>100</td>\n",
       "    </tr>\n",
       "    <tr>\n",
       "      <th>13</th>\n",
       "      <td>XPLG11</td>\n",
       "      <td>FII</td>\n",
       "      <td>100</td>\n",
       "    </tr>\n",
       "  </tbody>\n",
       "</table>\n",
       "</div>"
      ],
      "text/plain": [
       "    Ativos  Tipo  Qtde\n",
       "0   BOVA11   ETF   100\n",
       "1   SMAL11   ETF   100\n",
       "2    MGLU3  Ação  1000\n",
       "3    BBDC4  Ação   100\n",
       "4    ITUB4  Ação   100\n",
       "5    ENEV3  Ação   300\n",
       "6    MOVI3  Ação   100\n",
       "7   BPAC11  Ação   100\n",
       "8    GNDI3  Ação   100\n",
       "9    NTCO3  Ação   100\n",
       "10  BCRI11   FII   100\n",
       "11  VILG11   FII   100\n",
       "12  KNRI11   FII   100\n",
       "13  XPLG11   FII   100"
      ]
     },
     "metadata": {},
     "output_type": "display_data"
    }
   ],
   "source": [
    "wallet = pd.read_excel(path+r'/Carteira.xlsx')\n",
    "display(wallet)"
   ]
  },
  {
   "cell_type": "markdown",
   "id": "4f3732d1",
   "metadata": {
    "ExecuteTime": {
     "end_time": "2023-08-08T22:00:17.482662Z",
     "start_time": "2023-08-08T22:00:17.467646Z"
    }
   },
   "source": [
    "## Assets in investment portfolio"
   ]
  },
  {
   "cell_type": "code",
   "execution_count": 14,
   "id": "56d7eb54",
   "metadata": {
    "ExecuteTime": {
     "end_time": "2023-08-08T22:01:43.537021Z",
     "start_time": "2023-08-08T22:01:35.503553Z"
    }
   },
   "outputs": [
    {
     "name": "stdout",
     "output_type": "stream",
     "text": [
      "[*********************100%***********************]  1 of 1 completed\n",
      "[*********************100%***********************]  1 of 1 completed\n",
      "[*********************100%***********************]  1 of 1 completed\n",
      "[*********************100%***********************]  1 of 1 completed\n",
      "[*********************100%***********************]  1 of 1 completed\n",
      "[*********************100%***********************]  1 of 1 completed\n",
      "[*********************100%***********************]  1 of 1 completed\n",
      "[*********************100%***********************]  1 of 1 completed\n",
      "[*********************100%***********************]  1 of 1 completed"
     ]
    },
    {
     "name": "stderr",
     "output_type": "stream",
     "text": [
      "\n",
      "1 Failed download:\n",
      "['GNDI3.SA']: Exception('%ticker%: No timezone found, symbol may be delisted')\n"
     ]
    },
    {
     "name": "stdout",
     "output_type": "stream",
     "text": [
      "\n",
      "[*********************100%***********************]  1 of 1 completed\n",
      "[*********************100%***********************]  1 of 1 completed\n",
      "[*********************100%***********************]  1 of 1 completed\n",
      "[*********************100%***********************]  1 of 1 completed\n",
      "[*********************100%***********************]  1 of 1 completed\n"
     ]
    },
    {
     "data": {
      "text/html": [
       "<div>\n",
       "<style scoped>\n",
       "    .dataframe tbody tr th:only-of-type {\n",
       "        vertical-align: middle;\n",
       "    }\n",
       "\n",
       "    .dataframe tbody tr th {\n",
       "        vertical-align: top;\n",
       "    }\n",
       "\n",
       "    .dataframe thead th {\n",
       "        text-align: right;\n",
       "    }\n",
       "</style>\n",
       "<table border=\"1\" class=\"dataframe\">\n",
       "  <thead>\n",
       "    <tr style=\"text-align: right;\">\n",
       "      <th></th>\n",
       "      <th>BOVA11</th>\n",
       "      <th>SMAL11</th>\n",
       "      <th>MGLU3</th>\n",
       "      <th>BBDC4</th>\n",
       "      <th>ITUB4</th>\n",
       "      <th>ENEV3</th>\n",
       "      <th>MOVI3</th>\n",
       "      <th>BPAC11</th>\n",
       "      <th>GNDI3</th>\n",
       "      <th>NTCO3</th>\n",
       "      <th>BCRI11</th>\n",
       "      <th>VILG11</th>\n",
       "      <th>KNRI11</th>\n",
       "      <th>XPLG11</th>\n",
       "    </tr>\n",
       "    <tr>\n",
       "      <th>Date</th>\n",
       "      <th></th>\n",
       "      <th></th>\n",
       "      <th></th>\n",
       "      <th></th>\n",
       "      <th></th>\n",
       "      <th></th>\n",
       "      <th></th>\n",
       "      <th></th>\n",
       "      <th></th>\n",
       "      <th></th>\n",
       "      <th></th>\n",
       "      <th></th>\n",
       "      <th></th>\n",
       "      <th></th>\n",
       "    </tr>\n",
       "  </thead>\n",
       "  <tbody>\n",
       "    <tr>\n",
       "      <th>2023-01-02</th>\n",
       "      <td>102.629997</td>\n",
       "      <td>93.800003</td>\n",
       "      <td>2.59</td>\n",
       "      <td>13.863370</td>\n",
       "      <td>23.878443</td>\n",
       "      <td>11.20</td>\n",
       "      <td>7.080892</td>\n",
       "      <td>22.229681</td>\n",
       "      <td>NaN</td>\n",
       "      <td>10.640000</td>\n",
       "      <td>90.295319</td>\n",
       "      <td>95.266800</td>\n",
       "      <td>133.180008</td>\n",
       "      <td>92.021378</td>\n",
       "    </tr>\n",
       "    <tr>\n",
       "      <th>2023-01-03</th>\n",
       "      <td>100.480003</td>\n",
       "      <td>90.199997</td>\n",
       "      <td>2.54</td>\n",
       "      <td>13.175403</td>\n",
       "      <td>23.381178</td>\n",
       "      <td>11.03</td>\n",
       "      <td>6.785033</td>\n",
       "      <td>21.166868</td>\n",
       "      <td>NaN</td>\n",
       "      <td>10.120000</td>\n",
       "      <td>89.650948</td>\n",
       "      <td>93.531563</td>\n",
       "      <td>132.408401</td>\n",
       "      <td>90.265610</td>\n",
       "    </tr>\n",
       "    <tr>\n",
       "      <th>2023-01-04</th>\n",
       "      <td>101.919998</td>\n",
       "      <td>92.000000</td>\n",
       "      <td>2.55</td>\n",
       "      <td>13.213045</td>\n",
       "      <td>23.449430</td>\n",
       "      <td>11.45</td>\n",
       "      <td>7.080892</td>\n",
       "      <td>21.842302</td>\n",
       "      <td>NaN</td>\n",
       "      <td>11.020000</td>\n",
       "      <td>91.322571</td>\n",
       "      <td>92.854630</td>\n",
       "      <td>130.169846</td>\n",
       "      <td>90.863518</td>\n",
       "    </tr>\n",
       "    <tr>\n",
       "      <th>2023-01-05</th>\n",
       "      <td>104.269997</td>\n",
       "      <td>94.500000</td>\n",
       "      <td>2.66</td>\n",
       "      <td>13.787117</td>\n",
       "      <td>24.180700</td>\n",
       "      <td>11.71</td>\n",
       "      <td>7.327441</td>\n",
       "      <td>22.730000</td>\n",
       "      <td>NaN</td>\n",
       "      <td>11.700000</td>\n",
       "      <td>91.331902</td>\n",
       "      <td>94.008270</td>\n",
       "      <td>130.808090</td>\n",
       "      <td>92.059341</td>\n",
       "    </tr>\n",
       "    <tr>\n",
       "      <th>2023-01-06</th>\n",
       "      <td>105.500000</td>\n",
       "      <td>95.029999</td>\n",
       "      <td>2.76</td>\n",
       "      <td>14.172969</td>\n",
       "      <td>24.599962</td>\n",
       "      <td>12.38</td>\n",
       "      <td>7.731782</td>\n",
       "      <td>22.860001</td>\n",
       "      <td>NaN</td>\n",
       "      <td>12.250000</td>\n",
       "      <td>90.426071</td>\n",
       "      <td>93.550621</td>\n",
       "      <td>130.522324</td>\n",
       "      <td>91.300087</td>\n",
       "    </tr>\n",
       "    <tr>\n",
       "      <th>...</th>\n",
       "      <td>...</td>\n",
       "      <td>...</td>\n",
       "      <td>...</td>\n",
       "      <td>...</td>\n",
       "      <td>...</td>\n",
       "      <td>...</td>\n",
       "      <td>...</td>\n",
       "      <td>...</td>\n",
       "      <td>...</td>\n",
       "      <td>...</td>\n",
       "      <td>...</td>\n",
       "      <td>...</td>\n",
       "      <td>...</td>\n",
       "      <td>...</td>\n",
       "    </tr>\n",
       "    <tr>\n",
       "      <th>2023-07-31</th>\n",
       "      <td>117.949997</td>\n",
       "      <td>112.900002</td>\n",
       "      <td>3.35</td>\n",
       "      <td>16.640980</td>\n",
       "      <td>28.622351</td>\n",
       "      <td>13.37</td>\n",
       "      <td>11.410000</td>\n",
       "      <td>34.009998</td>\n",
       "      <td>NaN</td>\n",
       "      <td>18.270000</td>\n",
       "      <td>75.619995</td>\n",
       "      <td>109.279999</td>\n",
       "      <td>160.299988</td>\n",
       "      <td>113.610001</td>\n",
       "    </tr>\n",
       "    <tr>\n",
       "      <th>2023-08-01</th>\n",
       "      <td>117.519997</td>\n",
       "      <td>113.089996</td>\n",
       "      <td>3.43</td>\n",
       "      <td>16.601027</td>\n",
       "      <td>28.709999</td>\n",
       "      <td>13.36</td>\n",
       "      <td>11.980000</td>\n",
       "      <td>33.799999</td>\n",
       "      <td>NaN</td>\n",
       "      <td>18.340000</td>\n",
       "      <td>73.430000</td>\n",
       "      <td>108.699997</td>\n",
       "      <td>161.389999</td>\n",
       "      <td>114.000000</td>\n",
       "    </tr>\n",
       "    <tr>\n",
       "      <th>2023-08-02</th>\n",
       "      <td>117.010002</td>\n",
       "      <td>113.000000</td>\n",
       "      <td>3.33</td>\n",
       "      <td>16.670000</td>\n",
       "      <td>28.620001</td>\n",
       "      <td>13.38</td>\n",
       "      <td>11.730000</td>\n",
       "      <td>33.209999</td>\n",
       "      <td>NaN</td>\n",
       "      <td>18.090000</td>\n",
       "      <td>74.250000</td>\n",
       "      <td>108.980003</td>\n",
       "      <td>160.399994</td>\n",
       "      <td>114.050003</td>\n",
       "    </tr>\n",
       "    <tr>\n",
       "      <th>2023-08-03</th>\n",
       "      <td>116.709999</td>\n",
       "      <td>112.980003</td>\n",
       "      <td>3.16</td>\n",
       "      <td>16.549999</td>\n",
       "      <td>28.400000</td>\n",
       "      <td>13.24</td>\n",
       "      <td>12.420000</td>\n",
       "      <td>33.389999</td>\n",
       "      <td>NaN</td>\n",
       "      <td>17.799999</td>\n",
       "      <td>75.279999</td>\n",
       "      <td>108.989998</td>\n",
       "      <td>161.850006</td>\n",
       "      <td>114.199997</td>\n",
       "    </tr>\n",
       "    <tr>\n",
       "      <th>2023-08-04</th>\n",
       "      <td>115.660004</td>\n",
       "      <td>113.849998</td>\n",
       "      <td>3.06</td>\n",
       "      <td>15.450000</td>\n",
       "      <td>27.879999</td>\n",
       "      <td>13.02</td>\n",
       "      <td>12.160000</td>\n",
       "      <td>32.950001</td>\n",
       "      <td>NaN</td>\n",
       "      <td>17.730000</td>\n",
       "      <td>74.800003</td>\n",
       "      <td>110.589996</td>\n",
       "      <td>162.020004</td>\n",
       "      <td>114.489998</td>\n",
       "    </tr>\n",
       "  </tbody>\n",
       "</table>\n",
       "<p>149 rows × 14 columns</p>\n",
       "</div>"
      ],
      "text/plain": [
       "                BOVA11      SMAL11  MGLU3      BBDC4      ITUB4  ENEV3  \\\n",
       "Date                                                                     \n",
       "2023-01-02  102.629997   93.800003   2.59  13.863370  23.878443  11.20   \n",
       "2023-01-03  100.480003   90.199997   2.54  13.175403  23.381178  11.03   \n",
       "2023-01-04  101.919998   92.000000   2.55  13.213045  23.449430  11.45   \n",
       "2023-01-05  104.269997   94.500000   2.66  13.787117  24.180700  11.71   \n",
       "2023-01-06  105.500000   95.029999   2.76  14.172969  24.599962  12.38   \n",
       "...                ...         ...    ...        ...        ...    ...   \n",
       "2023-07-31  117.949997  112.900002   3.35  16.640980  28.622351  13.37   \n",
       "2023-08-01  117.519997  113.089996   3.43  16.601027  28.709999  13.36   \n",
       "2023-08-02  117.010002  113.000000   3.33  16.670000  28.620001  13.38   \n",
       "2023-08-03  116.709999  112.980003   3.16  16.549999  28.400000  13.24   \n",
       "2023-08-04  115.660004  113.849998   3.06  15.450000  27.879999  13.02   \n",
       "\n",
       "                MOVI3     BPAC11  GNDI3      NTCO3     BCRI11      VILG11  \\\n",
       "Date                                                                        \n",
       "2023-01-02   7.080892  22.229681    NaN  10.640000  90.295319   95.266800   \n",
       "2023-01-03   6.785033  21.166868    NaN  10.120000  89.650948   93.531563   \n",
       "2023-01-04   7.080892  21.842302    NaN  11.020000  91.322571   92.854630   \n",
       "2023-01-05   7.327441  22.730000    NaN  11.700000  91.331902   94.008270   \n",
       "2023-01-06   7.731782  22.860001    NaN  12.250000  90.426071   93.550621   \n",
       "...               ...        ...    ...        ...        ...         ...   \n",
       "2023-07-31  11.410000  34.009998    NaN  18.270000  75.619995  109.279999   \n",
       "2023-08-01  11.980000  33.799999    NaN  18.340000  73.430000  108.699997   \n",
       "2023-08-02  11.730000  33.209999    NaN  18.090000  74.250000  108.980003   \n",
       "2023-08-03  12.420000  33.389999    NaN  17.799999  75.279999  108.989998   \n",
       "2023-08-04  12.160000  32.950001    NaN  17.730000  74.800003  110.589996   \n",
       "\n",
       "                KNRI11      XPLG11  \n",
       "Date                                \n",
       "2023-01-02  133.180008   92.021378  \n",
       "2023-01-03  132.408401   90.265610  \n",
       "2023-01-04  130.169846   90.863518  \n",
       "2023-01-05  130.808090   92.059341  \n",
       "2023-01-06  130.522324   91.300087  \n",
       "...                ...         ...  \n",
       "2023-07-31  160.299988  113.610001  \n",
       "2023-08-01  161.389999  114.000000  \n",
       "2023-08-02  160.399994  114.050003  \n",
       "2023-08-03  161.850006  114.199997  \n",
       "2023-08-04  162.020004  114.489998  \n",
       "\n",
       "[149 rows x 14 columns]"
      ]
     },
     "metadata": {},
     "output_type": "display_data"
    }
   ],
   "source": [
    "cotacoes_wallet = pd.DataFrame()\n",
    "\n",
    "for ativo in wallet['Ativos']:\n",
    "    cotacoes_wallet[ativo] = yf.download('{}.SA'.format(ativo), start = \"2023-01-01\", end = \"2023-08-07\")['Adj Close']\n",
    "    \n",
    "display(cotacoes_wallet)"
   ]
  },
  {
   "cell_type": "markdown",
   "id": "dfd20b83",
   "metadata": {},
   "source": [
    "## Check if data fro yahoo is correct"
   ]
  },
  {
   "cell_type": "code",
   "execution_count": 17,
   "id": "6fcdf9e3",
   "metadata": {
    "ExecuteTime": {
     "end_time": "2023-08-08T22:08:10.672085Z",
     "start_time": "2023-08-08T22:08:10.371800Z"
    }
   },
   "outputs": [
    {
     "name": "stdout",
     "output_type": "stream",
     "text": [
      "<class 'pandas.core.frame.DataFrame'>\n",
      "DatetimeIndex: 149 entries, 2023-01-02 to 2023-08-04\n",
      "Data columns (total 14 columns):\n",
      " #   Column  Non-Null Count  Dtype  \n",
      "---  ------  --------------  -----  \n",
      " 0   BOVA11  149 non-null    float64\n",
      " 1   SMAL11  149 non-null    float64\n",
      " 2   MGLU3   149 non-null    float64\n",
      " 3   BBDC4   149 non-null    float64\n",
      " 4   ITUB4   149 non-null    float64\n",
      " 5   ENEV3   149 non-null    float64\n",
      " 6   MOVI3   149 non-null    float64\n",
      " 7   BPAC11  148 non-null    float64\n",
      " 8   GNDI3   0 non-null      float64\n",
      " 9   NTCO3   149 non-null    float64\n",
      " 10  BCRI11  149 non-null    float64\n",
      " 11  VILG11  149 non-null    float64\n",
      " 12  KNRI11  149 non-null    float64\n",
      " 13  XPLG11  149 non-null    float64\n",
      "dtypes: float64(14)\n",
      "memory usage: 17.5 KB\n"
     ]
    }
   ],
   "source": [
    "cotacoes_wallet.info()"
   ]
  },
  {
   "cell_type": "markdown",
   "id": "d4b45484",
   "metadata": {},
   "source": [
    "## Adjusting data"
   ]
  },
  {
   "cell_type": "code",
   "execution_count": 18,
   "id": "abb5b319",
   "metadata": {
    "ExecuteTime": {
     "end_time": "2023-08-08T22:08:14.518005Z",
     "start_time": "2023-08-08T22:08:14.459954Z"
    }
   },
   "outputs": [
    {
     "name": "stdout",
     "output_type": "stream",
     "text": [
      "<class 'pandas.core.frame.DataFrame'>\n",
      "DatetimeIndex: 149 entries, 2023-01-02 to 2023-08-04\n",
      "Data columns (total 14 columns):\n",
      " #   Column  Non-Null Count  Dtype  \n",
      "---  ------  --------------  -----  \n",
      " 0   BOVA11  149 non-null    float64\n",
      " 1   SMAL11  149 non-null    float64\n",
      " 2   MGLU3   149 non-null    float64\n",
      " 3   BBDC4   149 non-null    float64\n",
      " 4   ITUB4   149 non-null    float64\n",
      " 5   ENEV3   149 non-null    float64\n",
      " 6   MOVI3   149 non-null    float64\n",
      " 7   BPAC11  149 non-null    float64\n",
      " 8   GNDI3   0 non-null      float64\n",
      " 9   NTCO3   149 non-null    float64\n",
      " 10  BCRI11  149 non-null    float64\n",
      " 11  VILG11  149 non-null    float64\n",
      " 12  KNRI11  149 non-null    float64\n",
      " 13  XPLG11  149 non-null    float64\n",
      "dtypes: float64(14)\n",
      "memory usage: 17.5 KB\n"
     ]
    }
   ],
   "source": [
    "#df_media = cotacoes_wallet.mean()\n",
    "#cotacoes_wallet = cotacoes_wallet.fillna(df_media)\n",
    "cotacoes_wallet = cotacoes_wallet.ffill()\n",
    "cotacoes_wallet.info()"
   ]
  },
  {
   "cell_type": "markdown",
   "id": "db1ccac9",
   "metadata": {},
   "source": [
    "## Visualize asset individually"
   ]
  },
  {
   "cell_type": "code",
   "execution_count": 19,
   "id": "2e35beab",
   "metadata": {
    "ExecuteTime": {
     "end_time": "2023-08-08T22:08:17.920957Z",
     "start_time": "2023-08-08T22:08:17.895220Z"
    },
    "scrolled": true
   },
   "outputs": [
    {
     "name": "stdout",
     "output_type": "stream",
     "text": [
      "<class 'pandas.core.frame.DataFrame'>\n",
      "DatetimeIndex: 149 entries, 2023-01-02 to 2023-08-04\n",
      "Data columns (total 14 columns):\n",
      " #   Column  Non-Null Count  Dtype  \n",
      "---  ------  --------------  -----  \n",
      " 0   BOVA11  149 non-null    float64\n",
      " 1   SMAL11  149 non-null    float64\n",
      " 2   MGLU3   149 non-null    float64\n",
      " 3   BBDC4   149 non-null    float64\n",
      " 4   ITUB4   149 non-null    float64\n",
      " 5   ENEV3   149 non-null    float64\n",
      " 6   MOVI3   149 non-null    float64\n",
      " 7   BPAC11  149 non-null    float64\n",
      " 8   GNDI3   0 non-null      float64\n",
      " 9   NTCO3   149 non-null    float64\n",
      " 10  BCRI11  149 non-null    float64\n",
      " 11  VILG11  149 non-null    float64\n",
      " 12  KNRI11  149 non-null    float64\n",
      " 13  XPLG11  149 non-null    float64\n",
      "dtypes: float64(14)\n",
      "memory usage: 17.5 KB\n"
     ]
    }
   ],
   "source": [
    "#df_media = cotacoes_wallet.mean()\n",
    "#cotacoes_wallet = cotacoes_wallet.fillna(df_media)\n",
    "cotacoes_wallet = cotacoes_wallet.ffill()\n",
    "cotacoes_wallet.info()"
   ]
  },
  {
   "cell_type": "markdown",
   "id": "444dbc51",
   "metadata": {},
   "source": [
    "## Comparing with IBOVESPA"
   ]
  },
  {
   "cell_type": "code",
   "execution_count": 21,
   "id": "abedb176",
   "metadata": {
    "ExecuteTime": {
     "end_time": "2023-08-08T22:08:41.336264Z",
     "start_time": "2023-08-08T22:08:41.035138Z"
    }
   },
   "outputs": [
    {
     "name": "stdout",
     "output_type": "stream",
     "text": [
      "[*********************100%***********************]  1 of 1 completed\n"
     ]
    },
    {
     "data": {
      "text/html": [
       "<div>\n",
       "<style scoped>\n",
       "    .dataframe tbody tr th:only-of-type {\n",
       "        vertical-align: middle;\n",
       "    }\n",
       "\n",
       "    .dataframe tbody tr th {\n",
       "        vertical-align: top;\n",
       "    }\n",
       "\n",
       "    .dataframe thead th {\n",
       "        text-align: right;\n",
       "    }\n",
       "</style>\n",
       "<table border=\"1\" class=\"dataframe\">\n",
       "  <thead>\n",
       "    <tr style=\"text-align: right;\">\n",
       "      <th></th>\n",
       "      <th>Open</th>\n",
       "      <th>High</th>\n",
       "      <th>Low</th>\n",
       "      <th>Close</th>\n",
       "      <th>Adj Close</th>\n",
       "      <th>Volume</th>\n",
       "    </tr>\n",
       "    <tr>\n",
       "      <th>Date</th>\n",
       "      <th></th>\n",
       "      <th></th>\n",
       "      <th></th>\n",
       "      <th></th>\n",
       "      <th></th>\n",
       "      <th></th>\n",
       "    </tr>\n",
       "  </thead>\n",
       "  <tbody>\n",
       "    <tr>\n",
       "      <th>2023-01-02</th>\n",
       "      <td>109734.0</td>\n",
       "      <td>109734.0</td>\n",
       "      <td>105981.0</td>\n",
       "      <td>106376.0</td>\n",
       "      <td>106376.0</td>\n",
       "      <td>8130500</td>\n",
       "    </tr>\n",
       "    <tr>\n",
       "      <th>2023-01-03</th>\n",
       "      <td>106377.0</td>\n",
       "      <td>106684.0</td>\n",
       "      <td>103852.0</td>\n",
       "      <td>104166.0</td>\n",
       "      <td>104166.0</td>\n",
       "      <td>14466700</td>\n",
       "    </tr>\n",
       "    <tr>\n",
       "      <th>2023-01-04</th>\n",
       "      <td>104167.0</td>\n",
       "      <td>105627.0</td>\n",
       "      <td>103915.0</td>\n",
       "      <td>105334.0</td>\n",
       "      <td>105334.0</td>\n",
       "      <td>14451200</td>\n",
       "    </tr>\n",
       "    <tr>\n",
       "      <th>2023-01-05</th>\n",
       "      <td>105336.0</td>\n",
       "      <td>107743.0</td>\n",
       "      <td>105333.0</td>\n",
       "      <td>107518.0</td>\n",
       "      <td>107518.0</td>\n",
       "      <td>15512000</td>\n",
       "    </tr>\n",
       "    <tr>\n",
       "      <th>2023-01-06</th>\n",
       "      <td>107642.0</td>\n",
       "      <td>109433.0</td>\n",
       "      <td>107642.0</td>\n",
       "      <td>108836.0</td>\n",
       "      <td>108836.0</td>\n",
       "      <td>12626600</td>\n",
       "    </tr>\n",
       "    <tr>\n",
       "      <th>...</th>\n",
       "      <td>...</td>\n",
       "      <td>...</td>\n",
       "      <td>...</td>\n",
       "      <td>...</td>\n",
       "      <td>...</td>\n",
       "      <td>...</td>\n",
       "    </tr>\n",
       "    <tr>\n",
       "      <th>2023-07-31</th>\n",
       "      <td>120188.0</td>\n",
       "      <td>122149.0</td>\n",
       "      <td>120188.0</td>\n",
       "      <td>121943.0</td>\n",
       "      <td>121943.0</td>\n",
       "      <td>10122700</td>\n",
       "    </tr>\n",
       "    <tr>\n",
       "      <th>2023-08-01</th>\n",
       "      <td>121945.0</td>\n",
       "      <td>121945.0</td>\n",
       "      <td>120154.0</td>\n",
       "      <td>121248.0</td>\n",
       "      <td>121248.0</td>\n",
       "      <td>10302800</td>\n",
       "    </tr>\n",
       "    <tr>\n",
       "      <th>2023-08-02</th>\n",
       "      <td>121249.0</td>\n",
       "      <td>121252.0</td>\n",
       "      <td>119798.0</td>\n",
       "      <td>120859.0</td>\n",
       "      <td>120859.0</td>\n",
       "      <td>10565900</td>\n",
       "    </tr>\n",
       "    <tr>\n",
       "      <th>2023-08-03</th>\n",
       "      <td>120859.0</td>\n",
       "      <td>122619.0</td>\n",
       "      <td>120365.0</td>\n",
       "      <td>120586.0</td>\n",
       "      <td>120586.0</td>\n",
       "      <td>13027300</td>\n",
       "    </tr>\n",
       "    <tr>\n",
       "      <th>2023-08-04</th>\n",
       "      <td>120586.0</td>\n",
       "      <td>121442.0</td>\n",
       "      <td>119215.0</td>\n",
       "      <td>119508.0</td>\n",
       "      <td>119508.0</td>\n",
       "      <td>15065200</td>\n",
       "    </tr>\n",
       "  </tbody>\n",
       "</table>\n",
       "<p>149 rows × 6 columns</p>\n",
       "</div>"
      ],
      "text/plain": [
       "                Open      High       Low     Close  Adj Close    Volume\n",
       "Date                                                                   \n",
       "2023-01-02  109734.0  109734.0  105981.0  106376.0   106376.0   8130500\n",
       "2023-01-03  106377.0  106684.0  103852.0  104166.0   104166.0  14466700\n",
       "2023-01-04  104167.0  105627.0  103915.0  105334.0   105334.0  14451200\n",
       "2023-01-05  105336.0  107743.0  105333.0  107518.0   107518.0  15512000\n",
       "2023-01-06  107642.0  109433.0  107642.0  108836.0   108836.0  12626600\n",
       "...              ...       ...       ...       ...        ...       ...\n",
       "2023-07-31  120188.0  122149.0  120188.0  121943.0   121943.0  10122700\n",
       "2023-08-01  121945.0  121945.0  120154.0  121248.0   121248.0  10302800\n",
       "2023-08-02  121249.0  121252.0  119798.0  120859.0   120859.0  10565900\n",
       "2023-08-03  120859.0  122619.0  120365.0  120586.0   120586.0  13027300\n",
       "2023-08-04  120586.0  121442.0  119215.0  119508.0   119508.0  15065200\n",
       "\n",
       "[149 rows x 6 columns]"
      ]
     },
     "metadata": {},
     "output_type": "display_data"
    }
   ],
   "source": [
    "cotation_ibov = yf.download('^BVSP', start = \"2023-01-01\", end = \"2023-08-07\")\n",
    "display(cotation_ibov)"
   ]
  },
  {
   "cell_type": "markdown",
   "id": "92dd1ee7",
   "metadata": {},
   "source": [
    "## Dataframe with total assets"
   ]
  },
  {
   "cell_type": "code",
   "execution_count": 22,
   "id": "d4ec5faf",
   "metadata": {
    "ExecuteTime": {
     "end_time": "2023-08-08T22:08:46.380104Z",
     "start_time": "2023-08-08T22:08:46.324075Z"
    }
   },
   "outputs": [
    {
     "data": {
      "text/html": [
       "<div>\n",
       "<style scoped>\n",
       "    .dataframe tbody tr th:only-of-type {\n",
       "        vertical-align: middle;\n",
       "    }\n",
       "\n",
       "    .dataframe tbody tr th {\n",
       "        vertical-align: top;\n",
       "    }\n",
       "\n",
       "    .dataframe thead th {\n",
       "        text-align: right;\n",
       "    }\n",
       "</style>\n",
       "<table border=\"1\" class=\"dataframe\">\n",
       "  <thead>\n",
       "    <tr style=\"text-align: right;\">\n",
       "      <th></th>\n",
       "      <th>BOVA11</th>\n",
       "      <th>SMAL11</th>\n",
       "      <th>MGLU3</th>\n",
       "      <th>BBDC4</th>\n",
       "      <th>ITUB4</th>\n",
       "      <th>ENEV3</th>\n",
       "      <th>MOVI3</th>\n",
       "      <th>BPAC11</th>\n",
       "      <th>GNDI3</th>\n",
       "      <th>NTCO3</th>\n",
       "      <th>BCRI11</th>\n",
       "      <th>VILG11</th>\n",
       "      <th>KNRI11</th>\n",
       "      <th>XPLG11</th>\n",
       "    </tr>\n",
       "    <tr>\n",
       "      <th>Date</th>\n",
       "      <th></th>\n",
       "      <th></th>\n",
       "      <th></th>\n",
       "      <th></th>\n",
       "      <th></th>\n",
       "      <th></th>\n",
       "      <th></th>\n",
       "      <th></th>\n",
       "      <th></th>\n",
       "      <th></th>\n",
       "      <th></th>\n",
       "      <th></th>\n",
       "      <th></th>\n",
       "      <th></th>\n",
       "    </tr>\n",
       "  </thead>\n",
       "  <tbody>\n",
       "    <tr>\n",
       "      <th>2023-01-02</th>\n",
       "      <td>10262.999725</td>\n",
       "      <td>9380.000305</td>\n",
       "      <td>2589.999914</td>\n",
       "      <td>1386.336994</td>\n",
       "      <td>2387.844276</td>\n",
       "      <td>3359.999943</td>\n",
       "      <td>708.089209</td>\n",
       "      <td>2222.968102</td>\n",
       "      <td>NaN</td>\n",
       "      <td>1064.000034</td>\n",
       "      <td>9029.531860</td>\n",
       "      <td>9526.679993</td>\n",
       "      <td>13318.000793</td>\n",
       "      <td>9202.137756</td>\n",
       "    </tr>\n",
       "    <tr>\n",
       "      <th>2023-01-03</th>\n",
       "      <td>10048.000336</td>\n",
       "      <td>9019.999695</td>\n",
       "      <td>2539.999962</td>\n",
       "      <td>1317.540264</td>\n",
       "      <td>2338.117790</td>\n",
       "      <td>3308.999920</td>\n",
       "      <td>678.503323</td>\n",
       "      <td>2116.686821</td>\n",
       "      <td>NaN</td>\n",
       "      <td>1011.999989</td>\n",
       "      <td>8965.094757</td>\n",
       "      <td>9353.156281</td>\n",
       "      <td>13240.840149</td>\n",
       "      <td>9026.560974</td>\n",
       "    </tr>\n",
       "    <tr>\n",
       "      <th>2023-01-04</th>\n",
       "      <td>10191.999817</td>\n",
       "      <td>9200.000000</td>\n",
       "      <td>2549.999952</td>\n",
       "      <td>1321.304512</td>\n",
       "      <td>2344.943047</td>\n",
       "      <td>3434.999943</td>\n",
       "      <td>708.089209</td>\n",
       "      <td>2184.230232</td>\n",
       "      <td>NaN</td>\n",
       "      <td>1102.000046</td>\n",
       "      <td>9132.257080</td>\n",
       "      <td>9285.462952</td>\n",
       "      <td>13016.984558</td>\n",
       "      <td>9086.351776</td>\n",
       "    </tr>\n",
       "    <tr>\n",
       "      <th>2023-01-05</th>\n",
       "      <td>10426.999664</td>\n",
       "      <td>9450.000000</td>\n",
       "      <td>2660.000086</td>\n",
       "      <td>1378.711700</td>\n",
       "      <td>2418.070030</td>\n",
       "      <td>3513.000011</td>\n",
       "      <td>732.744122</td>\n",
       "      <td>2272.999954</td>\n",
       "      <td>NaN</td>\n",
       "      <td>1169.999981</td>\n",
       "      <td>9133.190155</td>\n",
       "      <td>9400.827026</td>\n",
       "      <td>13080.809021</td>\n",
       "      <td>9205.934143</td>\n",
       "    </tr>\n",
       "    <tr>\n",
       "      <th>2023-01-06</th>\n",
       "      <td>10550.000000</td>\n",
       "      <td>9502.999878</td>\n",
       "      <td>2759.999990</td>\n",
       "      <td>1417.296886</td>\n",
       "      <td>2459.996223</td>\n",
       "      <td>3714.000034</td>\n",
       "      <td>773.178244</td>\n",
       "      <td>2286.000061</td>\n",
       "      <td>NaN</td>\n",
       "      <td>1225.000000</td>\n",
       "      <td>9042.607117</td>\n",
       "      <td>9355.062103</td>\n",
       "      <td>13052.232361</td>\n",
       "      <td>9130.008698</td>\n",
       "    </tr>\n",
       "    <tr>\n",
       "      <th>...</th>\n",
       "      <td>...</td>\n",
       "      <td>...</td>\n",
       "      <td>...</td>\n",
       "      <td>...</td>\n",
       "      <td>...</td>\n",
       "      <td>...</td>\n",
       "      <td>...</td>\n",
       "      <td>...</td>\n",
       "      <td>...</td>\n",
       "      <td>...</td>\n",
       "      <td>...</td>\n",
       "      <td>...</td>\n",
       "      <td>...</td>\n",
       "      <td>...</td>\n",
       "    </tr>\n",
       "    <tr>\n",
       "      <th>2023-07-31</th>\n",
       "      <td>11794.999695</td>\n",
       "      <td>11290.000153</td>\n",
       "      <td>3349.999905</td>\n",
       "      <td>1664.097977</td>\n",
       "      <td>2862.235069</td>\n",
       "      <td>4010.999966</td>\n",
       "      <td>1140.999985</td>\n",
       "      <td>3400.999832</td>\n",
       "      <td>NaN</td>\n",
       "      <td>1827.000046</td>\n",
       "      <td>7561.999512</td>\n",
       "      <td>10927.999878</td>\n",
       "      <td>16029.998779</td>\n",
       "      <td>11361.000061</td>\n",
       "    </tr>\n",
       "    <tr>\n",
       "      <th>2023-08-01</th>\n",
       "      <td>11751.999664</td>\n",
       "      <td>11308.999634</td>\n",
       "      <td>3430.000067</td>\n",
       "      <td>1660.102654</td>\n",
       "      <td>2870.999908</td>\n",
       "      <td>4007.999897</td>\n",
       "      <td>1197.999954</td>\n",
       "      <td>3379.999924</td>\n",
       "      <td>NaN</td>\n",
       "      <td>1834.000015</td>\n",
       "      <td>7343.000031</td>\n",
       "      <td>10869.999695</td>\n",
       "      <td>16138.999939</td>\n",
       "      <td>11400.000000</td>\n",
       "    </tr>\n",
       "    <tr>\n",
       "      <th>2023-08-02</th>\n",
       "      <td>11701.000214</td>\n",
       "      <td>11300.000000</td>\n",
       "      <td>3329.999924</td>\n",
       "      <td>1667.000008</td>\n",
       "      <td>2862.000084</td>\n",
       "      <td>4014.000034</td>\n",
       "      <td>1172.999954</td>\n",
       "      <td>3320.999908</td>\n",
       "      <td>NaN</td>\n",
       "      <td>1809.000015</td>\n",
       "      <td>7425.000000</td>\n",
       "      <td>10898.000336</td>\n",
       "      <td>16039.999390</td>\n",
       "      <td>11405.000305</td>\n",
       "    </tr>\n",
       "    <tr>\n",
       "      <th>2023-08-03</th>\n",
       "      <td>11670.999908</td>\n",
       "      <td>11298.000336</td>\n",
       "      <td>3160.000086</td>\n",
       "      <td>1654.999924</td>\n",
       "      <td>2839.999962</td>\n",
       "      <td>3971.999931</td>\n",
       "      <td>1242.000008</td>\n",
       "      <td>3338.999939</td>\n",
       "      <td>NaN</td>\n",
       "      <td>1779.999924</td>\n",
       "      <td>7527.999878</td>\n",
       "      <td>10898.999786</td>\n",
       "      <td>16185.000610</td>\n",
       "      <td>11419.999695</td>\n",
       "    </tr>\n",
       "    <tr>\n",
       "      <th>2023-08-04</th>\n",
       "      <td>11566.000366</td>\n",
       "      <td>11384.999847</td>\n",
       "      <td>3059.999943</td>\n",
       "      <td>1544.999981</td>\n",
       "      <td>2787.999916</td>\n",
       "      <td>3906.000137</td>\n",
       "      <td>1215.999985</td>\n",
       "      <td>3295.000076</td>\n",
       "      <td>NaN</td>\n",
       "      <td>1772.999954</td>\n",
       "      <td>7480.000305</td>\n",
       "      <td>11058.999634</td>\n",
       "      <td>16202.000427</td>\n",
       "      <td>11448.999786</td>\n",
       "    </tr>\n",
       "  </tbody>\n",
       "</table>\n",
       "<p>149 rows × 14 columns</p>\n",
       "</div>"
      ],
      "text/plain": [
       "                  BOVA11        SMAL11        MGLU3        BBDC4        ITUB4  \\\n",
       "Date                                                                            \n",
       "2023-01-02  10262.999725   9380.000305  2589.999914  1386.336994  2387.844276   \n",
       "2023-01-03  10048.000336   9019.999695  2539.999962  1317.540264  2338.117790   \n",
       "2023-01-04  10191.999817   9200.000000  2549.999952  1321.304512  2344.943047   \n",
       "2023-01-05  10426.999664   9450.000000  2660.000086  1378.711700  2418.070030   \n",
       "2023-01-06  10550.000000   9502.999878  2759.999990  1417.296886  2459.996223   \n",
       "...                  ...           ...          ...          ...          ...   \n",
       "2023-07-31  11794.999695  11290.000153  3349.999905  1664.097977  2862.235069   \n",
       "2023-08-01  11751.999664  11308.999634  3430.000067  1660.102654  2870.999908   \n",
       "2023-08-02  11701.000214  11300.000000  3329.999924  1667.000008  2862.000084   \n",
       "2023-08-03  11670.999908  11298.000336  3160.000086  1654.999924  2839.999962   \n",
       "2023-08-04  11566.000366  11384.999847  3059.999943  1544.999981  2787.999916   \n",
       "\n",
       "                  ENEV3        MOVI3       BPAC11  GNDI3        NTCO3  \\\n",
       "Date                                                                    \n",
       "2023-01-02  3359.999943   708.089209  2222.968102    NaN  1064.000034   \n",
       "2023-01-03  3308.999920   678.503323  2116.686821    NaN  1011.999989   \n",
       "2023-01-04  3434.999943   708.089209  2184.230232    NaN  1102.000046   \n",
       "2023-01-05  3513.000011   732.744122  2272.999954    NaN  1169.999981   \n",
       "2023-01-06  3714.000034   773.178244  2286.000061    NaN  1225.000000   \n",
       "...                 ...          ...          ...    ...          ...   \n",
       "2023-07-31  4010.999966  1140.999985  3400.999832    NaN  1827.000046   \n",
       "2023-08-01  4007.999897  1197.999954  3379.999924    NaN  1834.000015   \n",
       "2023-08-02  4014.000034  1172.999954  3320.999908    NaN  1809.000015   \n",
       "2023-08-03  3971.999931  1242.000008  3338.999939    NaN  1779.999924   \n",
       "2023-08-04  3906.000137  1215.999985  3295.000076    NaN  1772.999954   \n",
       "\n",
       "                 BCRI11        VILG11        KNRI11        XPLG11  \n",
       "Date                                                               \n",
       "2023-01-02  9029.531860   9526.679993  13318.000793   9202.137756  \n",
       "2023-01-03  8965.094757   9353.156281  13240.840149   9026.560974  \n",
       "2023-01-04  9132.257080   9285.462952  13016.984558   9086.351776  \n",
       "2023-01-05  9133.190155   9400.827026  13080.809021   9205.934143  \n",
       "2023-01-06  9042.607117   9355.062103  13052.232361   9130.008698  \n",
       "...                 ...           ...           ...           ...  \n",
       "2023-07-31  7561.999512  10927.999878  16029.998779  11361.000061  \n",
       "2023-08-01  7343.000031  10869.999695  16138.999939  11400.000000  \n",
       "2023-08-02  7425.000000  10898.000336  16039.999390  11405.000305  \n",
       "2023-08-03  7527.999878  10898.999786  16185.000610  11419.999695  \n",
       "2023-08-04  7480.000305  11058.999634  16202.000427  11448.999786  \n",
       "\n",
       "[149 rows x 14 columns]"
      ]
     },
     "metadata": {},
     "output_type": "display_data"
    }
   ],
   "source": [
    "invested_value = pd.DataFrame()\n",
    "\n",
    "for ativo in wallet['Ativos']:\n",
    "    invested_value[ativo] = cotacoes_wallet[ativo] * wallet.loc[wallet['Ativos']==ativo, 'Qtde'].values[0]\n",
    "display(invested_value)"
   ]
  },
  {
   "cell_type": "markdown",
   "id": "dee652ab",
   "metadata": {},
   "source": [
    "## Wallet vs. IBOV"
   ]
  },
  {
   "cell_type": "code",
   "execution_count": 23,
   "id": "81283f20",
   "metadata": {
    "ExecuteTime": {
     "end_time": "2023-08-08T22:08:48.910068Z",
     "start_time": "2023-08-08T22:08:48.627337Z"
    }
   },
   "outputs": [
    {
     "data": {
      "image/png": "[encoded data removed]",
      "text/plain": [
       "<Figure size 1500x500 with 1 Axes>"
      ]
     },
     "metadata": {},
     "output_type": "display_data"
    }
   ],
   "source": [
    "invested_value['Total'] = invested_value.sum(axis=1)\n",
    "\n",
    "invested_value_norm = invested_value / invested_value.iloc[0]\n",
    "cotation_ibov_norm = cotation_ibov / cotation_ibov.iloc[0]\n",
    "\n",
    "invested_value_norm['Total'].plot(figsize=(15, 5), label='wallet')\n",
    "cotation_ibov_norm['Adj Close'].plot(label='IBOV')\n",
    "plt.legend()\n",
    "plt.show()"
   ]
  },
  {
   "cell_type": "code",
   "execution_count": 24,
   "id": "8a3521b3",
   "metadata": {
    "ExecuteTime": {
     "end_time": "2023-08-08T22:08:50.732137Z",
     "start_time": "2023-08-08T22:08:50.718173Z"
    }
   },
   "outputs": [
    {
     "name": "stdout",
     "output_type": "stream",
     "text": [
      "Retorno da wallet: 16.50%\n",
      "Retorno IBOV: 12.34%\n"
     ]
    }
   ],
   "source": [
    "return_wallet = invested_value['Total'][-1] / invested_value['Total'][0] - 1\n",
    "return_ibov = cotation_ibov['Adj Close'][-1] / cotation_ibov['Adj Close'][0] - 1\n",
    "print('Wallet return: {:.2%}'.format(return_wallet))\n",
    "print('IBOV return: {:.2%}'.format(return_ibov))"
   ]
  },
  {
   "cell_type": "markdown",
   "id": "7011d087",
   "metadata": {},
   "source": [
    "## Correlation wallet and IBOV"
   ]
  },
  {
   "cell_type": "code",
   "execution_count": null,
   "id": "2eadc7a0",
   "metadata": {},
   "outputs": [],
   "source": [
    "correlacation = invested_value['Total'].corr(cotation_ibov['Adj Close'])\n",
    "print(correlacation)"
   ]
  },
  {
   "cell_type": "code",
   "execution_count": null,
   "id": "de2d5170",
   "metadata": {},
   "outputs": [],
   "source": []
  }
 ],
 "metadata": {
  "kernelspec": {
   "display_name": "Python 3 (ipykernel)",
   "language": "python",
   "name": "python3"
  },
  "language_info": {
   "codemirror_mode": {
    "name": "ipython",
    "version": 3
   },
   "file_extension": ".py",
   "mimetype": "text/x-python",
   "name": "python",
   "nbconvert_exporter": "python",
   "pygments_lexer": "ipython3",
   "version": "3.9.12"
  },
  "toc": {
   "base_numbering": 1,
   "nav_menu": {},
   "number_sections": true,
   "sideBar": true,
   "skip_h1_title": false,
   "title_cell": "Table of Contents",
   "title_sidebar": "Contents",
   "toc_cell": false,
   "toc_position": {},
   "toc_section_display": true,
   "toc_window_display": false
  },
  "varInspector": {
   "cols": {
    "lenName": 16,
    "lenType": 16,
    "lenVar": 40
   },
   "kernels_config": {
    "python": {
     "delete_cmd_postfix": "",
     "delete_cmd_prefix": "del ",
     "library": "var_list.py",
     "varRefreshCmd": "print(var_dic_list())"
    },
    "r": {
     "delete_cmd_postfix": ") ",
     "delete_cmd_prefix": "rm(",
     "library": "var_list.r",
     "varRefreshCmd": "cat(var_dic_list()) "
    }
   },
   "types_to_exclude": [
    "module",
    "function",
    "builtin_function_or_method",
    "instance",
    "_Feature"
   ],
   "window_display": false
  }
 },
 "nbformat": 4,
 "nbformat_minor": 5
}
