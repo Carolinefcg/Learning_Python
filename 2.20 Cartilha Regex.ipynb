{
 "cells": [
  {
   "cell_type": "markdown",
   "id": "ee489ff0",
   "metadata": {},
   "source": [
    "## Site REGEX\n",
    "https://regex101.com/"
   ]
  },
  {
   "cell_type": "markdown",
   "id": "4882c553",
   "metadata": {},
   "source": [
    "## Operadores\n",
    "\n",
    "    [] – conjunto de  caracteres;\n",
    "    \\ – sequência especial de caracteres;\n",
    "    ^ – buscar elementos no início da string;\n",
    "    $ – buscar elementos no final da string;\n",
    "    * – buscar zero ou mais repetições de uma substring;\n",
    "    + – uma ou mais aparições de uma substring;\n",
    "    ? – zero ou uma aparição;\n",
    "    | – busca um caractere ou outro.\n",
    "    {} - quantidade específica de caracteres\n",
    "    [^] - diferente de um caractere especificado logo após o ^\n",
    "    () - apenas para agrupar regras e definir ordem de aplicação (igual matemática)\n",
    "\n",
    "## Especificando caracteres:\n",
    "    . - qualquer caractere\n",
    "    \\d - qualquer dígito\n",
    "    \\D - não é dígito\n",
    "    \\w - qualquer alfanumérico\n",
    "    \\W - não é alfanumérico\n",
    "    \\s - espaço em branco\n",
    "    \\S - não é espaço em branco\n",
    "\n",
    "## obs: lembre de usar a string como raw string\n",
    "## obs2: lembre de 1º especificar o caracter e 2º usar os operadores\n",
    "\n",
    "## Funções\n",
    "## Lembre sempre de importar a biblioteca re\n",
    "\n",
    "- re.compile('padrao_regex') -> compilar um padrão regex\n",
    "- re.search(padrao_compilado, texto) -> procura uma ocorrência do padrão no texto (re.match só procura na 1ª linha do texto)\n",
    "- re.findall(padrao_compilado, texto) -> encontra todas as ocorrencias do padrão em um texto - armazena em uma lista\n",
    "- re.finditer(padrao_compilado, texto) -> encontra todas as ocorrencias e armazena em um iterador"
   ]
  },
  {
   "cell_type": "markdown",
   "id": "70445711",
   "metadata": {},
   "source": [
    "## Exemplos"
   ]
  },
  {
   "cell_type": "code",
   "execution_count": 40,
   "id": "8900fc84",
   "metadata": {
    "ExecuteTime": {
     "end_time": "2023-04-19T20:24:11.503302Z",
     "start_time": "2023-04-19T20:24:11.487741Z"
    }
   },
   "outputs": [],
   "source": [
    "texto = \"\"\"\n",
    "Bom dia,\n",
    "\n",
    "Seguem os orçamentos solicitados:\n",
    "\n",
    "\n",
    "Cerveja importada (330 ml) - R$12,3059841 - bebida\n",
    "Cerveja nacional (0,5 litros) - R$6,10 - bebida\n",
    "Garrafa de vinho (750ml) - R$39,90 - bebida\n",
    "Água (garrafa de 1,5 litros) - R$3,30 - bebida\n",
    "Alface (1 unidade) - R$3,50 - comida\n",
    "Cebolas (1kg) - R$5,10 - comida\n",
    "Batatas (1 kg) - R$5,20 - comida\n",
    "Tomates (1 kg) - R$7,90 - comida\n",
    "Laranjas (1 kg) - R$4,70 - comida\n",
    "Bananas (1kg) - R$5,50 - comida\n",
    "Maçãs (1 kg) - R$8,30 - comida\n",
    "Queijo fresco (1 kg) - R$42,90 - comida\n",
    "Uma dúzia de ovos(12) - R$9,80 - comida\n",
    "Arroz (1 kg) - R$5,70 - comida\n",
    "Um quilo de pão (1 kg) - R$7,20 - comida\n",
    "Leite (1 litro) - R$5,20 - bebida\n",
    "Azeite (1 unidade) - R$20 - tempero\n",
    "Pimenta Reino (20g) - R$5 - tempero\n",
    "\n",
    "\n",
    "Favor informar as quantidades desejadas \n",
    "para emissão da Nota Fiscal.\n",
    "\n",
    "Att.,\"\"\""
   ]
  },
  {
   "cell_type": "markdown",
   "id": "3e3da46f",
   "metadata": {},
   "source": [
    "###  Quantos itens"
   ]
  },
  {
   "cell_type": "code",
   "execution_count": 2,
   "id": "2bfb0a0b",
   "metadata": {
    "ExecuteTime": {
     "end_time": "2023-04-19T17:25:32.293048Z",
     "start_time": "2023-04-19T17:25:32.277420Z"
    }
   },
   "outputs": [],
   "source": [
    "import re # biblioteca regex"
   ]
  },
  {
   "cell_type": "code",
   "execution_count": 6,
   "id": "664f4bc0",
   "metadata": {
    "ExecuteTime": {
     "end_time": "2023-04-19T17:25:57.023626Z",
     "start_time": "2023-04-19T17:25:57.008005Z"
    }
   },
   "outputs": [
    {
     "name": "stdout",
     "output_type": "stream",
     "text": [
      "11\n"
     ]
    }
   ],
   "source": [
    "# quantas comidas\n",
    "padrao_c = re.compile('comida')\n",
    "resultado_c = re.findall(padrao_c, texto)\n",
    "print(len(resultado_c))"
   ]
  },
  {
   "cell_type": "code",
   "execution_count": 8,
   "id": "e2f94fa0",
   "metadata": {
    "ExecuteTime": {
     "end_time": "2023-04-19T17:26:28.539164Z",
     "start_time": "2023-04-19T17:26:28.523594Z"
    }
   },
   "outputs": [
    {
     "name": "stdout",
     "output_type": "stream",
     "text": [
      "5\n"
     ]
    }
   ],
   "source": [
    "# quantas bebidas\n",
    "padrao_b = re.compile('bebida')\n",
    "resultado_b = re.findall(padrao_b, texto)\n",
    "print(len(resultado_b))"
   ]
  },
  {
   "cell_type": "code",
   "execution_count": 9,
   "id": "d8d340fc",
   "metadata": {
    "ExecuteTime": {
     "end_time": "2023-04-19T17:33:34.570586Z",
     "start_time": "2023-04-19T17:33:34.554589Z"
    }
   },
   "outputs": [
    {
     "name": "stdout",
     "output_type": "stream",
     "text": [
      "18\n"
     ]
    }
   ],
   "source": [
    "# quantos itens\n",
    "padrao_itens = re.compile('\\$') \n",
    "# como o $ é especial no REGEX, usando a \\ para indicar que nao queremso usar ele de forma especial e sim como um texto\n",
    "\n",
    "resultado_itens = re.findall(padrao_itens, texto)\n",
    "print(len(resultado_itens))"
   ]
  },
  {
   "cell_type": "markdown",
   "id": "cc12bc6d",
   "metadata": {},
   "source": [
    "###  Extrair números"
   ]
  },
  {
   "cell_type": "code",
   "execution_count": 14,
   "id": "e96fa8ec",
   "metadata": {
    "ExecuteTime": {
     "end_time": "2023-04-19T19:36:40.124696Z",
     "start_time": "2023-04-19T19:36:40.109030Z"
    }
   },
   "outputs": [
    {
     "name": "stdout",
     "output_type": "stream",
     "text": [
      "['3', '3', '0', '1', '2', '3', '0', '0', '5', '6', '1', '0', '7', '5', '0', '3', '9', '9', '0', '1', '5', '3', '3', '0', '1', '3', '5', '0', '1', '5', '1', '0', '1', '5', '2', '0', '1', '7', '9', '0', '1', '4', '7', '0', '1', '5', '5', '0', '1', '8', '3', '0', '1', '4', '2', '9', '0', '1', '2', '9', '8', '0', '1', '5', '7', '0', '1', '7', '2', '0', '1', '5', '2', '0', '1', '2', '0', '2', '0', '5']\n"
     ]
    }
   ],
   "source": [
    "# todos os numeros\n",
    "padrao_nums = re.compile(r'\\d') \n",
    "# pode usar o raw string quando quiser\n",
    "\n",
    "resultado_nums = re.findall(padrao_nums, texto)\n",
    "print(resultado_nums)"
   ]
  },
  {
   "cell_type": "code",
   "execution_count": 13,
   "id": "94f12ea2",
   "metadata": {
    "ExecuteTime": {
     "end_time": "2023-04-19T19:36:38.335121Z",
     "start_time": "2023-04-19T19:36:38.303866Z"
    }
   },
   "outputs": [
    {
     "name": "stdout",
     "output_type": "stream",
     "text": [
      "['330', '12', '30', '0', '5', '6', '10', '750', '39', '90', '1', '5', '3', '30', '1', '3', '50', '1', '5', '10', '1', '5', '20', '1', '7', '90', '1', '4', '70', '1', '5', '50', '1', '8', '30', '1', '42', '90', '12', '9', '80', '1', '5', '70', '1', '7', '20', '1', '5', '20', '1', '20', '20', '5']\n"
     ]
    }
   ],
   "source": [
    "# todos os numeros com um ou mais digitos\n",
    "padrao_nums = re.compile(r'\\d+') \n",
    "# pode usar o raw string quando quiser\n",
    "\n",
    "resultado_nums = re.findall(padrao_nums, texto)\n",
    "print(resultado_nums)"
   ]
  },
  {
   "cell_type": "code",
   "execution_count": 16,
   "id": "950382f7",
   "metadata": {
    "ExecuteTime": {
     "end_time": "2023-04-19T19:37:19.758771Z",
     "start_time": "2023-04-19T19:37:19.741282Z"
    }
   },
   "outputs": [
    {
     "name": "stdout",
     "output_type": "stream",
     "text": [
      "['12,30', '0,5', '6,10', '39,90', '1,5', '3,30', '3,50', '5,10', '5,20', '7,90', '4,70', '5,50', '8,30', '42,90', '9,80', '5,70', '7,20', '5,20']\n"
     ]
    }
   ],
   "source": [
    "# todos os numeros com um ou mais digitos e considerar a separação por vírgula\n",
    "padrao_nums = re.compile(r'\\d+,\\d+') \n",
    "# pode usar o raw string quando quiser\n",
    "\n",
    "resultado_nums = re.findall(padrao_nums, texto)\n",
    "print(resultado_nums)"
   ]
  },
  {
   "cell_type": "code",
   "execution_count": 17,
   "id": "d864ddc2",
   "metadata": {
    "ExecuteTime": {
     "end_time": "2023-04-19T19:37:43.700883Z",
     "start_time": "2023-04-19T19:37:43.685924Z"
    }
   },
   "outputs": [
    {
     "name": "stdout",
     "output_type": "stream",
     "text": [
      "['330', '12,30', '0,5', '6,10', '750', '39,90', '1,5', '3,30', '3,50', '5,10', '5,20', '7,90', '4,70', '5,50', '8,30', '42,90', '12', '9,80', '5,70', '7,20', '5,20', '20', '20']\n"
     ]
    }
   ],
   "source": [
    "# todos os numeros com um ou mais digitos e considerar a separação por vírgula\n",
    "# sendo a virgula opcional\n",
    "padrao_nums = re.compile(r'\\d+,?\\d+') \n",
    "# pode usar o raw string quando quiser\n",
    "\n",
    "resultado_nums = re.findall(padrao_nums, texto)\n",
    "print(resultado_nums)"
   ]
  },
  {
   "cell_type": "code",
   "execution_count": 25,
   "id": "169bf8ff",
   "metadata": {
    "ExecuteTime": {
     "end_time": "2023-04-19T19:50:16.738197Z",
     "start_time": "2023-04-19T19:50:16.706950Z"
    }
   },
   "outputs": [
    {
     "name": "stdout",
     "output_type": "stream",
     "text": [
      "['330', '12,30', '0,5', '6,10', '750', '39,90', '1,5', '3,30', '1', '3,50', '1', '5,10', '1', '5,20', '1', '7,90', '1', '4,70', '1', '5,50', '1', '8,30', '1', '42,90', '12', '9,80', '1', '5,70', '1', '7,20', '1', '5,20', '1', '20', '20', '5']\n"
     ]
    }
   ],
   "source": [
    "# todos os numeros com um ou mais digitos e considerar a separação por vírgula\n",
    "# sendo a virgula opcional\n",
    "# pegando também numeros que só tem 1 digito\n",
    "padrao_nums = re.compile(r'\\d+,?\\d*') \n",
    "# pode usar o raw string quando quiser\n",
    "\n",
    "resultado_nums = re.findall(padrao_nums, texto)\n",
    "print(resultado_nums)"
   ]
  },
  {
   "cell_type": "markdown",
   "id": "74477194",
   "metadata": {},
   "source": [
    "###  Extrair quantos ml (do 1º item)"
   ]
  },
  {
   "cell_type": "code",
   "execution_count": 27,
   "id": "3e41e61a",
   "metadata": {
    "ExecuteTime": {
     "end_time": "2023-04-19T19:52:02.765609Z",
     "start_time": "2023-04-19T19:52:02.750152Z"
    }
   },
   "outputs": [
    {
     "name": "stdout",
     "output_type": "stream",
     "text": [
      "<re.Match object; span=(66, 72), match='330 ml'>\n"
     ]
    }
   ],
   "source": [
    "padrao_mls = re.compile(r'\\d+\\s?ml') \n",
    "# pode usar o raw string quando quiser\n",
    "\n",
    "resultado_mls = re.search(padrao_mls, texto)\n",
    "print(resultado_mls)"
   ]
  },
  {
   "cell_type": "markdown",
   "id": "56f1d77b",
   "metadata": {},
   "source": [
    "###  Preço do 1º item"
   ]
  },
  {
   "cell_type": "code",
   "execution_count": 33,
   "id": "f33962c5",
   "metadata": {
    "ExecuteTime": {
     "end_time": "2023-04-19T20:10:51.423098Z",
     "start_time": "2023-04-19T20:10:51.403097Z"
    }
   },
   "outputs": [
    {
     "name": "stdout",
     "output_type": "stream",
     "text": [
      "<re.Match object; span=(76, 83), match='R$12,30'>\n",
      "R$12,30\n"
     ]
    }
   ],
   "source": [
    "padrao_precos = re.compile(r'R\\$(\\d+,?\\d+)') \n",
    "# pode usar o raw string quando quiser\n",
    "\n",
    "resultado_precos = re.search(padrao_precos, texto)\n",
    "print(resultado_precos)\n",
    "print(resultado_precos.group(0))"
   ]
  },
  {
   "cell_type": "markdown",
   "id": "3f125f90",
   "metadata": {},
   "source": [
    "###  Todos os preços"
   ]
  },
  {
   "cell_type": "code",
   "execution_count": 41,
   "id": "0140fd16",
   "metadata": {
    "ExecuteTime": {
     "end_time": "2023-04-19T20:24:17.909150Z",
     "start_time": "2023-04-19T20:24:17.893555Z"
    }
   },
   "outputs": [
    {
     "name": "stdout",
     "output_type": "stream",
     "text": [
      "['R$12,3059841', 'R$6,10', 'R$39,90', 'R$3,30', 'R$3,50', 'R$5,10', 'R$5,20', 'R$7,90', 'R$4,70', 'R$5,50', 'R$8,30', 'R$42,90', 'R$9,80', 'R$5,70', 'R$7,20', 'R$5,20', 'R$20', 'R$5']\n"
     ]
    }
   ],
   "source": [
    "# todos os numeros com um ou mais digitos\n",
    "padrao_nums = re.compile(r'R\\$\\d+,?\\d*') \n",
    "# pode usar o raw string quando quiser\n",
    "\n",
    "resultado_nums = re.findall(padrao_nums, texto)\n",
    "print(resultado_nums)"
   ]
  },
  {
   "cell_type": "code",
   "execution_count": 42,
   "id": "3d5ba8f5",
   "metadata": {
    "ExecuteTime": {
     "end_time": "2023-04-19T20:24:42.013657Z",
     "start_time": "2023-04-19T20:24:41.998047Z"
    }
   },
   "outputs": [
    {
     "name": "stdout",
     "output_type": "stream",
     "text": [
      "['R$12,305', 'R$6,10', 'R$39,90', 'R$3,30', 'R$3,50', 'R$5,10', 'R$5,20', 'R$7,90', 'R$4,70', 'R$5,50', 'R$8,30', 'R$42,90', 'R$9,80', 'R$5,70', 'R$7,20', 'R$5,20', 'R$20', 'R$5']\n"
     ]
    }
   ],
   "source": [
    "# todos os numeros com um ou mais digitos\n",
    "# limitando os digitos no final\n",
    "padrao_nums = re.compile(r'R\\$\\d+,?\\d{0,3}') \n",
    "# pode usar o raw string quando quiser\n",
    "\n",
    "resultado_nums = re.findall(padrao_nums, texto)\n",
    "print(resultado_nums)"
   ]
  },
  {
   "cell_type": "code",
   "execution_count": 46,
   "id": "a1a2e615",
   "metadata": {
    "ExecuteTime": {
     "end_time": "2023-04-19T20:29:53.116877Z",
     "start_time": "2023-04-19T20:29:53.079189Z"
    }
   },
   "outputs": [
    {
     "name": "stdout",
     "output_type": "stream",
     "text": [
      "1.  ['12,305', '6,10', '39,90', '3,30', '3,50', '5,10', '5,20', '7,90', '4,70', '5,50', '8,30', '42,90', '9,80', '5,70', '7,20', '5,20', '20', '5'] \n",
      "\n",
      "2.  <re.Match object; span=(76, 84), match='R$12,305'> \n",
      "\n",
      "3. \n",
      "<re.Match object; span=(76, 84), match='R$12,305'>\n",
      "<re.Match object; span=(130, 136), match='R$6,10'>\n",
      "<re.Match object; span=(173, 180), match='R$39,90'>\n",
      "<re.Match object; span=(221, 227), match='R$3,30'>\n",
      "<re.Match object; span=(258, 264), match='R$3,50'>\n",
      "<re.Match object; span=(290, 296), match='R$5,10'>\n",
      "<re.Match object; span=(323, 329), match='R$5,20'>\n",
      "<re.Match object; span=(356, 362), match='R$7,90'>\n",
      "<re.Match object; span=(390, 396), match='R$4,70'>\n",
      "<re.Match object; span=(422, 428), match='R$5,50'>\n",
      "<re.Match object; span=(453, 459), match='R$8,30'>\n",
      "<re.Match object; span=(492, 499), match='R$42,90'>\n",
      "<re.Match object; span=(533, 539), match='R$9,80'>\n",
      "<re.Match object; span=(564, 570), match='R$5,70'>\n",
      "<re.Match object; span=(605, 611), match='R$7,20'>\n",
      "<re.Match object; span=(639, 645), match='R$5,20'>\n",
      "<re.Match object; span=(676, 680), match='R$20'>\n",
      "<re.Match object; span=(713, 716), match='R$5'>\n"
     ]
    }
   ],
   "source": [
    "# usando o parenteses para isolar a resposta - findall aceita\n",
    "# search nao aceita\n",
    "# finditer nao aceita\n",
    "\n",
    "\n",
    "# todos os numeros com um ou mais digitos\n",
    "# limitando os digitos no final\n",
    "padrao_nums = re.compile(r'R\\$(\\d+,?\\d{0,3})') \n",
    "# pode usar o raw string quando quiser\n",
    "\n",
    "resultado_nums = re.findall(padrao_nums, texto)\n",
    "print('1. ', resultado_nums, '\\n')\n",
    "\n",
    "res_nums2 = re.search(padrao_nums, texto)\n",
    "res_nums3 = re.finditer(padrao_nums, texto)\n",
    "\n",
    "print('2. ', res_nums2, '\\n')\n",
    "print('3. ')\n",
    "\n",
    "for i in res_nums3:\n",
    "    print(i)"
   ]
  },
  {
   "cell_type": "markdown",
   "id": "7729f8ee",
   "metadata": {},
   "source": [
    "###  Quantidades dos itens"
   ]
  },
  {
   "cell_type": "code",
   "execution_count": 31,
   "id": "0cd8ef84",
   "metadata": {
    "ExecuteTime": {
     "end_time": "2023-04-19T19:58:58.346020Z",
     "start_time": "2023-04-19T19:58:58.308438Z"
    }
   },
   "outputs": [
    {
     "name": "stdout",
     "output_type": "stream",
     "text": [
      "['(330 ml)', '(0,5 litros)', '(750ml)', '(garrafa de 1,5 litros)', '(1 unidade)', '(1kg)', '(1 kg)', '(1 kg)', '(1 kg)', '(1kg)', '(1 kg)', '(1 kg)', '(12)', '(1 kg)', '(1 kg)', '(1 litro)', '(1 unidade)', '(20g)']\n"
     ]
    }
   ],
   "source": [
    "padrao_qtd = re.compile(r'\\(.+\\)') \n",
    "# pode usar o raw string quando quiser\n",
    "\n",
    "resultado_qtd = re.findall(padrao_qtd, texto)\n",
    "print(resultado_qtd)"
   ]
  },
  {
   "cell_type": "code",
   "execution_count": 32,
   "id": "7b0489b9",
   "metadata": {
    "ExecuteTime": {
     "end_time": "2023-04-19T19:59:18.428839Z",
     "start_time": "2023-04-19T19:59:18.397477Z"
    }
   },
   "outputs": [
    {
     "name": "stdout",
     "output_type": "stream",
     "text": [
      "['330 ml', '0,5 litros', '750ml', 'garrafa de 1,5 litros', '1 unidade', '1kg', '1 kg', '1 kg', '1 kg', '1kg', '1 kg', '1 kg', '12', '1 kg', '1 kg', '1 litro', '1 unidade', '20g']\n"
     ]
    }
   ],
   "source": [
    "# usar os paranteses indica que APENAS que está DENTRO deles é o que deve ser exibido\n",
    "padrao_qtd = re.compile(r'\\((.+)\\)') \n",
    "# pode usar o raw string quando quiser\n",
    "\n",
    "resultado_qtd = re.findall(padrao_qtd, texto)\n",
    "print(resultado_qtd)"
   ]
  },
  {
   "cell_type": "markdown",
   "id": "426a112d",
   "metadata": {},
   "source": [
    "### Case sensitive"
   ]
  },
  {
   "cell_type": "code",
   "execution_count": 37,
   "id": "881f586c",
   "metadata": {
    "ExecuteTime": {
     "end_time": "2023-04-19T20:19:29.589675Z",
     "start_time": "2023-04-19T20:19:29.574065Z"
    }
   },
   "outputs": [
    {
     "name": "stdout",
     "output_type": "stream",
     "text": [
      "['ome', 'aroline', 'dade', 'anos']\n"
     ]
    }
   ],
   "source": [
    "exemplo = 'Nome: Caroline, Idade: 21 anos'\n",
    "padrao_ex = re.compile('[a-z]+')\n",
    "resultado_ex = re.findall(padrao_ex, exemplo)\n",
    "print(resultado_ex)"
   ]
  },
  {
   "cell_type": "code",
   "execution_count": 38,
   "id": "47fa081e",
   "metadata": {
    "ExecuteTime": {
     "end_time": "2023-04-19T20:19:48.557951Z",
     "start_time": "2023-04-19T20:19:48.526585Z"
    }
   },
   "outputs": [
    {
     "name": "stdout",
     "output_type": "stream",
     "text": [
      "['Nome', 'Caroline', 'Idade', 'anos']\n"
     ]
    }
   ],
   "source": [
    "exemplo = 'Nome: Caroline, Idade: 21 anos'\n",
    "padrao_ex = re.compile('[a-zA-z]+')\n",
    "resultado_ex = re.findall(padrao_ex, exemplo)\n",
    "print(resultado_ex)"
   ]
  },
  {
   "cell_type": "markdown",
   "id": "e2d8e3da",
   "metadata": {},
   "source": [
    "###  Links"
   ]
  },
  {
   "cell_type": "code",
   "execution_count": 47,
   "id": "a012ad53",
   "metadata": {
    "ExecuteTime": {
     "end_time": "2023-04-19T20:30:16.823685Z",
     "start_time": "2023-04-19T20:30:16.792341Z"
    }
   },
   "outputs": [],
   "source": [
    "texto2 = \"\"\"\n",
    "Olá\n",
    "\n",
    "Segue o relatório de SEO para os seguintes sites:\n",
    "https://portalhashtag.com\n",
    "http://hashtagtreinamentos.com\n",
    "https://www.wikipedia.org/\n",
    "www.bcb.gov.br/\n",
    "\n",
    "Qualquer dúvida estamos à disposição\"\"\""
   ]
  },
  {
   "cell_type": "code",
   "execution_count": 70,
   "id": "9ad0e86e",
   "metadata": {
    "ExecuteTime": {
     "end_time": "2023-04-19T20:50:11.879660Z",
     "start_time": "2023-04-19T20:50:11.848411Z"
    }
   },
   "outputs": [
    {
     "name": "stdout",
     "output_type": "stream",
     "text": [
      "1.  [('https://', '', 'com'), ('http://', '', 'com'), ('https://', 'www.', 'org'), ('', 'www.', 'gov.br')] \n",
      "\n",
      "2.  <re.Match object; span=(56, 81), match='https://portalhashtag.com'> \n",
      "\n",
      "3. \n",
      "https://portalhashtag.com\n",
      "http://hashtagtreinamentos.com\n",
      "https://www.wikipedia.org\n",
      "www.bcb.gov.br\n"
     ]
    }
   ],
   "source": [
    "padrao_links = re.compile(r'(http?s?://)?(www\\.)?\\w+\\.(com|com\\.br|gov\\.br|org)')\n",
    "# também pode usar \n",
    "# (http.+)|(www.+)\n",
    "res_links = re.findall(padrao_links, texto2)\n",
    "res_links2 = re.search(padrao_links, texto2)\n",
    "res_links3 = re.finditer(padrao_links, texto2)\n",
    "\n",
    "print('1. ', res_links, '\\n')\n",
    "print('2. ', res_links2, '\\n')\n",
    "\n",
    "print('3. ')\n",
    "for i in res_links3:\n",
    "    print(i.group(0))"
   ]
  },
  {
   "cell_type": "markdown",
   "id": "666c3f25",
   "metadata": {},
   "source": [
    "### ^ – buscar elementos no início da string"
   ]
  },
  {
   "cell_type": "code",
   "execution_count": 71,
   "id": "4faebd08",
   "metadata": {
    "ExecuteTime": {
     "end_time": "2023-04-19T20:59:24.043327Z",
     "start_time": "2023-04-19T20:59:24.027677Z"
    }
   },
   "outputs": [],
   "source": [
    "informacoes = [\n",
    "    \"http://hashtagtreinamentos.com\", \n",
    "    \"https://vimeo.com/\",\n",
    "    \"https://youtube.com/\",\n",
    "    \"Pesquisar no Google: http://google.com\",\n",
    "    \"http://wikipedia.org\",\n",
    "    \"http://google.com\",\n",
    "    \"http://bcb.gov.br/\",\n",
    "    \"Pesquisar no Bing\",\n",
    "]"
   ]
  },
  {
   "cell_type": "code",
   "execution_count": 81,
   "id": "71e9984f",
   "metadata": {
    "ExecuteTime": {
     "end_time": "2023-04-19T21:02:26.040950Z",
     "start_time": "2023-04-19T21:02:26.025409Z"
    }
   },
   "outputs": [
    {
     "name": "stdout",
     "output_type": "stream",
     "text": [
      "http://hashtagtreinamentos.com \n",
      "REGEX ['http://hashtagtreinamentos.com'] \n",
      " - - \n",
      "https://vimeo.com/ \n",
      "REGEX ['https://vimeo.com/'] \n",
      " - - \n",
      "https://youtube.com/ \n",
      "REGEX ['https://youtube.com/'] \n",
      " - - \n",
      "Pesquisar no Google: http://google.com \n",
      "REGEX [] \n",
      " - - \n",
      "http://wikipedia.org \n",
      "REGEX ['http://wikipedia.org'] \n",
      " - - \n",
      "http://google.com \n",
      "REGEX ['http://google.com'] \n",
      " - - \n",
      "http://bcb.gov.br/ \n",
      "REGEX ['http://bcb.gov.br/'] \n",
      " - - \n",
      "Pesquisar no Bing \n",
      "REGEX [] \n",
      " - - \n"
     ]
    }
   ],
   "source": [
    "padrao_inicio = re.compile(r'^http.+')\n",
    "\n",
    "for item in informacoes:\n",
    "    res_inicio = re.findall(padrao_inicio, item)\n",
    "    print(item, '\\nREGEX', res_inicio, '\\n - - ')"
   ]
  },
  {
   "cell_type": "markdown",
   "id": "bf383e91",
   "metadata": {},
   "source": [
    "### $ – buscar elementos no final da string"
   ]
  },
  {
   "cell_type": "code",
   "execution_count": 87,
   "id": "db42bdc5",
   "metadata": {
    "ExecuteTime": {
     "end_time": "2023-04-19T21:04:25.759195Z",
     "start_time": "2023-04-19T21:04:25.721477Z"
    }
   },
   "outputs": [
    {
     "name": "stdout",
     "output_type": "stream",
     "text": [
      "http://hashtagtreinamentos.com \n",
      "REGEX ['http://hashtagtreinamentos.com'] \n",
      " - - \n",
      "https://vimeo.com/ \n",
      "REGEX ['https://vimeo.com/'] \n",
      " - - \n",
      "https://youtube.com/ \n",
      "REGEX ['https://youtube.com/'] \n",
      " - - \n",
      "Pesquisar no Google: http://google.com \n",
      "REGEX ['Pesquisar no Google: http://google.com'] \n",
      " - - \n",
      "http://wikipedia.org \n",
      "REGEX [] \n",
      " - - \n",
      "http://google.com \n",
      "REGEX ['http://google.com'] \n",
      " - - \n",
      "http://bcb.gov.br/ \n",
      "REGEX [] \n",
      " - - \n",
      "Pesquisar no Bing \n",
      "REGEX [] \n",
      " - - \n"
     ]
    }
   ],
   "source": [
    "padrao_final = re.compile(r'.+\\.com.?$')\n",
    "\n",
    "for item in informacoes:\n",
    "    res_final = re.findall(padrao_final, item)\n",
    "    print(item, '\\nREGEX', res_final, '\\n - - ')"
   ]
  },
  {
   "cell_type": "markdown",
   "id": "fcf4d723",
   "metadata": {},
   "source": [
    "### [^] - diferente de um caractere especificado logo após o ^\n"
   ]
  },
  {
   "cell_type": "code",
   "execution_count": 118,
   "id": "b3efc08f",
   "metadata": {
    "ExecuteTime": {
     "end_time": "2023-04-19T21:14:04.939428Z",
     "start_time": "2023-04-19T21:14:04.923807Z"
    }
   },
   "outputs": [
    {
     "name": "stdout",
     "output_type": "stream",
     "text": [
      "http://hashtagtreinamentos.com \n",
      "REGEX ['http://hashtagtreinamentos.com'] \n",
      " - - \n",
      "https://vimeo.com/ \n",
      "REGEX ['https://vimeo.com/'] \n",
      " - - \n",
      "https://youtube.com/ \n",
      "REGEX ['https://youtube.com/'] \n",
      " - - \n",
      "Pesquisar no Google: http://google.com \n",
      "REGEX ['http://google.com'] \n",
      " - - \n",
      "http://wikipedia.org \n",
      "REGEX ['http://wikipedia.org'] \n",
      " - - \n",
      "http://google.com \n",
      "REGEX ['http://google.com'] \n",
      " - - \n",
      "http://bcb.gov.br/ \n",
      "REGEX [] \n",
      " - - \n",
      "Pesquisar no Bing \n",
      "REGEX [] \n",
      " - - \n"
     ]
    }
   ],
   "source": [
    "padrao_diferente = re.compile(r'http[a-z:/]+\\.[^g].+')\n",
    "\n",
    "for item in informacoes:\n",
    "    res_diferente = re.findall(padrao_diferente, item)\n",
    "    print(item, '\\nREGEX', res_diferente, '\\n - - ')"
   ]
  }
 ],
 "metadata": {
  "kernelspec": {
   "display_name": "Python 3 (ipykernel)",
   "language": "python",
   "name": "python3"
  },
  "language_info": {
   "codemirror_mode": {
    "name": "ipython",
    "version": 3
   },
   "file_extension": ".py",
   "mimetype": "text/x-python",
   "name": "python",
   "nbconvert_exporter": "python",
   "pygments_lexer": "ipython3",
   "version": "3.9.12"
  },
  "toc": {
   "base_numbering": 1,
   "nav_menu": {},
   "number_sections": true,
   "sideBar": true,
   "skip_h1_title": false,
   "title_cell": "Table of Contents",
   "title_sidebar": "Contents",
   "toc_cell": false,
   "toc_position": {
    "height": "calc(100% - 180px)",
    "left": "10px",
    "top": "150px",
    "width": "273.2px"
   },
   "toc_section_display": true,
   "toc_window_display": true
  },
  "varInspector": {
   "cols": {
    "lenName": 16,
    "lenType": 16,
    "lenVar": 40
   },
   "kernels_config": {
    "python": {
     "delete_cmd_postfix": "",
     "delete_cmd_prefix": "del ",
     "library": "var_list.py",
     "varRefreshCmd": "print(var_dic_list())"
    },
    "r": {
     "delete_cmd_postfix": ") ",
     "delete_cmd_prefix": "rm(",
     "library": "var_list.r",
     "varRefreshCmd": "cat(var_dic_list()) "
    }
   },
   "types_to_exclude": [
    "module",
    "function",
    "builtin_function_or_method",
    "instance",
    "_Feature"
   ],
   "window_display": false
  }
 },
 "nbformat": 4,
 "nbformat_minor": 5
}
