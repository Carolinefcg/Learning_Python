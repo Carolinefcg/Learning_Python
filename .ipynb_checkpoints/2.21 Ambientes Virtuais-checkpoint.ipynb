{
 "cells": [
  {
   "cell_type": "markdown",
   "metadata": {},
   "source": [
    "# Ambientes Virtuais no Python\n",
    "\n",
    "### Essencialmente usamos o virtualenv, mas o anaconda tem um método próprio para isso\n",
    "\n",
    "### Objetivo: Ter outras versões do Python instalados no computador com 2 objetivos:\n",
    "    \n",
    "    1. Usar ferramentas que funcionam apenas com versões específicas do Python\n",
    "    2. Isolar de todo o resto tudo aquilo que é estritamente necessário para o programa rodar. Importante para sites e programas que vão ser distribuídos\n",
    "    \n",
    "### Observação Importante:\n",
    "\n",
    "Quando você cria um ambiente virtual, ele vem praticamente sem nada, então você precisa usar o pip ou o conda para instalar cada pacote que for usar"
   ]
  },
  {
   "cell_type": "markdown",
   "metadata": {},
   "source": [
    "### Comandos importantes do cmd:\n",
    "\n",
    "- Windows:"
   ]
  },
  {
   "cell_type": "raw",
   "metadata": {},
   "source": [
    "cd Pasta -> navega até aquela pasta\n",
    "cd .. -> volta para a pasta anterior\n",
    "dir -> lista os arquivos contidos na pasta"
   ]
  },
  {
   "cell_type": "markdown",
   "metadata": {},
   "source": [
    "- Mac ou Linux"
   ]
  },
  {
   "cell_type": "raw",
   "metadata": {},
   "source": [
    "cd Pasta -> navega até aquela pasta\n",
    "cd .. -> volta para a pasta anterior\n",
    "ls -> lista os arquivos contidos na pasta\n",
    "\n",
    "Obs: Caso o nome da pasta tenha espaço, talvez seja necessário substituir o espaço por \\, exemplo:\n",
    "cd Python Impressionador -> navega até a pasta \"Python Impressionador\"\n",
    "talvez seja necessário fazer:\n",
    "cd Python\\Impressionador"
   ]
  },
  {
   "cell_type": "markdown",
   "metadata": {},
   "source": [
    "### Comandos do Anaconda para Ambiente Virtual:\n",
    "\n",
    "Link com Detalhes: https://docs.conda.io/projects/conda/en/latest/user-guide/tasks/manage-environments.html\n",
    "\n",
    "- Criar ambiente virtual:"
   ]
  },
  {
   "cell_type": "raw",
   "metadata": {},
   "source": [
    "conda create -n meuambientevirtual"
   ]
  },
  {
   "cell_type": "markdown",
   "metadata": {},
   "source": [
    "- Criar ambiente virtual com versão específica do Python"
   ]
  },
  {
   "cell_type": "raw",
   "metadata": {},
   "source": [
    "conda create -n meuambientevirtual python=3.6"
   ]
  },
  {
   "cell_type": "markdown",
   "metadata": {},
   "source": [
    "- Remover ambiente virtual"
   ]
  },
  {
   "cell_type": "raw",
   "metadata": {},
   "source": [
    "conda remove --name meuambientevirtual --all"
   ]
  },
  {
   "cell_type": "markdown",
   "metadata": {},
   "source": [
    "- Ativar Ambiente Virtual"
   ]
  },
  {
   "cell_type": "raw",
   "metadata": {},
   "source": [
    "conda activate meuambientevirtual"
   ]
  },
  {
   "cell_type": "markdown",
   "metadata": {},
   "source": [
    "- Desativar ambiente virtual"
   ]
  },
  {
   "cell_type": "raw",
   "metadata": {},
   "source": [
    "conda deactivate"
   ]
  }
 ],
 "metadata": {
  "kernelspec": {
   "display_name": "Python 3 (ipykernel)",
   "language": "python",
   "name": "python3"
  },
  "language_info": {
   "codemirror_mode": {
    "name": "ipython",
    "version": 3
   },
   "file_extension": ".py",
   "mimetype": "text/x-python",
   "name": "python",
   "nbconvert_exporter": "python",
   "pygments_lexer": "ipython3",
   "version": "3.9.12"
  },
  "toc": {
   "base_numbering": 1,
   "nav_menu": {},
   "number_sections": true,
   "sideBar": true,
   "skip_h1_title": false,
   "title_cell": "Table of Contents",
   "title_sidebar": "Contents",
   "toc_cell": false,
   "toc_position": {},
   "toc_section_display": true,
   "toc_window_display": false
  },
  "varInspector": {
   "cols": {
    "lenName": 16,
    "lenType": 16,
    "lenVar": 40
   },
   "kernels_config": {
    "python": {
     "delete_cmd_postfix": "",
     "delete_cmd_prefix": "del ",
     "library": "var_list.py",
     "varRefreshCmd": "print(var_dic_list())"
    },
    "r": {
     "delete_cmd_postfix": ") ",
     "delete_cmd_prefix": "rm(",
     "library": "var_list.r",
     "varRefreshCmd": "cat(var_dic_list()) "
    }
   },
   "types_to_exclude": [
    "module",
    "function",
    "builtin_function_or_method",
    "instance",
    "_Feature"
   ],
   "window_display": false
  }
 },
 "nbformat": 4,
 "nbformat_minor": 4
}
