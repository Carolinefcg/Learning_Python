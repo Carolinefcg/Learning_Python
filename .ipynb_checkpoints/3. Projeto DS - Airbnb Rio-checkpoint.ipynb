{
 "cells": [
  {
   "cell_type": "markdown",
   "metadata": {},
   "source": [
    "# Projeto Airbnb Rio - Ferramenta de Previsão de Preço de Imóvel para pessoas comuns "
   ]
  },
  {
   "cell_type": "markdown",
   "metadata": {},
   "source": [
    "## Trajetória de um projeto em Data Science\n",
    "\n",
    "1. Entendimento do desafio que queremos resolver\n",
    "2. Entendimento da Empresa/Área\n",
    "3. Extração/obtenção de dados\n",
    "4. Ajustes de dados (Limpeza de dados)\n",
    "5. Análise exploratória\n",
    "6. Modelagem + algoritmos\n",
    "7. Interpretação dos resultados\n",
    "8. Deploy/produção"
   ]
  },
  {
   "cell_type": "markdown",
   "metadata": {},
   "source": [
    "## Contexto\n",
    "\n",
    "No Airbnb, qualquer pessoa que tenha um quarto ou um imóvel de qualquer tipo (apartamento, casa, chalé, pousada, etc.) pode ofertar o seu imóvel para ser alugado por diária.\n",
    "\n",
    "Você cria o seu perfil de host (pessoa que disponibiliza um imóvel para aluguel por diária) e cria o anúncio do seu imóvel.\n",
    "\n",
    "Nesse anúncio, o host deve descrever as características do imóvel da forma mais completa possível, de forma a ajudar os locadores/viajantes a escolherem o melhor imóvel para eles (e de forma a tornar o seu anúncio mais atrativo)\n",
    "\n",
    "Existem dezenas de personalizações possíveis no seu anúncio, desde quantidade mínima de diária, preço, quantidade de quartos, até regras de cancelamento, taxa extra para hóspedes extras, exigência de verificação de identidade do locador, etc.\n",
    "\n",
    "## Nosso objetivo\n",
    "\n",
    "Construir um modelo de previsão de preço que permita uma pessoa comum que possui um imóvel possa saber quanto deve cobrar pela diária do seu imóvel.\n",
    "\n",
    "Ou ainda, para o locador comum, dado o imóvel que ele está buscando, ajudar a saber se aquele imóvel está com preço atrativo (abaixo da média para imóveis com as mesmas características) ou não.\n",
    "\n",
    "## O que temos disponível, inspirações e créditos\n",
    "\n",
    "As bases de dados foram retiradas do site kaggle: https://www.kaggle.com/allanbruno/airbnb-rio-de-janeiro\n",
    "\n",
    "Elas estão disponíveis para download abaixo da aula (se você puxar os dados direto do Kaggle pode ser que encontre resultados diferentes dos meus, afinal as bases de dados podem ter sido atualizadas).\n",
    "\n",
    "Caso queira uma outra solução, podemos olhar como referência a solução do usuário Allan Bruno do kaggle no Notebook: https://www.kaggle.com/allanbruno/helping-regular-people-price-listings-on-airbnb\n",
    "\n",
    "Você vai perceber semelhanças entre a solução que vamos desenvolver aqui e a dele, mas também algumas diferenças significativas no processo de construção do projeto.\n",
    "\n",
    "- As bases de dados são os preços dos imóveis obtidos e suas respectivas características em cada mês.\n",
    "- Os preços são dados em reais (R$)\n",
    "- Temos bases de abril de 2018 a maio de 2020, com exceção de junho de 2018 que não possui base de dados\n",
    "\n",
    "## Expectativas Iniciais\n",
    "\n",
    "- Acredito que a sazonalidade pode ser um fator importante, visto que meses como dezembro costumam ser bem caros no RJ\n",
    "- A localização do imóvel deve fazer muita diferença no preço, já que no Rio de Janeiro a localização pode mudar completamente as características do lugar (segurança, beleza natural, pontos turísticos)\n",
    "- Adicionais/Comodidades podem ter um impacto significativo, visto que temos muitos prédios e casas antigos no Rio de Janeiro\n",
    "\n",
    "Vamos descobrir o quanto esses fatores impactam e se temos outros fatores não tão intuitivos que são extremamente importantes."
   ]
  },
  {
   "cell_type": "markdown",
   "metadata": {},
   "source": [
    "# Importar Bibliotecas e Bases de Dados"
   ]
  },
  {
   "cell_type": "code",
   "execution_count": 40,
   "metadata": {
    "ExecuteTime": {
     "end_time": "2023-04-24T14:57:49.699807Z",
     "start_time": "2023-04-24T14:57:49.683813Z"
    }
   },
   "outputs": [],
   "source": [
    "import pandas as pd\n",
    "import pathlib\n",
    "from zipfile import ZipFile\n",
    "import calendar\n",
    "import re\n",
    "import numpy as np \n",
    "import seaborn as sns\n",
    "import matplotlib.pyplot as plt"
   ]
  },
  {
   "cell_type": "markdown",
   "metadata": {},
   "source": [
    "## Funções"
   ]
  },
  {
   "cell_type": "code",
   "execution_count": 2,
   "metadata": {
    "ExecuteTime": {
     "end_time": "2023-04-24T14:13:07.793144Z",
     "start_time": "2023-04-24T14:13:07.777600Z"
    }
   },
   "outputs": [],
   "source": [
    "def month_filename(filename):\n",
    "    month = 0\n",
    "    year = 0\n",
    "    if filename[:3] in meses.keys():\n",
    "        month = meses[filename[:3]]\n",
    "        year = int(filename[-8:(len(filename)-4)]) #.csv files\n",
    "    return(month, year)"
   ]
  },
  {
   "cell_type": "code",
   "execution_count": 3,
   "metadata": {
    "ExecuteTime": {
     "end_time": "2023-04-24T14:13:07.877769Z",
     "start_time": "2023-04-24T14:13:07.793144Z"
    }
   },
   "outputs": [],
   "source": [
    "def multiple_zips_get_months(zippedFile, dataframe = pd.DataFrame(), file_type = '.csv', low_memory = False):\n",
    "    for i, text_file in enumerate(zippedFile.infolist()):\n",
    "        if (text_file.filename.endswith(file_type)):\n",
    "            # show progress\n",
    "            print('{}/{} ({:.0%}) >> {}'.format((i+1), len(zip_file.infolist()),\n",
    "                                (i+1)/len(zip_file.infolist()),\n",
    "                                 text_file.filename))\n",
    "            # read file\n",
    "            file = pd.read_csv(zippedFile.open(text_file.filename), low_memory= low_memory)\n",
    "             \n",
    "            # add month and year\n",
    "            just_filename = re.findall(re.compile(r'/(.+)'),text_file.filename)[0]\n",
    "            mes, ano = month_filename(just_filename)\n",
    "            file['mes'] = mes\n",
    "            file['ano'] = ano\n",
    "            \n",
    "            # concat files\n",
    "            dataframe = pd.concat([dataframe, file])\n",
    "    return dataframe"
   ]
  },
  {
   "cell_type": "code",
   "execution_count": 159,
   "metadata": {
    "ExecuteTime": {
     "end_time": "2023-04-24T20:51:50.506522Z",
     "start_time": "2023-04-24T20:51:50.475338Z"
    }
   },
   "outputs": [],
   "source": [
    "def dois_boxplots(coluna):\n",
    "    # subplot\n",
    "    fig, (ax1, ax2) = plt.subplots(1,2)\n",
    "    \n",
    "    # tamanho da figura\n",
    "    fig.set_size_inches(15, 5)\n",
    "    \n",
    "    # boxplot dos dados \n",
    "    sns.boxplot(x = coluna, ax= ax1)\n",
    "    \n",
    "    # boxplot sem outliers\n",
    "    ax2.set_xlim(limites(coluna))\n",
    "    sns.boxplot(x = coluna, ax= ax2)\n",
    "\n",
    "def histogramas(coluna):\n",
    "    #tamanho da figura\n",
    "    plt.figure(figsize = (15,5))\n",
    "    \n",
    "    #histograma\n",
    "    sns.distplot(x=coluna)\n",
    "    \n",
    "def grafico_barras(coluna, remove_outliers = True):\n",
    "    #tamanho da figura\n",
    "    plt.figure(figsize = (15,5))\n",
    "    \n",
    "    #histograma\n",
    "    ax = sns.barplot(x=coluna.value_counts().index, y= coluna.value_counts())\n",
    "    \n",
    "    if remove_outliers:\n",
    "        # boxplot sem outliers\n",
    "        ax.set_xlim(limites(coluna))\n",
    "        \n",
    "def count_plot(col):\n",
    "    print(base_airbnb[col].value_counts())\n",
    "    plt.figure(figsize = (15,5))\n",
    "    grafico = sns.countplot(col, data = base_airbnb)\n",
    "    grafico.tick_params(axis= 'x', rotation = 80)"
   ]
  },
  {
   "cell_type": "markdown",
   "metadata": {
    "ExecuteTime": {
     "end_time": "2023-04-20T18:47:34.049928Z",
     "start_time": "2023-04-20T18:47:34.018687Z"
    }
   },
   "source": [
    "## Meses (em pt)"
   ]
  },
  {
   "cell_type": "code",
   "execution_count": 4,
   "metadata": {
    "ExecuteTime": {
     "end_time": "2023-04-24T14:13:07.978163Z",
     "start_time": "2023-04-24T14:13:07.877769Z"
    }
   },
   "outputs": [
    {
     "data": {
      "text/plain": [
       "dict_keys(['jan', 'fev', 'mar', 'abr', 'mai', 'jun', 'jul', 'ago', 'set', 'out', 'nov', 'dez'])"
      ]
     },
     "execution_count": 4,
     "metadata": {},
     "output_type": "execute_result"
    }
   ],
   "source": [
    "# to portuguese\n",
    "meses = {month: index for index, month in enumerate(calendar.month_abbr) if month}\n",
    "meses = {'Fev' if k == 'Feb'\n",
    "         else 'Abr' if k == 'Apr' \n",
    "         else 'Mai' if k == 'May'\n",
    "         else 'Ago' if k == 'Aug'\n",
    "         else 'Set' if k == 'Sep'\n",
    "         else 'Out' if k == 'Oct'\n",
    "         else 'Dez' if k == 'Dec'\n",
    "         else k:v for k,v in meses.items()}\n",
    "meses = {k.lower(): v for k, v in meses.items()}\n",
    "meses.keys() "
   ]
  },
  {
   "cell_type": "markdown",
   "metadata": {},
   "source": [
    "## Diretório"
   ]
  },
  {
   "cell_type": "code",
   "execution_count": 5,
   "metadata": {
    "ExecuteTime": {
     "end_time": "2023-04-24T14:13:08.325468Z",
     "start_time": "2023-04-24T14:13:07.978163Z"
    }
   },
   "outputs": [
    {
     "data": {
      "text/plain": [
       "<zipfile.ZipFile filename='..\\\\..\\\\PYTHON\\\\HASHTAG\\\\data\\\\dataset - projeto ds.zip' mode='r'>"
      ]
     },
     "execution_count": 5,
     "metadata": {},
     "output_type": "execute_result"
    }
   ],
   "source": [
    "caminho = pathlib.Path(r'../../PYTHON/HASHTAG/data/')\n",
    "zipped_file = pathlib.Path(r'dataset - projeto ds.zip')\n",
    "zip_file = ZipFile(caminho / zipped_file)\n",
    "zip_file"
   ]
  },
  {
   "cell_type": "markdown",
   "metadata": {},
   "source": [
    "# Lendo dados"
   ]
  },
  {
   "cell_type": "code",
   "execution_count": 6,
   "metadata": {
    "ExecuteTime": {
     "end_time": "2023-04-24T14:15:10.982672Z",
     "start_time": "2023-04-24T14:13:08.325468Z"
    }
   },
   "outputs": [
    {
     "name": "stdout",
     "output_type": "stream",
     "text": [
      "1/25 (4%) >> dataset/abril2018.csv\n",
      "2/25 (8%) >> dataset/abril2019.csv\n",
      "3/25 (12%) >> dataset/abril2020.csv\n",
      "4/25 (16%) >> dataset/agosto2018.csv\n",
      "5/25 (20%) >> dataset/agosto2019.csv\n",
      "6/25 (24%) >> dataset/dezembro2018.csv\n",
      "7/25 (28%) >> dataset/dezembro2019.csv\n",
      "8/25 (32%) >> dataset/fevereiro2019.csv\n",
      "9/25 (36%) >> dataset/fevereiro2020.csv\n",
      "10/25 (40%) >> dataset/janeiro2019.csv\n",
      "11/25 (44%) >> dataset/janeiro2020.csv\n",
      "12/25 (48%) >> dataset/julho2018.csv\n",
      "13/25 (52%) >> dataset/julho2019.csv\n",
      "14/25 (56%) >> dataset/junho2019.csv\n",
      "15/25 (60%) >> dataset/maio2018.csv\n",
      "16/25 (64%) >> dataset/maio2019.csv\n",
      "17/25 (68%) >> dataset/maio2020.csv\n",
      "18/25 (72%) >> dataset/maro2019.csv\n",
      "19/25 (76%) >> dataset/maro2020.csv\n",
      "20/25 (80%) >> dataset/novembro2019.csv\n",
      "21/25 (84%) >> dataset/novrmbro2018.csv\n",
      "22/25 (88%) >> dataset/outubro2018.csv\n",
      "23/25 (92%) >> dataset/outubro2019.csv\n",
      "24/25 (96%) >> dataset/setembro2018.csv\n",
      "25/25 (100%) >> dataset/setembro2019.csv\n"
     ]
    }
   ],
   "source": [
    "base_airbnb_raw = multiple_zips_get_months(zip_file)"
   ]
  },
  {
   "cell_type": "code",
   "execution_count": 84,
   "metadata": {
    "ExecuteTime": {
     "end_time": "2023-04-24T18:01:30.721104Z",
     "start_time": "2023-04-24T17:50:11.360655Z"
    }
   },
   "outputs": [],
   "source": [
    "base_airbnb = base_airbnb_raw.copy()"
   ]
  },
  {
   "cell_type": "code",
   "execution_count": 85,
   "metadata": {
    "ExecuteTime": {
     "end_time": "2023-04-24T18:01:32.153861Z",
     "start_time": "2023-04-24T18:01:31.205950Z"
    }
   },
   "outputs": [
    {
     "data": {
      "text/plain": [
       "(902210, 108)"
      ]
     },
     "execution_count": 85,
     "metadata": {},
     "output_type": "execute_result"
    }
   ],
   "source": [
    "base_airbnb.shape"
   ]
  },
  {
   "cell_type": "code",
   "execution_count": 86,
   "metadata": {
    "ExecuteTime": {
     "end_time": "2023-04-24T18:01:38.329426Z",
     "start_time": "2023-04-24T18:01:32.153861Z"
    }
   },
   "outputs": [
    {
     "data": {
      "text/html": [
       "<div>\n",
       "<style scoped>\n",
       "    .dataframe tbody tr th:only-of-type {\n",
       "        vertical-align: middle;\n",
       "    }\n",
       "\n",
       "    .dataframe tbody tr th {\n",
       "        vertical-align: top;\n",
       "    }\n",
       "\n",
       "    .dataframe thead th {\n",
       "        text-align: right;\n",
       "    }\n",
       "</style>\n",
       "<table border=\"1\" class=\"dataframe\">\n",
       "  <thead>\n",
       "    <tr style=\"text-align: right;\">\n",
       "      <th></th>\n",
       "      <th>id</th>\n",
       "      <th>listing_url</th>\n",
       "      <th>scrape_id</th>\n",
       "      <th>last_scraped</th>\n",
       "      <th>name</th>\n",
       "      <th>summary</th>\n",
       "      <th>space</th>\n",
       "      <th>description</th>\n",
       "      <th>experiences_offered</th>\n",
       "      <th>neighborhood_overview</th>\n",
       "      <th>...</th>\n",
       "      <th>minimum_minimum_nights</th>\n",
       "      <th>maximum_minimum_nights</th>\n",
       "      <th>minimum_maximum_nights</th>\n",
       "      <th>maximum_maximum_nights</th>\n",
       "      <th>minimum_nights_avg_ntm</th>\n",
       "      <th>maximum_nights_avg_ntm</th>\n",
       "      <th>number_of_reviews_ltm</th>\n",
       "      <th>calculated_host_listings_count_entire_homes</th>\n",
       "      <th>calculated_host_listings_count_private_rooms</th>\n",
       "      <th>calculated_host_listings_count_shared_rooms</th>\n",
       "    </tr>\n",
       "  </thead>\n",
       "  <tbody>\n",
       "    <tr>\n",
       "      <th>0</th>\n",
       "      <td>14063</td>\n",
       "      <td>https://www.airbnb.com/rooms/14063</td>\n",
       "      <td>20180414160018</td>\n",
       "      <td>2018-04-14</td>\n",
       "      <td>Living in a Postcard</td>\n",
       "      <td>Besides the most iconic's view, our apartment ...</td>\n",
       "      <td>NaN</td>\n",
       "      <td>Besides the most iconic's view, our apartment ...</td>\n",
       "      <td>none</td>\n",
       "      <td>Best and favorite neighborhood of Rio. Perfect...</td>\n",
       "      <td>...</td>\n",
       "      <td>NaN</td>\n",
       "      <td>NaN</td>\n",
       "      <td>NaN</td>\n",
       "      <td>NaN</td>\n",
       "      <td>NaN</td>\n",
       "      <td>NaN</td>\n",
       "      <td>NaN</td>\n",
       "      <td>NaN</td>\n",
       "      <td>NaN</td>\n",
       "      <td>NaN</td>\n",
       "    </tr>\n",
       "    <tr>\n",
       "      <th>1</th>\n",
       "      <td>17878</td>\n",
       "      <td>https://www.airbnb.com/rooms/17878</td>\n",
       "      <td>20180414160018</td>\n",
       "      <td>2018-04-14</td>\n",
       "      <td>Very Nice 2Br - Copacabana - WiFi</td>\n",
       "      <td>Please note that special rates apply for New Y...</td>\n",
       "      <td>- large balcony which looks out on pedestrian ...</td>\n",
       "      <td>Please note that special rates apply for New Y...</td>\n",
       "      <td>none</td>\n",
       "      <td>This is the best spot in Rio. Everything happe...</td>\n",
       "      <td>...</td>\n",
       "      <td>NaN</td>\n",
       "      <td>NaN</td>\n",
       "      <td>NaN</td>\n",
       "      <td>NaN</td>\n",
       "      <td>NaN</td>\n",
       "      <td>NaN</td>\n",
       "      <td>NaN</td>\n",
       "      <td>NaN</td>\n",
       "      <td>NaN</td>\n",
       "      <td>NaN</td>\n",
       "    </tr>\n",
       "    <tr>\n",
       "      <th>2</th>\n",
       "      <td>24480</td>\n",
       "      <td>https://www.airbnb.com/rooms/24480</td>\n",
       "      <td>20180414160018</td>\n",
       "      <td>2018-04-14</td>\n",
       "      <td>Nice and cozy near Ipanema Beach</td>\n",
       "      <td>My studio is located in the best  of Ipanema. ...</td>\n",
       "      <td>The studio is located at Vinicius de Moraes St...</td>\n",
       "      <td>My studio is located in the best  of Ipanema. ...</td>\n",
       "      <td>none</td>\n",
       "      <td>The beach, the lagoon, Ipanema is a great loca...</td>\n",
       "      <td>...</td>\n",
       "      <td>NaN</td>\n",
       "      <td>NaN</td>\n",
       "      <td>NaN</td>\n",
       "      <td>NaN</td>\n",
       "      <td>NaN</td>\n",
       "      <td>NaN</td>\n",
       "      <td>NaN</td>\n",
       "      <td>NaN</td>\n",
       "      <td>NaN</td>\n",
       "      <td>NaN</td>\n",
       "    </tr>\n",
       "  </tbody>\n",
       "</table>\n",
       "<p>3 rows × 108 columns</p>\n",
       "</div>"
      ],
      "text/plain": [
       "      id                         listing_url       scrape_id last_scraped  \\\n",
       "0  14063  https://www.airbnb.com/rooms/14063  20180414160018   2018-04-14   \n",
       "1  17878  https://www.airbnb.com/rooms/17878  20180414160018   2018-04-14   \n",
       "2  24480  https://www.airbnb.com/rooms/24480  20180414160018   2018-04-14   \n",
       "\n",
       "                                name  \\\n",
       "0               Living in a Postcard   \n",
       "1  Very Nice 2Br - Copacabana - WiFi   \n",
       "2   Nice and cozy near Ipanema Beach   \n",
       "\n",
       "                                             summary  \\\n",
       "0  Besides the most iconic's view, our apartment ...   \n",
       "1  Please note that special rates apply for New Y...   \n",
       "2  My studio is located in the best  of Ipanema. ...   \n",
       "\n",
       "                                               space  \\\n",
       "0                                                NaN   \n",
       "1  - large balcony which looks out on pedestrian ...   \n",
       "2  The studio is located at Vinicius de Moraes St...   \n",
       "\n",
       "                                         description experiences_offered  \\\n",
       "0  Besides the most iconic's view, our apartment ...                none   \n",
       "1  Please note that special rates apply for New Y...                none   \n",
       "2  My studio is located in the best  of Ipanema. ...                none   \n",
       "\n",
       "                               neighborhood_overview  ...  \\\n",
       "0  Best and favorite neighborhood of Rio. Perfect...  ...   \n",
       "1  This is the best spot in Rio. Everything happe...  ...   \n",
       "2  The beach, the lagoon, Ipanema is a great loca...  ...   \n",
       "\n",
       "  minimum_minimum_nights maximum_minimum_nights minimum_maximum_nights  \\\n",
       "0                    NaN                    NaN                    NaN   \n",
       "1                    NaN                    NaN                    NaN   \n",
       "2                    NaN                    NaN                    NaN   \n",
       "\n",
       "  maximum_maximum_nights minimum_nights_avg_ntm  maximum_nights_avg_ntm  \\\n",
       "0                    NaN                    NaN                     NaN   \n",
       "1                    NaN                    NaN                     NaN   \n",
       "2                    NaN                    NaN                     NaN   \n",
       "\n",
       "   number_of_reviews_ltm calculated_host_listings_count_entire_homes  \\\n",
       "0                    NaN                                         NaN   \n",
       "1                    NaN                                         NaN   \n",
       "2                    NaN                                         NaN   \n",
       "\n",
       "   calculated_host_listings_count_private_rooms  \\\n",
       "0                                           NaN   \n",
       "1                                           NaN   \n",
       "2                                           NaN   \n",
       "\n",
       "   calculated_host_listings_count_shared_rooms  \n",
       "0                                          NaN  \n",
       "1                                          NaN  \n",
       "2                                          NaN  \n",
       "\n",
       "[3 rows x 108 columns]"
      ]
     },
     "execution_count": 86,
     "metadata": {},
     "output_type": "execute_result"
    }
   ],
   "source": [
    "base_airbnb.head(3)"
   ]
  },
  {
   "cell_type": "markdown",
   "metadata": {},
   "source": [
    "# Se tivermos muitas colunas, já vamos identificar quais colunas podemos excluir"
   ]
  },
  {
   "cell_type": "markdown",
   "metadata": {},
   "source": [
    "<font color = 'green'>Pode ser interessante acrescentar mais colunas, como um len() da descrição do local.\n",
    "    <br >Talvez apartamentos melhores descritos sejam mais atrativos </font>"
   ]
  },
  {
   "cell_type": "code",
   "execution_count": 87,
   "metadata": {
    "ExecuteTime": {
     "end_time": "2023-04-24T18:01:40.272853Z",
     "start_time": "2023-04-24T18:01:38.526002Z"
    }
   },
   "outputs": [],
   "source": [
    "select_colunas = ['host_response_time',\n",
    "                  'host_response_rate',\n",
    "                  'host_is_superhost',\n",
    "                  'host_listings_count',\n",
    "                  'latitude',\n",
    "                  'longitude',\n",
    "                  'property_type',\n",
    "                  'room_type',\n",
    "                  'accommodates',\n",
    "                  'bathrooms',\n",
    "                  'bedrooms',\n",
    "                  'beds',\n",
    "                  'bed_type',\n",
    "                  'amenities',\n",
    "                  'price',\n",
    "                  'security_deposit',\n",
    "                  'cleaning_fee',\n",
    "                  'guests_included',\n",
    "                  'extra_people',\n",
    "                  'minimum_nights',\n",
    "                  'maximum_nights',\n",
    "                  'number_of_reviews',\n",
    "                  'review_scores_rating',\n",
    "                  'review_scores_accuracy',\n",
    "                  'review_scores_cleanliness',\n",
    "                  'review_scores_checkin',\n",
    "                  'review_scores_communication',\n",
    "                  'review_scores_location',\n",
    "                  'review_scores_value',\n",
    "                  'instant_bookable',\n",
    "                  'is_business_travel_ready',\n",
    "                  'cancellation_policy',\n",
    "                  'ano',\n",
    "                  'mes']"
   ]
  },
  {
   "cell_type": "code",
   "execution_count": 88,
   "metadata": {
    "ExecuteTime": {
     "end_time": "2023-04-24T18:01:42.409519Z",
     "start_time": "2023-04-24T18:01:40.272853Z"
    }
   },
   "outputs": [
    {
     "data": {
      "text/html": [
       "<div>\n",
       "<style scoped>\n",
       "    .dataframe tbody tr th:only-of-type {\n",
       "        vertical-align: middle;\n",
       "    }\n",
       "\n",
       "    .dataframe tbody tr th {\n",
       "        vertical-align: top;\n",
       "    }\n",
       "\n",
       "    .dataframe thead th {\n",
       "        text-align: right;\n",
       "    }\n",
       "</style>\n",
       "<table border=\"1\" class=\"dataframe\">\n",
       "  <thead>\n",
       "    <tr style=\"text-align: right;\">\n",
       "      <th></th>\n",
       "      <th>host_response_time</th>\n",
       "      <th>host_response_rate</th>\n",
       "      <th>host_is_superhost</th>\n",
       "      <th>host_listings_count</th>\n",
       "      <th>latitude</th>\n",
       "      <th>longitude</th>\n",
       "      <th>property_type</th>\n",
       "      <th>room_type</th>\n",
       "      <th>accommodates</th>\n",
       "      <th>bathrooms</th>\n",
       "      <th>...</th>\n",
       "      <th>review_scores_cleanliness</th>\n",
       "      <th>review_scores_checkin</th>\n",
       "      <th>review_scores_communication</th>\n",
       "      <th>review_scores_location</th>\n",
       "      <th>review_scores_value</th>\n",
       "      <th>instant_bookable</th>\n",
       "      <th>is_business_travel_ready</th>\n",
       "      <th>cancellation_policy</th>\n",
       "      <th>ano</th>\n",
       "      <th>mes</th>\n",
       "    </tr>\n",
       "  </thead>\n",
       "  <tbody>\n",
       "    <tr>\n",
       "      <th>0</th>\n",
       "      <td>NaN</td>\n",
       "      <td>NaN</td>\n",
       "      <td>f</td>\n",
       "      <td>1.0</td>\n",
       "      <td>-22.946854</td>\n",
       "      <td>-43.182737</td>\n",
       "      <td>Apartment</td>\n",
       "      <td>Entire home/apt</td>\n",
       "      <td>4</td>\n",
       "      <td>1.0</td>\n",
       "      <td>...</td>\n",
       "      <td>9.0</td>\n",
       "      <td>9.0</td>\n",
       "      <td>9.0</td>\n",
       "      <td>9.0</td>\n",
       "      <td>9.0</td>\n",
       "      <td>f</td>\n",
       "      <td>f</td>\n",
       "      <td>strict_14_with_grace_period</td>\n",
       "      <td>2018</td>\n",
       "      <td>4</td>\n",
       "    </tr>\n",
       "    <tr>\n",
       "      <th>1</th>\n",
       "      <td>within an hour</td>\n",
       "      <td>100%</td>\n",
       "      <td>t</td>\n",
       "      <td>2.0</td>\n",
       "      <td>-22.965919</td>\n",
       "      <td>-43.178962</td>\n",
       "      <td>Condominium</td>\n",
       "      <td>Entire home/apt</td>\n",
       "      <td>5</td>\n",
       "      <td>1.0</td>\n",
       "      <td>...</td>\n",
       "      <td>9.0</td>\n",
       "      <td>10.0</td>\n",
       "      <td>10.0</td>\n",
       "      <td>9.0</td>\n",
       "      <td>9.0</td>\n",
       "      <td>t</td>\n",
       "      <td>f</td>\n",
       "      <td>strict</td>\n",
       "      <td>2018</td>\n",
       "      <td>4</td>\n",
       "    </tr>\n",
       "  </tbody>\n",
       "</table>\n",
       "<p>2 rows × 34 columns</p>\n",
       "</div>"
      ],
      "text/plain": [
       "  host_response_time host_response_rate host_is_superhost  \\\n",
       "0                NaN                NaN                 f   \n",
       "1     within an hour               100%                 t   \n",
       "\n",
       "   host_listings_count   latitude  longitude property_type        room_type  \\\n",
       "0                  1.0 -22.946854 -43.182737     Apartment  Entire home/apt   \n",
       "1                  2.0 -22.965919 -43.178962   Condominium  Entire home/apt   \n",
       "\n",
       "   accommodates  bathrooms  ...  review_scores_cleanliness  \\\n",
       "0             4        1.0  ...                        9.0   \n",
       "1             5        1.0  ...                        9.0   \n",
       "\n",
       "   review_scores_checkin review_scores_communication review_scores_location  \\\n",
       "0                    9.0                         9.0                    9.0   \n",
       "1                   10.0                        10.0                    9.0   \n",
       "\n",
       "  review_scores_value instant_bookable is_business_travel_ready  \\\n",
       "0                 9.0                f                        f   \n",
       "1                 9.0                t                        f   \n",
       "\n",
       "           cancellation_policy   ano  mes  \n",
       "0  strict_14_with_grace_period  2018    4  \n",
       "1                       strict  2018    4  \n",
       "\n",
       "[2 rows x 34 columns]"
      ]
     },
     "execution_count": 88,
     "metadata": {},
     "output_type": "execute_result"
    }
   ],
   "source": [
    "base_airbnb = base_airbnb.loc[:, select_colunas]\n",
    "base_airbnb.head(2)"
   ]
  },
  {
   "cell_type": "markdown",
   "metadata": {},
   "source": [
    "# Tratar Valores Faltando"
   ]
  },
  {
   "cell_type": "code",
   "execution_count": 89,
   "metadata": {
    "ExecuteTime": {
     "end_time": "2023-04-24T18:01:44.537646Z",
     "start_time": "2023-04-24T18:01:42.409519Z"
    },
    "scrolled": true
   },
   "outputs": [
    {
     "name": "stdout",
     "output_type": "stream",
     "text": [
      "host_response_time             401843\n",
      "host_response_rate             401846\n",
      "host_is_superhost                 460\n",
      "host_listings_count               460\n",
      "latitude                            0\n",
      "longitude                           0\n",
      "property_type                       0\n",
      "room_type                           0\n",
      "accommodates                        0\n",
      "bathrooms                        1724\n",
      "bedrooms                          850\n",
      "beds                             2502\n",
      "bed_type                            0\n",
      "amenities                           0\n",
      "price                               0\n",
      "security_deposit               421280\n",
      "cleaning_fee                   313506\n",
      "guests_included                     0\n",
      "extra_people                        0\n",
      "minimum_nights                      0\n",
      "maximum_nights                      0\n",
      "number_of_reviews                   0\n",
      "review_scores_rating           448016\n",
      "review_scores_accuracy         448586\n",
      "review_scores_cleanliness      448413\n",
      "review_scores_checkin          448650\n",
      "review_scores_communication    448415\n",
      "review_scores_location         448553\n",
      "review_scores_value            448551\n",
      "instant_bookable                    0\n",
      "is_business_travel_ready            0\n",
      "cancellation_policy                 0\n",
      "ano                                 0\n",
      "mes                                 0\n",
      "dtype: int64\n"
     ]
    }
   ],
   "source": [
    "print(base_airbnb.isnull().sum())"
   ]
  },
  {
   "cell_type": "code",
   "execution_count": 90,
   "metadata": {
    "ExecuteTime": {
     "end_time": "2023-04-24T18:01:50.106878Z",
     "start_time": "2023-04-24T18:01:44.537646Z"
    }
   },
   "outputs": [
    {
     "name": "stdout",
     "output_type": "stream",
     "text": [
      "host_is_superhost            460\n",
      "host_listings_count          460\n",
      "latitude                       0\n",
      "longitude                      0\n",
      "property_type                  0\n",
      "room_type                      0\n",
      "accommodates                   0\n",
      "bathrooms                   1724\n",
      "bedrooms                     850\n",
      "beds                        2502\n",
      "bed_type                       0\n",
      "amenities                      0\n",
      "price                          0\n",
      "guests_included                0\n",
      "extra_people                   0\n",
      "minimum_nights                 0\n",
      "maximum_nights                 0\n",
      "number_of_reviews              0\n",
      "instant_bookable               0\n",
      "is_business_travel_ready       0\n",
      "cancellation_policy            0\n",
      "ano                            0\n",
      "mes                            0\n",
      "dtype: int64\n"
     ]
    }
   ],
   "source": [
    "for coluna in base_airbnb:\n",
    "    if base_airbnb[coluna].isnull().sum() > 300000:\n",
    "        base_airbnb = base_airbnb.drop(coluna, axis= 1)\n",
    "print(base_airbnb.isnull().sum())"
   ]
  },
  {
   "cell_type": "markdown",
   "metadata": {},
   "source": [
    "# Verificar Tipos de Dados em cada coluna"
   ]
  },
  {
   "cell_type": "code",
   "execution_count": 91,
   "metadata": {
    "ExecuteTime": {
     "end_time": "2023-04-24T18:01:50.655096Z",
     "start_time": "2023-04-24T18:01:50.106878Z"
    }
   },
   "outputs": [
    {
     "name": "stdout",
     "output_type": "stream",
     "text": [
      "host_is_superhost            object\n",
      "host_listings_count         float64\n",
      "latitude                    float64\n",
      "longitude                   float64\n",
      "property_type                object\n",
      "room_type                    object\n",
      "accommodates                  int64\n",
      "bathrooms                   float64\n",
      "bedrooms                    float64\n",
      "beds                        float64\n",
      "bed_type                     object\n",
      "amenities                    object\n",
      "price                        object\n",
      "guests_included               int64\n",
      "extra_people                 object\n",
      "minimum_nights                int64\n",
      "maximum_nights                int64\n",
      "number_of_reviews             int64\n",
      "instant_bookable             object\n",
      "is_business_travel_ready     object\n",
      "cancellation_policy          object\n",
      "ano                           int64\n",
      "mes                           int64\n",
      "dtype: object\n",
      "----------------------------------------------------------------------------------------------------\n",
      "host_is_superhost                                                           f\n",
      "host_listings_count                                                       1.0\n",
      "latitude                                                           -22.946854\n",
      "longitude                                                          -43.182737\n",
      "property_type                                                       Apartment\n",
      "room_type                                                     Entire home/apt\n",
      "accommodates                                                                4\n",
      "bathrooms                                                                 1.0\n",
      "bedrooms                                                                  0.0\n",
      "beds                                                                      2.0\n",
      "bed_type                                                             Real Bed\n",
      "amenities                   {TV,Internet,\"Air conditioning\",Kitchen,Doorma...\n",
      "price                                                                 $133.00\n",
      "guests_included                                                             2\n",
      "extra_people                                                           $34.00\n",
      "minimum_nights                                                             60\n",
      "maximum_nights                                                            365\n",
      "number_of_reviews                                                          38\n",
      "instant_bookable                                                            f\n",
      "is_business_travel_ready                                                    f\n",
      "cancellation_policy                               strict_14_with_grace_period\n",
      "ano                                                                      2018\n",
      "mes                                                                         4\n",
      "Name: 0, dtype: object\n"
     ]
    }
   ],
   "source": [
    "print(base_airbnb.dtypes)\n",
    "print('-'*100)\n",
    "print(base_airbnb.iloc[0])"
   ]
  },
  {
   "cell_type": "code",
   "execution_count": 92,
   "metadata": {
    "ExecuteTime": {
     "end_time": "2023-04-24T18:02:10.581672Z",
     "start_time": "2023-04-24T18:01:50.777721Z"
    }
   },
   "outputs": [
    {
     "name": "stderr",
     "output_type": "stream",
     "text": [
      "C:\\Users\\Caroline\\AppData\\Local\\Temp\\ipykernel_5808\\906598212.py:2: FutureWarning: The default value of regex will change from True to False in a future version. In addition, single character regular expressions will *not* be treated as literal strings when regex=True.\n",
      "  base_airbnb['price'] = base_airbnb['price'].str.replace('$', '')\n"
     ]
    }
   ],
   "source": [
    "# mudando os tipos de price\n",
    "base_airbnb['price'] = base_airbnb['price'].str.replace('$', '')\n",
    "base_airbnb['price'] = base_airbnb['price'].str.replace(',', '')\n",
    "base_airbnb['price'] = base_airbnb['price'].astype(np.float32 # float32 ocupa menos espaço na memória\n",
    "                                      ,copy = False) # vai mudar esse objeto pandas, não vai criar uma cópia \n"
   ]
  },
  {
   "cell_type": "code",
   "execution_count": 93,
   "metadata": {
    "ExecuteTime": {
     "end_time": "2023-04-24T18:02:11.868901Z",
     "start_time": "2023-04-24T18:02:10.583695Z"
    }
   },
   "outputs": [
    {
     "name": "stderr",
     "output_type": "stream",
     "text": [
      "C:\\Users\\Caroline\\AppData\\Local\\Temp\\ipykernel_5808\\3712765058.py:2: FutureWarning: The default value of regex will change from True to False in a future version. In addition, single character regular expressions will *not* be treated as literal strings when regex=True.\n",
      "  base_airbnb['extra_people'] = base_airbnb['extra_people'].str.replace('$', '')\n"
     ]
    }
   ],
   "source": [
    "# mudando os tipos de extra_people\n",
    "base_airbnb['extra_people'] = base_airbnb['extra_people'].str.replace('$', '')\n",
    "base_airbnb['extra_people'] = base_airbnb['extra_people'].str.replace(',', '')\n",
    "base_airbnb['extra_people'] = base_airbnb['extra_people'].astype(np.float32 # float32 ocupa menos espaço na memória\n",
    "                                      ,copy = False) # vai mudar esse objeto pandas, não vai criar uma cópia "
   ]
  },
  {
   "cell_type": "code",
   "execution_count": 94,
   "metadata": {
    "ExecuteTime": {
     "end_time": "2023-04-24T18:02:11.889035Z",
     "start_time": "2023-04-24T18:02:11.870950Z"
    }
   },
   "outputs": [
    {
     "data": {
      "text/plain": [
       "(902210, 23)"
      ]
     },
     "execution_count": 94,
     "metadata": {},
     "output_type": "execute_result"
    }
   ],
   "source": [
    "base_airbnb.shape"
   ]
  },
  {
   "cell_type": "markdown",
   "metadata": {},
   "source": [
    "# Análise Exploratória e Tratar Outliers"
   ]
  },
  {
   "cell_type": "markdown",
   "metadata": {},
   "source": [
    "pegar texto de outliers"
   ]
  },
  {
   "cell_type": "markdown",
   "metadata": {},
   "source": [
    "## Colunas numéricas contínuas"
   ]
  },
  {
   "cell_type": "code",
   "execution_count": 105,
   "metadata": {
    "ExecuteTime": {
     "end_time": "2023-04-24T18:29:48.499648Z",
     "start_time": "2023-04-24T18:29:48.483908Z"
    }
   },
   "outputs": [],
   "source": [
    "def limites(coluna):\n",
    "    q1 = coluna.quantile(0.25)\n",
    "    q3 = coluna.quantile(0.75)\n",
    "    amplitude = q3-q1\n",
    "    return q1-(1.5*amplitude), q3+(1.5*amplitude)\n",
    "\n",
    "def excluir_outliers(df, col):\n",
    "    # linhas do df \n",
    "    qtd_linhas = df.shape[0]\n",
    "    \n",
    "    # identificar outliers\n",
    "    lim_inf, lim_sup = limites(df[col])\n",
    "    \n",
    "    # remover outliers\n",
    "    df = df.loc[(df[col]>= lim_inf) & (df[col]<= lim_sup), :]\n",
    "    \n",
    "    # diferença de linhas do df sem outliers \n",
    "    linhas_removidas = qtd_linhas - df.shape[0]\n",
    "    \n",
    "    return df, linhas_removidas"
   ]
  },
  {
   "cell_type": "raw",
   "metadata": {},
   "source": [
    "Colunas numéricas contínuas\n",
    "\n",
    "price\n",
    "extra_people"
   ]
  },
  {
   "cell_type": "code",
   "execution_count": 95,
   "metadata": {
    "ExecuteTime": {
     "end_time": "2023-04-24T18:02:23.865673Z",
     "start_time": "2023-04-24T18:02:11.889035Z"
    }
   },
   "outputs": [
    {
     "data": {
      "text/plain": [
       "<AxesSubplot:>"
      ]
     },
     "execution_count": 95,
     "metadata": {},
     "output_type": "execute_result"
    },
    {
     "data": {
      "image/png": "[encoded data removed]",
      "text/plain": [
       "<Figure size 1080x720 with 2 Axes>"
      ]
     },
     "metadata": {
      "needs_background": "light"
     },
     "output_type": "display_data"
    }
   ],
   "source": [
    "plt.figure(figsize = (15, 10))\n",
    "sns.heatmap(base_airbnb.corr(), annot=True, cmap = 'Greens')"
   ]
  },
  {
   "cell_type": "code",
   "execution_count": 97,
   "metadata": {
    "ExecuteTime": {
     "end_time": "2023-04-24T18:02:27.476363Z",
     "start_time": "2023-04-24T18:02:23.934828Z"
    }
   },
   "outputs": [
    {
     "name": "stdout",
     "output_type": "stream",
     "text": [
      "Shape 814,635\n",
      "Linhas removidas 87,575\n"
     ]
    }
   ],
   "source": [
    "base_airbnb, v = excluir_outliers(base_airbnb, 'price')\n",
    "print('Shape {:,}\\nLinhas removidas {:,}'.format(base_airbnb.shape[0], v))"
   ]
  },
  {
   "cell_type": "code",
   "execution_count": 98,
   "metadata": {
    "ExecuteTime": {
     "end_time": "2023-04-24T18:02:27.694136Z",
     "start_time": "2023-04-24T18:02:27.476363Z"
    }
   },
   "outputs": [
    {
     "name": "stdout",
     "output_type": "stream",
     "text": [
      "Shape 755,262\n",
      "Linhas removidas 59,373\n"
     ]
    }
   ],
   "source": [
    "base_airbnb, v = excluir_outliers(base_airbnb, 'extra_people')\n",
    "print('Shape {:,}\\nLinhas removidas {:,}'.format(base_airbnb.shape[0], v))"
   ]
  },
  {
   "cell_type": "code",
   "execution_count": 116,
   "metadata": {
    "ExecuteTime": {
     "end_time": "2023-04-24T18:43:51.077360Z",
     "start_time": "2023-04-24T18:43:51.033728Z"
    }
   },
   "outputs": [
    {
     "data": {
      "text/plain": [
       "count    755262.000000\n",
       "mean        343.733215\n",
       "std         279.858154\n",
       "min           0.000000\n",
       "25%         147.000000\n",
       "50%         249.000000\n",
       "75%         452.000000\n",
       "max        1276.000000\n",
       "Name: price, dtype: float64"
      ]
     },
     "execution_count": 116,
     "metadata": {},
     "output_type": "execute_result"
    }
   ],
   "source": [
    "base_airbnb.price.describe()"
   ]
  },
  {
   "cell_type": "code",
   "execution_count": 100,
   "metadata": {
    "ExecuteTime": {
     "end_time": "2023-04-24T18:02:28.089163Z",
     "start_time": "2023-04-24T18:02:27.973035Z"
    }
   },
   "outputs": [
    {
     "data": {
      "text/plain": [
       "(-310.5, 909.5)"
      ]
     },
     "execution_count": 100,
     "metadata": {},
     "output_type": "execute_result"
    }
   ],
   "source": [
    "limites(base_airbnb.price)"
   ]
  },
  {
   "cell_type": "code",
   "execution_count": 102,
   "metadata": {
    "ExecuteTime": {
     "end_time": "2023-04-24T18:02:29.614424Z",
     "start_time": "2023-04-24T18:02:28.211284Z"
    }
   },
   "outputs": [
    {
     "data": {
      "image/png": "[encoded data removed]",
      "text/plain": [
       "<Figure size 1080x360 with 2 Axes>"
      ]
     },
     "metadata": {
      "needs_background": "light"
     },
     "output_type": "display_data"
    }
   ],
   "source": [
    "dois_boxplots(base_airbnb['price'])"
   ]
  },
  {
   "cell_type": "code",
   "execution_count": 103,
   "metadata": {
    "ExecuteTime": {
     "end_time": "2023-04-24T18:02:36.239566Z",
     "start_time": "2023-04-24T18:02:29.614424Z"
    }
   },
   "outputs": [
    {
     "name": "stderr",
     "output_type": "stream",
     "text": [
      "C:\\Users\\Caroline\\Anaconda3\\lib\\site-packages\\seaborn\\distributions.py:2619: FutureWarning: `distplot` is a deprecated function and will be removed in a future version. Please adapt your code to use either `displot` (a figure-level function with similar flexibility) or `histplot` (an axes-level function for histograms).\n",
      "  warnings.warn(msg, FutureWarning)\n"
     ]
    },
    {
     "data": {
      "image/png": "[encoded data removed]",
      "text/plain": [
       "<Figure size 1080x360 with 1 Axes>"
      ]
     },
     "metadata": {
      "needs_background": "light"
     },
     "output_type": "display_data"
    }
   ],
   "source": [
    "histogramas(base_airbnb['price'])"
   ]
  },
  {
   "cell_type": "markdown",
   "metadata": {},
   "source": [
    "## Colunas numéricas discretas"
   ]
  },
  {
   "cell_type": "raw",
   "metadata": {},
   "source": [
    "Colunas numéricas discretas\n",
    "\n",
    "host_listings_count         float64\n",
    "accommodates                  int64\n",
    "bathrooms                   float64\n",
    "bedrooms                    float64\n",
    "beds                        float64\n",
    "guests_included               int64\n",
    "minimum_nights                int64\n",
    "maximum_nights                int64\n",
    "number_of_reviews             int64"
   ]
  },
  {
   "cell_type": "markdown",
   "metadata": {},
   "source": [
    "### host_listings_count"
   ]
  },
  {
   "cell_type": "code",
   "execution_count": 114,
   "metadata": {
    "ExecuteTime": {
     "end_time": "2023-04-24T18:41:04.858874Z",
     "start_time": "2023-04-24T18:41:03.153778Z"
    }
   },
   "outputs": [
    {
     "data": {
      "image/png": "[encoded data removed]",
      "text/plain": [
       "<Figure size 1080x360 with 2 Axes>"
      ]
     },
     "metadata": {
      "needs_background": "light"
     },
     "output_type": "display_data"
    },
    {
     "data": {
      "image/png": "[encoded data removed]",
      "text/plain": [
       "<Figure size 1080x360 with 1 Axes>"
      ]
     },
     "metadata": {
      "needs_background": "light"
     },
     "output_type": "display_data"
    }
   ],
   "source": [
    "dois_boxplots(base_airbnb['host_listings_count'])\n",
    "grafico_barras(base_airbnb['host_listings_count'])"
   ]
  },
  {
   "cell_type": "markdown",
   "metadata": {},
   "source": [
    "Os outliers de host_listing counts serão removidos para adequar o modelo a casos de usuários comuns - não possuem +6 imóveis."
   ]
  },
  {
   "cell_type": "code",
   "execution_count": 117,
   "metadata": {
    "ExecuteTime": {
     "end_time": "2023-04-24T18:44:43.791935Z",
     "start_time": "2023-04-24T18:44:43.448858Z"
    }
   },
   "outputs": [
    {
     "name": "stdout",
     "output_type": "stream",
     "text": [
      "Shape 656,513\n",
      "Linhas removidas 98,749\n"
     ]
    }
   ],
   "source": [
    "base_airbnb, v = excluir_outliers(base_airbnb, 'host_listings_count')\n",
    "print('Shape {:,}\\nLinhas removidas {:,}'.format(base_airbnb.shape[0], v))"
   ]
  },
  {
   "cell_type": "markdown",
   "metadata": {},
   "source": [
    "### bathrooms"
   ]
  },
  {
   "cell_type": "code",
   "execution_count": 119,
   "metadata": {
    "ExecuteTime": {
     "end_time": "2023-04-24T18:48:03.395511Z",
     "start_time": "2023-04-24T18:48:02.445514Z"
    },
    "scrolled": true
   },
   "outputs": [
    {
     "data": {
      "image/png": "[encoded data removed]",
      "text/plain": [
       "<Figure size 1080x360 with 2 Axes>"
      ]
     },
     "metadata": {
      "needs_background": "light"
     },
     "output_type": "display_data"
    },
    {
     "data": {
      "image/png": "[encoded data removed]",
      "text/plain": [
       "<Figure size 1080x360 with 1 Axes>"
      ]
     },
     "metadata": {
      "needs_background": "light"
     },
     "output_type": "display_data"
    }
   ],
   "source": [
    "dois_boxplots(base_airbnb['bathrooms'])\n",
    "grafico_barras(base_airbnb['bathrooms'], remove_outliers=False)"
   ]
  },
  {
   "cell_type": "code",
   "execution_count": 120,
   "metadata": {
    "ExecuteTime": {
     "end_time": "2023-04-24T18:48:15.723355Z",
     "start_time": "2023-04-24T18:48:15.565231Z"
    }
   },
   "outputs": [
    {
     "name": "stdout",
     "output_type": "stream",
     "text": [
      "Shape 635,199\n",
      "Linhas removidas 8,131\n"
     ]
    }
   ],
   "source": [
    "base_airbnb, v = excluir_outliers(base_airbnb, 'bathrooms')\n",
    "print('Shape {:,}\\nLinhas removidas {:,}'.format(base_airbnb.shape[0], v))"
   ]
  },
  {
   "cell_type": "markdown",
   "metadata": {},
   "source": [
    "### accommodates"
   ]
  },
  {
   "cell_type": "code",
   "execution_count": 115,
   "metadata": {
    "ExecuteTime": {
     "end_time": "2023-04-24T18:42:54.124740Z",
     "start_time": "2023-04-24T18:42:52.984585Z"
    },
    "scrolled": true
   },
   "outputs": [
    {
     "data": {
      "image/png": "[encoded data removed]",
      "text/plain": [
       "<Figure size 1080x360 with 2 Axes>"
      ]
     },
     "metadata": {
      "needs_background": "light"
     },
     "output_type": "display_data"
    },
    {
     "data": {
      "image/png": "[encoded data removed]",
      "text/plain": [
       "<Figure size 1080x360 with 1 Axes>"
      ]
     },
     "metadata": {
      "needs_background": "light"
     },
     "output_type": "display_data"
    }
   ],
   "source": [
    "dois_boxplots(base_airbnb['accommodates'])\n",
    "grafico_barras(base_airbnb['accommodates'])"
   ]
  },
  {
   "cell_type": "code",
   "execution_count": 118,
   "metadata": {
    "ExecuteTime": {
     "end_time": "2023-04-24T18:44:50.222569Z",
     "start_time": "2023-04-24T18:44:50.028999Z"
    }
   },
   "outputs": [
    {
     "name": "stdout",
     "output_type": "stream",
     "text": [
      "Shape 643,330\n",
      "Linhas removidas 13,183\n"
     ]
    }
   ],
   "source": [
    "base_airbnb, v = excluir_outliers(base_airbnb, 'accommodates')\n",
    "print('Shape {:,}\\nLinhas removidas {:,}'.format(base_airbnb.shape[0], v))"
   ]
  },
  {
   "cell_type": "markdown",
   "metadata": {},
   "source": [
    "### bedrooms"
   ]
  },
  {
   "cell_type": "code",
   "execution_count": 121,
   "metadata": {
    "ExecuteTime": {
     "end_time": "2023-04-24T19:14:07.196359Z",
     "start_time": "2023-04-24T19:14:03.073028Z"
    },
    "scrolled": true
   },
   "outputs": [
    {
     "data": {
      "image/png": "[encoded data removed]",
      "text/plain": [
       "<Figure size 1080x360 with 2 Axes>"
      ]
     },
     "metadata": {
      "needs_background": "light"
     },
     "output_type": "display_data"
    },
    {
     "data": {
      "image/png": "[encoded data removed]",
      "text/plain": [
       "<Figure size 1080x360 with 1 Axes>"
      ]
     },
     "metadata": {
      "needs_background": "light"
     },
     "output_type": "display_data"
    }
   ],
   "source": [
    "dois_boxplots(base_airbnb['bedrooms'])\n",
    "grafico_barras(base_airbnb['bedrooms'])"
   ]
  },
  {
   "cell_type": "code",
   "execution_count": 122,
   "metadata": {
    "ExecuteTime": {
     "end_time": "2023-04-24T19:05:15.663749Z",
     "start_time": "2023-04-24T19:05:15.475233Z"
    }
   },
   "outputs": [
    {
     "name": "stdout",
     "output_type": "stream",
     "text": [
      "Shape 629,156\n",
      "Linhas removidas 6,043\n"
     ]
    }
   ],
   "source": [
    "base_airbnb, v = excluir_outliers(base_airbnb, 'bedrooms')\n",
    "print('Shape {:,}\\nLinhas removidas {:,}'.format(base_airbnb.shape[0], v))"
   ]
  },
  {
   "cell_type": "markdown",
   "metadata": {},
   "source": [
    "### beds"
   ]
  },
  {
   "cell_type": "code",
   "execution_count": 124,
   "metadata": {
    "ExecuteTime": {
     "end_time": "2023-04-24T19:14:07.196359Z",
     "start_time": "2023-04-24T19:14:03.073028Z"
    },
    "scrolled": true
   },
   "outputs": [
    {
     "data": {
      "image/png": "[encoded data removed]",
      "text/plain": [
       "<Figure size 1080x360 with 2 Axes>"
      ]
     },
     "metadata": {
      "needs_background": "light"
     },
     "output_type": "display_data"
    },
    {
     "data": {
      "image/png": "[encoded data removed]",
      "text/plain": [
       "<Figure size 1080x360 with 1 Axes>"
      ]
     },
     "metadata": {
      "needs_background": "light"
     },
     "output_type": "display_data"
    }
   ],
   "source": [
    "dois_boxplots(base_airbnb['beds'])\n",
    "grafico_barras(base_airbnb['beds'], remove_outliers=False)"
   ]
  },
  {
   "cell_type": "code",
   "execution_count": 125,
   "metadata": {
    "ExecuteTime": {
     "end_time": "2023-04-24T19:05:15.663749Z",
     "start_time": "2023-04-24T19:05:15.475233Z"
    }
   },
   "outputs": [
    {
     "name": "stdout",
     "output_type": "stream",
     "text": [
      "Shape 622,366\n",
      "Linhas removidas 6,790\n"
     ]
    }
   ],
   "source": [
    "base_airbnb, v = excluir_outliers(base_airbnb, 'beds')\n",
    "print('Shape {:,}\\nLinhas removidas {:,}'.format(base_airbnb.shape[0], v))"
   ]
  },
  {
   "cell_type": "markdown",
   "metadata": {},
   "source": [
    "### guests_included "
   ]
  },
  {
   "cell_type": "code",
   "execution_count": 126,
   "metadata": {
    "ExecuteTime": {
     "end_time": "2023-04-24T19:14:07.196359Z",
     "start_time": "2023-04-24T19:14:03.073028Z"
    },
    "scrolled": false
   },
   "outputs": [
    {
     "name": "stderr",
     "output_type": "stream",
     "text": [
      "C:\\Users\\Caroline\\AppData\\Local\\Temp\\ipykernel_5808\\2655048455.py:12: UserWarning: Attempting to set identical left == right == 1.0 results in singular transformations; automatically expanding.\n",
      "  ax2.set_xlim(limites(coluna))\n"
     ]
    },
    {
     "data": {
      "image/png": "[encoded data removed]",
      "text/plain": [
       "<Figure size 1080x360 with 2 Axes>"
      ]
     },
     "metadata": {
      "needs_background": "light"
     },
     "output_type": "display_data"
    },
    {
     "data": {
      "image/png": "[encoded data removed]",
      "text/plain": [
       "<Figure size 1080x360 with 1 Axes>"
      ]
     },
     "metadata": {
      "needs_background": "light"
     },
     "output_type": "display_data"
    }
   ],
   "source": [
    "dois_boxplots(base_airbnb['guests_included'])\n",
    "grafico_barras(base_airbnb['guests_included'], remove_outliers=False)"
   ]
  },
  {
   "cell_type": "code",
   "execution_count": 127,
   "metadata": {
    "ExecuteTime": {
     "end_time": "2023-04-24T19:05:15.663749Z",
     "start_time": "2023-04-24T19:05:15.475233Z"
    }
   },
   "outputs": [
    {
     "name": "stdout",
     "output_type": "stream",
     "text": [
      "Limites inf e sup(1.0, 1.0)\n"
     ]
    }
   ],
   "source": [
    "print('Limites inf e sup{}'.format(limites(base_airbnb['guests_included'])))"
   ]
  },
  {
   "cell_type": "markdown",
   "metadata": {},
   "source": [
    "Uma vez que se retirarmos os outliers de guests_inclueded ficamos com somente um valor (1), a variável não apresentaria variabilidade e assim não seria interessante no modelo. <br>\n",
    "Neste caso, seria manter os outliers ou excluir a coluna da análise.<br>\n",
    "Optamos por remover a coluna."
   ]
  },
  {
   "cell_type": "code",
   "execution_count": 128,
   "metadata": {
    "ExecuteTime": {
     "end_time": "2023-04-24T18:59:40.320823Z",
     "start_time": "2023-04-24T18:59:40.075380Z"
    }
   },
   "outputs": [
    {
     "data": {
      "text/plain": [
       "(622366, 22)"
      ]
     },
     "execution_count": 128,
     "metadata": {},
     "output_type": "execute_result"
    }
   ],
   "source": [
    "base_airbnb = base_airbnb.drop('guests_included', axis = 1)\n",
    "base_airbnb.shape"
   ]
  },
  {
   "cell_type": "markdown",
   "metadata": {},
   "source": [
    "### minimum_nights"
   ]
  },
  {
   "cell_type": "code",
   "execution_count": 129,
   "metadata": {
    "ExecuteTime": {
     "end_time": "2023-04-24T19:14:07.196359Z",
     "start_time": "2023-04-24T19:14:03.073028Z"
    },
    "scrolled": true
   },
   "outputs": [
    {
     "data": {
      "image/png": "[encoded data removed]",
      "text/plain": [
       "<Figure size 1080x360 with 2 Axes>"
      ]
     },
     "metadata": {
      "needs_background": "light"
     },
     "output_type": "display_data"
    },
    {
     "data": {
      "image/png": "[encoded data removed]",
      "text/plain": [
       "<Figure size 1080x360 with 1 Axes>"
      ]
     },
     "metadata": {
      "needs_background": "light"
     },
     "output_type": "display_data"
    }
   ],
   "source": [
    "dois_boxplots(base_airbnb['minimum_nights'])\n",
    "grafico_barras(base_airbnb['minimum_nights'])"
   ]
  },
  {
   "cell_type": "code",
   "execution_count": 130,
   "metadata": {
    "ExecuteTime": {
     "end_time": "2023-04-24T19:05:15.663749Z",
     "start_time": "2023-04-24T19:05:15.475233Z"
    }
   },
   "outputs": [
    {
     "name": "stdout",
     "output_type": "stream",
     "text": [
      "Shape 581,983\n",
      "Linhas removidas 40,383\n"
     ]
    }
   ],
   "source": [
    "base_airbnb, v = excluir_outliers(base_airbnb, 'minimum_nights')\n",
    "print('Shape {:,}\\nLinhas removidas {:,}'.format(base_airbnb.shape[0], v))"
   ]
  },
  {
   "cell_type": "markdown",
   "metadata": {},
   "source": [
    "### maximum_nights"
   ]
  },
  {
   "cell_type": "code",
   "execution_count": 133,
   "metadata": {
    "ExecuteTime": {
     "end_time": "2023-04-24T19:14:07.196359Z",
     "start_time": "2023-04-24T19:14:03.073028Z"
    },
    "scrolled": true
   },
   "outputs": [
    {
     "data": {
      "image/png": "[encoded data removed]",
      "text/plain": [
       "<Figure size 1080x360 with 2 Axes>"
      ]
     },
     "metadata": {
      "needs_background": "light"
     },
     "output_type": "display_data"
    },
    {
     "data": {
      "image/png": "[encoded data removed]",
      "text/plain": [
       "<Figure size 1080x360 with 1 Axes>"
      ]
     },
     "metadata": {
      "needs_background": "light"
     },
     "output_type": "display_data"
    }
   ],
   "source": [
    "dois_boxplots(base_airbnb['maximum_nights'])\n",
    "grafico_barras(base_airbnb['maximum_nights'], remove_outliers=False)"
   ]
  },
  {
   "cell_type": "markdown",
   "metadata": {
    "ExecuteTime": {
     "end_time": "2023-04-24T19:05:15.663749Z",
     "start_time": "2023-04-24T19:05:15.475233Z"
    }
   },
   "source": [
    "A coluna de maximum nights permite mais noites do que é o objetivo do modelo prever. Por isso, será removida."
   ]
  },
  {
   "cell_type": "code",
   "execution_count": 134,
   "metadata": {
    "ExecuteTime": {
     "end_time": "2023-04-24T19:07:00.414138Z",
     "start_time": "2023-04-24T19:07:00.314137Z"
    }
   },
   "outputs": [
    {
     "data": {
      "text/plain": [
       "(581983, 21)"
      ]
     },
     "execution_count": 134,
     "metadata": {},
     "output_type": "execute_result"
    }
   ],
   "source": [
    "base_airbnb = base_airbnb.drop('maximum_nights', axis = 1)\n",
    "base_airbnb.shape"
   ]
  },
  {
   "cell_type": "markdown",
   "metadata": {},
   "source": [
    "### number_of_reviews"
   ]
  },
  {
   "cell_type": "code",
   "execution_count": 135,
   "metadata": {
    "ExecuteTime": {
     "end_time": "2023-04-24T19:14:07.196359Z",
     "start_time": "2023-04-24T19:14:03.073028Z"
    },
    "scrolled": true
   },
   "outputs": [
    {
     "data": {
      "image/png": "[encoded data removed]",
      "text/plain": [
       "<Figure size 1080x360 with 2 Axes>"
      ]
     },
     "metadata": {
      "needs_background": "light"
     },
     "output_type": "display_data"
    },
    {
     "data": {
      "image/png": "[encoded data removed]",
      "text/plain": [
       "<Figure size 1080x360 with 1 Axes>"
      ]
     },
     "metadata": {
      "needs_background": "light"
     },
     "output_type": "display_data"
    }
   ],
   "source": [
    "dois_boxplots(base_airbnb['number_of_reviews'])\n",
    "grafico_barras(base_airbnb['number_of_reviews'])"
   ]
  },
  {
   "cell_type": "markdown",
   "metadata": {
    "ExecuteTime": {
     "end_time": "2023-04-24T19:05:15.663749Z",
     "start_time": "2023-04-24T19:05:15.475233Z"
    }
   },
   "source": [
    "A coluna de number_of_reviews será removida. <br>\n",
    "Uma vez que o objetivo do modelo é prever o valor de um preço para um imóvel que ainda não está na plataforma do AirBnb, trazer o number_of_reviews poderia impactar no valor do preço. Um novo usuário não teria um valor a preencher nesse number_of_reviews."
   ]
  },
  {
   "cell_type": "code",
   "execution_count": 136,
   "metadata": {
    "ExecuteTime": {
     "end_time": "2023-04-24T19:16:14.828226Z",
     "start_time": "2023-04-24T19:16:14.728228Z"
    }
   },
   "outputs": [
    {
     "data": {
      "text/plain": [
       "(581983, 20)"
      ]
     },
     "execution_count": 136,
     "metadata": {},
     "output_type": "execute_result"
    }
   ],
   "source": [
    "base_airbnb = base_airbnb.drop('number_of_reviews', axis= 1)\n",
    "base_airbnb.shape"
   ]
  },
  {
   "cell_type": "markdown",
   "metadata": {},
   "source": [
    "## Colunas categóricas"
   ]
  },
  {
   "cell_type": "raw",
   "metadata": {},
   "source": [
    "property_type                                                       Apartment\n",
    "room_type                                                     Entire home/apt\n",
    "bed_type                                                             Real Bed\n",
    "cancellation_policy                               strict_14_with_grace_period\n",
    "amenities                   {TV,Internet,\"Air conditioning\",Kitchen,Doorma..."
   ]
  },
  {
   "cell_type": "markdown",
   "metadata": {},
   "source": [
    "### property_type"
   ]
  },
  {
   "cell_type": "code",
   "execution_count": 137,
   "metadata": {
    "ExecuteTime": {
     "end_time": "2023-04-24T20:17:58.929339Z",
     "start_time": "2023-04-24T20:17:58.853378Z"
    }
   },
   "outputs": [
    {
     "data": {
      "text/plain": [
       "Apartment                 458354\n",
       "House                      51387\n",
       "Condominium                26456\n",
       "Serviced apartment         12671\n",
       "Loft                       12352\n",
       "Guest suite                 3621\n",
       "Bed and breakfast           3472\n",
       "Hostel                      2665\n",
       "Guesthouse                  2155\n",
       "Other                       1957\n",
       "Villa                       1294\n",
       "Townhouse                    969\n",
       "Aparthotel                   693\n",
       "Chalet                       481\n",
       "Earth house                  468\n",
       "Tiny house                   457\n",
       "Boutique hotel               447\n",
       "Hotel                        376\n",
       "Casa particular (Cuba)       298\n",
       "Cottage                      230\n",
       "Bungalow                     207\n",
       "Dorm                         185\n",
       "Cabin                        141\n",
       "Nature lodge                 124\n",
       "Castle                        80\n",
       "Treehouse                     76\n",
       "Island                        54\n",
       "Boat                          53\n",
       "Hut                           40\n",
       "Campsite                      34\n",
       "Resort                        31\n",
       "Camper/RV                     24\n",
       "Yurt                          23\n",
       "Tent                          18\n",
       "Tipi                          17\n",
       "Barn                          15\n",
       "Farm stay                     13\n",
       "Pension (South Korea)          9\n",
       "Dome house                     8\n",
       "Igloo                          6\n",
       "In-law                         6\n",
       "Vacation home                  4\n",
       "Timeshare                      3\n",
       "Pousada                        3\n",
       "Houseboat                      3\n",
       "Casa particular                2\n",
       "Plane                          1\n",
       "Name: property_type, dtype: int64"
      ]
     },
     "execution_count": 137,
     "metadata": {},
     "output_type": "execute_result"
    }
   ],
   "source": [
    "base_airbnb['property_type'].value_counts()"
   ]
  },
  {
   "cell_type": "code",
   "execution_count": 141,
   "metadata": {
    "ExecuteTime": {
     "end_time": "2023-04-24T20:24:33.472703Z",
     "start_time": "2023-04-24T20:24:31.170753Z"
    }
   },
   "outputs": [
    {
     "data": {
      "text/plain": [
       "['Other',\n",
       " 'Villa',\n",
       " 'Townhouse',\n",
       " 'Aparthotel',\n",
       " 'Chalet',\n",
       " 'Earth house',\n",
       " 'Tiny house',\n",
       " 'Boutique hotel',\n",
       " 'Hotel',\n",
       " 'Casa particular (Cuba)',\n",
       " 'Cottage',\n",
       " 'Bungalow',\n",
       " 'Dorm',\n",
       " 'Cabin',\n",
       " 'Nature lodge',\n",
       " 'Castle',\n",
       " 'Treehouse',\n",
       " 'Island',\n",
       " 'Boat',\n",
       " 'Hut',\n",
       " 'Campsite',\n",
       " 'Resort',\n",
       " 'Camper/RV',\n",
       " 'Yurt',\n",
       " 'Tent',\n",
       " 'Tipi',\n",
       " 'Barn',\n",
       " 'Farm stay',\n",
       " 'Pension (South Korea)',\n",
       " 'Dome house',\n",
       " 'Igloo',\n",
       " 'In-law',\n",
       " 'Vacation home',\n",
       " 'Timeshare',\n",
       " 'Pousada',\n",
       " 'Houseboat',\n",
       " 'Casa particular',\n",
       " 'Plane']"
      ]
     },
     "execution_count": 141,
     "metadata": {},
     "output_type": "execute_result"
    }
   ],
   "source": [
    "others_property_types = [col \n",
    "         for col in base_airbnb['property_type'].value_counts().index\n",
    "         if base_airbnb.loc[base_airbnb['property_type'] == col, 'property_type'].shape[0]<=2000]\n",
    "\n",
    "base_airbnb['property_type'] = ['Other' \n",
    "                               if col in others_property_types else col\n",
    "                               for col in base_airbnb['property_type']]"
   ]
  },
  {
   "cell_type": "code",
   "execution_count": 153,
   "metadata": {
    "ExecuteTime": {
     "end_time": "2023-04-24T20:31:14.656629Z",
     "start_time": "2023-04-24T20:31:14.619728Z"
    }
   },
   "outputs": [
    {
     "data": {
      "text/plain": [
       "Apartment             458354\n",
       "House                  51387\n",
       "Condominium            26456\n",
       "Serviced apartment     12671\n",
       "Loft                   12352\n",
       "Other                   8850\n",
       "Guest suite             3621\n",
       "Bed and breakfast       3472\n",
       "Hostel                  2665\n",
       "Guesthouse              2155\n",
       "Name: property_type, dtype: int64"
      ]
     },
     "execution_count": 153,
     "metadata": {},
     "output_type": "execute_result"
    }
   ],
   "source": [
    "base_airbnb['property_type'].value_counts()"
   ]
  },
  {
   "cell_type": "code",
   "execution_count": 160,
   "metadata": {
    "ExecuteTime": {
     "end_time": "2023-04-24T20:52:04.025213Z",
     "start_time": "2023-04-24T20:52:03.524517Z"
    }
   },
   "outputs": [
    {
     "name": "stdout",
     "output_type": "stream",
     "text": [
      "Apartment             458354\n",
      "House                  51387\n",
      "Condominium            26456\n",
      "Serviced apartment     12671\n",
      "Loft                   12352\n",
      "Other                   8850\n",
      "Guest suite             3621\n",
      "Bed and breakfast       3472\n",
      "Hostel                  2665\n",
      "Guesthouse              2155\n",
      "Name: property_type, dtype: int64\n"
     ]
    },
    {
     "name": "stderr",
     "output_type": "stream",
     "text": [
      "C:\\Users\\Caroline\\Anaconda3\\lib\\site-packages\\seaborn\\_decorators.py:36: FutureWarning: Pass the following variable as a keyword arg: x. From version 0.12, the only valid positional argument will be `data`, and passing other arguments without an explicit keyword will result in an error or misinterpretation.\n",
      "  warnings.warn(\n"
     ]
    },
    {
     "data": {
      "image/png": "[encoded data removed]",
      "text/plain": [
       "<Figure size 1080x360 with 1 Axes>"
      ]
     },
     "metadata": {
      "needs_background": "light"
     },
     "output_type": "display_data"
    }
   ],
   "source": [
    "count_plot('property_type')"
   ]
  },
  {
   "cell_type": "markdown",
   "metadata": {},
   "source": [
    "### room_type"
   ]
  },
  {
   "cell_type": "code",
   "execution_count": 161,
   "metadata": {
    "ExecuteTime": {
     "end_time": "2023-04-24T20:53:20.144962Z",
     "start_time": "2023-04-24T20:53:19.598734Z"
    }
   },
   "outputs": [
    {
     "name": "stdout",
     "output_type": "stream",
     "text": [
      "Entire home/apt    372443\n",
      "Private room       196859\n",
      "Shared room         11714\n",
      "Hotel room            967\n",
      "Name: room_type, dtype: int64\n"
     ]
    },
    {
     "name": "stderr",
     "output_type": "stream",
     "text": [
      "C:\\Users\\Caroline\\Anaconda3\\lib\\site-packages\\seaborn\\_decorators.py:36: FutureWarning: Pass the following variable as a keyword arg: x. From version 0.12, the only valid positional argument will be `data`, and passing other arguments without an explicit keyword will result in an error or misinterpretation.\n",
      "  warnings.warn(\n"
     ]
    },
    {
     "data": {
      "image/png": "[encoded data removed]",
      "text/plain": [
       "<Figure size 1080x360 with 1 Axes>"
      ]
     },
     "metadata": {
      "needs_background": "light"
     },
     "output_type": "display_data"
    }
   ],
   "source": [
    "count_plot('room_type')"
   ]
  },
  {
   "cell_type": "markdown",
   "metadata": {},
   "source": [
    "### bed_type"
   ]
  },
  {
   "cell_type": "code",
   "execution_count": 162,
   "metadata": {
    "ExecuteTime": {
     "end_time": "2023-04-24T20:53:37.735407Z",
     "start_time": "2023-04-24T20:53:37.292316Z"
    }
   },
   "outputs": [
    {
     "name": "stdout",
     "output_type": "stream",
     "text": [
      "Real Bed         570643\n",
      "Pull-out Sofa      8055\n",
      "Futon              1634\n",
      "Airbed             1155\n",
      "Couch               496\n",
      "Name: bed_type, dtype: int64\n"
     ]
    },
    {
     "name": "stderr",
     "output_type": "stream",
     "text": [
      "C:\\Users\\Caroline\\Anaconda3\\lib\\site-packages\\seaborn\\_decorators.py:36: FutureWarning: Pass the following variable as a keyword arg: x. From version 0.12, the only valid positional argument will be `data`, and passing other arguments without an explicit keyword will result in an error or misinterpretation.\n",
      "  warnings.warn(\n"
     ]
    },
    {
     "data": {
      "image/png": "[encoded data removed]",
      "text/plain": [
       "<Figure size 1080x360 with 1 Axes>"
      ]
     },
     "metadata": {
      "needs_background": "light"
     },
     "output_type": "display_data"
    }
   ],
   "source": [
    "count_plot('bed_type')"
   ]
  },
  {
   "cell_type": "code",
   "execution_count": 163,
   "metadata": {
    "ExecuteTime": {
     "end_time": "2023-04-24T20:54:46.898661Z",
     "start_time": "2023-04-24T20:54:46.397422Z"
    }
   },
   "outputs": [
    {
     "name": "stdout",
     "output_type": "stream",
     "text": [
      "Real Bed    570643\n",
      "Others       11340\n",
      "Name: bed_type, dtype: int64\n"
     ]
    },
    {
     "name": "stderr",
     "output_type": "stream",
     "text": [
      "C:\\Users\\Caroline\\Anaconda3\\lib\\site-packages\\seaborn\\_decorators.py:36: FutureWarning: Pass the following variable as a keyword arg: x. From version 0.12, the only valid positional argument will be `data`, and passing other arguments without an explicit keyword will result in an error or misinterpretation.\n",
      "  warnings.warn(\n"
     ]
    },
    {
     "data": {
      "image/png": "[encoded data removed]",
      "text/plain": [
       "<Figure size 1080x360 with 1 Axes>"
      ]
     },
     "metadata": {
      "needs_background": "light"
     },
     "output_type": "display_data"
    }
   ],
   "source": [
    "# agrupando valores\n",
    "base_airbnb['bed_type'] = np.where(base_airbnb['bed_type'] != 'Real Bed', 'Others', base_airbnb['bed_type'])\n",
    "count_plot('bed_type')"
   ]
  },
  {
   "cell_type": "markdown",
   "metadata": {
    "ExecuteTime": {
     "end_time": "2023-04-24T20:49:20.867566Z",
     "start_time": "2023-04-24T20:49:20.852091Z"
    }
   },
   "source": [
    "### cancellation_policy"
   ]
  },
  {
   "cell_type": "code",
   "execution_count": 164,
   "metadata": {
    "ExecuteTime": {
     "end_time": "2023-04-24T20:55:27.458321Z",
     "start_time": "2023-04-24T20:55:26.724970Z"
    }
   },
   "outputs": [
    {
     "name": "stdout",
     "output_type": "stream",
     "text": [
      "flexible                       258096\n",
      "strict_14_with_grace_period    200743\n",
      "moderate                       113281\n",
      "strict                           9696\n",
      "super_strict_60                   135\n",
      "super_strict_30                    32\n",
      "Name: cancellation_policy, dtype: int64\n"
     ]
    },
    {
     "name": "stderr",
     "output_type": "stream",
     "text": [
      "C:\\Users\\Caroline\\Anaconda3\\lib\\site-packages\\seaborn\\_decorators.py:36: FutureWarning: Pass the following variable as a keyword arg: x. From version 0.12, the only valid positional argument will be `data`, and passing other arguments without an explicit keyword will result in an error or misinterpretation.\n",
      "  warnings.warn(\n"
     ]
    },
    {
     "data": {
      "image/png": "[encoded data removed]",
      "text/plain": [
       "<Figure size 1080x360 with 1 Axes>"
      ]
     },
     "metadata": {
      "needs_background": "light"
     },
     "output_type": "display_data"
    }
   ],
   "source": [
    "count_plot('cancellation_policy')"
   ]
  },
  {
   "cell_type": "code",
   "execution_count": 166,
   "metadata": {
    "ExecuteTime": {
     "end_time": "2023-04-24T20:58:59.105564Z",
     "start_time": "2023-04-24T20:58:59.051975Z"
    }
   },
   "outputs": [
    {
     "data": {
      "text/plain": [
       "Index(['flexible', 'strict_14_with_grace_period', 'moderate', 'strict',\n",
       "       'super_strict_60', 'super_strict_30'],\n",
       "      dtype='object')"
      ]
     },
     "execution_count": 166,
     "metadata": {},
     "output_type": "execute_result"
    }
   ],
   "source": [
    "base_airbnb['cancellation_policy'].value_counts().index"
   ]
  },
  {
   "cell_type": "code",
   "execution_count": 167,
   "metadata": {
    "ExecuteTime": {
     "end_time": "2023-04-24T20:59:22.075606Z",
     "start_time": "2023-04-24T20:59:21.420562Z"
    }
   },
   "outputs": [
    {
     "data": {
      "text/plain": [
       "['strict', 'super_strict_60', 'super_strict_30']"
      ]
     },
     "execution_count": 167,
     "metadata": {},
     "output_type": "execute_result"
    }
   ],
   "source": [
    "cancellation_strict = [cat \n",
    "                       for cat in base_airbnb['cancellation_policy'].value_counts().index\n",
    "                       if base_airbnb[base_airbnb['cancellation_policy'] == cat].shape[0]< 10000]\n",
    "cancellation_strict"
   ]
  },
  {
   "cell_type": "code",
   "execution_count": null,
   "metadata": {},
   "outputs": [],
   "source": [
    "base_airbnb['cancellation_policy'] = ['strict'\n",
    "                                     if cat in cancellation_strict\n",
    "                                     else cat\n",
    "                                     for cat in base_airbnb['cancellation_policy'].value_counts().index]"
   ]
  },
  {
   "cell_type": "markdown",
   "metadata": {},
   "source": [
    "### amenities"
   ]
  },
  {
   "cell_type": "markdown",
   "metadata": {},
   "source": [
    "# Encoding"
   ]
  },
  {
   "cell_type": "code",
   "execution_count": null,
   "metadata": {},
   "outputs": [],
   "source": []
  },
  {
   "cell_type": "markdown",
   "metadata": {},
   "source": [
    "# Modelo de Previsão"
   ]
  },
  {
   "cell_type": "code",
   "execution_count": null,
   "metadata": {},
   "outputs": [],
   "source": []
  },
  {
   "cell_type": "markdown",
   "metadata": {},
   "source": [
    "# Análise do Melhor Modelo"
   ]
  },
  {
   "cell_type": "code",
   "execution_count": null,
   "metadata": {},
   "outputs": [],
   "source": []
  },
  {
   "cell_type": "markdown",
   "metadata": {},
   "source": [
    "# Ajustes e Melhorias no Melhor Modelo"
   ]
  },
  {
   "cell_type": "code",
   "execution_count": null,
   "metadata": {},
   "outputs": [],
   "source": []
  }
 ],
 "metadata": {
  "kernelspec": {
   "display_name": "Python 3 (ipykernel)",
   "language": "python",
   "name": "python3"
  },
  "language_info": {
   "codemirror_mode": {
    "name": "ipython",
    "version": 3
   },
   "file_extension": ".py",
   "mimetype": "text/x-python",
   "name": "python",
   "nbconvert_exporter": "python",
   "pygments_lexer": "ipython3",
   "version": "3.9.12"
  },
  "toc": {
   "base_numbering": 1,
   "nav_menu": {},
   "number_sections": true,
   "sideBar": true,
   "skip_h1_title": false,
   "title_cell": "Table of Contents",
   "title_sidebar": "Contents",
   "toc_cell": false,
   "toc_position": {
    "height": "calc(100% - 180px)",
    "left": "10px",
    "top": "150px",
    "width": "273.2px"
   },
   "toc_section_display": true,
   "toc_window_display": true
  },
  "varInspector": {
   "cols": {
    "lenName": 16,
    "lenType": 16,
    "lenVar": 40
   },
   "kernels_config": {
    "python": {
     "delete_cmd_postfix": "",
     "delete_cmd_prefix": "del ",
     "library": "var_list.py",
     "varRefreshCmd": "print(var_dic_list())"
    },
    "r": {
     "delete_cmd_postfix": ") ",
     "delete_cmd_prefix": "rm(",
     "library": "var_list.r",
     "varRefreshCmd": "cat(var_dic_list()) "
    }
   },
   "types_to_exclude": [
    "module",
    "function",
    "builtin_function_or_method",
    "instance",
    "_Feature"
   ],
   "window_display": false
  }
 },
 "nbformat": 4,
 "nbformat_minor": 4
}
