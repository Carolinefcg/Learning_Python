{
 "cells": [
  {
   "cell_type": "markdown",
   "metadata": {},
   "source": [
    "# Projeto Airbnb Rio - Ferramenta de Previsão de Preço de Imóvel para pessoas comuns "
   ]
  },
  {
   "cell_type": "markdown",
   "metadata": {},
   "source": [
    "## Trajetória de um projeto em Data Science\n",
    "\n",
    "1. Entendimento do desafio que queremos resolver\n",
    "2. Entendimento da Empresa/Área\n",
    "3. Extração/obtenção de dados\n",
    "4. Ajustes de dados (Limpeza de dados)\n",
    "5. Análise exploratória\n",
    "6. Modelagem + algoritmos\n",
    "7. Interpretação dos resultados\n",
    "8. Deploy/produção"
   ]
  },
  {
   "cell_type": "markdown",
   "metadata": {},
   "source": [
    "## Contexto\n",
    "\n",
    "No Airbnb, qualquer pessoa que tenha um quarto ou um imóvel de qualquer tipo (apartamento, casa, chalé, pousada, etc.) pode ofertar o seu imóvel para ser alugado por diária.\n",
    "\n",
    "Você cria o seu perfil de host (pessoa que disponibiliza um imóvel para aluguel por diária) e cria o anúncio do seu imóvel.\n",
    "\n",
    "Nesse anúncio, o host deve descrever as características do imóvel da forma mais completa possível, de forma a ajudar os locadores/viajantes a escolherem o melhor imóvel para eles (e de forma a tornar o seu anúncio mais atrativo)\n",
    "\n",
    "Existem dezenas de personalizações possíveis no seu anúncio, desde quantidade mínima de diária, preço, quantidade de quartos, até regras de cancelamento, taxa extra para hóspedes extras, exigência de verificação de identidade do locador, etc.\n",
    "\n",
    "## Nosso objetivo\n",
    "\n",
    "Construir um modelo de previsão de preço que permita uma pessoa comum que possui um imóvel possa saber quanto deve cobrar pela diária do seu imóvel.\n",
    "\n",
    "Ou ainda, para o locador comum, dado o imóvel que ele está buscando, ajudar a saber se aquele imóvel está com preço atrativo (abaixo da média para imóveis com as mesmas características) ou não.\n",
    "\n",
    "## O que temos disponível, inspirações e créditos\n",
    "\n",
    "As bases de dados foram retiradas do site kaggle: https://www.kaggle.com/allanbruno/airbnb-rio-de-janeiro\n",
    "\n",
    "Elas estão disponíveis para download abaixo da aula (se você puxar os dados direto do Kaggle pode ser que encontre resultados diferentes dos meus, afinal as bases de dados podem ter sido atualizadas).\n",
    "\n",
    "Caso queira uma outra solução, podemos olhar como referência a solução do usuário Allan Bruno do kaggle no Notebook: https://www.kaggle.com/allanbruno/helping-regular-people-price-listings-on-airbnb\n",
    "\n",
    "Você vai perceber semelhanças entre a solução que vamos desenvolver aqui e a dele, mas também algumas diferenças significativas no processo de construção do projeto.\n",
    "\n",
    "- As bases de dados são os preços dos imóveis obtidos e suas respectivas características em cada mês.\n",
    "- Os preços são dados em reais (R$)\n",
    "- Temos bases de abril de 2018 a maio de 2020, com exceção de junho de 2018 que não possui base de dados\n",
    "\n",
    "## Expectativas Iniciais\n",
    "\n",
    "- Acredito que a sazonalidade pode ser um fator importante, visto que meses como dezembro costumam ser bem caros no RJ\n",
    "- A localização do imóvel deve fazer muita diferença no preço, já que no Rio de Janeiro a localização pode mudar completamente as características do lugar (segurança, beleza natural, pontos turísticos)\n",
    "- Adicionais/Comodidades podem ter um impacto significativo, visto que temos muitos prédios e casas antigos no Rio de Janeiro\n",
    "\n",
    "Vamos descobrir o quanto esses fatores impactam e se temos outros fatores não tão intuitivos que são extremamente importantes."
   ]
  },
  {
   "cell_type": "markdown",
   "metadata": {},
   "source": [
    "# Importar Bibliotecas e Bases de Dados"
   ]
  },
  {
   "cell_type": "code",
   "execution_count": 40,
   "metadata": {
    "ExecuteTime": {
     "end_time": "2023-04-24T14:57:49.699807Z",
     "start_time": "2023-04-24T14:57:49.683813Z"
    }
   },
   "outputs": [],
   "source": [
    "import pandas as pd\n",
    "import pathlib\n",
    "from zipfile import ZipFile\n",
    "import calendar\n",
    "import re\n",
    "import numpy as np \n",
    "import seaborn as sns\n",
    "import matplotlib.pyplot as plt"
   ]
  },
  {
   "cell_type": "markdown",
   "metadata": {},
   "source": [
    "## Funções"
   ]
  },
  {
   "cell_type": "code",
   "execution_count": 2,
   "metadata": {
    "ExecuteTime": {
     "end_time": "2023-04-24T14:13:07.793144Z",
     "start_time": "2023-04-24T14:13:07.777600Z"
    }
   },
   "outputs": [],
   "source": [
    "def month_filename(filename):\n",
    "    month = 0\n",
    "    year = 0\n",
    "    if filename[:3] in meses.keys():\n",
    "        month = meses[filename[:3]]\n",
    "        year = int(filename[-8:(len(filename)-4)]) #.csv files\n",
    "    return(month, year)"
   ]
  },
  {
   "cell_type": "code",
   "execution_count": 3,
   "metadata": {
    "ExecuteTime": {
     "end_time": "2023-04-24T14:13:07.877769Z",
     "start_time": "2023-04-24T14:13:07.793144Z"
    }
   },
   "outputs": [],
   "source": [
    "def multiple_zips_get_months(zippedFile, dataframe = pd.DataFrame(), file_type = '.csv', low_memory = False):\n",
    "    for i, text_file in enumerate(zippedFile.infolist()):\n",
    "        if (text_file.filename.endswith(file_type)):\n",
    "            # show progress\n",
    "            print('{}/{} ({:.0%}) >> {}'.format((i+1), len(zip_file.infolist()),\n",
    "                                (i+1)/len(zip_file.infolist()),\n",
    "                                 text_file.filename))\n",
    "            # read file\n",
    "            file = pd.read_csv(zippedFile.open(text_file.filename), low_memory= low_memory)\n",
    "             \n",
    "            # add month and year\n",
    "            just_filename = re.findall(re.compile(r'/(.+)'),text_file.filename)[0]\n",
    "            mes, ano = month_filename(just_filename)\n",
    "            file['mes'] = mes\n",
    "            file['ano'] = ano\n",
    "            \n",
    "            # concat files\n",
    "            dataframe = pd.concat([dataframe, file])\n",
    "    return dataframe"
   ]
  },
  {
   "cell_type": "markdown",
   "metadata": {
    "ExecuteTime": {
     "end_time": "2023-04-20T18:47:34.049928Z",
     "start_time": "2023-04-20T18:47:34.018687Z"
    }
   },
   "source": [
    "## Meses (em pt)"
   ]
  },
  {
   "cell_type": "code",
   "execution_count": 4,
   "metadata": {
    "ExecuteTime": {
     "end_time": "2023-04-24T14:13:07.978163Z",
     "start_time": "2023-04-24T14:13:07.877769Z"
    }
   },
   "outputs": [
    {
     "data": {
      "text/plain": [
       "dict_keys(['jan', 'fev', 'mar', 'abr', 'mai', 'jun', 'jul', 'ago', 'set', 'out', 'nov', 'dez'])"
      ]
     },
     "execution_count": 4,
     "metadata": {},
     "output_type": "execute_result"
    }
   ],
   "source": [
    "# to portuguese\n",
    "meses = {month: index for index, month in enumerate(calendar.month_abbr) if month}\n",
    "meses = {'Fev' if k == 'Feb'\n",
    "         else 'Abr' if k == 'Apr' \n",
    "         else 'Mai' if k == 'May'\n",
    "         else 'Ago' if k == 'Aug'\n",
    "         else 'Set' if k == 'Sep'\n",
    "         else 'Out' if k == 'Oct'\n",
    "         else 'Dez' if k == 'Dec'\n",
    "         else k:v for k,v in meses.items()}\n",
    "meses = {k.lower(): v for k, v in meses.items()}\n",
    "meses.keys() "
   ]
  },
  {
   "cell_type": "markdown",
   "metadata": {},
   "source": [
    "## Diretório"
   ]
  },
  {
   "cell_type": "code",
   "execution_count": 5,
   "metadata": {
    "ExecuteTime": {
     "end_time": "2023-04-24T14:13:08.325468Z",
     "start_time": "2023-04-24T14:13:07.978163Z"
    }
   },
   "outputs": [
    {
     "data": {
      "text/plain": [
       "<zipfile.ZipFile filename='..\\\\..\\\\PYTHON\\\\HASHTAG\\\\data\\\\dataset - projeto ds.zip' mode='r'>"
      ]
     },
     "execution_count": 5,
     "metadata": {},
     "output_type": "execute_result"
    }
   ],
   "source": [
    "caminho = pathlib.Path(r'../../PYTHON/HASHTAG/data/')\n",
    "zipped_file = pathlib.Path(r'dataset - projeto ds.zip')\n",
    "zip_file = ZipFile(caminho / zipped_file)\n",
    "zip_file"
   ]
  },
  {
   "cell_type": "markdown",
   "metadata": {},
   "source": [
    "# Lendo dados"
   ]
  },
  {
   "cell_type": "code",
   "execution_count": 6,
   "metadata": {
    "ExecuteTime": {
     "end_time": "2023-04-24T14:15:10.982672Z",
     "start_time": "2023-04-24T14:13:08.325468Z"
    }
   },
   "outputs": [
    {
     "name": "stdout",
     "output_type": "stream",
     "text": [
      "1/25 (4%) >> dataset/abril2018.csv\n",
      "2/25 (8%) >> dataset/abril2019.csv\n",
      "3/25 (12%) >> dataset/abril2020.csv\n",
      "4/25 (16%) >> dataset/agosto2018.csv\n",
      "5/25 (20%) >> dataset/agosto2019.csv\n",
      "6/25 (24%) >> dataset/dezembro2018.csv\n",
      "7/25 (28%) >> dataset/dezembro2019.csv\n",
      "8/25 (32%) >> dataset/fevereiro2019.csv\n",
      "9/25 (36%) >> dataset/fevereiro2020.csv\n",
      "10/25 (40%) >> dataset/janeiro2019.csv\n",
      "11/25 (44%) >> dataset/janeiro2020.csv\n",
      "12/25 (48%) >> dataset/julho2018.csv\n",
      "13/25 (52%) >> dataset/julho2019.csv\n",
      "14/25 (56%) >> dataset/junho2019.csv\n",
      "15/25 (60%) >> dataset/maio2018.csv\n",
      "16/25 (64%) >> dataset/maio2019.csv\n",
      "17/25 (68%) >> dataset/maio2020.csv\n",
      "18/25 (72%) >> dataset/maro2019.csv\n",
      "19/25 (76%) >> dataset/maro2020.csv\n",
      "20/25 (80%) >> dataset/novembro2019.csv\n",
      "21/25 (84%) >> dataset/novrmbro2018.csv\n",
      "22/25 (88%) >> dataset/outubro2018.csv\n",
      "23/25 (92%) >> dataset/outubro2019.csv\n",
      "24/25 (96%) >> dataset/setembro2018.csv\n",
      "25/25 (100%) >> dataset/setembro2019.csv\n"
     ]
    }
   ],
   "source": [
    "base_airbnb_raw = multiple_zips_get_months(zip_file)"
   ]
  },
  {
   "cell_type": "code",
   "execution_count": 7,
   "metadata": {
    "ExecuteTime": {
     "end_time": "2023-04-24T14:15:44.522483Z",
     "start_time": "2023-04-24T14:15:13.404251Z"
    }
   },
   "outputs": [],
   "source": [
    "base_airbnb = base_airbnb_raw.copy()"
   ]
  },
  {
   "cell_type": "code",
   "execution_count": 8,
   "metadata": {
    "ExecuteTime": {
     "end_time": "2023-04-24T14:16:00.630281Z",
     "start_time": "2023-04-24T14:15:49.536580Z"
    }
   },
   "outputs": [
    {
     "data": {
      "text/plain": [
       "(902210, 108)"
      ]
     },
     "execution_count": 8,
     "metadata": {},
     "output_type": "execute_result"
    }
   ],
   "source": [
    "base_airbnb.shape"
   ]
  },
  {
   "cell_type": "code",
   "execution_count": 9,
   "metadata": {
    "ExecuteTime": {
     "end_time": "2023-04-24T14:17:07.107787Z",
     "start_time": "2023-04-24T14:16:00.630281Z"
    }
   },
   "outputs": [
    {
     "data": {
      "text/html": [
       "<div>\n",
       "<style scoped>\n",
       "    .dataframe tbody tr th:only-of-type {\n",
       "        vertical-align: middle;\n",
       "    }\n",
       "\n",
       "    .dataframe tbody tr th {\n",
       "        vertical-align: top;\n",
       "    }\n",
       "\n",
       "    .dataframe thead th {\n",
       "        text-align: right;\n",
       "    }\n",
       "</style>\n",
       "<table border=\"1\" class=\"dataframe\">\n",
       "  <thead>\n",
       "    <tr style=\"text-align: right;\">\n",
       "      <th></th>\n",
       "      <th>id</th>\n",
       "      <th>listing_url</th>\n",
       "      <th>scrape_id</th>\n",
       "      <th>last_scraped</th>\n",
       "      <th>name</th>\n",
       "      <th>summary</th>\n",
       "      <th>space</th>\n",
       "      <th>description</th>\n",
       "      <th>experiences_offered</th>\n",
       "      <th>neighborhood_overview</th>\n",
       "      <th>...</th>\n",
       "      <th>minimum_minimum_nights</th>\n",
       "      <th>maximum_minimum_nights</th>\n",
       "      <th>minimum_maximum_nights</th>\n",
       "      <th>maximum_maximum_nights</th>\n",
       "      <th>minimum_nights_avg_ntm</th>\n",
       "      <th>maximum_nights_avg_ntm</th>\n",
       "      <th>number_of_reviews_ltm</th>\n",
       "      <th>calculated_host_listings_count_entire_homes</th>\n",
       "      <th>calculated_host_listings_count_private_rooms</th>\n",
       "      <th>calculated_host_listings_count_shared_rooms</th>\n",
       "    </tr>\n",
       "  </thead>\n",
       "  <tbody>\n",
       "    <tr>\n",
       "      <th>0</th>\n",
       "      <td>14063</td>\n",
       "      <td>https://www.airbnb.com/rooms/14063</td>\n",
       "      <td>20180414160018</td>\n",
       "      <td>2018-04-14</td>\n",
       "      <td>Living in a Postcard</td>\n",
       "      <td>Besides the most iconic's view, our apartment ...</td>\n",
       "      <td>NaN</td>\n",
       "      <td>Besides the most iconic's view, our apartment ...</td>\n",
       "      <td>none</td>\n",
       "      <td>Best and favorite neighborhood of Rio. Perfect...</td>\n",
       "      <td>...</td>\n",
       "      <td>NaN</td>\n",
       "      <td>NaN</td>\n",
       "      <td>NaN</td>\n",
       "      <td>NaN</td>\n",
       "      <td>NaN</td>\n",
       "      <td>NaN</td>\n",
       "      <td>NaN</td>\n",
       "      <td>NaN</td>\n",
       "      <td>NaN</td>\n",
       "      <td>NaN</td>\n",
       "    </tr>\n",
       "    <tr>\n",
       "      <th>1</th>\n",
       "      <td>17878</td>\n",
       "      <td>https://www.airbnb.com/rooms/17878</td>\n",
       "      <td>20180414160018</td>\n",
       "      <td>2018-04-14</td>\n",
       "      <td>Very Nice 2Br - Copacabana - WiFi</td>\n",
       "      <td>Please note that special rates apply for New Y...</td>\n",
       "      <td>- large balcony which looks out on pedestrian ...</td>\n",
       "      <td>Please note that special rates apply for New Y...</td>\n",
       "      <td>none</td>\n",
       "      <td>This is the best spot in Rio. Everything happe...</td>\n",
       "      <td>...</td>\n",
       "      <td>NaN</td>\n",
       "      <td>NaN</td>\n",
       "      <td>NaN</td>\n",
       "      <td>NaN</td>\n",
       "      <td>NaN</td>\n",
       "      <td>NaN</td>\n",
       "      <td>NaN</td>\n",
       "      <td>NaN</td>\n",
       "      <td>NaN</td>\n",
       "      <td>NaN</td>\n",
       "    </tr>\n",
       "    <tr>\n",
       "      <th>2</th>\n",
       "      <td>24480</td>\n",
       "      <td>https://www.airbnb.com/rooms/24480</td>\n",
       "      <td>20180414160018</td>\n",
       "      <td>2018-04-14</td>\n",
       "      <td>Nice and cozy near Ipanema Beach</td>\n",
       "      <td>My studio is located in the best  of Ipanema. ...</td>\n",
       "      <td>The studio is located at Vinicius de Moraes St...</td>\n",
       "      <td>My studio is located in the best  of Ipanema. ...</td>\n",
       "      <td>none</td>\n",
       "      <td>The beach, the lagoon, Ipanema is a great loca...</td>\n",
       "      <td>...</td>\n",
       "      <td>NaN</td>\n",
       "      <td>NaN</td>\n",
       "      <td>NaN</td>\n",
       "      <td>NaN</td>\n",
       "      <td>NaN</td>\n",
       "      <td>NaN</td>\n",
       "      <td>NaN</td>\n",
       "      <td>NaN</td>\n",
       "      <td>NaN</td>\n",
       "      <td>NaN</td>\n",
       "    </tr>\n",
       "  </tbody>\n",
       "</table>\n",
       "<p>3 rows × 108 columns</p>\n",
       "</div>"
      ],
      "text/plain": [
       "      id                         listing_url       scrape_id last_scraped  \\\n",
       "0  14063  https://www.airbnb.com/rooms/14063  20180414160018   2018-04-14   \n",
       "1  17878  https://www.airbnb.com/rooms/17878  20180414160018   2018-04-14   \n",
       "2  24480  https://www.airbnb.com/rooms/24480  20180414160018   2018-04-14   \n",
       "\n",
       "                                name  \\\n",
       "0               Living in a Postcard   \n",
       "1  Very Nice 2Br - Copacabana - WiFi   \n",
       "2   Nice and cozy near Ipanema Beach   \n",
       "\n",
       "                                             summary  \\\n",
       "0  Besides the most iconic's view, our apartment ...   \n",
       "1  Please note that special rates apply for New Y...   \n",
       "2  My studio is located in the best  of Ipanema. ...   \n",
       "\n",
       "                                               space  \\\n",
       "0                                                NaN   \n",
       "1  - large balcony which looks out on pedestrian ...   \n",
       "2  The studio is located at Vinicius de Moraes St...   \n",
       "\n",
       "                                         description experiences_offered  \\\n",
       "0  Besides the most iconic's view, our apartment ...                none   \n",
       "1  Please note that special rates apply for New Y...                none   \n",
       "2  My studio is located in the best  of Ipanema. ...                none   \n",
       "\n",
       "                               neighborhood_overview  ...  \\\n",
       "0  Best and favorite neighborhood of Rio. Perfect...  ...   \n",
       "1  This is the best spot in Rio. Everything happe...  ...   \n",
       "2  The beach, the lagoon, Ipanema is a great loca...  ...   \n",
       "\n",
       "  minimum_minimum_nights maximum_minimum_nights minimum_maximum_nights  \\\n",
       "0                    NaN                    NaN                    NaN   \n",
       "1                    NaN                    NaN                    NaN   \n",
       "2                    NaN                    NaN                    NaN   \n",
       "\n",
       "  maximum_maximum_nights minimum_nights_avg_ntm  maximum_nights_avg_ntm  \\\n",
       "0                    NaN                    NaN                     NaN   \n",
       "1                    NaN                    NaN                     NaN   \n",
       "2                    NaN                    NaN                     NaN   \n",
       "\n",
       "   number_of_reviews_ltm calculated_host_listings_count_entire_homes  \\\n",
       "0                    NaN                                         NaN   \n",
       "1                    NaN                                         NaN   \n",
       "2                    NaN                                         NaN   \n",
       "\n",
       "   calculated_host_listings_count_private_rooms  \\\n",
       "0                                           NaN   \n",
       "1                                           NaN   \n",
       "2                                           NaN   \n",
       "\n",
       "   calculated_host_listings_count_shared_rooms  \n",
       "0                                          NaN  \n",
       "1                                          NaN  \n",
       "2                                          NaN  \n",
       "\n",
       "[3 rows x 108 columns]"
      ]
     },
     "execution_count": 9,
     "metadata": {},
     "output_type": "execute_result"
    }
   ],
   "source": [
    "base_airbnb.head(3)"
   ]
  },
  {
   "cell_type": "markdown",
   "metadata": {},
   "source": [
    "# Se tivermos muitas colunas, já vamos identificar quais colunas podemos excluir"
   ]
  },
  {
   "cell_type": "markdown",
   "metadata": {},
   "source": [
    "<font color = 'green'>Pode ser interessante acrescentar mais colunas, como um len() da descrição do local.\n",
    "    <br >Talvez apartamentos melhores descritos sejam mais atrativos </font>"
   ]
  },
  {
   "cell_type": "code",
   "execution_count": 10,
   "metadata": {
    "ExecuteTime": {
     "end_time": "2023-04-24T14:17:08.897498Z",
     "start_time": "2023-04-24T14:17:08.043096Z"
    }
   },
   "outputs": [],
   "source": [
    "select_colunas = ['host_response_time',\n",
    "                  'host_response_rate',\n",
    "                  'host_is_superhost',\n",
    "                  'host_listings_count',\n",
    "                  'latitude',\n",
    "                  'longitude',\n",
    "                  'property_type',\n",
    "                  'room_type',\n",
    "                  'accommodates',\n",
    "                  'bathrooms',\n",
    "                  'bedrooms',\n",
    "                  'beds',\n",
    "                  'bed_type',\n",
    "                  'amenities',\n",
    "                  'price',\n",
    "                  'security_deposit',\n",
    "                  'cleaning_fee',\n",
    "                  'guests_included',\n",
    "                  'extra_people',\n",
    "                  'minimum_nights',\n",
    "                  'maximum_nights',\n",
    "                  'number_of_reviews',\n",
    "                  'review_scores_rating',\n",
    "                  'review_scores_accuracy',\n",
    "                  'review_scores_cleanliness',\n",
    "                  'review_scores_checkin',\n",
    "                  'review_scores_communication',\n",
    "                  'review_scores_location',\n",
    "                  'review_scores_value',\n",
    "                  'instant_bookable',\n",
    "                  'is_business_travel_ready',\n",
    "                  'cancellation_policy',\n",
    "                  'ano',\n",
    "                  'mes']"
   ]
  },
  {
   "cell_type": "code",
   "execution_count": 11,
   "metadata": {
    "ExecuteTime": {
     "end_time": "2023-04-24T14:17:11.703830Z",
     "start_time": "2023-04-24T14:17:08.897498Z"
    }
   },
   "outputs": [
    {
     "data": {
      "text/html": [
       "<div>\n",
       "<style scoped>\n",
       "    .dataframe tbody tr th:only-of-type {\n",
       "        vertical-align: middle;\n",
       "    }\n",
       "\n",
       "    .dataframe tbody tr th {\n",
       "        vertical-align: top;\n",
       "    }\n",
       "\n",
       "    .dataframe thead th {\n",
       "        text-align: right;\n",
       "    }\n",
       "</style>\n",
       "<table border=\"1\" class=\"dataframe\">\n",
       "  <thead>\n",
       "    <tr style=\"text-align: right;\">\n",
       "      <th></th>\n",
       "      <th>host_response_time</th>\n",
       "      <th>host_response_rate</th>\n",
       "      <th>host_is_superhost</th>\n",
       "      <th>host_listings_count</th>\n",
       "      <th>latitude</th>\n",
       "      <th>longitude</th>\n",
       "      <th>property_type</th>\n",
       "      <th>room_type</th>\n",
       "      <th>accommodates</th>\n",
       "      <th>bathrooms</th>\n",
       "      <th>...</th>\n",
       "      <th>review_scores_cleanliness</th>\n",
       "      <th>review_scores_checkin</th>\n",
       "      <th>review_scores_communication</th>\n",
       "      <th>review_scores_location</th>\n",
       "      <th>review_scores_value</th>\n",
       "      <th>instant_bookable</th>\n",
       "      <th>is_business_travel_ready</th>\n",
       "      <th>cancellation_policy</th>\n",
       "      <th>ano</th>\n",
       "      <th>mes</th>\n",
       "    </tr>\n",
       "  </thead>\n",
       "  <tbody>\n",
       "    <tr>\n",
       "      <th>0</th>\n",
       "      <td>NaN</td>\n",
       "      <td>NaN</td>\n",
       "      <td>f</td>\n",
       "      <td>1.0</td>\n",
       "      <td>-22.946854</td>\n",
       "      <td>-43.182737</td>\n",
       "      <td>Apartment</td>\n",
       "      <td>Entire home/apt</td>\n",
       "      <td>4</td>\n",
       "      <td>1.0</td>\n",
       "      <td>...</td>\n",
       "      <td>9.0</td>\n",
       "      <td>9.0</td>\n",
       "      <td>9.0</td>\n",
       "      <td>9.0</td>\n",
       "      <td>9.0</td>\n",
       "      <td>f</td>\n",
       "      <td>f</td>\n",
       "      <td>strict_14_with_grace_period</td>\n",
       "      <td>2018</td>\n",
       "      <td>4</td>\n",
       "    </tr>\n",
       "    <tr>\n",
       "      <th>1</th>\n",
       "      <td>within an hour</td>\n",
       "      <td>100%</td>\n",
       "      <td>t</td>\n",
       "      <td>2.0</td>\n",
       "      <td>-22.965919</td>\n",
       "      <td>-43.178962</td>\n",
       "      <td>Condominium</td>\n",
       "      <td>Entire home/apt</td>\n",
       "      <td>5</td>\n",
       "      <td>1.0</td>\n",
       "      <td>...</td>\n",
       "      <td>9.0</td>\n",
       "      <td>10.0</td>\n",
       "      <td>10.0</td>\n",
       "      <td>9.0</td>\n",
       "      <td>9.0</td>\n",
       "      <td>t</td>\n",
       "      <td>f</td>\n",
       "      <td>strict</td>\n",
       "      <td>2018</td>\n",
       "      <td>4</td>\n",
       "    </tr>\n",
       "  </tbody>\n",
       "</table>\n",
       "<p>2 rows × 34 columns</p>\n",
       "</div>"
      ],
      "text/plain": [
       "  host_response_time host_response_rate host_is_superhost  \\\n",
       "0                NaN                NaN                 f   \n",
       "1     within an hour               100%                 t   \n",
       "\n",
       "   host_listings_count   latitude  longitude property_type        room_type  \\\n",
       "0                  1.0 -22.946854 -43.182737     Apartment  Entire home/apt   \n",
       "1                  2.0 -22.965919 -43.178962   Condominium  Entire home/apt   \n",
       "\n",
       "   accommodates  bathrooms  ...  review_scores_cleanliness  \\\n",
       "0             4        1.0  ...                        9.0   \n",
       "1             5        1.0  ...                        9.0   \n",
       "\n",
       "   review_scores_checkin review_scores_communication review_scores_location  \\\n",
       "0                    9.0                         9.0                    9.0   \n",
       "1                   10.0                        10.0                    9.0   \n",
       "\n",
       "  review_scores_value instant_bookable is_business_travel_ready  \\\n",
       "0                 9.0                f                        f   \n",
       "1                 9.0                t                        f   \n",
       "\n",
       "           cancellation_policy   ano  mes  \n",
       "0  strict_14_with_grace_period  2018    4  \n",
       "1                       strict  2018    4  \n",
       "\n",
       "[2 rows x 34 columns]"
      ]
     },
     "execution_count": 11,
     "metadata": {},
     "output_type": "execute_result"
    }
   ],
   "source": [
    "base_airbnb = base_airbnb.loc[:, select_colunas]\n",
    "base_airbnb.head(2)"
   ]
  },
  {
   "cell_type": "markdown",
   "metadata": {},
   "source": [
    "# Tratar Valores Faltando"
   ]
  },
  {
   "cell_type": "code",
   "execution_count": 12,
   "metadata": {
    "ExecuteTime": {
     "end_time": "2023-04-24T14:17:14.323273Z",
     "start_time": "2023-04-24T14:17:11.703830Z"
    },
    "scrolled": true
   },
   "outputs": [
    {
     "name": "stdout",
     "output_type": "stream",
     "text": [
      "host_response_time             401843\n",
      "host_response_rate             401846\n",
      "host_is_superhost                 460\n",
      "host_listings_count               460\n",
      "latitude                            0\n",
      "longitude                           0\n",
      "property_type                       0\n",
      "room_type                           0\n",
      "accommodates                        0\n",
      "bathrooms                        1724\n",
      "bedrooms                          850\n",
      "beds                             2502\n",
      "bed_type                            0\n",
      "amenities                           0\n",
      "price                               0\n",
      "security_deposit               421280\n",
      "cleaning_fee                   313506\n",
      "guests_included                     0\n",
      "extra_people                        0\n",
      "minimum_nights                      0\n",
      "maximum_nights                      0\n",
      "number_of_reviews                   0\n",
      "review_scores_rating           448016\n",
      "review_scores_accuracy         448586\n",
      "review_scores_cleanliness      448413\n",
      "review_scores_checkin          448650\n",
      "review_scores_communication    448415\n",
      "review_scores_location         448553\n",
      "review_scores_value            448551\n",
      "instant_bookable                    0\n",
      "is_business_travel_ready            0\n",
      "cancellation_policy                 0\n",
      "ano                                 0\n",
      "mes                                 0\n",
      "dtype: int64\n"
     ]
    }
   ],
   "source": [
    "print(base_airbnb.isnull().sum())"
   ]
  },
  {
   "cell_type": "code",
   "execution_count": 13,
   "metadata": {
    "ExecuteTime": {
     "end_time": "2023-04-24T14:17:18.809195Z",
     "start_time": "2023-04-24T14:17:14.326265Z"
    }
   },
   "outputs": [
    {
     "name": "stdout",
     "output_type": "stream",
     "text": [
      "host_is_superhost            460\n",
      "host_listings_count          460\n",
      "latitude                       0\n",
      "longitude                      0\n",
      "property_type                  0\n",
      "room_type                      0\n",
      "accommodates                   0\n",
      "bathrooms                   1724\n",
      "bedrooms                     850\n",
      "beds                        2502\n",
      "bed_type                       0\n",
      "amenities                      0\n",
      "price                          0\n",
      "guests_included                0\n",
      "extra_people                   0\n",
      "minimum_nights                 0\n",
      "maximum_nights                 0\n",
      "number_of_reviews              0\n",
      "instant_bookable               0\n",
      "is_business_travel_ready       0\n",
      "cancellation_policy            0\n",
      "ano                            0\n",
      "mes                            0\n",
      "dtype: int64\n"
     ]
    }
   ],
   "source": [
    "for coluna in base_airbnb:\n",
    "    if base_airbnb[coluna].isnull().sum() > 300000:\n",
    "        base_airbnb = base_airbnb.drop(coluna, axis= 1)\n",
    "print(base_airbnb.isnull().sum())"
   ]
  },
  {
   "cell_type": "markdown",
   "metadata": {},
   "source": [
    "# Verificar Tipos de Dados em cada coluna"
   ]
  },
  {
   "cell_type": "code",
   "execution_count": 17,
   "metadata": {
    "ExecuteTime": {
     "end_time": "2023-04-24T14:29:29.339676Z",
     "start_time": "2023-04-24T14:29:29.315606Z"
    }
   },
   "outputs": [
    {
     "name": "stdout",
     "output_type": "stream",
     "text": [
      "host_is_superhost            object\n",
      "host_listings_count         float64\n",
      "latitude                    float64\n",
      "longitude                   float64\n",
      "property_type                object\n",
      "room_type                    object\n",
      "accommodates                  int64\n",
      "bathrooms                   float64\n",
      "bedrooms                    float64\n",
      "beds                        float64\n",
      "bed_type                     object\n",
      "amenities                    object\n",
      "price                        object\n",
      "guests_included               int64\n",
      "extra_people                 object\n",
      "minimum_nights                int64\n",
      "maximum_nights                int64\n",
      "number_of_reviews             int64\n",
      "instant_bookable             object\n",
      "is_business_travel_ready     object\n",
      "cancellation_policy          object\n",
      "ano                           int64\n",
      "mes                           int64\n",
      "dtype: object\n",
      "----------------------------------------------------------------------------------------------------\n",
      "host_is_superhost                                                           f\n",
      "host_listings_count                                                       1.0\n",
      "latitude                                                           -22.946854\n",
      "longitude                                                          -43.182737\n",
      "property_type                                                       Apartment\n",
      "room_type                                                     Entire home/apt\n",
      "accommodates                                                                4\n",
      "bathrooms                                                                 1.0\n",
      "bedrooms                                                                  0.0\n",
      "beds                                                                      2.0\n",
      "bed_type                                                             Real Bed\n",
      "amenities                   {TV,Internet,\"Air conditioning\",Kitchen,Doorma...\n",
      "price                                                                 $133.00\n",
      "guests_included                                                             2\n",
      "extra_people                                                           $34.00\n",
      "minimum_nights                                                             60\n",
      "maximum_nights                                                            365\n",
      "number_of_reviews                                                          38\n",
      "instant_bookable                                                            f\n",
      "is_business_travel_ready                                                    f\n",
      "cancellation_policy                               strict_14_with_grace_period\n",
      "ano                                                                      2018\n",
      "mes                                                                         4\n",
      "Name: 0, dtype: object\n"
     ]
    }
   ],
   "source": [
    "print(base_airbnb.dtypes)\n",
    "print('-'*100)\n",
    "print(base_airbnb.iloc[0])"
   ]
  },
  {
   "cell_type": "code",
   "execution_count": 35,
   "metadata": {
    "ExecuteTime": {
     "end_time": "2023-04-24T14:36:33.164640Z",
     "start_time": "2023-04-24T14:36:32.362580Z"
    }
   },
   "outputs": [
    {
     "name": "stderr",
     "output_type": "stream",
     "text": [
      "C:\\Users\\Caroline\\AppData\\Local\\Temp\\ipykernel_5808\\3834560822.py:3: FutureWarning: The default value of regex will change from True to False in a future version. In addition, single character regular expressions will *not* be treated as literal strings when regex=True.\n",
      "  base_airbnb['price'] = base_airbnb['price'].str.replace('$', '')\n"
     ]
    }
   ],
   "source": [
    "# mudando os tipos de price\n",
    "base_airbnb['price'] = base_airbnb['price'].str.replace('$', '')\n",
    "base_airbnb['price'] = base_airbnb['price'].str.replace(',', '')\n",
    "base_airbnb['price'] = base_airbnb['price'].astype(np.float32 # float32 ocupa menos espaço na memória\n",
    "                                      ,copy = False) # vai mudar esse objeto pandas, não vai criar uma cópia \n"
   ]
  },
  {
   "cell_type": "code",
   "execution_count": 36,
   "metadata": {
    "ExecuteTime": {
     "end_time": "2023-04-24T14:37:20.027862Z",
     "start_time": "2023-04-24T14:37:19.109810Z"
    }
   },
   "outputs": [
    {
     "name": "stderr",
     "output_type": "stream",
     "text": [
      "C:\\Users\\Caroline\\AppData\\Local\\Temp\\ipykernel_5808\\3712765058.py:2: FutureWarning: The default value of regex will change from True to False in a future version. In addition, single character regular expressions will *not* be treated as literal strings when regex=True.\n",
      "  base_airbnb['extra_people'] = base_airbnb['extra_people'].str.replace('$', '')\n"
     ]
    }
   ],
   "source": [
    "# mudando os tipos de extra_people\n",
    "base_airbnb['extra_people'] = base_airbnb['extra_people'].str.replace('$', '')\n",
    "base_airbnb['extra_people'] = base_airbnb['extra_people'].str.replace(',', '')\n",
    "base_airbnb['extra_people'] = base_airbnb['extra_people'].astype(np.float32 # float32 ocupa menos espaço na memória\n",
    "                                      ,copy = False) # vai mudar esse objeto pandas, não vai criar uma cópia "
   ]
  },
  {
   "cell_type": "code",
   "execution_count": 32,
   "metadata": {
    "ExecuteTime": {
     "end_time": "2023-04-24T14:36:04.386387Z",
     "start_time": "2023-04-24T14:36:04.000807Z"
    }
   },
   "outputs": [],
   "source": [
    "teste = base_airbnb.copy()"
   ]
  },
  {
   "cell_type": "markdown",
   "metadata": {},
   "source": [
    "# Análise Exploratória e Tratar Outliers"
   ]
  },
  {
   "cell_type": "markdown",
   "metadata": {},
   "source": [
    "pegar texto de outliers"
   ]
  },
  {
   "cell_type": "code",
   "execution_count": 41,
   "metadata": {
    "ExecuteTime": {
     "end_time": "2023-04-24T14:58:04.045352Z",
     "start_time": "2023-04-24T14:57:58.524577Z"
    }
   },
   "outputs": [
    {
     "data": {
      "text/plain": [
       "<AxesSubplot:>"
      ]
     },
     "execution_count": 41,
     "metadata": {},
     "output_type": "execute_result"
    },
    {
     "data": {
      "image/png": "[encoded data removed]",
      "text/plain": [
       "<Figure size 1080x720 with 2 Axes>"
      ]
     },
     "metadata": {
      "needs_background": "light"
     },
     "output_type": "display_data"
    }
   ],
   "source": [
    "plt.figure(figsize = (15, 10))\n",
    "sns.heatmap(base_airbnb.corr(), annot=True, cmap = 'Greens')"
   ]
  },
  {
   "cell_type": "code",
   "execution_count": 42,
   "metadata": {
    "ExecuteTime": {
     "end_time": "2023-04-24T15:07:08.999619Z",
     "start_time": "2023-04-24T15:07:08.968413Z"
    }
   },
   "outputs": [],
   "source": [
    "def limites(coluna):\n",
    "    q1 = coluna.quantile(0.25)\n",
    "    q3 = coluna.quantile(0.75)\n",
    "    amplitude = q3-q1\n",
    "    return q1-(1.5*amplitude), q3+(1.5*amplitude)\n",
    "\n",
    "def excluir_outliers(df, col):\n",
    "    # linhas do df \n",
    "    qtd_linhas = df.shape[0]\n",
    "    \n",
    "    # identificar outliers\n",
    "    # remover outliers\n",
    "    df = df.loc[df[col]]\n",
    "    \n",
    "    # diferença de linhas do df sem outliers \n",
    "    linhas_removidas = qtd_linhas - df.shape[0]\n",
    "    "
   ]
  },
  {
   "cell_type": "code",
   "execution_count": 43,
   "metadata": {
    "ExecuteTime": {
     "end_time": "2023-04-24T15:07:23.032803Z",
     "start_time": "2023-04-24T15:07:22.701090Z"
    }
   },
   "outputs": [
    {
     "data": {
      "text/plain": [
       "count    902210.000000\n",
       "mean        647.747864\n",
       "std        1703.828369\n",
       "min           0.000000\n",
       "25%         151.000000\n",
       "50%         296.000000\n",
       "75%         601.000000\n",
       "max      138288.000000\n",
       "Name: price, dtype: float64"
      ]
     },
     "execution_count": 43,
     "metadata": {},
     "output_type": "execute_result"
    }
   ],
   "source": [
    "base_airbnb.price.describe()"
   ]
  },
  {
   "cell_type": "code",
   "execution_count": 44,
   "metadata": {
    "ExecuteTime": {
     "end_time": "2023-04-24T15:07:33.573048Z",
     "start_time": "2023-04-24T15:07:33.410307Z"
    }
   },
   "outputs": [
    {
     "data": {
      "text/plain": [
       "(-524.0, 1276.0)"
      ]
     },
     "execution_count": 44,
     "metadata": {},
     "output_type": "execute_result"
    }
   ],
   "source": [
    "limites(base_airbnb.price)"
   ]
  },
  {
   "cell_type": "code",
   "execution_count": 66,
   "metadata": {
    "ExecuteTime": {
     "end_time": "2023-04-24T15:31:29.773898Z",
     "start_time": "2023-04-24T15:31:29.751758Z"
    }
   },
   "outputs": [],
   "source": [
    "def dois_boxplots(coluna):\n",
    "    # subplot\n",
    "    fig, (ax1, ax2) = plt.subplots(1,2)\n",
    "    \n",
    "    # tamanho da figura\n",
    "    fig.set_size_inches(15, 5)\n",
    "    \n",
    "    # boxplot dos dados \n",
    "    sns.boxplot(x = coluna, ax= ax1)\n",
    "    \n",
    "    # boxplot sem outliers\n",
    "    ax2.set_xlim(limites(coluna))\n",
    "    sns.boxplot(x = coluna, ax= ax2)\n",
    "\n",
    "def histogramas(coluna):\n",
    "    #tamanho da figura\n",
    "    plt.figure(figsize = (15,5))\n",
    "    \n",
    "    #histograma\n",
    "    sns.distplot(x=coluna)"
   ]
  },
  {
   "cell_type": "code",
   "execution_count": 50,
   "metadata": {
    "ExecuteTime": {
     "end_time": "2023-04-24T15:19:46.518353Z",
     "start_time": "2023-04-24T15:19:46.120712Z"
    }
   },
   "outputs": [
    {
     "data": {
      "image/png": "[encoded data removed]",
      "text/plain": [
       "<Figure size 1080x360 with 2 Axes>"
      ]
     },
     "metadata": {
      "needs_background": "light"
     },
     "output_type": "display_data"
    }
   ],
   "source": [
    "dois_boxplots(base_airbnb['price'])"
   ]
  },
  {
   "cell_type": "code",
   "execution_count": 67,
   "metadata": {
    "ExecuteTime": {
     "end_time": "2023-04-24T15:31:41.449425Z",
     "start_time": "2023-04-24T15:31:32.480492Z"
    }
   },
   "outputs": [
    {
     "name": "stderr",
     "output_type": "stream",
     "text": [
      "C:\\Users\\Caroline\\Anaconda3\\lib\\site-packages\\seaborn\\distributions.py:2619: FutureWarning: `distplot` is a deprecated function and will be removed in a future version. Please adapt your code to use either `displot` (a figure-level function with similar flexibility) or `histplot` (an axes-level function for histograms).\n",
      "  warnings.warn(msg, FutureWarning)\n"
     ]
    },
    {
     "data": {
      "image/png": "[encoded data removed]",
      "text/plain": [
       "<Figure size 1080x360 with 1 Axes>"
      ]
     },
     "metadata": {
      "needs_background": "light"
     },
     "output_type": "display_data"
    }
   ],
   "source": [
    "histogramas(base_airbnb['price'])"
   ]
  },
  {
   "cell_type": "markdown",
   "metadata": {},
   "source": [
    "# Encoding"
   ]
  },
  {
   "cell_type": "code",
   "execution_count": null,
   "metadata": {},
   "outputs": [],
   "source": []
  },
  {
   "cell_type": "markdown",
   "metadata": {},
   "source": [
    "# Modelo de Previsão"
   ]
  },
  {
   "cell_type": "code",
   "execution_count": null,
   "metadata": {},
   "outputs": [],
   "source": []
  },
  {
   "cell_type": "markdown",
   "metadata": {},
   "source": [
    "# Análise do Melhor Modelo"
   ]
  },
  {
   "cell_type": "code",
   "execution_count": null,
   "metadata": {},
   "outputs": [],
   "source": []
  },
  {
   "cell_type": "markdown",
   "metadata": {},
   "source": [
    "# Ajustes e Melhorias no Melhor Modelo"
   ]
  },
  {
   "cell_type": "code",
   "execution_count": null,
   "metadata": {},
   "outputs": [],
   "source": []
  }
 ],
 "metadata": {
  "kernelspec": {
   "display_name": "Python 3 (ipykernel)",
   "language": "python",
   "name": "python3"
  },
  "language_info": {
   "codemirror_mode": {
    "name": "ipython",
    "version": 3
   },
   "file_extension": ".py",
   "mimetype": "text/x-python",
   "name": "python",
   "nbconvert_exporter": "python",
   "pygments_lexer": "ipython3",
   "version": "3.9.12"
  },
  "toc": {
   "base_numbering": 1,
   "nav_menu": {},
   "number_sections": true,
   "sideBar": true,
   "skip_h1_title": false,
   "title_cell": "Table of Contents",
   "title_sidebar": "Contents",
   "toc_cell": false,
   "toc_position": {
    "height": "calc(100% - 180px)",
    "left": "10px",
    "top": "150px",
    "width": "273.2px"
   },
   "toc_section_display": true,
   "toc_window_display": true
  },
  "varInspector": {
   "cols": {
    "lenName": 16,
    "lenType": 16,
    "lenVar": 40
   },
   "kernels_config": {
    "python": {
     "delete_cmd_postfix": "",
     "delete_cmd_prefix": "del ",
     "library": "var_list.py",
     "varRefreshCmd": "print(var_dic_list())"
    },
    "r": {
     "delete_cmd_postfix": ") ",
     "delete_cmd_prefix": "rm(",
     "library": "var_list.r",
     "varRefreshCmd": "cat(var_dic_list()) "
    }
   },
   "types_to_exclude": [
    "module",
    "function",
    "builtin_function_or_method",
    "instance",
    "_Feature"
   ],
   "window_display": false
  }
 },
 "nbformat": 4,
 "nbformat_minor": 4
}
