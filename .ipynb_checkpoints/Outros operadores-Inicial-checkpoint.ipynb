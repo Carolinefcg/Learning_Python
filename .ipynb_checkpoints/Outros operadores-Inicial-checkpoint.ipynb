{
 "cells": [
  {
   "cell_type": "code",
   "execution_count": null,
   "id": "70ad71ae",
   "metadata": {},
   "outputs": [],
   "source": [
    "informacoes = [\n",
    "    \"http://hashtagtreinamentos.com\", \n",
    "    \"https://vimeo.com/\",\n",
    "    \"https://youtube.com/\",\n",
    "    \"Pesquisar no Google: http://google.com\",\n",
    "    \"http://wikipedia.org\",\n",
    "    \"http://google.com\",\n",
    "    \"http://bcb.gov.br/\",\n",
    "    \"Pesquisar no Bing\",\n",
    "]"
   ]
  },
  {
   "cell_type": "markdown",
   "id": "8994ecaa",
   "metadata": {},
   "source": [
    "- ^ – buscar elementos no início da string;"
   ]
  },
  {
   "cell_type": "code",
   "execution_count": null,
   "id": "f84e5640",
   "metadata": {},
   "outputs": [],
   "source": []
  },
  {
   "cell_type": "markdown",
   "id": "606d77de",
   "metadata": {},
   "source": [
    "- $ – buscar elementos no final da string;"
   ]
  },
  {
   "cell_type": "code",
   "execution_count": null,
   "id": "8811c433",
   "metadata": {},
   "outputs": [],
   "source": []
  },
  {
   "cell_type": "markdown",
   "id": "75d2f588",
   "metadata": {},
   "source": [
    "- [^] - diferente de um caractere especificado logo após o ^"
   ]
  },
  {
   "cell_type": "code",
   "execution_count": null,
   "id": "a58b953c",
   "metadata": {},
   "outputs": [],
   "source": []
  },
  {
   "cell_type": "code",
   "execution_count": null,
   "id": "c1cf24cf",
   "metadata": {},
   "outputs": [],
   "source": []
  }
 ],
 "metadata": {
  "kernelspec": {
   "display_name": "Python 3 (ipykernel)",
   "language": "python",
   "name": "python3"
  },
  "language_info": {
   "codemirror_mode": {
    "name": "ipython",
    "version": 3
   },
   "file_extension": ".py",
   "mimetype": "text/x-python",
   "name": "python",
   "nbconvert_exporter": "python",
   "pygments_lexer": "ipython3",
   "version": "3.9.12"
  },
  "toc": {
   "base_numbering": 1,
   "nav_menu": {},
   "number_sections": true,
   "sideBar": true,
   "skip_h1_title": false,
   "title_cell": "Table of Contents",
   "title_sidebar": "Contents",
   "toc_cell": false,
   "toc_position": {},
   "toc_section_display": true,
   "toc_window_display": false
  },
  "varInspector": {
   "cols": {
    "lenName": 16,
    "lenType": 16,
    "lenVar": 40
   },
   "kernels_config": {
    "python": {
     "delete_cmd_postfix": "",
     "delete_cmd_prefix": "del ",
     "library": "var_list.py",
     "varRefreshCmd": "print(var_dic_list())"
    },
    "r": {
     "delete_cmd_postfix": ") ",
     "delete_cmd_prefix": "rm(",
     "library": "var_list.r",
     "varRefreshCmd": "cat(var_dic_list()) "
    }
   },
   "types_to_exclude": [
    "module",
    "function",
    "builtin_function_or_method",
    "instance",
    "_Feature"
   ],
   "window_display": false
  }
 },
 "nbformat": 4,
 "nbformat_minor": 5
}
