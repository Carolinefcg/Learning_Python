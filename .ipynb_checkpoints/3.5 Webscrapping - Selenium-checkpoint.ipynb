{
 "cells": [
  {
   "cell_type": "markdown",
   "id": "d9953ea5",
   "metadata": {},
   "source": [
    "# Context\n",
    "This notebook is created ti be a summary of webscrapping techniques using Selenium package."
   ]
  },
  {
   "cell_type": "raw",
   "id": "ddc649df",
   "metadata": {
    "ExecuteTime": {
     "end_time": "2023-07-26T21:45:10.790572Z",
     "start_time": "2023-07-26T21:45:10.497479Z"
    }
   },
   "source": [
    "# TO ADD IMAGES TO MARKDOWN CELLS\n",
    "<img src=\"\" />"
   ]
  },
  {
   "cell_type": "markdown",
   "id": "512a7780",
   "metadata": {},
   "source": [
    "# Packages"
   ]
  },
  {
   "cell_type": "code",
   "execution_count": 16,
   "id": "688de145",
   "metadata": {
    "ExecuteTime": {
     "end_time": "2023-08-08T21:28:26.501580Z",
     "start_time": "2023-08-08T21:27:44.601854Z"
    }
   },
   "outputs": [
    {
     "name": "stdout",
     "output_type": "stream",
     "text": [
      "Collecting anticaptchaofficial\n",
      "  Downloading anticaptchaofficial-1.0.53-py3-none-any.whl (17 kB)\n",
      "Requirement already satisfied: requests>=2.22.0 in c:\\users\\caroline\\anaconda3\\lib\\site-packages (from anticaptchaofficial) (2.29.0)\n",
      "Collecting py>=1.4.32\n",
      "  Downloading py-1.11.0-py2.py3-none-any.whl (98 kB)\n",
      "     ---------------------------------------- 0.0/98.7 kB ? eta -:--:--\n",
      "     ---------------- ----------------------- 41.0/98.7 kB 1.9 MB/s eta 0:00:01\n",
      "     ------------------------------------- -- 92.2/98.7 kB 2.6 MB/s eta 0:00:01\n",
      "     ---------------------------------------- 98.7/98.7 kB 1.1 MB/s eta 0:00:00\n",
      "Requirement already satisfied: charset-normalizer<4,>=2 in c:\\users\\caroline\\anaconda3\\lib\\site-packages (from requests>=2.22.0->anticaptchaofficial) (2.0.4)\n",
      "Requirement already satisfied: idna<4,>=2.5 in c:\\users\\caroline\\anaconda3\\lib\\site-packages (from requests>=2.22.0->anticaptchaofficial) (3.4)\n",
      "Requirement already satisfied: certifi>=2017.4.17 in c:\\users\\caroline\\anaconda3\\lib\\site-packages (from requests>=2.22.0->anticaptchaofficial) (2023.5.7)\n",
      "Requirement already satisfied: urllib3<1.27,>=1.21.1 in c:\\users\\caroline\\anaconda3\\lib\\site-packages (from requests>=2.22.0->anticaptchaofficial) (1.26.15)\n",
      "Installing collected packages: py, anticaptchaofficial\n",
      "Successfully installed anticaptchaofficial-1.0.53 py-1.11.0\n"
     ]
    }
   ],
   "source": [
    "#!pip install --upgrade anticaptchaofficial --user"
   ]
  },
  {
   "cell_type": "code",
   "execution_count": 1,
   "id": "6641593a",
   "metadata": {
    "ExecuteTime": {
     "end_time": "2023-08-08T21:29:19.997617Z",
     "start_time": "2023-08-08T21:29:09.176991Z"
    },
    "scrolled": true
   },
   "outputs": [],
   "source": [
    "from selenium import webdriver\n",
    "from selenium.webdriver.chrome.service import Service\n",
    "from webdriver_manager.chrome import ChromeDriverManager\n",
    "from selenium.webdriver.common.by import By\n",
    "from selenium.webdriver.support.select import Select\n",
    "from selenium.webdriver import ActionChains\n",
    "from selenium.webdriver.common.alert import Alert\n",
    "from selenium.webdriver.support.ui import WebDriverWait\n",
    "from selenium.webdriver.support import expected_conditions as EC\n",
    "from PIL import Image\n",
    "from anticaptchaofficial.recaptchav2proxyless import * # breack catpchas\n",
    "\n",
    "import time\n",
    "import os\n",
    "import pandas as pd"
   ]
  },
  {
   "cell_type": "code",
   "execution_count": 2,
   "id": "5244762e",
   "metadata": {
    "ExecuteTime": {
     "end_time": "2023-08-08T21:29:24.454065Z",
     "start_time": "2023-08-08T21:29:24.440069Z"
    }
   },
   "outputs": [],
   "source": [
    "path = os.getcwd().replace('GitHub', 'github_data')"
   ]
  },
  {
   "cell_type": "markdown",
   "id": "0828a086",
   "metadata": {},
   "source": [
    "## Always have your chromedriver up to date\n",
    "The code bellow will verify if your current chromedrinker is updated and if it's not, it will download and install the most recent version for you, always making sure its compatibility with your chrome browser.<br>\n",
    "This code will also open an chrome page - don't close it.\n",
    "All pages that we will browser in will be in that Chrome new page."
   ]
  },
  {
   "cell_type": "code",
   "execution_count": null,
   "id": "eadede9d",
   "metadata": {
    "ExecuteTime": {
     "end_time": "2023-08-02T00:08:52.875253Z",
     "start_time": "2023-08-02T00:08:51.760778Z"
    },
    "scrolled": true
   },
   "outputs": [],
   "source": [
    "servico = Service(ChromeDriverManager().install())\n",
    "driver = webdriver.Chrome(service=servico)"
   ]
  },
  {
   "cell_type": "markdown",
   "id": "365ceab6",
   "metadata": {},
   "source": [
    "# Selecting elements on page"
   ]
  },
  {
   "cell_type": "code",
   "execution_count": 14,
   "id": "16c19b58",
   "metadata": {
    "ExecuteTime": {
     "end_time": "2023-08-02T00:19:06.240162Z",
     "start_time": "2023-08-02T00:19:04.379489Z"
    },
    "scrolled": true
   },
   "outputs": [],
   "source": [
    "file = path + r\"\\Pagina Hashtag.html\"\n",
    "driver.get(file)"
   ]
  },
  {
   "cell_type": "markdown",
   "id": "1ee1db77",
   "metadata": {},
   "source": [
    "# The magic of Inspect elements\n",
    "Websites elements will have an variable useful to sucessfully identify it so we can use them to perform an action like a human - one of the biggest advantages of web scrapping. Inspect the web page and make sure to use the last button on top that seems like a mouse pointer and them you will be able to find each element components."
   ]
  },
  {
   "cell_type": "markdown",
   "id": "549b9379",
   "metadata": {},
   "source": [
    "<img src=\"data:image/png;base64,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\" />"
   ]
  },
  {
   "cell_type": "markdown",
   "id": "e22e9c92",
   "metadata": {},
   "source": [
    "## The order of elements identification variables\n",
    "We have 3 main variables that will allow us to select an element\n",
    "\n",
    "1. id\n",
    "2. CLASS_NAME\n",
    "3. XPATH\n",
    "\n",
    "\n",
    "Which one is the best? The best one is the one that is unique and less likely to change with website updates.<br><br>\n",
    "Id is useful when it's unique and it's not so likely to change with websites updates, same for CLASS_NAME.<br>\n",
    "XPATH has the benefit to be almost always unique, but it give us the elemnt location on page, so if an element is on the top right corner today and its changes to the top left corner tomorrow, it will fail.<BR><BR>\n",
    "    \n",
    "**There are other ways to select it**"
   ]
  },
  {
   "cell_type": "markdown",
   "id": "f5263a58",
   "metadata": {},
   "source": [
    "## By ID"
   ]
  },
  {
   "cell_type": "code",
   "execution_count": 51,
   "id": "229a1813",
   "metadata": {
    "ExecuteTime": {
     "end_time": "2023-07-29T16:21:56.886411Z",
     "start_time": "2023-07-29T16:21:56.645284Z"
    },
    "scrolled": true
   },
   "outputs": [],
   "source": [
    "driver.find_element(By.ID, 'fullname').send_keys(\"Caroline Ferreira\")\n",
    "driver.find_element(By.ID, 'email').send_keys(\"myemail@gmail.com\")\n",
    "driver.find_element(By.ID, '_form_176_submit').click()"
   ]
  },
  {
   "cell_type": "markdown",
   "id": "a12df642",
   "metadata": {
    "ExecuteTime": {
     "end_time": "2023-07-26T16:39:27.246453Z",
     "start_time": "2023-07-26T16:39:27.236078Z"
    }
   },
   "source": [
    "## By Class name"
   ]
  },
  {
   "cell_type": "code",
   "execution_count": 58,
   "id": "40657529",
   "metadata": {
    "ExecuteTime": {
     "end_time": "2023-07-29T16:22:32.499673Z",
     "start_time": "2023-07-29T16:22:31.341882Z"
    },
    "scrolled": true
   },
   "outputs": [],
   "source": [
    "driver.find_element(By.CLASS_NAME, 'custom-logo-link').click()"
   ]
  },
  {
   "cell_type": "markdown",
   "id": "ae8edac7",
   "metadata": {},
   "source": [
    "## By TAG_NAME"
   ]
  },
  {
   "cell_type": "code",
   "execution_count": 59,
   "id": "37bd05e9",
   "metadata": {
    "ExecuteTime": {
     "end_time": "2023-07-29T16:22:42.083037Z",
     "start_time": "2023-07-29T16:22:42.042386Z"
    },
    "scrolled": true
   },
   "outputs": [
    {
     "name": "stdout",
     "output_type": "stream",
     "text": [
      "Conteúdos 100% gratuitos da Hashtag Treinamentos\n"
     ]
    }
   ],
   "source": [
    "titulo = driver.find_element(By.TAG_NAME, 'h2').text\n",
    "print(titulo)"
   ]
  },
  {
   "cell_type": "markdown",
   "id": "21b21644",
   "metadata": {},
   "source": [
    "## By PARTIAL LINK TEXT"
   ]
  },
  {
   "cell_type": "code",
   "execution_count": 54,
   "id": "2f8332a9",
   "metadata": {
    "ExecuteTime": {
     "end_time": "2023-07-29T16:22:02.060814Z",
     "start_time": "2023-07-29T16:22:01.972053Z"
    },
    "scrolled": true
   },
   "outputs": [
    {
     "name": "stdout",
     "output_type": "stream",
     "text": [
      "(21) 99658-2442 (WhatsApp)\n"
     ]
    }
   ],
   "source": [
    "numero_whatsapp = driver.find_element(By.PARTIAL_LINK_TEXT, 'WhatsApp').text\n",
    "print(numero_whatsapp)"
   ]
  },
  {
   "cell_type": "markdown",
   "id": "e092b1d9",
   "metadata": {},
   "source": [
    "## By Name"
   ]
  },
  {
   "cell_type": "code",
   "execution_count": 60,
   "id": "b64c3317",
   "metadata": {
    "ExecuteTime": {
     "end_time": "2023-07-29T16:23:03.815790Z",
     "start_time": "2023-07-29T16:23:03.699862Z"
    },
    "scrolled": true
   },
   "outputs": [],
   "source": [
    "driver.find_element(By.NAME, 'email').send_keys(\"myemail@gmail.com\")"
   ]
  },
  {
   "cell_type": "markdown",
   "id": "a946390b",
   "metadata": {},
   "source": [
    "## By XPATH"
   ]
  },
  {
   "cell_type": "markdown",
   "id": "214bb244",
   "metadata": {},
   "source": [
    "<img src=\"data:image/png;base64,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\" />"
   ]
  },
  {
   "cell_type": "code",
   "execution_count": 61,
   "id": "c22f7274",
   "metadata": {
    "ExecuteTime": {
     "end_time": "2023-07-29T16:23:09.187270Z",
     "start_time": "2023-07-29T16:23:09.145945Z"
    },
    "scrolled": true
   },
   "outputs": [
    {
     "name": "stdout",
     "output_type": "stream",
     "text": [
      "(21) 99658-2442 (WhatsApp)\n"
     ]
    }
   ],
   "source": [
    "link = driver.find_element(By.XPATH, '/html/body/div/footer/div/div/div[1]/div[2]/div[5]/div/a').text\n",
    "print(link)"
   ]
  },
  {
   "cell_type": "code",
   "execution_count": 62,
   "id": "a84da42d",
   "metadata": {
    "ExecuteTime": {
     "end_time": "2023-07-29T16:23:09.620925Z",
     "start_time": "2023-07-29T16:23:09.569045Z"
    },
    "scrolled": true
   },
   "outputs": [
    {
     "name": "stdout",
     "output_type": "stream",
     "text": [
      "https://api.whatsapp.com/send?phone=5521996582442&text=Ol%C3%A1%2C%20gostaria%20de%20tirar%20uma%20d%C3%BAvida%20%20sobre%20o%20curso%20online\n"
     ]
    }
   ],
   "source": [
    "link = driver.find_element(By.XPATH, '/html/body/div/footer/div/div/div[1]/div[2]/div[5]/div/a').get_attribute('href')\n",
    "print(link)"
   ]
  },
  {
   "cell_type": "markdown",
   "id": "0aa9d4c3",
   "metadata": {},
   "source": [
    "# Extracting links from images"
   ]
  },
  {
   "cell_type": "code",
   "execution_count": 65,
   "id": "2d9fc741",
   "metadata": {
    "ExecuteTime": {
     "end_time": "2023-07-29T16:24:22.286753Z",
     "start_time": "2023-07-29T16:24:21.308785Z"
    },
    "scrolled": true
   },
   "outputs": [],
   "source": [
    "driver.find_element(By.XPATH, '/html/body/div/div[1]/div/div/div[1]/a[1]/span').click()"
   ]
  },
  {
   "cell_type": "code",
   "execution_count": 66,
   "id": "e727a417",
   "metadata": {
    "ExecuteTime": {
     "end_time": "2023-07-29T16:24:38.824112Z",
     "start_time": "2023-07-29T16:24:38.789244Z"
    },
    "scrolled": true
   },
   "outputs": [
    {
     "name": "stdout",
     "output_type": "stream",
     "text": [
      "5\n"
     ]
    }
   ],
   "source": [
    "list_of_images = driver.find_elements(By.TAG_NAME, 'figure')\n",
    "# Check if it has all images you are looking for\n",
    "print(len(list_of_images))"
   ]
  },
  {
   "cell_type": "markdown",
   "id": "3850d2c8",
   "metadata": {},
   "source": [
    "Html works in tags. When we code driver.find_element we are looking for it in its entire html page. Now that we have selected the ``list_of_images`` we are precisely in the figure tag."
   ]
  },
  {
   "cell_type": "markdown",
   "id": "ddc64171",
   "metadata": {},
   "source": [
    "<img src=\"data:image/png;base64,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\" />"
   ]
  },
  {
   "cell_type": "code",
   "execution_count": 75,
   "id": "c0182868",
   "metadata": {
    "ExecuteTime": {
     "end_time": "2023-07-29T16:35:52.968011Z",
     "start_time": "2023-07-29T16:35:52.841186Z"
    },
    "scrolled": true
   },
   "outputs": [
    {
     "name": "stdout",
     "output_type": "stream",
     "text": [
      "https://www.hashtagtreinamentos.com/curso-de-excel-online\n",
      "https://www.hashtagtreinamentos.com/curso-power-bi\n",
      "https://www.hashtagtreinamentos.com/curso-vba-excel\n",
      "https://www.hashtagtreinamentos.com/curso-de-power-apps\n"
     ]
    }
   ],
   "source": [
    "for element in list_of_images:\n",
    "    try:\n",
    "        print(element.find_element(By.TAG_NAME, 'a').get_attribute('href'))\n",
    "    except:\n",
    "        continue"
   ]
  },
  {
   "cell_type": "markdown",
   "id": "40a2f043",
   "metadata": {},
   "source": [
    "# Summary of webscrapping action once an element was found\n",
    "driver.find_element(By.[...],'')\n",
    "\n",
    "1. .text\n",
    "2. click()\n",
    "3. send_keys()\n",
    "3. get_atrribute()"
   ]
  },
  {
   "cell_type": "code",
   "execution_count": null,
   "id": "95b05dc8",
   "metadata": {},
   "outputs": [],
   "source": [
    "driver.quit()"
   ]
  },
  {
   "cell_type": "markdown",
   "id": "86e9869a",
   "metadata": {},
   "source": [
    "# Working with forms"
   ]
  },
  {
   "cell_type": "code",
   "execution_count": 115,
   "id": "58bab76f",
   "metadata": {
    "ExecuteTime": {
     "end_time": "2023-07-31T23:14:11.209469Z",
     "start_time": "2023-07-31T23:14:08.388710Z"
    },
    "scrolled": true
   },
   "outputs": [],
   "source": [
    "# restart driver \n",
    "driver = webdriver.Chrome()"
   ]
  },
  {
   "cell_type": "code",
   "execution_count": 116,
   "id": "57f9e5ac",
   "metadata": {
    "ExecuteTime": {
     "end_time": "2023-07-31T23:14:15.164793Z",
     "start_time": "2023-07-31T23:14:14.586006Z"
    },
    "scrolled": true
   },
   "outputs": [],
   "source": [
    "file = path + r\"\\formscrapping.html\"\n",
    "driver.get(file)"
   ]
  },
  {
   "cell_type": "markdown",
   "id": "17017d9c",
   "metadata": {},
   "source": [
    "### Value attribute in inputs\n",
    "\n",
    "- .text\n",
    "- .get_attribute(\"value\")\n",
    "- .is_selected"
   ]
  },
  {
   "cell_type": "markdown",
   "id": "70318263",
   "metadata": {},
   "source": [
    "## Click in a standard button"
   ]
  },
  {
   "cell_type": "code",
   "execution_count": 117,
   "id": "5b895d72",
   "metadata": {
    "ExecuteTime": {
     "end_time": "2023-07-31T23:14:15.303082Z",
     "start_time": "2023-07-31T23:14:15.167786Z"
    },
    "scrolled": true
   },
   "outputs": [],
   "source": [
    "driver.find_element(By.XPATH, '/html/body/form/input[1]').click()\n",
    "alerta = driver.switch_to.alert\n",
    "alerta.accept()"
   ]
  },
  {
   "cell_type": "markdown",
   "id": "6c91c8f3",
   "metadata": {},
   "source": [
    "## Checkbox"
   ]
  },
  {
   "cell_type": "code",
   "execution_count": 118,
   "id": "45162e3b",
   "metadata": {
    "ExecuteTime": {
     "end_time": "2023-07-31T23:14:15.392185Z",
     "start_time": "2023-07-31T23:14:15.306076Z"
    },
    "scrolled": true
   },
   "outputs": [],
   "source": [
    "driver.find_element(By.XPATH, '/html/body/form/input[2]').click()"
   ]
  },
  {
   "cell_type": "code",
   "execution_count": 119,
   "id": "fbda9bd6",
   "metadata": {
    "ExecuteTime": {
     "end_time": "2023-07-31T23:14:15.507164Z",
     "start_time": "2023-07-31T23:14:15.394987Z"
    },
    "scrolled": true
   },
   "outputs": [
    {
     "name": "stdout",
     "output_type": "stream",
     "text": [
      "True\n"
     ]
    }
   ],
   "source": [
    "#  check if it was clicked or not\n",
    "value = driver.find_element(By.XPATH, '/html/body/form/input[2]').is_selected()\n",
    "print(value)"
   ]
  },
  {
   "cell_type": "markdown",
   "id": "8e17bb76",
   "metadata": {},
   "source": [
    "## Color selection"
   ]
  },
  {
   "cell_type": "code",
   "execution_count": 120,
   "id": "4071167f",
   "metadata": {
    "ExecuteTime": {
     "end_time": "2023-07-31T23:14:15.604406Z",
     "start_time": "2023-07-31T23:14:15.510146Z"
    },
    "scrolled": true
   },
   "outputs": [],
   "source": [
    "# fill color\n",
    "driver.find_element(By.XPATH, '/html/body/form/input[5]').send_keys('#2143E8')"
   ]
  },
  {
   "cell_type": "code",
   "execution_count": 121,
   "id": "9e476b28",
   "metadata": {
    "ExecuteTime": {
     "end_time": "2023-07-31T23:14:15.724230Z",
     "start_time": "2023-07-31T23:14:15.607231Z"
    },
    "scrolled": true
   },
   "outputs": [
    {
     "name": "stdout",
     "output_type": "stream",
     "text": [
      "#000000\n"
     ]
    }
   ],
   "source": [
    "# chech selected color\n",
    "value = driver.find_element(By.XPATH, '/html/body/form/input[4]').get_attribute(\"value\")\n",
    "print(value)"
   ]
  },
  {
   "cell_type": "markdown",
   "id": "74545a24",
   "metadata": {},
   "source": [
    "## Date button"
   ]
  },
  {
   "cell_type": "code",
   "execution_count": 122,
   "id": "3cae2506",
   "metadata": {
    "ExecuteTime": {
     "end_time": "2023-07-31T23:14:15.854129Z",
     "start_time": "2023-07-31T23:14:15.727182Z"
    },
    "scrolled": true
   },
   "outputs": [],
   "source": [
    "# fill value\n",
    "driver.find_element(By.XPATH, '/html/body/form/input[6]').send_keys('15/02/1994')"
   ]
  },
  {
   "cell_type": "code",
   "execution_count": 123,
   "id": "70619c3c",
   "metadata": {
    "ExecuteTime": {
     "end_time": "2023-07-31T23:14:15.908183Z",
     "start_time": "2023-07-31T23:14:15.857875Z"
    },
    "scrolled": true
   },
   "outputs": [
    {
     "name": "stdout",
     "output_type": "stream",
     "text": [
      "1994-02-15\n"
     ]
    }
   ],
   "source": [
    "# get value\n",
    "value = driver.find_element(By.XPATH, '/html/body/form/input[6]').get_attribute(\"value\")\n",
    "print(value)"
   ]
  },
  {
   "cell_type": "markdown",
   "id": "798971b7",
   "metadata": {},
   "source": [
    "## Datetime button"
   ]
  },
  {
   "cell_type": "code",
   "execution_count": 124,
   "id": "93e48785",
   "metadata": {
    "ExecuteTime": {
     "end_time": "2023-07-31T23:14:16.200830Z",
     "start_time": "2023-07-31T23:14:15.911175Z"
    },
    "scrolled": true
   },
   "outputs": [],
   "source": [
    "from selenium.webdriver.common.keys import Keys\n",
    "\n",
    "driver.find_element(By.XPATH, '/html/body/form/input[7]').send_keys('15/02/1994', Keys.TAB, '22:00')"
   ]
  },
  {
   "cell_type": "code",
   "execution_count": 125,
   "id": "1778de53",
   "metadata": {
    "ExecuteTime": {
     "end_time": "2023-07-31T23:14:16.243843Z",
     "start_time": "2023-07-31T23:14:16.207812Z"
    },
    "scrolled": true
   },
   "outputs": [
    {
     "name": "stdout",
     "output_type": "stream",
     "text": [
      "1994-02-15T22:00\n"
     ]
    }
   ],
   "source": [
    "value = driver.find_element(By.XPATH, '/html/body/form/input[7]').get_attribute(\"value\")\n",
    "print(value)"
   ]
  },
  {
   "cell_type": "markdown",
   "id": "dd367174",
   "metadata": {},
   "source": [
    "## Select file button"
   ]
  },
  {
   "cell_type": "code",
   "execution_count": 126,
   "id": "91c708a5",
   "metadata": {
    "ExecuteTime": {
     "end_time": "2023-07-31T23:14:16.605518Z",
     "start_time": "2023-07-31T23:14:16.248832Z"
    },
    "scrolled": true
   },
   "outputs": [],
   "source": [
    "path = os.getcwd().replace('GitHub', 'github_data')\n",
    "file = path + r\"\\formscrapping.html\"\n",
    "\n",
    "driver.find_element(By.XPATH, '/html/body/form/input[8]').send_keys(file)"
   ]
  },
  {
   "cell_type": "code",
   "execution_count": 127,
   "id": "b27a869a",
   "metadata": {
    "ExecuteTime": {
     "end_time": "2023-07-31T23:14:16.918465Z",
     "start_time": "2023-07-31T23:14:16.606726Z"
    },
    "scrolled": true
   },
   "outputs": [
    {
     "name": "stdout",
     "output_type": "stream",
     "text": [
      "C:\\fakepath\\formulario.html\n"
     ]
    }
   ],
   "source": [
    "value = driver.find_element(By.XPATH, '/html/body/form/input[8]').get_attribute(\"value\")\n",
    "print(value)"
   ]
  },
  {
   "cell_type": "markdown",
   "id": "3802ed79",
   "metadata": {},
   "source": [
    "## Select year and month button"
   ]
  },
  {
   "cell_type": "code",
   "execution_count": 128,
   "id": "1a8527b6",
   "metadata": {
    "ExecuteTime": {
     "end_time": "2023-07-31T23:14:17.173919Z",
     "start_time": "2023-07-31T23:14:16.920499Z"
    },
    "scrolled": true
   },
   "outputs": [
    {
     "name": "stdout",
     "output_type": "stream",
     "text": [
      "1980-01\n"
     ]
    }
   ],
   "source": [
    "driver.find_element(By.XPATH, '/html/body/form/input[9]').send_keys('janeiro', Keys.TAB, '1980')\n",
    "\n",
    "value = driver.find_element(By.XPATH, '/html/body/form/input[9]').get_attribute('value')\n",
    "print(value)"
   ]
  },
  {
   "cell_type": "markdown",
   "id": "b6db455a",
   "metadata": {},
   "source": [
    "## Numeric fields"
   ]
  },
  {
   "cell_type": "code",
   "execution_count": 129,
   "id": "4f8e2b76",
   "metadata": {
    "ExecuteTime": {
     "end_time": "2023-07-31T23:14:17.357152Z",
     "start_time": "2023-07-31T23:14:17.175878Z"
    },
    "scrolled": true
   },
   "outputs": [],
   "source": [
    "driver.find_element(By.XPATH, '/html/body/form/input[10]').clear()\n",
    "driver.find_element(By.XPATH, '/html/body/form/input[10]').send_keys(\"123456\")"
   ]
  },
  {
   "cell_type": "markdown",
   "id": "ea2530b4",
   "metadata": {},
   "source": [
    "## Password fields"
   ]
  },
  {
   "cell_type": "code",
   "execution_count": 130,
   "id": "bcbb373b",
   "metadata": {
    "ExecuteTime": {
     "end_time": "2023-07-31T23:14:17.517503Z",
     "start_time": "2023-07-31T23:14:17.360083Z"
    },
    "scrolled": true
   },
   "outputs": [
    {
     "name": "stdout",
     "output_type": "stream",
     "text": [
      "123456\n"
     ]
    }
   ],
   "source": [
    "driver.find_element(By.XPATH, '/html/body/form/input[11]').send_keys(\"123456\")\n",
    "\n",
    "value = driver.find_element(By.XPATH, '/html/body/form/input[11]').get_attribute('value')\n",
    "print(value)"
   ]
  },
  {
   "cell_type": "markdown",
   "id": "42e4581e",
   "metadata": {},
   "source": [
    "## Radiobuttons"
   ]
  },
  {
   "cell_type": "code",
   "execution_count": 131,
   "id": "8cab7615",
   "metadata": {
    "ExecuteTime": {
     "end_time": "2023-07-31T23:14:17.670425Z",
     "start_time": "2023-07-31T23:14:17.518339Z"
    },
    "scrolled": true
   },
   "outputs": [],
   "source": [
    "driver.find_element(By.XPATH, '/html/body/form/input[14]').click()"
   ]
  },
  {
   "cell_type": "code",
   "execution_count": 132,
   "id": "99c04acd",
   "metadata": {
    "ExecuteTime": {
     "end_time": "2023-07-31T23:14:17.758128Z",
     "start_time": "2023-07-31T23:14:17.673193Z"
    },
    "scrolled": true
   },
   "outputs": [
    {
     "name": "stdout",
     "output_type": "stream",
     "text": [
      "True\n"
     ]
    }
   ],
   "source": [
    "value = driver.find_element(By.XPATH, '/html/body/form/input[14]').is_selected()\n",
    "print(value)"
   ]
  },
  {
   "cell_type": "markdown",
   "id": "43ede878",
   "metadata": {},
   "source": [
    "## Slider"
   ]
  },
  {
   "cell_type": "code",
   "execution_count": 133,
   "id": "6e1a21c2",
   "metadata": {
    "ExecuteTime": {
     "end_time": "2023-07-31T23:14:17.941989Z",
     "start_time": "2023-07-31T23:14:17.760088Z"
    },
    "scrolled": true
   },
   "outputs": [
    {
     "name": "stdout",
     "output_type": "stream",
     "text": [
      "50\n"
     ]
    }
   ],
   "source": [
    "value = driver.find_element(By.XPATH, '/html/body/form/input[15]').get_attribute('value')\n",
    "print(value)"
   ]
  },
  {
   "cell_type": "code",
   "execution_count": 134,
   "id": "01de947a",
   "metadata": {
    "ExecuteTime": {
     "end_time": "2023-07-31T23:14:18.780959Z",
     "start_time": "2023-07-31T23:14:17.941989Z"
    },
    "scrolled": true
   },
   "outputs": [],
   "source": [
    "elemento = driver.find_element(By.XPATH, '/html/body/form/input[15]')\n",
    "\n",
    "elemento.clear()\n",
    "for i in range(50 - 30):\n",
    "    elemento.send_keys(Keys.ARROW_LEFT)"
   ]
  },
  {
   "cell_type": "markdown",
   "id": "5d93930d",
   "metadata": {},
   "source": [
    "## Textbox"
   ]
  },
  {
   "cell_type": "code",
   "execution_count": 135,
   "id": "f70af673",
   "metadata": {
    "ExecuteTime": {
     "end_time": "2023-07-31T23:14:18.851321Z",
     "start_time": "2023-07-31T23:14:18.782958Z"
    },
    "scrolled": true
   },
   "outputs": [],
   "source": [
    "driver.find_element(By.XPATH, '/html/body/form/input[16]').send_keys(\"Testing\")"
   ]
  },
  {
   "cell_type": "code",
   "execution_count": 136,
   "id": "3838c458",
   "metadata": {
    "ExecuteTime": {
     "end_time": "2023-07-31T23:14:19.041684Z",
     "start_time": "2023-07-31T23:14:18.853353Z"
    },
    "scrolled": true
   },
   "outputs": [
    {
     "name": "stdout",
     "output_type": "stream",
     "text": [
      "Testing\n"
     ]
    }
   ],
   "source": [
    "value = driver.find_element(By.XPATH, '/html/body/form/input[16]').get_attribute(\"value\")\n",
    "print(value)"
   ]
  },
  {
   "cell_type": "markdown",
   "id": "b1587488",
   "metadata": {},
   "source": [
    "## Hours box"
   ]
  },
  {
   "cell_type": "code",
   "execution_count": 137,
   "id": "f043f5bc",
   "metadata": {
    "ExecuteTime": {
     "end_time": "2023-07-31T23:14:19.283906Z",
     "start_time": "2023-07-31T23:14:19.042691Z"
    },
    "scrolled": true
   },
   "outputs": [],
   "source": [
    "driver.find_element(By.XPATH, '/html/body/form/input[17]').send_keys('11:11')"
   ]
  },
  {
   "cell_type": "markdown",
   "id": "85bd7665",
   "metadata": {},
   "source": [
    "## Personalized date box"
   ]
  },
  {
   "cell_type": "code",
   "execution_count": 138,
   "id": "d3f7f44e",
   "metadata": {
    "ExecuteTime": {
     "end_time": "2023-07-31T23:14:19.564239Z",
     "start_time": "2023-07-31T23:14:19.284904Z"
    },
    "scrolled": true
   },
   "outputs": [],
   "source": [
    "driver.find_element(By.XPATH, '/html/body/form/input[18]').send_keys('12', '2001')"
   ]
  },
  {
   "cell_type": "markdown",
   "id": "b714c3ee",
   "metadata": {},
   "source": [
    "## Text blocks"
   ]
  },
  {
   "cell_type": "code",
   "execution_count": 139,
   "id": "4906d0c8",
   "metadata": {
    "ExecuteTime": {
     "end_time": "2023-07-31T23:14:19.895287Z",
     "start_time": "2023-07-31T23:14:19.567198Z"
    },
    "scrolled": true
   },
   "outputs": [],
   "source": [
    "driver.find_element(By.XPATH, '//*[@id=\"story\"]').clear()\n",
    "driver.find_element(By.XPATH, '//*[@id=\"story\"]').send_keys('Hello, wolrd!', Keys.ENTER, 'This is a form scrapping!')"
   ]
  },
  {
   "cell_type": "markdown",
   "id": "b1755a56",
   "metadata": {},
   "source": [
    "## Selecting items on a list"
   ]
  },
  {
   "cell_type": "code",
   "execution_count": 140,
   "id": "d50d7c3e",
   "metadata": {
    "ExecuteTime": {
     "end_time": "2023-07-31T23:14:20.125396Z",
     "start_time": "2023-07-31T23:14:19.897079Z"
    },
    "scrolled": true
   },
   "outputs": [],
   "source": [
    "driver.find_element(By.XPATH, '/html/body/form/select[1]').send_keys('B')"
   ]
  },
  {
   "cell_type": "code",
   "execution_count": 141,
   "id": "27a3e3b5",
   "metadata": {
    "ExecuteTime": {
     "end_time": "2023-07-31T23:14:20.367198Z",
     "start_time": "2023-07-31T23:14:20.125396Z"
    },
    "scrolled": true
   },
   "outputs": [
    {
     "name": "stdout",
     "output_type": "stream",
     "text": [
      "b\n"
     ]
    }
   ],
   "source": [
    "value = driver.find_element(By.XPATH, '/html/body/form/select[1]').get_attribute('value')\n",
    "print(value)"
   ]
  },
  {
   "cell_type": "code",
   "execution_count": 142,
   "id": "ef322e4e",
   "metadata": {
    "ExecuteTime": {
     "end_time": "2023-07-31T23:14:21.191755Z",
     "start_time": "2023-07-31T23:14:20.369019Z"
    },
    "scrolled": true
   },
   "outputs": [],
   "source": [
    "driver.find_element(By.XPATH, '/html/body/form/select[1]').click()\n",
    "time.sleep(0.5)\n",
    "driver.find_element(By.XPATH, '/html/body/form/select[1]/option[3]').click()"
   ]
  },
  {
   "cell_type": "code",
   "execution_count": 143,
   "id": "2900ab72",
   "metadata": {
    "ExecuteTime": {
     "end_time": "2023-07-31T23:14:24.470808Z",
     "start_time": "2023-07-31T23:14:21.203724Z"
    },
    "scrolled": true
   },
   "outputs": [],
   "source": [
    "elemento = driver.find_element(By.TAG_NAME, 'select')\n",
    "elemento_select = Select(elemento)"
   ]
  },
  {
   "cell_type": "code",
   "execution_count": 144,
   "id": "866bd4b7",
   "metadata": {
    "ExecuteTime": {
     "end_time": "2023-07-31T23:14:24.521969Z",
     "start_time": "2023-07-31T23:14:24.470808Z"
    },
    "scrolled": true
   },
   "outputs": [],
   "source": [
    "elemento_select.select_by_visible_text('C')"
   ]
  },
  {
   "cell_type": "code",
   "execution_count": null,
   "id": "f4ced436",
   "metadata": {},
   "outputs": [],
   "source": [
    "driver.quit()"
   ]
  },
  {
   "cell_type": "markdown",
   "id": "82767cc6",
   "metadata": {},
   "source": [
    "# Automaing receipts generation"
   ]
  },
  {
   "cell_type": "code",
   "execution_count": 21,
   "id": "c7a79520",
   "metadata": {
    "ExecuteTime": {
     "end_time": "2023-08-01T00:18:06.865044Z",
     "start_time": "2023-08-01T00:17:52.622395Z"
    },
    "scrolled": true
   },
   "outputs": [],
   "source": [
    "options = webdriver.ChromeOptions()\n",
    "\n",
    "# make Chrome stop blocking downloads\n",
    "options.add_experimental_option(\"prefs\", {\n",
    "  \"download.prompt_for_download\": False,\n",
    "  \"download.directory_upgrade\": True,\n",
    "  \"safebrowsing.enabled\": True\n",
    "})\n",
    "\n",
    "servico = Service(ChromeDriverManager().install())\n",
    "driver = webdriver.Chrome(service=servico, options=options)"
   ]
  },
  {
   "cell_type": "code",
   "execution_count": 22,
   "id": "d7e73e76",
   "metadata": {
    "ExecuteTime": {
     "end_time": "2023-08-01T00:18:13.514484Z",
     "start_time": "2023-08-01T00:18:13.303607Z"
    },
    "scrolled": true
   },
   "outputs": [],
   "source": [
    "path = os.getcwd().replace('GitHub', 'github_data')\n",
    "file = path + r\"\\login.html\"\n",
    "driver.get(file)"
   ]
  },
  {
   "cell_type": "code",
   "execution_count": 23,
   "id": "f9bb2ff6",
   "metadata": {
    "ExecuteTime": {
     "end_time": "2023-08-01T00:18:16.711520Z",
     "start_time": "2023-08-01T00:18:16.491430Z"
    },
    "scrolled": true
   },
   "outputs": [],
   "source": [
    "# preencher o login e a senha\n",
    "driver.find_element(By.XPATH, '/html/body/div/form/input[1]').send_keys(\"myemail@gmail.com\")\n",
    "driver.find_element(By.XPATH, '/html/body/div/form/input[2]').send_keys(\"123456\")\n",
    "# clicar no botao de fazer login\n",
    "driver.find_element(By.XPATH, '/html/body/div/form/button').click()"
   ]
  },
  {
   "cell_type": "code",
   "execution_count": null,
   "id": "099399e6",
   "metadata": {
    "ExecuteTime": {
     "end_time": "2023-08-01T00:18:06.941532Z",
     "start_time": "2023-08-01T00:18:06.941532Z"
    },
    "scrolled": true
   },
   "outputs": [],
   "source": [
    "table = pd.read_excel(path+r\"\\NotasEmitir.xlsx\") \n",
    "table.head(5)"
   ]
  },
  {
   "cell_type": "code",
   "execution_count": 25,
   "id": "fbb7fcd7",
   "metadata": {
    "ExecuteTime": {
     "end_time": "2023-08-01T00:19:18.316000Z",
     "start_time": "2023-08-01T00:19:18.303042Z"
    }
   },
   "outputs": [
    {
     "data": {
      "text/plain": [
       "RangeIndex(start=0, stop=30, step=1)"
      ]
     },
     "execution_count": 25,
     "metadata": {},
     "output_type": "execute_result"
    }
   ],
   "source": [
    "table.index"
   ]
  },
  {
   "cell_type": "code",
   "execution_count": 26,
   "id": "4c4aa3ae",
   "metadata": {
    "ExecuteTime": {
     "end_time": "2023-08-01T00:20:59.352736Z",
     "start_time": "2023-08-01T00:20:56.177154Z"
    },
    "scrolled": true
   },
   "outputs": [],
   "source": [
    "# para cada cliente - rodar o processo de emissao de nota fiscal\n",
    "for linha in range(0, 3):\n",
    "    # preencher os dados da NF\n",
    "    \n",
    "    # nome/razao social\n",
    "    driver.find_element(By.NAME, 'nome').send_keys(table.loc[linha, \"Cliente\"])\n",
    "\n",
    "    # endereco\n",
    "    driver.find_element(By.NAME, 'endereco').send_keys(table.loc[linha, \"Endereço\"])\n",
    "\n",
    "    # bairro\n",
    "    driver.find_element(By.NAME, 'bairro').send_keys(table.loc[linha, \"Bairro\"])\n",
    "\n",
    "    # municipio\n",
    "    driver.find_element(By.NAME, 'municipio').send_keys(table.loc[linha, \"Municipio\"])\n",
    "\n",
    "    # cep\n",
    "    driver.find_element(By.NAME, 'cep').send_keys(str(table.loc[linha, \"CEP\"]))\n",
    "    \n",
    "    # UF\n",
    "    driver.find_element(By.NAME, 'uf').send_keys(table.loc[linha, \"UF\"])\n",
    "    \n",
    "    # CPF/CNPJ\n",
    "    driver.find_element(By.NAME, 'cnpj').send_keys(str(table.loc[linha, \"CPF/CNPJ\"]))\n",
    "\n",
    "    # Inscricao estadual\n",
    "    driver.find_element(By.NAME, 'inscricao').send_keys(str(table.loc[linha, \"Inscricao Estadual\"]))\n",
    "\n",
    "    # descrição\n",
    "    texto = table.loc[linha, \"Descrição\"]\n",
    "    driver.find_element(By.NAME, 'descricao').send_keys(texto)\n",
    "\n",
    "    # quantidade\n",
    "    driver.find_element(By.NAME, 'quantidade').send_keys(str(table.loc[linha, \"Quantidade\"]))\n",
    "\n",
    "    # valor unitario\n",
    "    driver.find_element(By.NAME, 'valor_unitario').send_keys(str(table.loc[linha, \"Valor Unitario\"]))\n",
    "\n",
    "    # valor total\n",
    "    driver.find_element(By.NAME, 'total').send_keys(str(table.loc[linha, \"Valor Total\"]))\n",
    "    \n",
    "    # clicar em emitir nota fiscal\n",
    "    driver.find_element(By.CLASS_NAME, 'registerbtn').click()\n",
    "    \n",
    "    # recarregar a página para limpar o formulário\n",
    "    driver.refresh()"
   ]
  },
  {
   "cell_type": "code",
   "execution_count": 27,
   "id": "489ff61a",
   "metadata": {
    "ExecuteTime": {
     "end_time": "2023-08-01T00:21:08.980965Z",
     "start_time": "2023-08-01T00:21:06.079813Z"
    },
    "scrolled": true
   },
   "outputs": [],
   "source": [
    "driver.quit()"
   ]
  },
  {
   "cell_type": "markdown",
   "id": "e931b4bf",
   "metadata": {},
   "source": [
    "# Hover with ActionChains"
   ]
  },
  {
   "cell_type": "markdown",
   "id": "65ab7102",
   "metadata": {},
   "source": [
    "## Menu dropdown"
   ]
  },
  {
   "cell_type": "code",
   "execution_count": 29,
   "id": "7d61c021",
   "metadata": {
    "ExecuteTime": {
     "end_time": "2023-08-01T00:39:37.433210Z",
     "start_time": "2023-08-01T00:39:22.794885Z"
    }
   },
   "outputs": [],
   "source": [
    "driver = webdriver.Chrome(service=servico)"
   ]
  },
  {
   "cell_type": "code",
   "execution_count": 30,
   "id": "c635767a",
   "metadata": {
    "ExecuteTime": {
     "end_time": "2023-08-01T00:40:22.574363Z",
     "start_time": "2023-08-01T00:40:16.891823Z"
    }
   },
   "outputs": [],
   "source": [
    "path = os.getcwd().replace('GitHub', 'github_data')\n",
    "file = path + r\"\\Pagina Hashtag.html\"\n",
    "driver.get(file)"
   ]
  },
  {
   "cell_type": "code",
   "execution_count": 32,
   "id": "5d1aefa1",
   "metadata": {
    "ExecuteTime": {
     "end_time": "2023-08-01T00:43:08.221671Z",
     "start_time": "2023-08-01T00:43:08.149835Z"
    }
   },
   "outputs": [],
   "source": [
    "menu_dropdown = driver.find_element(By.XPATH, '//*[@id=\"menu-item-dropdown-16313\"]')\n",
    "item_in_menu = driver.find_element(By.XPATH, '//*[@id=\"menu-item-6302\"]/a')"
   ]
  },
  {
   "cell_type": "code",
   "execution_count": 39,
   "id": "00419cff",
   "metadata": {
    "ExecuteTime": {
     "end_time": "2023-08-01T00:46:36.399908Z",
     "start_time": "2023-08-01T00:46:27.964149Z"
    }
   },
   "outputs": [],
   "source": [
    "time.sleep(5) # act like a human\n",
    "\n",
    "# Hover mouse in menu\n",
    "# move_to_element is equivalent to 'hover'\n",
    "ActionChains(driver).move_to_element(menu_dropdown).perform()\n",
    "item_in_menu.click() # now you're free to click"
   ]
  },
  {
   "cell_type": "code",
   "execution_count": 40,
   "id": "311ed815",
   "metadata": {
    "ExecuteTime": {
     "end_time": "2023-08-01T00:48:57.004163Z",
     "start_time": "2023-08-01T00:48:53.968202Z"
    }
   },
   "outputs": [],
   "source": [
    "driver.quit()"
   ]
  },
  {
   "cell_type": "markdown",
   "id": "1dcf9f42",
   "metadata": {},
   "source": [
    "# Pop up alerts"
   ]
  },
  {
   "cell_type": "code",
   "execution_count": 48,
   "id": "a4476132",
   "metadata": {
    "ExecuteTime": {
     "end_time": "2023-08-01T01:04:03.027530Z",
     "start_time": "2023-08-01T01:04:00.161723Z"
    }
   },
   "outputs": [],
   "source": [
    "driver = webdriver.Chrome(service=servico)\n",
    "driver.get(path + r\"\\alertas.html\")"
   ]
  },
  {
   "cell_type": "markdown",
   "id": "ae26de64",
   "metadata": {},
   "source": [
    "## Select a pop-up alert"
   ]
  },
  {
   "cell_type": "code",
   "execution_count": 56,
   "id": "ac5c7dad",
   "metadata": {
    "ExecuteTime": {
     "end_time": "2023-08-01T01:05:45.061024Z",
     "start_time": "2023-08-01T01:05:44.996916Z"
    }
   },
   "outputs": [],
   "source": [
    "driver.find_element(By.XPATH, '/html/body/div[1]/input').click()"
   ]
  },
  {
   "cell_type": "markdown",
   "id": "276247ba",
   "metadata": {},
   "source": [
    "## Simple way"
   ]
  },
  {
   "cell_type": "code",
   "execution_count": 57,
   "id": "8778a2a2",
   "metadata": {
    "ExecuteTime": {
     "end_time": "2023-08-01T01:05:48.540560Z",
     "start_time": "2023-08-01T01:05:48.523606Z"
    }
   },
   "outputs": [],
   "source": [
    "alert = driver.switch_to.alert\n",
    "alert.accept()"
   ]
  },
  {
   "cell_type": "markdown",
   "id": "4e097366",
   "metadata": {},
   "source": [
    "## Full way"
   ]
  },
  {
   "cell_type": "code",
   "execution_count": 58,
   "id": "4f663498",
   "metadata": {
    "ExecuteTime": {
     "end_time": "2023-08-01T01:05:55.666277Z",
     "start_time": "2023-08-01T01:05:55.609274Z"
    }
   },
   "outputs": [],
   "source": [
    "driver.find_element(By.XPATH, '/html/body/div[1]/input').click()"
   ]
  },
  {
   "cell_type": "code",
   "execution_count": 59,
   "id": "8c5c9045",
   "metadata": {
    "ExecuteTime": {
     "end_time": "2023-08-01T01:05:58.618179Z",
     "start_time": "2023-08-01T01:05:58.607172Z"
    }
   },
   "outputs": [],
   "source": [
    "alert = Alert(driver)\n",
    "alert.accept()"
   ]
  },
  {
   "cell_type": "markdown",
   "id": "dcf8b41d",
   "metadata": {},
   "source": [
    "## Confirmation pop-ups"
   ]
  },
  {
   "cell_type": "code",
   "execution_count": 60,
   "id": "b851047f",
   "metadata": {
    "ExecuteTime": {
     "end_time": "2023-08-01T01:06:26.245113Z",
     "start_time": "2023-08-01T01:06:26.183208Z"
    }
   },
   "outputs": [],
   "source": [
    "driver.find_element(By.XPATH, '/html/body/div[2]/input').click()\n",
    "alert = Alert(driver)"
   ]
  },
  {
   "cell_type": "code",
   "execution_count": 61,
   "id": "c2786a35",
   "metadata": {
    "ExecuteTime": {
     "end_time": "2023-08-01T01:06:30.305216Z",
     "start_time": "2023-08-01T01:06:30.295208Z"
    }
   },
   "outputs": [],
   "source": [
    "alert.accept()"
   ]
  },
  {
   "cell_type": "code",
   "execution_count": 62,
   "id": "ab3a1cf1",
   "metadata": {
    "ExecuteTime": {
     "end_time": "2023-08-01T01:06:50.994411Z",
     "start_time": "2023-08-01T01:06:50.940705Z"
    }
   },
   "outputs": [],
   "source": [
    "driver.find_element(By.XPATH, '/html/body/div[2]/input').click()\n",
    "alert = Alert(driver)"
   ]
  },
  {
   "cell_type": "code",
   "execution_count": 63,
   "id": "443559a2",
   "metadata": {
    "ExecuteTime": {
     "end_time": "2023-08-01T01:06:54.365323Z",
     "start_time": "2023-08-01T01:06:54.357345Z"
    }
   },
   "outputs": [],
   "source": [
    "alert.dismiss()"
   ]
  },
  {
   "cell_type": "markdown",
   "id": "8c922485",
   "metadata": {},
   "source": [
    "## Get alert text"
   ]
  },
  {
   "cell_type": "code",
   "execution_count": 66,
   "id": "db20ef85",
   "metadata": {
    "ExecuteTime": {
     "end_time": "2023-08-01T01:07:35.869339Z",
     "start_time": "2023-08-01T01:07:35.813462Z"
    }
   },
   "outputs": [
    {
     "name": "stdout",
     "output_type": "stream",
     "text": [
      "Quer confirmar a emissão da NF?\n"
     ]
    }
   ],
   "source": [
    " driver.find_element(By.XPATH, '/html/body/div[2]/input').click()\n",
    "\n",
    "alert = Alert(driver)\n",
    "texto = alert.text\n",
    "print(texto)"
   ]
  },
  {
   "cell_type": "code",
   "execution_count": 67,
   "id": "4d454cc1",
   "metadata": {
    "ExecuteTime": {
     "end_time": "2023-08-01T01:07:37.256005Z",
     "start_time": "2023-08-01T01:07:37.245039Z"
    }
   },
   "outputs": [],
   "source": [
    "alert.accept()"
   ]
  },
  {
   "cell_type": "markdown",
   "id": "2939f6e3",
   "metadata": {},
   "source": [
    "## Input pop-ups"
   ]
  },
  {
   "cell_type": "code",
   "execution_count": 68,
   "id": "88629287",
   "metadata": {
    "ExecuteTime": {
     "end_time": "2023-08-01T01:07:40.868716Z",
     "start_time": "2023-08-01T01:07:38.791941Z"
    }
   },
   "outputs": [],
   "source": [
    "driver.find_element(By.XPATH, '/html/body/div[3]/button').click()\n",
    "\n",
    "alert = driver.switch_to.alert\n",
    "time.sleep(2)"
   ]
  },
  {
   "cell_type": "code",
   "execution_count": 69,
   "id": "22e55202",
   "metadata": {
    "ExecuteTime": {
     "end_time": "2023-08-01T01:07:45.641305Z",
     "start_time": "2023-08-01T01:07:45.633356Z"
    }
   },
   "outputs": [],
   "source": [
    "alert.send_keys('123123') # lembre que ele funciona, apesar de não aparecer\n",
    "alert.accept()"
   ]
  },
  {
   "cell_type": "code",
   "execution_count": 70,
   "id": "736c3cd1",
   "metadata": {
    "ExecuteTime": {
     "end_time": "2023-08-01T01:09:46.085445Z",
     "start_time": "2023-08-01T01:09:42.747040Z"
    }
   },
   "outputs": [],
   "source": [
    "driver.quit()"
   ]
  },
  {
   "cell_type": "markdown",
   "id": "fae2dd26",
   "metadata": {},
   "source": [
    "# Tabs and windows"
   ]
  },
  {
   "cell_type": "code",
   "execution_count": 71,
   "id": "b84e7b57",
   "metadata": {
    "ExecuteTime": {
     "end_time": "2023-08-01T01:14:43.188345Z",
     "start_time": "2023-08-01T01:14:34.630806Z"
    }
   },
   "outputs": [],
   "source": [
    "driver = webdriver.Chrome(service=servico)\n",
    "driver.get(path + r\"\\Pagina Hashtag.html\")"
   ]
  },
  {
   "cell_type": "markdown",
   "id": "02a5eaea",
   "metadata": {},
   "source": [
    "## Opening new window"
   ]
  },
  {
   "cell_type": "code",
   "execution_count": 72,
   "id": "934bd88c",
   "metadata": {
    "ExecuteTime": {
     "end_time": "2023-08-01T01:14:43.295751Z",
     "start_time": "2023-08-01T01:14:43.196324Z"
    }
   },
   "outputs": [],
   "source": [
    "driver.find_element(By.XPATH, '/html/body/section[2]/div/div[4]/figure/a/img').click()"
   ]
  },
  {
   "cell_type": "code",
   "execution_count": 73,
   "id": "510bdb38",
   "metadata": {
    "ExecuteTime": {
     "end_time": "2023-08-01T01:14:43.438370Z",
     "start_time": "2023-08-01T01:14:43.298743Z"
    }
   },
   "outputs": [],
   "source": [
    "driver.find_element(By.ID, 'fullname').send_keys(\"Some text\")"
   ]
  },
  {
   "cell_type": "markdown",
   "id": "f6b9cdff",
   "metadata": {},
   "source": [
    "## Opening new tab"
   ]
  },
  {
   "cell_type": "code",
   "execution_count": 74,
   "id": "58593b9f",
   "metadata": {
    "ExecuteTime": {
     "end_time": "2023-08-01T01:14:43.516188Z",
     "start_time": "2023-08-01T01:14:43.445352Z"
    }
   },
   "outputs": [],
   "source": [
    "tab_original = driver.window_handles[0]\n",
    "new_tab = driver.window_handles[1]\n",
    "driver.switch_to.window(new_tab)"
   ]
  },
  {
   "cell_type": "code",
   "execution_count": 77,
   "id": "be575d24",
   "metadata": {
    "ExecuteTime": {
     "end_time": "2023-08-01T01:16:04.728933Z",
     "start_time": "2023-08-01T01:16:04.604573Z"
    }
   },
   "outputs": [],
   "source": [
    "driver.find_element(By.ID, 'firstname').send_keys(\"Some text in the new tab\")"
   ]
  },
  {
   "cell_type": "code",
   "execution_count": 78,
   "id": "83a761be",
   "metadata": {
    "ExecuteTime": {
     "end_time": "2023-08-01T01:16:12.166199Z",
     "start_time": "2023-08-01T01:16:12.034868Z"
    }
   },
   "outputs": [],
   "source": [
    "driver.find_element(By.ID, 'email').send_keys(\"myemail@mail.com\")"
   ]
  },
  {
   "cell_type": "markdown",
   "id": "66ab777d",
   "metadata": {},
   "source": [
    "## Identify tab in window_handles list"
   ]
  },
  {
   "cell_type": "code",
   "execution_count": 79,
   "id": "178f583e",
   "metadata": {
    "ExecuteTime": {
     "end_time": "2023-08-01T01:16:17.994193Z",
     "start_time": "2023-08-01T01:16:17.860824Z"
    }
   },
   "outputs": [
    {
     "name": "stdout",
     "output_type": "stream",
     "text": [
      "Todos os Cursos Hashtag Treinamentos\n",
      "Curso de Excel Completo: Excel Impressionador\n"
     ]
    }
   ],
   "source": [
    "# check every tabs title\n",
    "for tab in driver.window_handles:\n",
    "    driver.switch_to.window(tab)\n",
    "    print(driver.title)"
   ]
  },
  {
   "cell_type": "markdown",
   "id": "c19ac4c5",
   "metadata": {},
   "source": [
    "## New window"
   ]
  },
  {
   "cell_type": "code",
   "execution_count": 80,
   "id": "84f34ea1",
   "metadata": {
    "ExecuteTime": {
     "end_time": "2023-08-01T01:16:29.902280Z",
     "start_time": "2023-08-01T01:16:29.836679Z"
    }
   },
   "outputs": [
    {
     "name": "stdout",
     "output_type": "stream",
     "text": [
      "2\n"
     ]
    },
    {
     "ename": "IndexError",
     "evalue": "list index out of range",
     "output_type": "error",
     "traceback": [
      "\u001b[1;31m---------------------------------------------------------------------------\u001b[0m",
      "\u001b[1;31mIndexError\u001b[0m                                Traceback (most recent call last)",
      "Cell \u001b[1;32mIn[80], line 3\u001b[0m\n\u001b[0;32m      1\u001b[0m tabs \u001b[38;5;241m=\u001b[39m driver\u001b[38;5;241m.\u001b[39mwindow_handles\n\u001b[0;32m      2\u001b[0m \u001b[38;5;28mprint\u001b[39m(\u001b[38;5;28mlen\u001b[39m(tabs))\n\u001b[1;32m----> 3\u001b[0m new_janela \u001b[38;5;241m=\u001b[39m \u001b[43mdriver\u001b[49m\u001b[38;5;241;43m.\u001b[39;49m\u001b[43mwindow_handles\u001b[49m\u001b[43m[\u001b[49m\u001b[38;5;241;43m2\u001b[39;49m\u001b[43m]\u001b[49m\n\u001b[0;32m      4\u001b[0m driver\u001b[38;5;241m.\u001b[39mswitch_to\u001b[38;5;241m.\u001b[39mwindow(new_janela)\n",
      "\u001b[1;31mIndexError\u001b[0m: list index out of range"
     ]
    }
   ],
   "source": [
    "tabs = driver.window_handles\n",
    "print(len(tabs))\n",
    "new_janela = driver.window_handles[2]\n",
    "driver.switch_to.window(new_janela)"
   ]
  },
  {
   "cell_type": "code",
   "execution_count": null,
   "id": "a51f316f",
   "metadata": {
    "ExecuteTime": {
     "end_time": "2023-08-01T01:14:47.946132Z",
     "start_time": "2023-08-01T01:14:47.946132Z"
    }
   },
   "outputs": [],
   "source": [
    "driver.find_element(By.ID, 'fullname').send_keys(\"Some text in the new window\")\n",
    "driver.find_element(By.ID, 'email').send_keys(\"myemail@inthenewwindom.com\")"
   ]
  },
  {
   "cell_type": "code",
   "execution_count": null,
   "id": "e1044e6a",
   "metadata": {
    "ExecuteTime": {
     "end_time": "2023-08-01T01:14:47.947129Z",
     "start_time": "2023-08-01T01:14:47.947129Z"
    }
   },
   "outputs": [],
   "source": [
    "# close select tab\n",
    "driver.close()"
   ]
  },
  {
   "cell_type": "code",
   "execution_count": null,
   "id": "872845ca",
   "metadata": {
    "ExecuteTime": {
     "end_time": "2023-08-01T01:14:47.949123Z",
     "start_time": "2023-08-01T01:14:47.949123Z"
    }
   },
   "outputs": [],
   "source": [
    "# close all tabs\n",
    "driver.quit()"
   ]
  },
  {
   "cell_type": "markdown",
   "id": "746db6b3",
   "metadata": {},
   "source": [
    "# Wait for element to load on page\n",
    "Sometimes when we load a web page it contains alert or pop-ups. The code below provides alternatives to deal with it."
   ]
  },
  {
   "cell_type": "markdown",
   "id": "5f1a25da",
   "metadata": {},
   "source": [
    "## Wait for it to load"
   ]
  },
  {
   "cell_type": "code",
   "execution_count": 8,
   "id": "a00dc26d",
   "metadata": {
    "ExecuteTime": {
     "end_time": "2023-08-02T00:09:22.300655Z",
     "start_time": "2023-08-02T00:09:18.901987Z"
    }
   },
   "outputs": [],
   "source": [
    "driver = webdriver.Chrome()"
   ]
  },
  {
   "cell_type": "code",
   "execution_count": 9,
   "id": "ae80784d",
   "metadata": {
    "ExecuteTime": {
     "end_time": "2023-08-02T00:09:42.650928Z",
     "start_time": "2023-08-02T00:09:24.051463Z"
    }
   },
   "outputs": [],
   "source": [
    "driver.get(\"https://www.hashtagtreinamentos.com/\")\n",
    "time.sleep(15)\n",
    "driver.find_element(By.CLASS_NAME, 'eicon-close').click()"
   ]
  },
  {
   "cell_type": "markdown",
   "id": "91e9c5e9",
   "metadata": {},
   "source": [
    "## Create a loop"
   ]
  },
  {
   "cell_type": "code",
   "execution_count": 10,
   "id": "f101989b",
   "metadata": {
    "ExecuteTime": {
     "end_time": "2023-08-02T00:10:01.309489Z",
     "start_time": "2023-08-02T00:09:48.758868Z"
    }
   },
   "outputs": [],
   "source": [
    "driver.get(\"https://www.hashtagtreinamentos.com/\")\n",
    "\n",
    "while len(driver.find_elements(By.CLASS_NAME, 'eicon-close')) < 1:\n",
    "    time.sleep(1)\n",
    "time.sleep(1) # just to be sure\n",
    "\n",
    "driver.find_element(By.CLASS_NAME, 'eicon-close').click()"
   ]
  },
  {
   "cell_type": "markdown",
   "id": "58f863c7",
   "metadata": {},
   "source": [
    "## EC WebDriverWait\n",
    "This one is one of the best options!"
   ]
  },
  {
   "cell_type": "code",
   "execution_count": 24,
   "id": "4ade89bd",
   "metadata": {
    "ExecuteTime": {
     "end_time": "2023-08-02T00:26:40.174590Z",
     "start_time": "2023-08-02T00:26:22.870738Z"
    }
   },
   "outputs": [],
   "source": [
    "driver.get(\"https://www.hashtagtreinamentos.com/\")\n",
    "\n",
    "element = WebDriverWait(driver, 20).until(EC.presence_of_element_located((By.CLASS_NAME, 'eicon-close')))\n",
    "time.sleep(1) # garantia\n",
    "\n",
    "element.click()"
   ]
  },
  {
   "cell_type": "code",
   "execution_count": 25,
   "id": "74b4609a",
   "metadata": {
    "ExecuteTime": {
     "end_time": "2023-08-02T00:26:47.850812Z",
     "start_time": "2023-08-02T00:26:45.633740Z"
    }
   },
   "outputs": [],
   "source": [
    "driver.quit()"
   ]
  },
  {
   "cell_type": "markdown",
   "id": "26fecc44",
   "metadata": {},
   "source": [
    "# Websites for searches"
   ]
  },
  {
   "cell_type": "code",
   "execution_count": 29,
   "id": "b025ec5e",
   "metadata": {
    "ExecuteTime": {
     "end_time": "2023-08-02T00:28:11.061577Z",
     "start_time": "2023-08-02T00:28:08.159073Z"
    }
   },
   "outputs": [],
   "source": [
    "driver = webdriver.Chrome()\n",
    "file_law = path + r\"\\index_law.html\"\n",
    "driver.get(file_law)"
   ]
  },
  {
   "cell_type": "code",
   "execution_count": 30,
   "id": "23eecac9",
   "metadata": {
    "ExecuteTime": {
     "end_time": "2023-08-02T00:28:11.092332Z",
     "start_time": "2023-08-02T00:28:11.065796Z"
    }
   },
   "outputs": [
    {
     "data": {
      "text/html": [
       "<div>\n",
       "<style scoped>\n",
       "    .dataframe tbody tr th:only-of-type {\n",
       "        vertical-align: middle;\n",
       "    }\n",
       "\n",
       "    .dataframe tbody tr th {\n",
       "        vertical-align: top;\n",
       "    }\n",
       "\n",
       "    .dataframe thead th {\n",
       "        text-align: right;\n",
       "    }\n",
       "</style>\n",
       "<table border=\"1\" class=\"dataframe\">\n",
       "  <thead>\n",
       "    <tr style=\"text-align: right;\">\n",
       "      <th></th>\n",
       "      <th>Nome</th>\n",
       "      <th>Advogado</th>\n",
       "      <th>Processo</th>\n",
       "      <th>Cidade</th>\n",
       "      <th>Status</th>\n",
       "    </tr>\n",
       "  </thead>\n",
       "  <tbody>\n",
       "    <tr>\n",
       "      <th>0</th>\n",
       "      <td>Lira</td>\n",
       "      <td>Alon Lawyer</td>\n",
       "      <td>PC6592</td>\n",
       "      <td>Distrito Federal</td>\n",
       "      <td>NaN</td>\n",
       "    </tr>\n",
       "    <tr>\n",
       "      <th>1</th>\n",
       "      <td>João</td>\n",
       "      <td>Lawyer Alon</td>\n",
       "      <td>EB3792</td>\n",
       "      <td>Rio de Janeiro</td>\n",
       "      <td>NaN</td>\n",
       "    </tr>\n",
       "    <tr>\n",
       "      <th>2</th>\n",
       "      <td>Amanda</td>\n",
       "      <td>Amanda mesmo</td>\n",
       "      <td>MM1043</td>\n",
       "      <td>Rio de Janeiro</td>\n",
       "      <td>NaN</td>\n",
       "    </tr>\n",
       "    <tr>\n",
       "      <th>3</th>\n",
       "      <td>Carol</td>\n",
       "      <td>Amanda</td>\n",
       "      <td>PC5197</td>\n",
       "      <td>São Paulo</td>\n",
       "      <td>NaN</td>\n",
       "    </tr>\n",
       "  </tbody>\n",
       "</table>\n",
       "</div>"
      ],
      "text/plain": [
       "     Nome      Advogado Processo            Cidade  Status\n",
       "0    Lira   Alon Lawyer   PC6592  Distrito Federal     NaN\n",
       "1    João   Lawyer Alon   EB3792    Rio de Janeiro     NaN\n",
       "2  Amanda  Amanda mesmo   MM1043    Rio de Janeiro     NaN\n",
       "3   Carol        Amanda   PC5197         São Paulo     NaN"
      ]
     },
     "execution_count": 30,
     "metadata": {},
     "output_type": "execute_result"
    }
   ],
   "source": [
    "# Load a sample data\n",
    "tbl = pd.read_excel(path + r\"\\Processos.xlsx\")\n",
    "tbl.head(5)"
   ]
  },
  {
   "cell_type": "code",
   "execution_count": 31,
   "id": "d2bfc0d3",
   "metadata": {
    "ExecuteTime": {
     "end_time": "2023-08-02T00:28:31.199351Z",
     "start_time": "2023-08-02T00:28:11.094519Z"
    }
   },
   "outputs": [],
   "source": [
    "for row in tbl.index:\n",
    "\n",
    "    # for each row\n",
    "    driver.get(file_law)\n",
    "\n",
    "    # cities list\n",
    "    botao = driver.find_element(By.CLASS_NAME, 'dropdown-menu')\n",
    "    ActionChains(driver).move_to_element(botao).perform() #hover \n",
    "    \n",
    "    cidade = tbl.loc[row, \"Cidade\"]\n",
    "    \n",
    "    # select city\n",
    "    driver.find_element(By.PARTIAL_LINK_TEXT, cidade).click()\n",
    "    \n",
    "    # move to new tab\n",
    "    aba_original = driver.window_handles[0]\n",
    "    indice = 1 + row\n",
    "    nova_aba = driver.window_handles[indice]\n",
    "    \n",
    "    driver.switch_to.window(nova_aba)\n",
    "    \n",
    "    # fill form\n",
    "    driver.find_element(By.ID, 'nome').send_keys(tbl.loc[row, \"Nome\"])\n",
    "    driver.find_element(By.ID, 'advogado').send_keys(tbl.loc[row, \"Advogado\"])\n",
    "    driver.find_element(By.ID, 'numero').send_keys(tbl.loc[row, \"Processo\"])\n",
    "\n",
    "    # click search\n",
    "    driver.find_element(By.CLASS_NAME, 'registerbtn').click()\n",
    "    \n",
    "    # accept the search done\n",
    "    alerta = driver.switch_to.alert\n",
    "    alerta.accept()\n",
    "    \n",
    "    # wait the search's results\n",
    "    while True:\n",
    "        try:\n",
    "            alerta = driver.switch_to.alert\n",
    "            break\n",
    "        except:\n",
    "            time.sleep(1)\n",
    "    texto_alerta = alerta.text\n",
    "\n",
    "    if \"Processo encontrado com sucesso\" in texto_alerta:\n",
    "        alerta.accept()\n",
    "        tbl.loc[row, \"Status\"] = \"Found\"\n",
    "    else:\n",
    "        tbl.loc[row, \"Status\"] = \"Not found\"\n",
    "        alerta.accept()"
   ]
  },
  {
   "cell_type": "code",
   "execution_count": 32,
   "id": "83aa5b9f",
   "metadata": {
    "ExecuteTime": {
     "end_time": "2023-08-02T00:28:33.385886Z",
     "start_time": "2023-08-02T00:28:31.202309Z"
    }
   },
   "outputs": [
    {
     "data": {
      "text/html": [
       "<div>\n",
       "<style scoped>\n",
       "    .dataframe tbody tr th:only-of-type {\n",
       "        vertical-align: middle;\n",
       "    }\n",
       "\n",
       "    .dataframe tbody tr th {\n",
       "        vertical-align: top;\n",
       "    }\n",
       "\n",
       "    .dataframe thead th {\n",
       "        text-align: right;\n",
       "    }\n",
       "</style>\n",
       "<table border=\"1\" class=\"dataframe\">\n",
       "  <thead>\n",
       "    <tr style=\"text-align: right;\">\n",
       "      <th></th>\n",
       "      <th>Nome</th>\n",
       "      <th>Advogado</th>\n",
       "      <th>Processo</th>\n",
       "      <th>Cidade</th>\n",
       "      <th>Status</th>\n",
       "    </tr>\n",
       "  </thead>\n",
       "  <tbody>\n",
       "    <tr>\n",
       "      <th>0</th>\n",
       "      <td>Lira</td>\n",
       "      <td>Alon Lawyer</td>\n",
       "      <td>PC6592</td>\n",
       "      <td>Distrito Federal</td>\n",
       "      <td>Found</td>\n",
       "    </tr>\n",
       "    <tr>\n",
       "      <th>1</th>\n",
       "      <td>João</td>\n",
       "      <td>Lawyer Alon</td>\n",
       "      <td>EB3792</td>\n",
       "      <td>Rio de Janeiro</td>\n",
       "      <td>Found</td>\n",
       "    </tr>\n",
       "    <tr>\n",
       "      <th>2</th>\n",
       "      <td>Amanda</td>\n",
       "      <td>Amanda mesmo</td>\n",
       "      <td>MM1043</td>\n",
       "      <td>Rio de Janeiro</td>\n",
       "      <td>Not found</td>\n",
       "    </tr>\n",
       "    <tr>\n",
       "      <th>3</th>\n",
       "      <td>Carol</td>\n",
       "      <td>Amanda</td>\n",
       "      <td>PC5197</td>\n",
       "      <td>São Paulo</td>\n",
       "      <td>Not found</td>\n",
       "    </tr>\n",
       "  </tbody>\n",
       "</table>\n",
       "</div>"
      ],
      "text/plain": [
       "     Nome      Advogado Processo            Cidade     Status\n",
       "0    Lira   Alon Lawyer   PC6592  Distrito Federal      Found\n",
       "1    João   Lawyer Alon   EB3792    Rio de Janeiro      Found\n",
       "2  Amanda  Amanda mesmo   MM1043    Rio de Janeiro  Not found\n",
       "3   Carol        Amanda   PC5197         São Paulo  Not found"
      ]
     },
     "metadata": {},
     "output_type": "display_data"
    }
   ],
   "source": [
    "driver.quit()\n",
    "display(tbl)"
   ]
  },
  {
   "cell_type": "code",
   "execution_count": 33,
   "id": "44616db6",
   "metadata": {
    "ExecuteTime": {
     "end_time": "2023-08-02T00:52:23.804151Z",
     "start_time": "2023-08-02T00:52:03.479377Z"
    }
   },
   "outputs": [],
   "source": [
    "driver.quit()"
   ]
  },
  {
   "cell_type": "markdown",
   "id": "1d581779",
   "metadata": {},
   "source": [
    "# Screenshot"
   ]
  },
  {
   "cell_type": "code",
   "execution_count": 35,
   "id": "d7195cca",
   "metadata": {
    "ExecuteTime": {
     "end_time": "2023-08-02T00:53:36.583321Z",
     "start_time": "2023-08-02T00:53:29.676209Z"
    }
   },
   "outputs": [],
   "source": [
    "driver = webdriver.Chrome()\n",
    "driver.get(\"https://en.wikipedia.org/wiki/Main_Page\")"
   ]
  },
  {
   "cell_type": "code",
   "execution_count": 36,
   "id": "885259ff",
   "metadata": {
    "ExecuteTime": {
     "end_time": "2023-08-02T00:53:45.489827Z",
     "start_time": "2023-08-02T00:53:45.279764Z"
    }
   },
   "outputs": [
    {
     "data": {
      "text/plain": [
       "True"
      ]
     },
     "execution_count": 36,
     "metadata": {},
     "output_type": "execute_result"
    }
   ],
   "source": [
    "# Fullscreen\n",
    "driver.save_screenshot(\"print.png\")"
   ]
  },
  {
   "cell_type": "code",
   "execution_count": 43,
   "id": "8a7d0b04",
   "metadata": {
    "ExecuteTime": {
     "end_time": "2023-08-02T01:00:04.014253Z",
     "start_time": "2023-08-02T01:00:03.728321Z"
    }
   },
   "outputs": [],
   "source": [
    "# Partial screen\n",
    "\n",
    "img = Image.open(\"print.png\")\n",
    "\n",
    "element = driver.find_element(By.ID, 'bodyContent')\n",
    "\n",
    "x_start = element.location[\"x\"] * 2.5\n",
    "y_start = element.location[\"y\"] * 2.5\n",
    "x_end = (x_start + element.size[\"width\"]) * 2.5\n",
    "y_end = (y_start + element.size[\"height\"]) #* 2.5\n",
    "\n",
    "img = img.crop((x_start, y_start, x_end, y_end))\n",
    "img.save(\"print_pedaco.png\")"
   ]
  },
  {
   "cell_type": "code",
   "execution_count": 45,
   "id": "d5671819",
   "metadata": {
    "ExecuteTime": {
     "end_time": "2023-08-02T15:33:32.076712Z",
     "start_time": "2023-08-02T15:33:22.423710Z"
    }
   },
   "outputs": [],
   "source": [
    "driver.quit()"
   ]
  },
  {
   "cell_type": "markdown",
   "id": "2be8c381",
   "metadata": {},
   "source": [
    "# Adjusting browser window"
   ]
  },
  {
   "cell_type": "code",
   "execution_count": 46,
   "id": "293880c3",
   "metadata": {
    "ExecuteTime": {
     "end_time": "2023-08-02T15:33:47.995976Z",
     "start_time": "2023-08-02T15:33:36.168515Z"
    }
   },
   "outputs": [],
   "source": [
    "driver = webdriver.Chrome()\n",
    "driver.get(\"https://en.wikipedia.org/wiki/Main_Page\")"
   ]
  },
  {
   "cell_type": "markdown",
   "id": "10ff3217",
   "metadata": {},
   "source": [
    "## maximize window"
   ]
  },
  {
   "cell_type": "code",
   "execution_count": 47,
   "id": "7e382379",
   "metadata": {
    "ExecuteTime": {
     "end_time": "2023-08-02T15:34:40.618161Z",
     "start_time": "2023-08-02T15:34:40.213471Z"
    }
   },
   "outputs": [],
   "source": [
    "driver.maximize_window()"
   ]
  },
  {
   "cell_type": "markdown",
   "id": "b82dfd5f",
   "metadata": {},
   "source": [
    "## minimize window"
   ]
  },
  {
   "cell_type": "code",
   "execution_count": 48,
   "id": "27e0f655",
   "metadata": {
    "ExecuteTime": {
     "end_time": "2023-08-02T15:34:48.928044Z",
     "start_time": "2023-08-02T15:34:48.902114Z"
    }
   },
   "outputs": [],
   "source": [
    "driver.minimize_window()"
   ]
  },
  {
   "cell_type": "code",
   "execution_count": 51,
   "id": "70f5a9e2",
   "metadata": {
    "ExecuteTime": {
     "end_time": "2023-08-02T15:35:37.052125Z",
     "start_time": "2023-08-02T15:35:24.386694Z"
    }
   },
   "outputs": [
    {
     "name": "stdout",
     "output_type": "stream",
     "text": [
      "Facebook – entre ou cadastre-se\n"
     ]
    }
   ],
   "source": [
    "options = webdriver.ChromeOptions()\n",
    "options.add_argument('--headless')\n",
    "novo_nav = webdriver.Chrome(options=options)\n",
    "novo_nav.get(\"https://facebook.com\")\n",
    "print(novo_nav.title)"
   ]
  },
  {
   "cell_type": "markdown",
   "id": "8f55d932",
   "metadata": {},
   "source": [
    "# iFrames - websites embeded in websites"
   ]
  },
  {
   "cell_type": "code",
   "execution_count": 3,
   "id": "7c2aeaa2",
   "metadata": {
    "ExecuteTime": {
     "end_time": "2023-08-08T21:15:28.844220Z",
     "start_time": "2023-08-08T21:15:24.889674Z"
    }
   },
   "outputs": [],
   "source": [
    "link = \"https://pbdatatrader.com.br/jogosdodia\"\n",
    "\n",
    "driver = webdriver.Chrome()"
   ]
  },
  {
   "cell_type": "code",
   "execution_count": 7,
   "id": "8339ad87",
   "metadata": {
    "ExecuteTime": {
     "end_time": "2023-08-08T21:22:32.925645Z",
     "start_time": "2023-08-08T21:22:22.905170Z"
    }
   },
   "outputs": [],
   "source": [
    "driver.get(link)\n",
    "\n",
    "iframe = driver.find_element(By.TAG_NAME, 'iframe')\n",
    "driver.switch_to.frame(iframe)\n",
    "\n",
    "iframe = driver.find_element(By.TAG_NAME, 'iframe')\n",
    "driver.switch_to.frame(iframe)"
   ]
  },
  {
   "cell_type": "code",
   "execution_count": 8,
   "id": "c305dc85",
   "metadata": {
    "ExecuteTime": {
     "end_time": "2023-08-08T21:23:31.891008Z",
     "start_time": "2023-08-08T21:23:31.844097Z"
    }
   },
   "outputs": [
    {
     "name": "stdout",
     "output_type": "stream",
     "text": [
      "1,57\n"
     ]
    }
   ],
   "source": [
    "xpath = '//*[@id=\"pvExplorationHost\"]/div/div/exploration/div/explore-canvas/div/div[2]/div/div[2]/div[2]/visual-container-repeat/visual-container[19]/transform/div/div[2]/div/visual-modern/div/div/div[2]/div[1]/div[2]/div/div[1]/div/div/div[8]'\n",
    "text = driver.find_element(By.XPATH, xpath).text\n",
    "print(text)"
   ]
  },
  {
   "cell_type": "code",
   "execution_count": null,
   "id": "379ccdc8",
   "metadata": {},
   "outputs": [],
   "source": [
    "driver.quit()"
   ]
  },
  {
   "cell_type": "markdown",
   "id": "a62b8582",
   "metadata": {},
   "source": [
    "# Break any CAPTCHA\n",
    "A possibile solution for breaking any captcha is to register in: https://anti-captcha.com <br>\n",
    "Check it out for prices and then use the following code"
   ]
  },
  {
   "cell_type": "code",
   "execution_count": 3,
   "id": "d0469628",
   "metadata": {
    "ExecuteTime": {
     "end_time": "2023-08-08T21:29:32.398841Z",
     "start_time": "2023-08-08T21:29:30.376401Z"
    }
   },
   "outputs": [],
   "source": [
    "driver = webdriver.Chrome()"
   ]
  },
  {
   "cell_type": "code",
   "execution_count": 4,
   "id": "dc2da159",
   "metadata": {
    "ExecuteTime": {
     "end_time": "2023-08-08T21:29:34.135399Z",
     "start_time": "2023-08-08T21:29:33.057553Z"
    }
   },
   "outputs": [],
   "source": [
    "link = \"https://google.com/recaptcha/api2/demo\"\n",
    "driver.get(link)"
   ]
  },
  {
   "cell_type": "code",
   "execution_count": 5,
   "id": "06b9054f",
   "metadata": {
    "ExecuteTime": {
     "end_time": "2023-08-08T21:29:42.145383Z",
     "start_time": "2023-08-08T21:29:42.103496Z"
    }
   },
   "outputs": [
    {
     "data": {
      "text/plain": [
       "'6Le-wvkSAAAAAPBMRTvw0Q4Muexq9bi0DJwx_mJ-'"
      ]
     },
     "execution_count": 5,
     "metadata": {},
     "output_type": "execute_result"
    }
   ],
   "source": [
    "captcha_key = driver.find_element(By.ID, 'recaptcha-demo').get_attribute('data-sitekey')\n",
    "captcha_key"
   ]
  },
  {
   "cell_type": "code",
   "execution_count": 7,
   "id": "ea949899",
   "metadata": {
    "ExecuteTime": {
     "end_time": "2023-08-08T21:34:53.193210Z",
     "start_time": "2023-08-08T21:34:51.858584Z"
    }
   },
   "outputs": [
    {
     "name": "stdout",
     "output_type": "stream",
     "text": [
      "making request to createTask\n",
      "could not create task\n",
      "API error ERROR_ZERO_BALANCE: Account has zero or negative balance\n"
     ]
    }
   ],
   "source": [
    "solver = recaptchaV2Proxyless()\n",
    "solver.set_verbose(1)\n",
    "solver.set_key(anticaptcha_api_key) # register in anti-captcha.com\n",
    "solver.set_website_url(link)\n",
    "solver.set_website_key(captcha_key)\n",
    "\n",
    "resposta = solver.solve_and_return_solution()"
   ]
  },
  {
   "cell_type": "code",
   "execution_count": null,
   "id": "4975c82c",
   "metadata": {},
   "outputs": [],
   "source": [
    "if resposta != 0:\n",
    "    print(resposta)\n",
    "    # preencher o campo do token do captcha\n",
    "    # g-recaptcha-response\n",
    "    driver.execute_script(f\"document.getElementById('g-recaptcha-response').innerHTML = '{resposta}'\")\n",
    "    driver.find_element(By.ID, 'recaptcha-demo-submit').click()\n",
    "else:\n",
    "    print(solver.err_string)\n",
    "\n",
    "time.sleep(100)"
   ]
  }
 ],
 "metadata": {
  "kernelspec": {
   "display_name": "Python 3 (ipykernel)",
   "language": "python",
   "name": "python3"
  },
  "language_info": {
   "codemirror_mode": {
    "name": "ipython",
    "version": 3
   },
   "file_extension": ".py",
   "mimetype": "text/x-python",
   "name": "python",
   "nbconvert_exporter": "python",
   "pygments_lexer": "ipython3",
   "version": "3.9.12"
  },
  "toc": {
   "base_numbering": 1,
   "nav_menu": {},
   "number_sections": true,
   "sideBar": true,
   "skip_h1_title": false,
   "title_cell": "Table of Contents",
   "title_sidebar": "Contents",
   "toc_cell": false,
   "toc_position": {
    "height": "calc(100% - 180px)",
    "left": "10px",
    "top": "150px",
    "width": "273.182px"
   },
   "toc_section_display": true,
   "toc_window_display": false
  },
  "varInspector": {
   "cols": {
    "lenName": 16,
    "lenType": 16,
    "lenVar": 40
   },
   "kernels_config": {
    "python": {
     "delete_cmd_postfix": "",
     "delete_cmd_prefix": "del ",
     "library": "var_list.py",
     "varRefreshCmd": "print(var_dic_list())"
    },
    "r": {
     "delete_cmd_postfix": ") ",
     "delete_cmd_prefix": "rm(",
     "library": "var_list.r",
     "varRefreshCmd": "cat(var_dic_list()) "
    }
   },
   "types_to_exclude": [
    "module",
    "function",
    "builtin_function_or_method",
    "instance",
    "_Feature"
   ],
   "window_display": false
  }
 },
 "nbformat": 4,
 "nbformat_minor": 5
}
