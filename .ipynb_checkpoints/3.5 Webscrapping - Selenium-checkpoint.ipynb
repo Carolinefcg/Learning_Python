{
 "cells": [
  {
   "cell_type": "markdown",
   "id": "77149c18",
   "metadata": {},
   "source": [
    "# Context\n",
    "This notebook is created ti be a summary of webscrapping techniques using Selenium package."
   ]
  },
  {
   "cell_type": "markdown",
   "id": "ef0ceedd",
   "metadata": {},
   "source": [
    "# Packages"
   ]
  },
  {
   "cell_type": "code",
   "execution_count": 1,
   "id": "9d294f7a",
   "metadata": {
    "ExecuteTime": {
     "end_time": "2023-07-26T15:22:08.170175Z",
     "start_time": "2023-07-26T15:22:01.163767Z"
    }
   },
   "outputs": [],
   "source": [
    "from selenium import webdriver\n",
    "\n",
    "navegador = webdriver.Chrome()"
   ]
  },
  {
   "cell_type": "markdown",
   "id": "fdd14ac9",
   "metadata": {},
   "source": [
    "## Always have your chromedriver up to date\n",
    "The code bellow will verify if your current chromedrinker is updated and if it's not, it will download and install the most recent version for you, always making sure its compatibility with your chrome browser.<br>\n",
    "This code will also open an chrome page - don't close it.\n",
    "All pages that we will browser in will be in that Chrome new page."
   ]
  },
  {
   "cell_type": "code",
   "execution_count": 5,
   "id": "ab90d740",
   "metadata": {
    "ExecuteTime": {
     "end_time": "2023-07-26T16:03:26.718399Z",
     "start_time": "2023-07-26T16:03:09.415075Z"
    }
   },
   "outputs": [],
   "source": [
    "from selenium import webdriver\n",
    "from selenium.webdriver.chrome.service import Service\n",
    "from webdriver_manager.chrome import ChromeDriverManager\n",
    "\n",
    "servico = Service(ChromeDriverManager().install())\n",
    "navegador = webdriver.Chrome(service=servico)"
   ]
  },
  {
   "cell_type": "markdown",
   "id": "1ddf71d5",
   "metadata": {},
   "source": [
    "# Selecting elements on page"
   ]
  },
  {
   "cell_type": "code",
   "execution_count": 10,
   "id": "9385071c",
   "metadata": {
    "ExecuteTime": {
     "end_time": "2023-07-26T16:09:01.010069Z",
     "start_time": "2023-07-26T16:08:58.485870Z"
    }
   },
   "outputs": [],
   "source": [
    "import os\n",
    "\n",
    "caminho = 'C:\\\\Users\\\\Caroline\\\\OneDrive\\\\Documentos\\\\Meus estudos\\\\PYTHON\\\\HASHTAG\\\\materials\\\\MODULO 25'\n",
    "arquivo = caminho + r\"\\Pagina Hashtag.html\"\n",
    "navegador.get(arquivo)"
   ]
  },
  {
   "cell_type": "markdown",
   "id": "5c1ecc03",
   "metadata": {},
   "source": [
    "# The magic of Inspect elements\n",
    "Websites elements will have an variable useful to sucessfully identify it so we can use them to perform an action like a human - one of the biggest advantages of web scrapping. Inspect the web page and make sure to use the last button on top that seems like a mouse pointer and them you will be able to find each element components."
   ]
  },
  {
   "cell_type": "markdown",
   "id": "beed839e",
   "metadata": {},
   "source": [
    "## The order of elements identification variables\n",
    "We have 3 main variables that will allow us to select an element\n",
    "\n",
    "1. id\n",
    "2. CLASS_NAME\n",
    "3. XPATH\n",
    "\n",
    "\n",
    "Which one is the best? The best one is the one that is unique and less likely to change with website updates.<br><br>\n",
    "Id is useful when it's unique and it's not so likely to change with websites updates, same for CLASS_NAME.<br>\n",
    "XPATH has the benefit to be almost always unique, but it give us the elemnt location on page, so if an element is on the top right corner today and its changes to the top left corner tomorrow, it will fail.<BR><BR>\n",
    "    \n",
    "**There are other ways to select it**"
   ]
  },
  {
   "cell_type": "markdown",
   "id": "afdaa216",
   "metadata": {},
   "source": [
    "## By ID"
   ]
  },
  {
   "cell_type": "code",
   "execution_count": 11,
   "id": "aab6190b",
   "metadata": {
    "ExecuteTime": {
     "end_time": "2023-07-26T16:13:32.706735Z",
     "start_time": "2023-07-26T16:13:32.288600Z"
    }
   },
   "outputs": [],
   "source": [
    "from selenium.webdriver.common.by import By\n",
    "\n",
    "navegador.find_element(By.ID, 'fullname').send_keys(\"Caroline Ferreira\")\n",
    "navegador.find_element(By.ID, 'email').send_keys(\"myemail@gmail.com\")\n",
    "navegador.find_element(By.ID, '_form_176_submit').click()"
   ]
  },
  {
   "cell_type": "markdown",
   "id": "48a913ee",
   "metadata": {
    "ExecuteTime": {
     "end_time": "2023-07-26T16:39:27.246453Z",
     "start_time": "2023-07-26T16:39:27.236078Z"
    }
   },
   "source": [
    "## By Class name"
   ]
  },
  {
   "cell_type": "code",
   "execution_count": 21,
   "id": "da438b48",
   "metadata": {
    "ExecuteTime": {
     "end_time": "2023-07-26T16:44:07.524202Z",
     "start_time": "2023-07-26T16:44:06.090878Z"
    }
   },
   "outputs": [],
   "source": [
    "navegador.find_element(By.CLASS_NAME, 'custom-logo-link').click()"
   ]
  },
  {
   "cell_type": "markdown",
   "id": "c650463a",
   "metadata": {},
   "source": [
    "## By TAG_NAME"
   ]
  },
  {
   "cell_type": "code",
   "execution_count": 22,
   "id": "40f8b789",
   "metadata": {
    "ExecuteTime": {
     "end_time": "2023-07-26T16:45:33.116358Z",
     "start_time": "2023-07-26T16:45:33.022288Z"
    }
   },
   "outputs": [
    {
     "name": "stdout",
     "output_type": "stream",
     "text": [
      "Conteúdos 100% gratuitos da Hashtag Treinamentos\n"
     ]
    }
   ],
   "source": [
    "titulo = navegador.find_element(By.TAG_NAME, 'h2').text\n",
    "print(titulo)"
   ]
  },
  {
   "cell_type": "markdown",
   "id": "a90e1c2b",
   "metadata": {},
   "source": [
    "## By PARTIAL LINK TEXT"
   ]
  },
  {
   "cell_type": "code",
   "execution_count": null,
   "id": "24f7283b",
   "metadata": {},
   "outputs": [],
   "source": [
    "numero_whatsapp = navegador.find_element(By.PARTIAL_LINK_TEXT, 'WhatsApp').text\n",
    "print(numero_whatsapp)"
   ]
  },
  {
   "cell_type": "markdown",
   "id": "9cd499d8",
   "metadata": {},
   "source": [
    "# By Name"
   ]
  },
  {
   "cell_type": "code",
   "execution_count": null,
   "id": "71a35b22",
   "metadata": {},
   "outputs": [],
   "source": [
    "navegador.find_element(By.NAME, 'email').send_keys(\"myemail@gmail.com\")"
   ]
  }
 ],
 "metadata": {
  "kernelspec": {
   "display_name": "Python 3 (ipykernel)",
   "language": "python",
   "name": "python3"
  },
  "language_info": {
   "codemirror_mode": {
    "name": "ipython",
    "version": 3
   },
   "file_extension": ".py",
   "mimetype": "text/x-python",
   "name": "python",
   "nbconvert_exporter": "python",
   "pygments_lexer": "ipython3",
   "version": "3.9.12"
  },
  "toc": {
   "base_numbering": 1,
   "nav_menu": {},
   "number_sections": true,
   "sideBar": true,
   "skip_h1_title": false,
   "title_cell": "Table of Contents",
   "title_sidebar": "Contents",
   "toc_cell": false,
   "toc_position": {},
   "toc_section_display": true,
   "toc_window_display": false
  },
  "varInspector": {
   "cols": {
    "lenName": 16,
    "lenType": 16,
    "lenVar": 40
   },
   "kernels_config": {
    "python": {
     "delete_cmd_postfix": "",
     "delete_cmd_prefix": "del ",
     "library": "var_list.py",
     "varRefreshCmd": "print(var_dic_list())"
    },
    "r": {
     "delete_cmd_postfix": ") ",
     "delete_cmd_prefix": "rm(",
     "library": "var_list.r",
     "varRefreshCmd": "cat(var_dic_list()) "
    }
   },
   "types_to_exclude": [
    "module",
    "function",
    "builtin_function_or_method",
    "instance",
    "_Feature"
   ],
   "window_display": false
  }
 },
 "nbformat": 4,
 "nbformat_minor": 5
}
