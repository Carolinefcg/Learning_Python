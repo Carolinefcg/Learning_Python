{
 "cells": [
  {
   "cell_type": "markdown",
   "id": "4eb18417",
   "metadata": {},
   "source": [
    "# Python and email integration\n",
    "Python has some interting emails tools. The package imap_tools provides really cool functions that allow us to explore and email account, the emails subjects, the senders and teh files attached.\n",
    "\n",
    "Learn more about imap_tools at: https://github.com/ikvk/imap_tools/tree/master"
   ]
  },
  {
   "cell_type": "code",
   "execution_count": null,
   "id": "7b425da8",
   "metadata": {},
   "outputs": [],
   "source": [
    "from imap_tools import MailBox, AND\n",
    "from senha_email import minha_senha"
   ]
  },
  {
   "cell_type": "markdown",
   "id": "20745d6b",
   "metadata": {},
   "source": [
    "# Login"
   ]
  },
  {
   "cell_type": "code",
   "execution_count": null,
   "id": "14161a6d",
   "metadata": {},
   "outputs": [],
   "source": [
    "# Allow in your email account to codes that are nor from Google to access it\n",
    "usuario = \"emailsender@gmail.com\"\n",
    "senha = minha_senha\n",
    "\n",
    "meu_email = MailBox(\"imap.gmail.com\").login(usuario, senha)"
   ]
  },
  {
   "cell_type": "markdown",
   "id": "985fedc0",
   "metadata": {},
   "source": [
    "# Get emails from a specific sender "
   ]
  },
  {
   "cell_type": "code",
   "execution_count": null,
   "id": "ebee7f0f",
   "metadata": {},
   "outputs": [],
   "source": [
    "\n",
    "lista_emails = meu_email.fetch(AND(from_=\"emailsender@gmail.com\",\n",
    "                                   to=\"emailsender+someone@gmail.com\"))\n",
    "for email in lista_emails:\n",
    "    print(email.subject)\n",
    "    print(email.text)"
   ]
  },
  {
   "cell_type": "markdown",
   "id": "e7b9f287",
   "metadata": {},
   "source": [
    "# Get email attachments"
   ]
  },
  {
   "cell_type": "code",
   "execution_count": null,
   "id": "24573987",
   "metadata": {
    "ExecuteTime": {
     "end_time": "2023-07-25T21:19:55.078774Z",
     "start_time": "2023-07-25T21:19:54.134457Z"
    }
   },
   "outputs": [],
   "source": [
    "lista_emails = meu_email.fetch(AND(from_=\"emailsender@gmail.com\"))\n",
    "for email in lista_emails:\n",
    "    if len(email.attachments) > 0:\n",
    "        for anexo in email.attachments:\n",
    "            if \"RelatorioExcel\" in anexo.filename:\n",
    "                informacoes_anexo = anexo.payload\n",
    "                with open(\"RelatorioExcel.xlsx\", \"wb\") as arquivo_excel:\n",
    "                    arquivo_excel.write(informacoes_anexo)"
   ]
  },
  {
   "cell_type": "markdown",
   "id": "f7b4a463",
   "metadata": {},
   "source": [
    "# How to send emails\n",
    "\n",
    "Now Google security will work differently than the previous code. You'll have to created a one-time password that will make a connection to your gmail account and that send automatic emails."
   ]
  },
  {
   "cell_type": "code",
   "execution_count": null,
   "id": "827ab613",
   "metadata": {},
   "outputs": [],
   "source": [
    "import smtplib\n",
    "import email.message\n",
    "\n",
    "def enviar_email():  \n",
    "    \n",
    "    # use html here\n",
    "    corpo_email =\"\"\"\n",
    "    <p>Parágrafo1</p>\n",
    "    <p>Parágrafo2</p>\n",
    "    \"\"\"\n",
    "\n",
    "    msg = email.message.Message()\n",
    "    msg['Subject'] = \"Assunto\"\n",
    "    msg['From'] = 'remetente'\n",
    "    msg['To'] = 'destinatario'\n",
    "    password = 'senha' \n",
    "    msg.add_header('Content-Type', 'text/html')\n",
    "    msg.set_payload(corpo_email )\n",
    "\n",
    "    s = smtplib.SMTP('smtp.gmail.com: 587')\n",
    "    s.starttls()\n",
    "    # Login Credentials for sending the mail\n",
    "    s.login(msg['From'], password)\n",
    "    s.sendmail(msg['From'], [msg['To']], msg.as_string().encode('utf-8'))\n",
    "    print('Email enviado')"
   ]
  },
  {
   "cell_type": "code",
   "execution_count": null,
   "id": "4612ad2f",
   "metadata": {},
   "outputs": [],
   "source": [
    "enviar_email()"
   ]
  }
 ],
 "metadata": {
  "kernelspec": {
   "display_name": "Python 3 (ipykernel)",
   "language": "python",
   "name": "python3"
  },
  "language_info": {
   "codemirror_mode": {
    "name": "ipython",
    "version": 3
   },
   "file_extension": ".py",
   "mimetype": "text/x-python",
   "name": "python",
   "nbconvert_exporter": "python",
   "pygments_lexer": "ipython3",
   "version": "3.9.12"
  },
  "toc": {
   "base_numbering": 1,
   "nav_menu": {},
   "number_sections": true,
   "sideBar": true,
   "skip_h1_title": false,
   "title_cell": "Table of Contents",
   "title_sidebar": "Contents",
   "toc_cell": false,
   "toc_position": {},
   "toc_section_display": true,
   "toc_window_display": false
  },
  "varInspector": {
   "cols": {
    "lenName": 16,
    "lenType": 16,
    "lenVar": 40
   },
   "kernels_config": {
    "python": {
     "delete_cmd_postfix": "",
     "delete_cmd_prefix": "del ",
     "library": "var_list.py",
     "varRefreshCmd": "print(var_dic_list())"
    },
    "r": {
     "delete_cmd_postfix": ") ",
     "delete_cmd_prefix": "rm(",
     "library": "var_list.r",
     "varRefreshCmd": "cat(var_dic_list()) "
    }
   },
   "types_to_exclude": [
    "module",
    "function",
    "builtin_function_or_method",
    "instance",
    "_Feature"
   ],
   "window_display": false
  }
 },
 "nbformat": 4,
 "nbformat_minor": 5
}
