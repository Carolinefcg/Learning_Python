{
 "cells": [
  {
   "cell_type": "markdown",
   "metadata": {},
   "source": [
    "# Context\n",
    "Após ter feito o deploy do melhor modelo em 3. Projeto DS - Airbnb Rio, iniciamos neste notebook o passo 3 do passo-a-passo do deploy de um projeto,"
   ]
  },
  {
   "cell_type": "markdown",
   "metadata": {},
   "source": [
    "# Deploy do projeto\n",
    "\n",
    "* Passo 1 -> Criar arquivo do Modelo (joblib)\n",
    "* Passo 2 -> Escolher a forma do deploy\n",
    "\n",
    "    - Arquivo executável + Tkinter\n",
    "    - Deploy em um Microsite (Flask)\n",
    "    - Deploy apenas para uso direto (Streamlit)\n",
    "\n",
    "* Passo 3 -> Outro arquivo Python (jupyter ou PyCharm) <font color= 'green'> > Estamos aqui!</font>\n",
    "* Passo 4 -> Importar streamlit e criar código\n",
    "* Passo 5 -> Atribuir ao botã"
   ]
  },
  {
   "cell_type": "markdown",
   "metadata": {},
   "source": [
    "# Import de bibliotecas"
   ]
  },
  {
   "cell_type": "code",
   "execution_count": 1,
   "metadata": {
    "ExecuteTime": {
     "end_time": "2023-05-08T23:06:23.660398Z",
     "start_time": "2023-05-08T23:05:52.978875Z"
    }
   },
   "outputs": [],
   "source": [
    "import pandas as pd\n",
    "import streamlit as st\n",
    "import joblib"
   ]
  },
  {
   "cell_type": "markdown",
   "metadata": {},
   "source": [
    "# Separando os tipos das variáveis"
   ]
  },
  {
   "cell_type": "code",
   "execution_count": 2,
   "metadata": {
    "ExecuteTime": {
     "end_time": "2023-05-08T23:06:23.676454Z",
     "start_time": "2023-05-08T23:06:23.664452Z"
    }
   },
   "outputs": [],
   "source": [
    "x_numericos = {'latitude': 0, 'longitude': 0, 'accommodates': 0, 'bathrooms': 0, 'bedrooms': 0, 'beds': 0, 'extra_people': 0,\n",
    "               'minimum_nights': 0, 'ano': 0, 'mes': 0, 'n_amenities': 0, 'host_listings_count': 0}\n",
    "\n",
    "x_tf = {'host_is_superhost': 0, 'instant_bookable': 0}\n",
    "\n",
    "x_listas = {'property_type': ['Apartment', 'Bed and breakfast', 'Condominium', 'Guest suite', 'Guesthouse', 'Hostel', 'House', 'Loft', 'Outros', 'Serviced apartment'],\n",
    "            'room_type': ['Entire home/apt', 'Hotel room', 'Private room', 'Shared room'],\n",
    "            'cancelation_policy': ['flexible', 'moderate', 'strict', 'strict_14_with_grace_period']\n",
    "            }"
   ]
  },
  {
   "cell_type": "code",
   "execution_count": 12,
   "metadata": {
    "ExecuteTime": {
     "end_time": "2023-05-08T23:30:51.969941Z",
     "start_time": "2023-05-08T23:30:51.954315Z"
    }
   },
   "outputs": [],
   "source": [
    "dicionario = {}\n",
    "dic_list = []\n",
    "for key, item in x_listas.items():\n",
    "    for value in item:\n",
    "        dic_list.append(str(key)+'_'+str(value))\n",
    "        dicionario[f'{key}_{value}'] = 0"
   ]
  },
  {
   "cell_type": "code",
   "execution_count": 15,
   "metadata": {
    "ExecuteTime": {
     "end_time": "2023-05-08T23:41:19.157058Z",
     "start_time": "2023-05-08T23:41:19.137058Z"
    }
   },
   "outputs": [],
   "source": [
    "for item in x_numericos:\n",
    "    if item == 'latitude' or item == 'longitude':\n",
    "        valor = st.number_input(f'{item}', step=0.00001, value=0.0, format=\"%.5f\")\n",
    "    elif item == 'extra_people':\n",
    "        valor = st.number_input(f'{item}', step=0.01, value=0.0)\n",
    "    else:\n",
    "        valor = st.number_input(f'{item}', step=1, value=0)\n",
    "    x_numericos[item] = valor\n",
    "\n",
    "for item in x_tf:\n",
    "    valor = st.selectbox(f'{item}', ('Sim', 'Não'))\n",
    "    if valor == \"Sim\":\n",
    "        x_tf[item] = 1\n",
    "    else:\n",
    "        x_tf[item] = 0\n",
    "    \n",
    "    \n",
    "for item in x_listas:\n",
    "    valor = st.selectbox(f'{item}', x_listas[item])\n",
    "    dicionario[f'{item}_{valor}'] = 1"
   ]
  },
  {
   "cell_type": "code",
   "execution_count": null,
   "metadata": {},
   "outputs": [],
   "source": [
    "ordem_colunas = ['host_is_superhost',\n",
    " 'host_listings_count',\n",
    " 'latitude',\n",
    " 'longitude',\n",
    " 'accommodates',\n",
    " 'bathrooms',\n",
    " 'bedrooms',\n",
    " 'beds',\n",
    " 'price',\n",
    " 'extra_people',\n",
    " 'minimum_nights',\n",
    " 'instant_bookable',\n",
    " 'ano',\n",
    " 'mes',\n",
    " 'nr_amenities',\n",
    " 'property_type_Apartment',\n",
    " 'property_type_Bed and breakfast',\n",
    " 'property_type_Condominium',\n",
    " 'property_type_Guest suite',\n",
    " 'property_type_Guesthouse',\n",
    " 'property_type_Hostel',\n",
    " 'property_type_House',\n",
    " 'property_type_Loft',\n",
    " 'property_type_Other',\n",
    " 'property_type_Serviced apartment',\n",
    " 'room_type_Entire home/apt',\n",
    " 'room_type_Hotel room',\n",
    " 'room_type_Private room',\n",
    " 'room_type_Shared room',\n",
    " 'bed_type_Others',\n",
    " 'bed_type_Real Bed',\n",
    " 'cancellation_policy_flexible',\n",
    " 'cancellation_policy_moderate',\n",
    " 'cancellation_policy_strict',\n",
    " 'cancellation_policy_strict_14_with_grace_period']"
   ]
  },
  {
   "cell_type": "code",
   "execution_count": null,
   "metadata": {},
   "outputs": [],
   "source": [
    "botao = st.button('Prever Valor do Imóvel')\n",
    "\n",
    "if botao:\n",
    "    dicionario.update(x_numericos)\n",
    "    dicionario.update(x_tf)\n",
    "    valores_x = pd.DataFrame(dicionario, index=[0])\n",
    "    # ordenando conforme os dados de model.fit\n",
    "    valores_x = valores_x[ordem_colunas]\n",
    "    modelo = joblib.load( r'../../PYTHON/HASHTAG/data/m_extra_trees.joblib')\n",
    "    preco = modelo.predict(valores_x)\n",
    "    st.write(preco[0])"
   ]
  }
 ],
 "metadata": {
  "kernelspec": {
   "display_name": "Python 3 (ipykernel)",
   "language": "python",
   "name": "python3"
  },
  "language_info": {
   "codemirror_mode": {
    "name": "ipython",
    "version": 3
   },
   "file_extension": ".py",
   "mimetype": "text/x-python",
   "name": "python",
   "nbconvert_exporter": "python",
   "pygments_lexer": "ipython3",
   "version": "3.9.12"
  },
  "toc": {
   "base_numbering": 1,
   "nav_menu": {},
   "number_sections": true,
   "sideBar": true,
   "skip_h1_title": false,
   "title_cell": "Table of Contents",
   "title_sidebar": "Contents",
   "toc_cell": false,
   "toc_position": {},
   "toc_section_display": true,
   "toc_window_display": false
  },
  "varInspector": {
   "cols": {
    "lenName": 16,
    "lenType": 16,
    "lenVar": 40
   },
   "kernels_config": {
    "python": {
     "delete_cmd_postfix": "",
     "delete_cmd_prefix": "del ",
     "library": "var_list.py",
     "varRefreshCmd": "print(var_dic_list())"
    },
    "r": {
     "delete_cmd_postfix": ") ",
     "delete_cmd_prefix": "rm(",
     "library": "var_list.r",
     "varRefreshCmd": "cat(var_dic_list()) "
    }
   },
   "types_to_exclude": [
    "module",
    "function",
    "builtin_function_or_method",
    "instance",
    "_Feature"
   ],
   "window_display": false
  }
 },
 "nbformat": 4,
 "nbformat_minor": 4
}
