{
 "cells": [
  {
   "cell_type": "markdown",
   "id": "b8daed95",
   "metadata": {
    "id": "b8daed95"
   },
   "source": [
    "## Exercício Desafio\n",
    "\n",
    "- Digamos que seu chefe pediu para você um relatório da análise dos salários da unidade de San Francisco da empresa. O objetivo dele é entender:\n",
    "\n",
    "1. Qual foi a evolução do salário médio ao longo dos anos (TotalPay e TotalPayBenefits)\n",
    "2. Quantos funcionários tivemos ao longo dos anos\n",
    "3. Qual foi a evolução do total gasto com salário ao longo dos anos (TotalPayBenefits)\n",
    "\n",
    "- Base de Dados a ser usada: salarios.sqlite"
   ]
  },
  {
   "cell_type": "markdown",
   "id": "72a28f89",
   "metadata": {
    "ExecuteTime": {
     "end_time": "2023-04-18T18:53:00.971185Z",
     "start_time": "2023-04-18T18:53:00.954731Z"
    }
   },
   "source": [
    "### Configurando notebook"
   ]
  },
  {
   "cell_type": "code",
   "execution_count": 2,
   "id": "ce840110",
   "metadata": {
    "ExecuteTime": {
     "end_time": "2023-04-18T18:53:26.756444Z",
     "start_time": "2023-04-18T18:53:25.888415Z"
    }
   },
   "outputs": [],
   "source": [
    "import pandas as pd\n",
    "import sqlite3"
   ]
  },
  {
   "cell_type": "code",
   "execution_count": 18,
   "id": "04849817",
   "metadata": {
    "ExecuteTime": {
     "end_time": "2023-04-18T19:06:47.410955Z",
     "start_time": "2023-04-18T19:06:47.396889Z"
    }
   },
   "outputs": [],
   "source": [
    "pd.set_option('display.float_format', '{:.5f}'.format)"
   ]
  },
  {
   "cell_type": "markdown",
   "id": "f532539d",
   "metadata": {
    "id": "f532539d"
   },
   "source": [
    "### Importação da Base de Dados"
   ]
  },
  {
   "cell_type": "markdown",
   "id": "4a82d3ee",
   "metadata": {},
   "source": [
    "#### Conexão com o db usando o ``pd.read_sql``"
   ]
  },
  {
   "cell_type": "code",
   "execution_count": 3,
   "id": "267e99a6",
   "metadata": {
    "ExecuteTime": {
     "end_time": "2023-04-18T18:54:50.652091Z",
     "start_time": "2023-04-18T18:54:50.489778Z"
    }
   },
   "outputs": [],
   "source": [
    "conexao = sqlite3.connect('../data/salarios.sqlite')"
   ]
  },
  {
   "cell_type": "code",
   "execution_count": 5,
   "id": "195d34e1",
   "metadata": {
    "ExecuteTime": {
     "end_time": "2023-04-18T18:55:59.766249Z",
     "start_time": "2023-04-18T18:55:57.404095Z"
    },
    "id": "195d34e1"
   },
   "outputs": [
    {
     "data": {
      "text/html": [
       "<div>\n",
       "<style scoped>\n",
       "    .dataframe tbody tr th:only-of-type {\n",
       "        vertical-align: middle;\n",
       "    }\n",
       "\n",
       "    .dataframe tbody tr th {\n",
       "        vertical-align: top;\n",
       "    }\n",
       "\n",
       "    .dataframe thead th {\n",
       "        text-align: right;\n",
       "    }\n",
       "</style>\n",
       "<table border=\"1\" class=\"dataframe\">\n",
       "  <thead>\n",
       "    <tr style=\"text-align: right;\">\n",
       "      <th></th>\n",
       "      <th>Id</th>\n",
       "      <th>EmployeeName</th>\n",
       "      <th>JobTitle</th>\n",
       "      <th>BasePay</th>\n",
       "      <th>OvertimePay</th>\n",
       "      <th>OtherPay</th>\n",
       "      <th>Benefits</th>\n",
       "      <th>TotalPay</th>\n",
       "      <th>TotalPayBenefits</th>\n",
       "      <th>Year</th>\n",
       "      <th>Notes</th>\n",
       "      <th>Agency</th>\n",
       "      <th>Status</th>\n",
       "    </tr>\n",
       "  </thead>\n",
       "  <tbody>\n",
       "    <tr>\n",
       "      <th>0</th>\n",
       "      <td>1</td>\n",
       "      <td>NATHANIEL FORD</td>\n",
       "      <td>GENERAL MANAGER-METROPOLITAN TRANSIT AUTHORITY</td>\n",
       "      <td>167411.18</td>\n",
       "      <td>0</td>\n",
       "      <td>400184.25</td>\n",
       "      <td></td>\n",
       "      <td>567595.43</td>\n",
       "      <td>567595.43</td>\n",
       "      <td>2011</td>\n",
       "      <td></td>\n",
       "      <td>San Francisco</td>\n",
       "      <td></td>\n",
       "    </tr>\n",
       "    <tr>\n",
       "      <th>1</th>\n",
       "      <td>2</td>\n",
       "      <td>GARY JIMENEZ</td>\n",
       "      <td>CAPTAIN III (POLICE DEPARTMENT)</td>\n",
       "      <td>155966.02</td>\n",
       "      <td>245131.88</td>\n",
       "      <td>137811.38</td>\n",
       "      <td></td>\n",
       "      <td>538909.28</td>\n",
       "      <td>538909.28</td>\n",
       "      <td>2011</td>\n",
       "      <td></td>\n",
       "      <td>San Francisco</td>\n",
       "      <td></td>\n",
       "    </tr>\n",
       "    <tr>\n",
       "      <th>2</th>\n",
       "      <td>3</td>\n",
       "      <td>ALBERT PARDINI</td>\n",
       "      <td>CAPTAIN III (POLICE DEPARTMENT)</td>\n",
       "      <td>212739.13</td>\n",
       "      <td>106088.18</td>\n",
       "      <td>16452.6</td>\n",
       "      <td></td>\n",
       "      <td>335279.91</td>\n",
       "      <td>335279.91</td>\n",
       "      <td>2011</td>\n",
       "      <td></td>\n",
       "      <td>San Francisco</td>\n",
       "      <td></td>\n",
       "    </tr>\n",
       "  </tbody>\n",
       "</table>\n",
       "</div>"
      ],
      "text/plain": [
       "   Id    EmployeeName                                        JobTitle  \\\n",
       "0   1  NATHANIEL FORD  GENERAL MANAGER-METROPOLITAN TRANSIT AUTHORITY   \n",
       "1   2    GARY JIMENEZ                 CAPTAIN III (POLICE DEPARTMENT)   \n",
       "2   3  ALBERT PARDINI                 CAPTAIN III (POLICE DEPARTMENT)   \n",
       "\n",
       "     BasePay OvertimePay   OtherPay Benefits   TotalPay  TotalPayBenefits  \\\n",
       "0  167411.18           0  400184.25           567595.43         567595.43   \n",
       "1  155966.02   245131.88  137811.38           538909.28         538909.28   \n",
       "2  212739.13   106088.18    16452.6           335279.91         335279.91   \n",
       "\n",
       "   Year Notes         Agency Status  \n",
       "0  2011        San Francisco         \n",
       "1  2011        San Francisco         \n",
       "2  2011        San Francisco         "
      ]
     },
     "execution_count": 5,
     "metadata": {},
     "output_type": "execute_result"
    }
   ],
   "source": [
    "tbl_sal = pd.read_sql('SELECT * FROM salaries',\n",
    "                     conexao)\n",
    "tbl_sal.head(3)"
   ]
  },
  {
   "cell_type": "markdown",
   "id": "3bd21a42",
   "metadata": {},
   "source": [
    "#### Encerrar conexão"
   ]
  },
  {
   "cell_type": "code",
   "execution_count": 6,
   "id": "fea8c7f1",
   "metadata": {
    "ExecuteTime": {
     "end_time": "2023-04-18T18:56:46.323317Z",
     "start_time": "2023-04-18T18:56:46.294830Z"
    }
   },
   "outputs": [],
   "source": [
    "conexao.close()"
   ]
  },
  {
   "cell_type": "markdown",
   "id": "611c5a65",
   "metadata": {
    "id": "611c5a65"
   },
   "source": [
    "### Análise de Dados"
   ]
  },
  {
   "cell_type": "code",
   "execution_count": 22,
   "id": "57fcbaef",
   "metadata": {
    "ExecuteTime": {
     "end_time": "2023-04-18T19:09:44.552410Z",
     "start_time": "2023-04-18T19:09:44.423841Z"
    },
    "id": "57fcbaef"
   },
   "outputs": [],
   "source": [
    "# garantindo que estamos só com San Francisco\n",
    "tbl_sal = tbl_sal.loc[tbl_sal['Agency'] == 'San Francisco', :]"
   ]
  },
  {
   "cell_type": "markdown",
   "id": "7f022731",
   "metadata": {
    "id": "7f022731"
   },
   "source": [
    "##### 1. Qual foi a evolução do salário médio ao longo dos anos"
   ]
  },
  {
   "cell_type": "code",
   "execution_count": 29,
   "id": "f92a59ab",
   "metadata": {
    "ExecuteTime": {
     "end_time": "2023-04-18T19:13:00.080753Z",
     "start_time": "2023-04-18T19:13:00.038735Z"
    },
    "id": "f92a59ab"
   },
   "outputs": [
    {
     "data": {
      "text/html": [
       "<div>\n",
       "<style scoped>\n",
       "    .dataframe tbody tr th:only-of-type {\n",
       "        vertical-align: middle;\n",
       "    }\n",
       "\n",
       "    .dataframe tbody tr th {\n",
       "        vertical-align: top;\n",
       "    }\n",
       "\n",
       "    .dataframe thead th {\n",
       "        text-align: right;\n",
       "    }\n",
       "</style>\n",
       "<table border=\"1\" class=\"dataframe\">\n",
       "  <thead>\n",
       "    <tr style=\"text-align: right;\">\n",
       "      <th></th>\n",
       "      <th>TotalPay</th>\n",
       "      <th>TotalPayBenefits</th>\n",
       "    </tr>\n",
       "    <tr>\n",
       "      <th>Year</th>\n",
       "      <th></th>\n",
       "      <th></th>\n",
       "    </tr>\n",
       "  </thead>\n",
       "  <tbody>\n",
       "    <tr>\n",
       "      <th>2011</th>\n",
       "      <td>71744.10387</td>\n",
       "      <td>71744.10387</td>\n",
       "    </tr>\n",
       "    <tr>\n",
       "      <th>2012</th>\n",
       "      <td>74113.26227</td>\n",
       "      <td>100553.22923</td>\n",
       "    </tr>\n",
       "    <tr>\n",
       "      <th>2013</th>\n",
       "      <td>77611.44314</td>\n",
       "      <td>101440.51971</td>\n",
       "    </tr>\n",
       "    <tr>\n",
       "      <th>2014</th>\n",
       "      <td>75463.91814</td>\n",
       "      <td>100250.91888</td>\n",
       "    </tr>\n",
       "  </tbody>\n",
       "</table>\n",
       "</div>"
      ],
      "text/plain": [
       "        TotalPay  TotalPayBenefits\n",
       "Year                              \n",
       "2011 71744.10387       71744.10387\n",
       "2012 74113.26227      100553.22923\n",
       "2013 77611.44314      101440.51971\n",
       "2014 75463.91814      100250.91888"
      ]
     },
     "execution_count": 29,
     "metadata": {},
     "output_type": "execute_result"
    }
   ],
   "source": [
    "sal_medio_anos = tbl_sal[['TotalPay','TotalPayBenefits', 'Year']].groupby('Year').mean()\n",
    "sal_medio_anos"
   ]
  },
  {
   "cell_type": "markdown",
   "id": "b5b8a6ca",
   "metadata": {
    "id": "b5b8a6ca"
   },
   "source": [
    "##### 2. Quantos funcionários tivemos ao longo dos anos"
   ]
  },
  {
   "cell_type": "code",
   "execution_count": 26,
   "id": "32d05257",
   "metadata": {
    "ExecuteTime": {
     "end_time": "2023-04-18T19:09:45.080346Z",
     "start_time": "2023-04-18T19:09:45.027878Z"
    },
    "id": "32d05257"
   },
   "outputs": [
    {
     "data": {
      "text/html": [
       "<div>\n",
       "<style scoped>\n",
       "    .dataframe tbody tr th:only-of-type {\n",
       "        vertical-align: middle;\n",
       "    }\n",
       "\n",
       "    .dataframe tbody tr th {\n",
       "        vertical-align: top;\n",
       "    }\n",
       "\n",
       "    .dataframe thead th {\n",
       "        text-align: right;\n",
       "    }\n",
       "</style>\n",
       "<table border=\"1\" class=\"dataframe\">\n",
       "  <thead>\n",
       "    <tr style=\"text-align: right;\">\n",
       "      <th></th>\n",
       "      <th>Id</th>\n",
       "    </tr>\n",
       "    <tr>\n",
       "      <th>Year</th>\n",
       "      <th></th>\n",
       "    </tr>\n",
       "  </thead>\n",
       "  <tbody>\n",
       "    <tr>\n",
       "      <th>2011</th>\n",
       "      <td>36159</td>\n",
       "    </tr>\n",
       "    <tr>\n",
       "      <th>2012</th>\n",
       "      <td>36766</td>\n",
       "    </tr>\n",
       "    <tr>\n",
       "      <th>2013</th>\n",
       "      <td>37606</td>\n",
       "    </tr>\n",
       "    <tr>\n",
       "      <th>2014</th>\n",
       "      <td>38123</td>\n",
       "    </tr>\n",
       "  </tbody>\n",
       "</table>\n",
       "</div>"
      ],
      "text/plain": [
       "         Id\n",
       "Year       \n",
       "2011  36159\n",
       "2012  36766\n",
       "2013  37606\n",
       "2014  38123"
      ]
     },
     "execution_count": 26,
     "metadata": {},
     "output_type": "execute_result"
    }
   ],
   "source": [
    "func_anos = tbl_sal[['Id', 'Year']].groupby('Year').count()\n",
    "func_anos"
   ]
  },
  {
   "cell_type": "markdown",
   "id": "8b87ce08",
   "metadata": {
    "id": "8b87ce08"
   },
   "source": [
    "##### 3. Qual foi a evolução do total gasto com salário ao longo dos anos"
   ]
  },
  {
   "cell_type": "markdown",
   "id": "a569bae5",
   "metadata": {},
   "source": [
    "###### formatando valor no df"
   ]
  },
  {
   "cell_type": "code",
   "execution_count": 40,
   "id": "83b4bdd3",
   "metadata": {
    "ExecuteTime": {
     "end_time": "2023-04-18T19:18:34.497148Z",
     "start_time": "2023-04-18T19:18:34.486159Z"
    }
   },
   "outputs": [],
   "source": [
    "def formatar(valor):\n",
    "    return 'R$ {:,.2f}'.format(valor)"
   ]
  },
  {
   "cell_type": "code",
   "execution_count": 41,
   "id": "365c4247",
   "metadata": {
    "ExecuteTime": {
     "end_time": "2023-04-18T19:18:35.327516Z",
     "start_time": "2023-04-18T19:18:35.299682Z"
    },
    "id": "365c4247"
   },
   "outputs": [
    {
     "data": {
      "text/html": [
       "<div>\n",
       "<style scoped>\n",
       "    .dataframe tbody tr th:only-of-type {\n",
       "        vertical-align: middle;\n",
       "    }\n",
       "\n",
       "    .dataframe tbody tr th {\n",
       "        vertical-align: top;\n",
       "    }\n",
       "\n",
       "    .dataframe thead th {\n",
       "        text-align: right;\n",
       "    }\n",
       "</style>\n",
       "<table border=\"1\" class=\"dataframe\">\n",
       "  <thead>\n",
       "    <tr style=\"text-align: right;\">\n",
       "      <th></th>\n",
       "      <th>TotalPayBenefits</th>\n",
       "    </tr>\n",
       "    <tr>\n",
       "      <th>Year</th>\n",
       "      <th></th>\n",
       "    </tr>\n",
       "  </thead>\n",
       "  <tbody>\n",
       "    <tr>\n",
       "      <th>2011</th>\n",
       "      <td>R$ 2,594,195,051.88</td>\n",
       "    </tr>\n",
       "    <tr>\n",
       "      <th>2012</th>\n",
       "      <td>R$ 3,696,940,025.96</td>\n",
       "    </tr>\n",
       "    <tr>\n",
       "      <th>2013</th>\n",
       "      <td>R$ 3,814,772,184.37</td>\n",
       "    </tr>\n",
       "    <tr>\n",
       "      <th>2014</th>\n",
       "      <td>R$ 3,821,865,780.60</td>\n",
       "    </tr>\n",
       "  </tbody>\n",
       "</table>\n",
       "</div>"
      ],
      "text/plain": [
       "         TotalPayBenefits\n",
       "Year                     \n",
       "2011  R$ 2,594,195,051.88\n",
       "2012  R$ 3,696,940,025.96\n",
       "2013  R$ 3,814,772,184.37\n",
       "2014  R$ 3,821,865,780.60"
      ]
     },
     "execution_count": 41,
     "metadata": {},
     "output_type": "execute_result"
    }
   ],
   "source": [
    "total_sal_anos = tbl_sal[['TotalPayBenefits', 'Year']].groupby('Year').sum()\n",
    "total_sal_anos['TotalPayBenefits'] = total_sal_anos['TotalPayBenefits'].apply(formatar)\n",
    "total_sal_anos"
   ]
  },
  {
   "cell_type": "code",
   "execution_count": null,
   "id": "26be644e",
   "metadata": {
    "id": "26be644e"
   },
   "outputs": [],
   "source": []
  }
 ],
 "metadata": {
  "colab": {
   "provenance": []
  },
  "kernelspec": {
   "display_name": "Python 3 (ipykernel)",
   "language": "python",
   "name": "python3"
  },
  "language_info": {
   "codemirror_mode": {
    "name": "ipython",
    "version": 3
   },
   "file_extension": ".py",
   "mimetype": "text/x-python",
   "name": "python",
   "nbconvert_exporter": "python",
   "pygments_lexer": "ipython3",
   "version": "3.9.12"
  },
  "toc": {
   "base_numbering": 1,
   "nav_menu": {},
   "number_sections": true,
   "sideBar": true,
   "skip_h1_title": false,
   "title_cell": "Table of Contents",
   "title_sidebar": "Contents",
   "toc_cell": false,
   "toc_position": {},
   "toc_section_display": true,
   "toc_window_display": false
  },
  "varInspector": {
   "cols": {
    "lenName": 16,
    "lenType": 16,
    "lenVar": 40
   },
   "kernels_config": {
    "python": {
     "delete_cmd_postfix": "",
     "delete_cmd_prefix": "del ",
     "library": "var_list.py",
     "varRefreshCmd": "print(var_dic_list())"
    },
    "r": {
     "delete_cmd_postfix": ") ",
     "delete_cmd_prefix": "rm(",
     "library": "var_list.r",
     "varRefreshCmd": "cat(var_dic_list()) "
    }
   },
   "types_to_exclude": [
    "module",
    "function",
    "builtin_function_or_method",
    "instance",
    "_Feature"
   ],
   "window_display": false
  }
 },
 "nbformat": 4,
 "nbformat_minor": 5
}
