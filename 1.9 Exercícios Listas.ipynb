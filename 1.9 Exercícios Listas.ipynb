{
 "cells": [
  {
   "cell_type": "markdown",
   "metadata": {},
   "source": [
    "# Exercícios\n",
    "\n",
    "## 1. Faturamento do Melhor e do Pior Mês do Ano\n",
    "\n",
    "Qual foi o valor de vendas do melhor mês do Ano?\n",
    "E valor do pior mês do ano?"
   ]
  },
  {
   "cell_type": "code",
   "execution_count": 93,
   "metadata": {
    "ExecuteTime": {
     "end_time": "2023-03-22T19:01:18.082813Z",
     "start_time": "2023-03-22T19:01:18.051646Z"
    }
   },
   "outputs": [],
   "source": [
    "meses = ['jan', 'fev', 'mar', 'abr', 'mai', 'jun', 'jul', 'ago', 'set', 'out', 'nov', 'dez']\n",
    "vendas_1sem = [25000, 29000, 22200, 17750, 15870, 19900]\n",
    "vendas_2sem = [19850, 20120, 17540, 15555, 49051, 9650]"
   ]
  },
  {
   "cell_type": "markdown",
   "metadata": {},
   "source": [
    "## 2. Continuação\n",
    "\n",
    "Agora relacione as duas listas para printar 'O melhor mês do ano foi {} com {} vendas' e o mesmo para o pior mês do ano.\n",
    "\n",
    "Calcule também o faturamento total do Ano e quanto que o melhor mês representou do faturamento total.\n",
    "\n",
    "Obs: Para o faturamento total, pode usar a função sum(lista) que soma todos os itens de uma lista"
   ]
  },
  {
   "cell_type": "code",
   "execution_count": 47,
   "metadata": {
    "ExecuteTime": {
     "end_time": "2023-03-22T18:43:42.471286Z",
     "start_time": "2023-03-22T18:43:42.449152Z"
    }
   },
   "outputs": [],
   "source": [
    "vendas_1sem.extend(vendas_2sem)"
   ]
  },
  {
   "cell_type": "code",
   "execution_count": 48,
   "metadata": {
    "ExecuteTime": {
     "end_time": "2023-03-22T18:43:42.649636Z",
     "start_time": "2023-03-22T18:43:42.618392Z"
    }
   },
   "outputs": [
    {
     "name": "stdout",
     "output_type": "stream",
     "text": [
      "O melhor mês do ano foi nov com 49051 vendas\n"
     ]
    }
   ],
   "source": [
    "print('O melhor mês do ano foi {} com {} vendas'.format(meses[vendas_1sem.index(max(vendas_1sem))], max(vendas_1sem)))"
   ]
  },
  {
   "cell_type": "code",
   "execution_count": 49,
   "metadata": {
    "ExecuteTime": {
     "end_time": "2023-03-22T18:44:05.322264Z",
     "start_time": "2023-03-22T18:44:05.306641Z"
    }
   },
   "outputs": [
    {
     "name": "stdout",
     "output_type": "stream",
     "text": [
      "O pior mês do ano foi dez com 9650 vendas\n"
     ]
    }
   ],
   "source": [
    "print('O pior mês do ano foi {} com {} vendas'.format(meses[vendas_1sem.index(min(vendas_1sem))], min(vendas_1sem)))"
   ]
  },
  {
   "cell_type": "code",
   "execution_count": 68,
   "metadata": {
    "ExecuteTime": {
     "end_time": "2023-03-22T18:51:34.365721Z",
     "start_time": "2023-03-22T18:51:34.350141Z"
    }
   },
   "outputs": [
    {
     "name": "stdout",
     "output_type": "stream",
     "text": [
      "Faturamento total de R$261,486 \n",
      "O mês de nov representa 18.76% do faturamento total\n"
     ]
    }
   ],
   "source": [
    "print('Faturamento total de R${:,} \\nO mês de {} representa {:.2%} do faturamento total'.format(\n",
    "    sum(vendas_1sem), \n",
    "    meses[vendas_1sem.index(max(vendas_1sem))],\n",
    "    max(vendas_1sem)/sum(vendas_1sem)))"
   ]
  },
  {
   "cell_type": "markdown",
   "metadata": {},
   "source": [
    "## 3. Crie uma lista com o top 3 valores de vendas do ano (sem fazer \"no olho\")\n",
    "\n",
    "Dica: o método remove retira um item da lista."
   ]
  },
  {
   "cell_type": "code",
   "execution_count": 97,
   "metadata": {
    "ExecuteTime": {
     "end_time": "2023-03-22T19:01:37.378011Z",
     "start_time": "2023-03-22T19:01:37.362396Z"
    }
   },
   "outputs": [],
   "source": [
    "# NAO FACA vendas = vendas_1sem\n",
    "# FACA\n",
    "vendas = vendas_1sem.copy()\n",
    "# ou\n",
    "vendas = vendas_1sem[:]\n",
    "\n",
    "vendas.sort(reverse=True) "
   ]
  },
  {
   "cell_type": "code",
   "execution_count": 98,
   "metadata": {
    "ExecuteTime": {
     "end_time": "2023-03-22T19:01:37.609506Z",
     "start_time": "2023-03-22T19:01:37.578362Z"
    }
   },
   "outputs": [],
   "source": [
    "top3 = vendas[:3]"
   ]
  },
  {
   "cell_type": "code",
   "execution_count": 99,
   "metadata": {
    "ExecuteTime": {
     "end_time": "2023-03-22T19:01:37.809758Z",
     "start_time": "2023-03-22T19:01:37.794112Z"
    }
   },
   "outputs": [
    {
     "data": {
      "text/plain": [
       "[29000, 25000, 22200]"
      ]
     },
     "execution_count": 99,
     "metadata": {},
     "output_type": "execute_result"
    }
   ],
   "source": [
    "top3"
   ]
  },
  {
   "cell_type": "code",
   "execution_count": null,
   "metadata": {},
   "outputs": [],
   "source": []
  }
 ],
 "metadata": {
  "kernelspec": {
   "display_name": "Python 3 (ipykernel)",
   "language": "python",
   "name": "python3"
  },
  "language_info": {
   "codemirror_mode": {
    "name": "ipython",
    "version": 3
   },
   "file_extension": ".py",
   "mimetype": "text/x-python",
   "name": "python",
   "nbconvert_exporter": "python",
   "pygments_lexer": "ipython3",
   "version": "3.9.12"
  },
  "varInspector": {
   "cols": {
    "lenName": 16,
    "lenType": 16,
    "lenVar": 40
   },
   "kernels_config": {
    "python": {
     "delete_cmd_postfix": "",
     "delete_cmd_prefix": "del ",
     "library": "var_list.py",
     "varRefreshCmd": "print(var_dic_list())"
    },
    "r": {
     "delete_cmd_postfix": ") ",
     "delete_cmd_prefix": "rm(",
     "library": "var_list.r",
     "varRefreshCmd": "cat(var_dic_list()) "
    }
   },
   "types_to_exclude": [
    "module",
    "function",
    "builtin_function_or_method",
    "instance",
    "_Feature"
   ],
   "window_display": false
  }
 },
 "nbformat": 4,
 "nbformat_minor": 4
}
