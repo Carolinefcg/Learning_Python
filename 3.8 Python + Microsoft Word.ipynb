{
 "cells": [
  {
   "cell_type": "code",
   "execution_count": 12,
   "id": "dfc90d0a",
   "metadata": {
    "ExecuteTime": {
     "end_time": "2023-08-08T23:21:45.440687Z",
     "start_time": "2023-08-08T23:21:45.420741Z"
    }
   },
   "outputs": [],
   "source": [
    "from docx import Document\n",
    "import os"
   ]
  },
  {
   "cell_type": "code",
   "execution_count": 13,
   "id": "e0ff3232",
   "metadata": {
    "ExecuteTime": {
     "end_time": "2023-08-08T23:21:45.518978Z",
     "start_time": "2023-08-08T23:21:45.443678Z"
    }
   },
   "outputs": [],
   "source": [
    "path = os.getcwd().replace('GitHub', 'github_data')"
   ]
  },
  {
   "cell_type": "code",
   "execution_count": 14,
   "id": "bf67c636",
   "metadata": {
    "ExecuteTime": {
     "end_time": "2023-08-08T23:21:45.612449Z",
     "start_time": "2023-08-08T23:21:45.522972Z"
    }
   },
   "outputs": [],
   "source": [
    "# criando o documento no Python\n",
    "documento = Document()\n",
    "\n",
    "faturamento = 1000\n",
    "\n",
    "# aqui você edita tudo o que você quer\n",
    "texto = f\"\"\"Hey,\n",
    "\n",
    "O faturamento da empresa ontem foi de R${faturamento}\n",
    "\n",
    "Tamo junto, abs.\n",
    "\"\"\"\n",
    "\n",
    "paragrafo = documento.add_paragraph(texto) "
   ]
  },
  {
   "cell_type": "markdown",
   "id": "1a5b69f8",
   "metadata": {},
   "source": [
    "### formatação"
   ]
  },
  {
   "cell_type": "code",
   "execution_count": 15,
   "id": "8e3207de",
   "metadata": {
    "ExecuteTime": {
     "end_time": "2023-08-08T23:21:45.673982Z",
     "start_time": "2023-08-08T23:21:45.615717Z"
    }
   },
   "outputs": [],
   "source": [
    "from docx.shared import Pt, RGBColor, Cm # valores de formatação\n",
    "from docx.enum.style import WD_STYLE_TYPE\n",
    "\n",
    "paragrafo.style = documento.styles.add_style(\"EstiloLira\", WD_STYLE_TYPE.PARAGRAPH)\n",
    "paragrafo.style.font.name = \"Algerian\"\n",
    "paragrafo.style.font.size = Pt(15)\n",
    "paragrafo.style.font.bold = True\n",
    "paragrafo.style.font.italic = True\n",
    "paragrafo.style.font.underline = True\n",
    "paragrafo.style.font.color.rgb = RGBColor(255, 0, 0)"
   ]
  },
  {
   "cell_type": "code",
   "execution_count": 16,
   "id": "5a150cf0",
   "metadata": {
    "ExecuteTime": {
     "end_time": "2023-08-08T23:21:45.751847Z",
     "start_time": "2023-08-08T23:21:45.675487Z"
    }
   },
   "outputs": [],
   "source": [
    "paragrafo = documento.add_paragraph(\"PS: A quantidade de produtos vendidos foi de 10\", \"Heading 5\")"
   ]
  },
  {
   "cell_type": "code",
   "execution_count": 17,
   "id": "687d2e5d",
   "metadata": {
    "ExecuteTime": {
     "end_time": "2023-08-08T23:21:45.844867Z",
     "start_time": "2023-08-08T23:21:45.755840Z"
    }
   },
   "outputs": [],
   "source": [
    "# implementando tudo que fizemos no Python no Texto.docx\n",
    "documento.save(path+r\"\\Texto.docx\")"
   ]
  },
  {
   "cell_type": "markdown",
   "id": "f0594908",
   "metadata": {},
   "source": [
    "### Aproveitando um template do word"
   ]
  },
  {
   "cell_type": "code",
   "execution_count": 21,
   "id": "d8eb8f3c",
   "metadata": {
    "ExecuteTime": {
     "end_time": "2023-08-08T23:26:49.737561Z",
     "start_time": "2023-08-08T23:26:49.700431Z"
    }
   },
   "outputs": [],
   "source": [
    "template = Document(path+r\"\\template.docx\")"
   ]
  },
  {
   "cell_type": "code",
   "execution_count": null,
   "id": "3585dc30",
   "metadata": {
    "ExecuteTime": {
     "end_time": "2023-08-08T23:26:51.006199Z",
     "start_time": "2023-08-08T23:26:50.868952Z"
    },
    "deletable": false,
    "editable": false,
    "run_control": {
     "frozen": true
    }
   },
   "outputs": [],
   "source": [
    "paragrafo = template.add_paragraph(\"Contrato de Prestação de Serviço\", \"NovoEstiloABNT\")\n",
    "template.save(path+r\"\\NovoArquivo.docx\")"
   ]
  },
  {
   "cell_type": "markdown",
   "id": "c8882757",
   "metadata": {},
   "source": [
    "### Adicionar texto com edição dentro do texto"
   ]
  },
  {
   "cell_type": "code",
   "execution_count": 23,
   "id": "6d4df1c6",
   "metadata": {
    "ExecuteTime": {
     "end_time": "2023-08-08T23:27:32.782238Z",
     "start_time": "2023-08-08T23:27:32.734160Z"
    }
   },
   "outputs": [],
   "source": [
    "# criando o documento no Python\n",
    "documento = Document()\n",
    "\n",
    "faturamento = 1000\n",
    "\n",
    "# aqui você edita tudo o que você quer\n",
    "texto = f\"\"\"Fala,\n",
    "\n",
    "O faturamento da empresa ontem foi de \"\"\"\n",
    "\n",
    "texto_final = \"Tamo junto, abs.\"\n",
    "\n",
    "\n",
    "paragrafo = documento.add_paragraph(texto) \n",
    "paragrafo.add_run(f\"R${faturamento}\").bold = True\n",
    "\n",
    "paragrafo = documento.add_paragraph(texto_final)\n",
    "\n",
    "documento.save(path+r\"\\Texto.docx\")"
   ]
  },
  {
   "cell_type": "markdown",
   "id": "cf765499",
   "metadata": {},
   "source": [
    "### Controle de Margem e Seções"
   ]
  },
  {
   "cell_type": "code",
   "execution_count": 24,
   "id": "9021d67a",
   "metadata": {
    "ExecuteTime": {
     "end_time": "2023-08-08T23:27:35.770111Z",
     "start_time": "2023-08-08T23:27:35.726811Z"
    }
   },
   "outputs": [],
   "source": [
    "from docx.enum.text import WD_PARAGRAPH_ALIGNMENT\n",
    "\n",
    "# criando o documento no Python\n",
    "documento = Document()\n",
    "\n",
    "for secao in documento.sections:\n",
    "    secao.top_margin = Cm(0.5)\n",
    "    secao.bottom_margin = Cm(1)\n",
    "    secao.left_margin = Cm(1)\n",
    "    secao.right_margin = Cm(1)\n",
    "\n",
    "\n",
    "faturamento = 1000\n",
    "\n",
    "# aqui você edita tudo o que você quer\n",
    "texto = f\"\"\"Fala Lira,\n",
    "\n",
    "O faturamento da empresa ontem foi de R${faturamento}\n",
    "\n",
    "Tamo junto, abs.\n",
    "\"\"\"\n",
    "\n",
    "paragrafo = documento.add_paragraph(texto) \n",
    "paragrafo.alignment = WD_PARAGRAPH_ALIGNMENT.CENTER\n",
    "\n",
    "documento.save(path+r\"\\Texto.docx\")"
   ]
  },
  {
   "cell_type": "markdown",
   "id": "aeea7253",
   "metadata": {},
   "source": [
    "### Inserir Imagem"
   ]
  },
  {
   "cell_type": "code",
   "execution_count": 26,
   "id": "5598ac32",
   "metadata": {
    "ExecuteTime": {
     "end_time": "2023-08-08T23:28:26.937739Z",
     "start_time": "2023-08-08T23:28:26.896242Z"
    }
   },
   "outputs": [],
   "source": [
    "# criando o documento no Python\n",
    "documento = Document()\n",
    "\n",
    "for secao in documento.sections:\n",
    "    secao.top_margin = Cm(0.5)\n",
    "    secao.bottom_margin = Cm(1)\n",
    "    secao.left_margin = Cm(1)\n",
    "    secao.right_margin = Cm(1)\n",
    "\n",
    "\n",
    "faturamento = 1000\n",
    "\n",
    "# aqui você edita tudo o que você quer\n",
    "texto = f\"\"\"Fala Lira,\n",
    "\n",
    "O faturamento da empresa ontem foi de R${faturamento}\n",
    "\n",
    "Tamo junto, abs.\n",
    "\"\"\"\n",
    "\n",
    "paragrafo = documento.add_paragraph(texto)\n",
    "\n",
    "imagem = documento.add_picture(path+r\"\\imagem.png\", width=Cm(4), height=Cm(4))\n",
    "\n",
    "documento.save(path+r\"\\Texto.docx\")"
   ]
  },
  {
   "cell_type": "markdown",
   "id": "661c1e80",
   "metadata": {},
   "source": [
    "### Inserir Tabela"
   ]
  },
  {
   "cell_type": "code",
   "execution_count": 27,
   "id": "a4b402fc",
   "metadata": {
    "ExecuteTime": {
     "end_time": "2023-08-08T23:28:31.960360Z",
     "start_time": "2023-08-08T23:28:31.889431Z"
    }
   },
   "outputs": [],
   "source": [
    "documento = Document()\n",
    "\n",
    "records = (\n",
    "    (3, '101', 'Spam'),\n",
    "    (7, '422', 'Eggs'),\n",
    "    (4, '631', 'Spam, spam, eggs, and spam')\n",
    ")\n",
    "\n",
    "table = documento.add_table(rows=1, cols=3, style=\"Light Grid Accent 1\")\n",
    "hdr_cells = table.rows[0].cells\n",
    "hdr_cells[0].text = 'Qty'\n",
    "hdr_cells[1].text = 'Id'\n",
    "hdr_cells[2].text = 'Desc'\n",
    "for qty, id, desc in records:\n",
    "    row_cells = table.add_row().cells\n",
    "    row_cells[0].text = str(qty)\n",
    "    row_cells[1].text = id\n",
    "    row_cells[2].text = desc\n",
    "    \n",
    "    \n",
    "documento.save(path+r\"\\Texto.docx\")"
   ]
  },
  {
   "cell_type": "markdown",
   "id": "b4a01b8b",
   "metadata": {},
   "source": [
    "### Para verificar todos os estilos de um arquivo:"
   ]
  },
  {
   "cell_type": "code",
   "execution_count": 28,
   "id": "1a4bb04f",
   "metadata": {
    "ExecuteTime": {
     "end_time": "2023-08-08T23:28:34.350768Z",
     "start_time": "2023-08-08T23:28:34.325075Z"
    }
   },
   "outputs": [
    {
     "name": "stdout",
     "output_type": "stream",
     "text": [
      "_ParagraphStyle('Normal') id: 2345610721072\n",
      "_ParagraphStyle('Header') id: 2345610720544\n",
      "<docx.styles.style._CharacterStyle object at 0x00000222214B3730>\n",
      "_ParagraphStyle('Footer') id: 2345610720544\n",
      "<docx.styles.style._CharacterStyle object at 0x00000222214B3730>\n",
      "_ParagraphStyle('Heading 1') id: 2345610720544\n",
      "_ParagraphStyle('Heading 2') id: 2345610721072\n",
      "_ParagraphStyle('Heading 3') id: 2345610720544\n",
      "_ParagraphStyle('Heading 4') id: 2345610721072\n",
      "_ParagraphStyle('Heading 5') id: 2345610720544\n",
      "_ParagraphStyle('Heading 6') id: 2345610721072\n",
      "_ParagraphStyle('Heading 7') id: 2345610720544\n",
      "_ParagraphStyle('Heading 8') id: 2345610721072\n",
      "_ParagraphStyle('Heading 9') id: 2345610720544\n",
      "<docx.styles.style._CharacterStyle object at 0x00000222214B3730>\n",
      "_TableStyle('Normal Table') id: 2345610720544\n",
      "<docx.styles.style._NumberingStyle object at 0x00000222214B3730>\n",
      "_ParagraphStyle('No Spacing') id: 2345610720544\n",
      "<docx.styles.style._CharacterStyle object at 0x00000222214B3730>\n",
      "<docx.styles.style._CharacterStyle object at 0x00000222214B3520>\n",
      "<docx.styles.style._CharacterStyle object at 0x00000222214B3730>\n",
      "_ParagraphStyle('Title') id: 2345610720544\n",
      "<docx.styles.style._CharacterStyle object at 0x00000222214B3730>\n",
      "_ParagraphStyle('Subtitle') id: 2345610720544\n",
      "<docx.styles.style._CharacterStyle object at 0x00000222214B3730>\n",
      "_ParagraphStyle('List Paragraph') id: 2345610720544\n",
      "_ParagraphStyle('Body Text') id: 2345610721072\n",
      "<docx.styles.style._CharacterStyle object at 0x00000222214B3520>\n",
      "_ParagraphStyle('Body Text 2') id: 2345610721072\n",
      "<docx.styles.style._CharacterStyle object at 0x00000222214B3520>\n",
      "_ParagraphStyle('Body Text 3') id: 2345610721072\n",
      "<docx.styles.style._CharacterStyle object at 0x00000222214B3520>\n",
      "_ParagraphStyle('List') id: 2345610721072\n",
      "_ParagraphStyle('List 2') id: 2345610720544\n",
      "_ParagraphStyle('List 3') id: 2345610721072\n",
      "_ParagraphStyle('List Bullet') id: 2345610720544\n",
      "_ParagraphStyle('List Bullet 2') id: 2345610721072\n",
      "_ParagraphStyle('List Bullet 3') id: 2345610720544\n",
      "_ParagraphStyle('List Number') id: 2345610721072\n",
      "_ParagraphStyle('List Number 2') id: 2345610720544\n",
      "_ParagraphStyle('List Number 3') id: 2345610721072\n",
      "_ParagraphStyle('List Continue') id: 2345610720544\n",
      "_ParagraphStyle('List Continue 2') id: 2345610721072\n",
      "_ParagraphStyle('List Continue 3') id: 2345610720544\n",
      "_ParagraphStyle('macro') id: 2345610721072\n",
      "<docx.styles.style._CharacterStyle object at 0x00000222214B3520>\n",
      "_ParagraphStyle('Quote') id: 2345610721072\n",
      "<docx.styles.style._CharacterStyle object at 0x00000222214B3520>\n",
      "<docx.styles.style._CharacterStyle object at 0x00000222214B3730>\n",
      "<docx.styles.style._CharacterStyle object at 0x00000222214B3520>\n",
      "<docx.styles.style._CharacterStyle object at 0x00000222214B3730>\n",
      "<docx.styles.style._CharacterStyle object at 0x00000222214B3520>\n",
      "<docx.styles.style._CharacterStyle object at 0x00000222214B3730>\n",
      "<docx.styles.style._CharacterStyle object at 0x00000222214B3520>\n",
      "_ParagraphStyle('Caption') id: 2345610721072\n",
      "<docx.styles.style._CharacterStyle object at 0x00000222214B3520>\n",
      "<docx.styles.style._CharacterStyle object at 0x00000222214B3730>\n",
      "_ParagraphStyle('Intense Quote') id: 2345610720544\n",
      "<docx.styles.style._CharacterStyle object at 0x00000222214B3730>\n",
      "<docx.styles.style._CharacterStyle object at 0x00000222214B3520>\n",
      "<docx.styles.style._CharacterStyle object at 0x00000222214B3730>\n",
      "<docx.styles.style._CharacterStyle object at 0x00000222214B3520>\n",
      "<docx.styles.style._CharacterStyle object at 0x00000222214B3730>\n",
      "<docx.styles.style._CharacterStyle object at 0x00000222214B3520>\n",
      "_ParagraphStyle('TOC Heading') id: 2345610721072\n",
      "_TableStyle('Table Grid') id: 2345610720544\n",
      "_TableStyle('Light Shading') id: 2345610721072\n",
      "_TableStyle('Light Shading Accent 1') id: 2345610720544\n",
      "_TableStyle('Light Shading Accent 2') id: 2345610721072\n",
      "_TableStyle('Light Shading Accent 3') id: 2345610720544\n",
      "_TableStyle('Light Shading Accent 4') id: 2345610721072\n",
      "_TableStyle('Light Shading Accent 5') id: 2345610720544\n",
      "_TableStyle('Light Shading Accent 6') id: 2345610721072\n",
      "_TableStyle('Light List') id: 2345610720544\n",
      "_TableStyle('Light List Accent 1') id: 2345610721072\n",
      "_TableStyle('Light List Accent 2') id: 2345610720544\n",
      "_TableStyle('Light List Accent 3') id: 2345610721072\n",
      "_TableStyle('Light List Accent 4') id: 2345610720544\n",
      "_TableStyle('Light List Accent 5') id: 2345610721072\n",
      "_TableStyle('Light List Accent 6') id: 2345610720544\n",
      "_TableStyle('Light Grid') id: 2345610721072\n",
      "_TableStyle('Light Grid Accent 1') id: 2345610720544\n",
      "_TableStyle('Light Grid Accent 2') id: 2345610721072\n",
      "_TableStyle('Light Grid Accent 3') id: 2345610720544\n",
      "_TableStyle('Light Grid Accent 4') id: 2345610721072\n",
      "_TableStyle('Light Grid Accent 5') id: 2345610720544\n",
      "_TableStyle('Light Grid Accent 6') id: 2345610721072\n",
      "_TableStyle('Medium Shading 1') id: 2345610720544\n",
      "_TableStyle('Medium Shading 1 Accent 1') id: 2345610721072\n",
      "_TableStyle('Medium Shading 1 Accent 2') id: 2345610720544\n",
      "_TableStyle('Medium Shading 1 Accent 3') id: 2345610721072\n",
      "_TableStyle('Medium Shading 1 Accent 4') id: 2345610720544\n",
      "_TableStyle('Medium Shading 1 Accent 5') id: 2345610721072\n",
      "_TableStyle('Medium Shading 1 Accent 6') id: 2345610720544\n",
      "_TableStyle('Medium Shading 2') id: 2345610721072\n",
      "_TableStyle('Medium Shading 2 Accent 1') id: 2345610720544\n",
      "_TableStyle('Medium Shading 2 Accent 2') id: 2345610721072\n",
      "_TableStyle('Medium Shading 2 Accent 3') id: 2345610720544\n",
      "_TableStyle('Medium Shading 2 Accent 4') id: 2345610721072\n",
      "_TableStyle('Medium Shading 2 Accent 5') id: 2345610720544\n",
      "_TableStyle('Medium Shading 2 Accent 6') id: 2345610721072\n",
      "_TableStyle('Medium List 1') id: 2345610720544\n",
      "_TableStyle('Medium List 1 Accent 1') id: 2345610721072\n",
      "_TableStyle('Medium List 1 Accent 2') id: 2345610720544\n",
      "_TableStyle('Medium List 1 Accent 3') id: 2345610721072\n",
      "_TableStyle('Medium List 1 Accent 4') id: 2345610720544\n",
      "_TableStyle('Medium List 1 Accent 5') id: 2345610721072\n",
      "_TableStyle('Medium List 1 Accent 6') id: 2345610720544\n",
      "_TableStyle('Medium List 2') id: 2345610721072\n",
      "_TableStyle('Medium List 2 Accent 1') id: 2345610720544\n",
      "_TableStyle('Medium List 2 Accent 2') id: 2345610721072\n",
      "_TableStyle('Medium List 2 Accent 3') id: 2345610720544\n",
      "_TableStyle('Medium List 2 Accent 4') id: 2345610721072\n",
      "_TableStyle('Medium List 2 Accent 5') id: 2345610720544\n",
      "_TableStyle('Medium List 2 Accent 6') id: 2345610721072\n",
      "_TableStyle('Medium Grid 1') id: 2345610720544\n",
      "_TableStyle('Medium Grid 1 Accent 1') id: 2345610721072\n",
      "_TableStyle('Medium Grid 1 Accent 2') id: 2345610720544\n",
      "_TableStyle('Medium Grid 1 Accent 3') id: 2345610721072\n",
      "_TableStyle('Medium Grid 1 Accent 4') id: 2345610720544\n",
      "_TableStyle('Medium Grid 1 Accent 5') id: 2345610721072\n",
      "_TableStyle('Medium Grid 1 Accent 6') id: 2345610720544\n",
      "_TableStyle('Medium Grid 2') id: 2345610721072\n",
      "_TableStyle('Medium Grid 2 Accent 1') id: 2345610720544\n",
      "_TableStyle('Medium Grid 2 Accent 2') id: 2345610721072\n",
      "_TableStyle('Medium Grid 2 Accent 3') id: 2345610720544\n",
      "_TableStyle('Medium Grid 2 Accent 4') id: 2345610721072\n",
      "_TableStyle('Medium Grid 2 Accent 5') id: 2345610720544\n",
      "_TableStyle('Medium Grid 2 Accent 6') id: 2345610721072\n",
      "_TableStyle('Medium Grid 3') id: 2345610720544\n",
      "_TableStyle('Medium Grid 3 Accent 1') id: 2345610721072\n",
      "_TableStyle('Medium Grid 3 Accent 2') id: 2345610720544\n",
      "_TableStyle('Medium Grid 3 Accent 3') id: 2345610721072\n",
      "_TableStyle('Medium Grid 3 Accent 4') id: 2345610720544\n",
      "_TableStyle('Medium Grid 3 Accent 5') id: 2345610721072\n",
      "_TableStyle('Medium Grid 3 Accent 6') id: 2345610720544\n",
      "_TableStyle('Dark List') id: 2345610721072\n",
      "_TableStyle('Dark List Accent 1') id: 2345610720544\n",
      "_TableStyle('Dark List Accent 2') id: 2345610721072\n",
      "_TableStyle('Dark List Accent 3') id: 2345610720544\n",
      "_TableStyle('Dark List Accent 4') id: 2345610721072\n",
      "_TableStyle('Dark List Accent 5') id: 2345610720544\n",
      "_TableStyle('Dark List Accent 6') id: 2345610721072\n",
      "_TableStyle('Colorful Shading') id: 2345610720544\n",
      "_TableStyle('Colorful Shading Accent 1') id: 2345610721072\n",
      "_TableStyle('Colorful Shading Accent 2') id: 2345610720544\n",
      "_TableStyle('Colorful Shading Accent 3') id: 2345610721072\n",
      "_TableStyle('Colorful Shading Accent 4') id: 2345610720544\n",
      "_TableStyle('Colorful Shading Accent 5') id: 2345610721072\n",
      "_TableStyle('Colorful Shading Accent 6') id: 2345610720544\n",
      "_TableStyle('Colorful List') id: 2345610721072\n",
      "_TableStyle('Colorful List Accent 1') id: 2345610720544\n",
      "_TableStyle('Colorful List Accent 2') id: 2345610721072\n",
      "_TableStyle('Colorful List Accent 3') id: 2345610720544\n",
      "_TableStyle('Colorful List Accent 4') id: 2345610721072\n",
      "_TableStyle('Colorful List Accent 5') id: 2345610720544\n",
      "_TableStyle('Colorful List Accent 6') id: 2345610721072\n",
      "_TableStyle('Colorful Grid') id: 2345610720544\n",
      "_TableStyle('Colorful Grid Accent 1') id: 2345610721072\n",
      "_TableStyle('Colorful Grid Accent 2') id: 2345610720544\n",
      "_TableStyle('Colorful Grid Accent 3') id: 2345610721072\n",
      "_TableStyle('Colorful Grid Accent 4') id: 2345610720544\n",
      "_TableStyle('Colorful Grid Accent 5') id: 2345610721072\n",
      "_TableStyle('Colorful Grid Accent 6') id: 2345610720544\n"
     ]
    }
   ],
   "source": [
    "for estilo in documento.styles:\n",
    "    print(estilo)"
   ]
  },
  {
   "cell_type": "markdown",
   "id": "515bc559",
   "metadata": {},
   "source": [
    "### Adaptar um documento"
   ]
  },
  {
   "cell_type": "code",
   "execution_count": 29,
   "id": "a17586bb",
   "metadata": {
    "ExecuteTime": {
     "end_time": "2023-08-08T23:28:52.051283Z",
     "start_time": "2023-08-08T23:28:51.931506Z"
    }
   },
   "outputs": [],
   "source": [
    "from datetime import datetime\n",
    "\n",
    "contrato = Document(path+r\"\\Contrato.docx\")\n",
    "\n",
    "nome = \"Teste\"\n",
    "item1 = \"Serviço de Treinamento em Excel\"\n",
    "item2 = \"Apostila Completa de Excel\"\n",
    "item3 = \"Serviço de Treinamentos de Python\"\n",
    "\n",
    "dicionario_valores = {\n",
    "    \"XXXX\": nome,\n",
    "    \"YYYY\": item1,\n",
    "    \"ZZZZ\": item2,\n",
    "    \"WWWW\": item3,\n",
    "    \"DD\": str(datetime.now().day),\n",
    "    \"MM\": str(datetime.now().month),\n",
    "    \"AAAA\": str(datetime.now().year),\n",
    "}\n",
    "\n",
    "# tem alguma função replace? -> é executada por parágrafo\n",
    "# percorrer as linhas\n",
    "    # se a linha tiver o texto xxxx substitui pelo nome\n",
    "for paragrafo in contrato.paragraphs:\n",
    "    # para cada placeholder do dicionario\n",
    "    for codigo in dicionario_valores:\n",
    "        if codigo in paragrafo.text:\n",
    "            paragrafo.text = paragrafo.text.replace(codigo, dicionario_valores[codigo])\n",
    "\n",
    "contrato.save(path+f\"\\Contrato Atualizado - {nome}.docx\")"
   ]
  },
  {
   "cell_type": "code",
   "execution_count": null,
   "id": "a97d49ce",
   "metadata": {},
   "outputs": [],
   "source": []
  }
 ],
 "metadata": {
  "kernelspec": {
   "display_name": "Python 3 (ipykernel)",
   "language": "python",
   "name": "python3"
  },
  "language_info": {
   "codemirror_mode": {
    "name": "ipython",
    "version": 3
   },
   "file_extension": ".py",
   "mimetype": "text/x-python",
   "name": "python",
   "nbconvert_exporter": "python",
   "pygments_lexer": "ipython3",
   "version": "3.9.12"
  },
  "toc": {
   "base_numbering": 1,
   "nav_menu": {},
   "number_sections": true,
   "sideBar": true,
   "skip_h1_title": false,
   "title_cell": "Table of Contents",
   "title_sidebar": "Contents",
   "toc_cell": false,
   "toc_position": {},
   "toc_section_display": true,
   "toc_window_display": false
  },
  "varInspector": {
   "cols": {
    "lenName": 16,
    "lenType": 16,
    "lenVar": 40
   },
   "kernels_config": {
    "python": {
     "delete_cmd_postfix": "",
     "delete_cmd_prefix": "del ",
     "library": "var_list.py",
     "varRefreshCmd": "print(var_dic_list())"
    },
    "r": {
     "delete_cmd_postfix": ") ",
     "delete_cmd_prefix": "rm(",
     "library": "var_list.r",
     "varRefreshCmd": "cat(var_dic_list()) "
    }
   },
   "types_to_exclude": [
    "module",
    "function",
    "builtin_function_or_method",
    "instance",
    "_Feature"
   ],
   "window_display": false
  }
 },
 "nbformat": 4,
 "nbformat_minor": 5
}
