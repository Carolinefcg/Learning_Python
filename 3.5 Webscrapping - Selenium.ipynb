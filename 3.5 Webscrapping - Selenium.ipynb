{
 "cells": [
  {
   "cell_type": "markdown",
   "id": "b9c3553f",
   "metadata": {},
   "source": [
    "# Context\n",
    "This notebook is created ti be a summary of webscrapping techniques using Selenium package."
   ]
  },
  {
   "cell_type": "markdown",
   "id": "2e942763",
   "metadata": {},
   "source": [
    "# Packages"
   ]
  },
  {
   "cell_type": "code",
   "execution_count": 1,
   "id": "f3a3559a",
   "metadata": {
    "ExecuteTime": {
     "end_time": "2023-07-26T15:22:08.170175Z",
     "start_time": "2023-07-26T15:22:01.163767Z"
    }
   },
   "outputs": [],
   "source": [
    "from selenium import webdriver\n",
    "\n",
    "navegador = webdriver.Chrome()"
   ]
  },
  {
   "cell_type": "markdown",
   "id": "8a154fd8",
   "metadata": {},
   "source": [
    "## Always have your chromedriver up to date"
   ]
  },
  {
   "cell_type": "code",
   "execution_count": 5,
   "id": "1fb78faa",
   "metadata": {
    "ExecuteTime": {
     "end_time": "2023-07-26T16:03:26.718399Z",
     "start_time": "2023-07-26T16:03:09.415075Z"
    }
   },
   "outputs": [],
   "source": [
    "from selenium import webdriver\n",
    "from selenium.webdriver.chrome.service import Service\n",
    "from webdriver_manager.chrome import ChromeDriverManager\n",
    "\n",
    "servico = Service(ChromeDriverManager().install())\n",
    "navegador = webdriver.Chrome(service=servico)"
   ]
  },
  {
   "cell_type": "markdown",
   "id": "37f4237f",
   "metadata": {},
   "source": [
    "# Selecting elements on page"
   ]
  },
  {
   "cell_type": "code",
   "execution_count": 10,
   "id": "f5bcbc5a",
   "metadata": {
    "ExecuteTime": {
     "end_time": "2023-07-26T16:09:01.010069Z",
     "start_time": "2023-07-26T16:08:58.485870Z"
    }
   },
   "outputs": [],
   "source": [
    "import os\n",
    "\n",
    "caminho = 'C:\\\\Users\\\\Caroline\\\\OneDrive\\\\Documentos\\\\Meus estudos\\\\PYTHON\\\\HASHTAG\\\\materials\\\\MODULO 25'\n",
    "arquivo = caminho + r\"\\Pagina Hashtag.html\"\n",
    "navegador.get(arquivo)"
   ]
  },
  {
   "cell_type": "markdown",
   "id": "d5dfa772",
   "metadata": {},
   "source": [
    "# The magic of Inspect elements\n",
    "Websites elements will have an ID so we can use them to perform an action like a human - one of the biggest advantages of web scrapping. Insppect the web page and make sure to use the last button on top that seems like a mouse pointer and them you will be able to find each element ID."
   ]
  },
  {
   "cell_type": "code",
   "execution_count": null,
   "id": "83f03788",
   "metadata": {},
   "outputs": [],
   "source": [
    "from selenium.webdriver.common.by import By\n",
    "\n",
    "navegador.find_element(By.ID, 'fullname').send_keys(\"Lira\")\n",
    "navegador.find_element(By.ID, 'email').send_keys(\"pythonimpressionador@gmail.com\")\n",
    "navegador.find_element(By.ID, '_form_176_submit').click()"
   ]
  },
  {
   "cell_type": "code",
   "execution_count": null,
   "id": "76679f08",
   "metadata": {},
   "outputs": [],
   "source": []
  }
 ],
 "metadata": {
  "kernelspec": {
   "display_name": "Python 3 (ipykernel)",
   "language": "python",
   "name": "python3"
  },
  "language_info": {
   "codemirror_mode": {
    "name": "ipython",
    "version": 3
   },
   "file_extension": ".py",
   "mimetype": "text/x-python",
   "name": "python",
   "nbconvert_exporter": "python",
   "pygments_lexer": "ipython3",
   "version": "3.9.12"
  },
  "toc": {
   "base_numbering": 1,
   "nav_menu": {},
   "number_sections": true,
   "sideBar": true,
   "skip_h1_title": false,
   "title_cell": "Table of Contents",
   "title_sidebar": "Contents",
   "toc_cell": false,
   "toc_position": {},
   "toc_section_display": true,
   "toc_window_display": false
  },
  "varInspector": {
   "cols": {
    "lenName": 16,
    "lenType": 16,
    "lenVar": 40
   },
   "kernels_config": {
    "python": {
     "delete_cmd_postfix": "",
     "delete_cmd_prefix": "del ",
     "library": "var_list.py",
     "varRefreshCmd": "print(var_dic_list())"
    },
    "r": {
     "delete_cmd_postfix": ") ",
     "delete_cmd_prefix": "rm(",
     "library": "var_list.r",
     "varRefreshCmd": "cat(var_dic_list()) "
    }
   },
   "types_to_exclude": [
    "module",
    "function",
    "builtin_function_or_method",
    "instance",
    "_Feature"
   ],
   "window_display": false
  }
 },
 "nbformat": 4,
 "nbformat_minor": 5
}
