{
 "cells": [
  {
   "cell_type": "markdown",
   "id": "e41f7291",
   "metadata": {},
   "source": [
    "# Context\n",
    "This notebook is created ti be a summary of webscrapping techniques using Selenium package."
   ]
  },
  {
   "cell_type": "markdown",
   "id": "77da0613",
   "metadata": {},
   "source": [
    "# Packages"
   ]
  },
  {
   "cell_type": "code",
   "execution_count": 1,
   "id": "52796630",
   "metadata": {
    "ExecuteTime": {
     "end_time": "2023-07-26T15:22:08.170175Z",
     "start_time": "2023-07-26T15:22:01.163767Z"
    }
   },
   "outputs": [],
   "source": [
    "from selenium import webdriver\n",
    "\n",
    "navegador = webdriver.Chrome()"
   ]
  },
  {
   "cell_type": "markdown",
   "id": "b5eb75f1",
   "metadata": {},
   "source": [
    "## Always have your chromedriver up to date\n",
    "The code bellow will verify if your current chromedrinker is updated and if it's not, it will download and install the most recent version for you, always making sure its compatibility with your chrome browser.<br>\n",
    "This code will also open an chrome page - don't close it.\n",
    "All pages that we will browser in will be in that Chrome new page."
   ]
  },
  {
   "cell_type": "code",
   "execution_count": 5,
   "id": "761e3cf6",
   "metadata": {
    "ExecuteTime": {
     "end_time": "2023-07-26T16:03:26.718399Z",
     "start_time": "2023-07-26T16:03:09.415075Z"
    }
   },
   "outputs": [],
   "source": [
    "from selenium import webdriver\n",
    "from selenium.webdriver.chrome.service import Service\n",
    "from webdriver_manager.chrome import ChromeDriverManager\n",
    "\n",
    "servico = Service(ChromeDriverManager().install())\n",
    "navegador = webdriver.Chrome(service=servico)"
   ]
  },
  {
   "cell_type": "markdown",
   "id": "9a9190f9",
   "metadata": {},
   "source": [
    "# Selecting elements on page"
   ]
  },
  {
   "cell_type": "code",
   "execution_count": 10,
   "id": "c92f4457",
   "metadata": {
    "ExecuteTime": {
     "end_time": "2023-07-26T16:09:01.010069Z",
     "start_time": "2023-07-26T16:08:58.485870Z"
    }
   },
   "outputs": [],
   "source": [
    "import os\n",
    "\n",
    "caminho = 'C:\\\\Users\\\\Caroline\\\\OneDrive\\\\Documentos\\\\Meus estudos\\\\PYTHON\\\\HASHTAG\\\\materials\\\\MODULO 25'\n",
    "arquivo = caminho + r\"\\Pagina Hashtag.html\"\n",
    "navegador.get(arquivo)"
   ]
  },
  {
   "cell_type": "markdown",
   "id": "af8aeefe",
   "metadata": {},
   "source": [
    "# The magic of Inspect elements\n",
    "Websites elements will have an variable useful to sucessfully identify it so we can use them to perform an action like a human - one of the biggest advantages of web scrapping. Inspect the web page and make sure to use the last button on top that seems like a mouse pointer and them you will be able to find each element components."
   ]
  },
  {
   "cell_type": "markdown",
   "id": "6cd55f22",
   "metadata": {},
   "source": [
    "## The order of elements identification variables\n",
    "We have 3 main variables that will allow us to select an element\n",
    "\n",
    "1. id\n",
    "2. CLASS_NAME\n",
    "3. XPATH\n",
    "\n",
    "\n",
    "Which one is the best? The best one is the one that is unique and less likely to change with website updates.<br><br>\n",
    "Id is useful when it's unique and it's not so likely to change with websites updates, same for CLASS_NAME.<br>\n",
    "XPATH has the benefit to be almost always unique, but it give us the elemnt location on page, so if an element is on the top right corner today and its changes to the top left corner tomorrow, it will fail."
   ]
  },
  {
   "cell_type": "markdown",
   "id": "55a63463",
   "metadata": {},
   "source": [
    "### By ID"
   ]
  },
  {
   "cell_type": "code",
   "execution_count": 11,
   "id": "4d561634",
   "metadata": {
    "ExecuteTime": {
     "end_time": "2023-07-26T16:13:32.706735Z",
     "start_time": "2023-07-26T16:13:32.288600Z"
    }
   },
   "outputs": [],
   "source": [
    "from selenium.webdriver.common.by import By\n",
    "\n",
    "navegador.find_element(By.ID, 'fullname').send_keys(\"Caroline Ferreira\")\n",
    "navegador.find_element(By.ID, 'email').send_keys(\"myemail@gmail.com\")\n",
    "navegador.find_element(By.ID, '_form_176_submit').click()"
   ]
  },
  {
   "cell_type": "markdown",
   "id": "f489549b",
   "metadata": {
    "ExecuteTime": {
     "end_time": "2023-07-26T16:39:27.246453Z",
     "start_time": "2023-07-26T16:39:27.236078Z"
    }
   },
   "source": [
    "## By Class name"
   ]
  },
  {
   "cell_type": "code",
   "execution_count": 21,
   "id": "9975c868",
   "metadata": {
    "ExecuteTime": {
     "end_time": "2023-07-26T16:44:07.524202Z",
     "start_time": "2023-07-26T16:44:06.090878Z"
    }
   },
   "outputs": [],
   "source": [
    "navegador.find_element(By.CLASS_NAME, 'custom-logo-link').click()"
   ]
  },
  {
   "cell_type": "markdown",
   "id": "f348852b",
   "metadata": {},
   "source": [
    "## By XPATH"
   ]
  },
  {
   "cell_type": "code",
   "execution_count": null,
   "id": "fd75d0ef",
   "metadata": {},
   "outputs": [],
   "source": [
    "navegador.find_element(By.CLASS_NAME, 'custom-logo-link').click()"
   ]
  }
 ],
 "metadata": {
  "kernelspec": {
   "display_name": "Python 3 (ipykernel)",
   "language": "python",
   "name": "python3"
  },
  "language_info": {
   "codemirror_mode": {
    "name": "ipython",
    "version": 3
   },
   "file_extension": ".py",
   "mimetype": "text/x-python",
   "name": "python",
   "nbconvert_exporter": "python",
   "pygments_lexer": "ipython3",
   "version": "3.9.12"
  },
  "toc": {
   "base_numbering": 1,
   "nav_menu": {},
   "number_sections": true,
   "sideBar": true,
   "skip_h1_title": false,
   "title_cell": "Table of Contents",
   "title_sidebar": "Contents",
   "toc_cell": false,
   "toc_position": {},
   "toc_section_display": true,
   "toc_window_display": false
  },
  "varInspector": {
   "cols": {
    "lenName": 16,
    "lenType": 16,
    "lenVar": 40
   },
   "kernels_config": {
    "python": {
     "delete_cmd_postfix": "",
     "delete_cmd_prefix": "del ",
     "library": "var_list.py",
     "varRefreshCmd": "print(var_dic_list())"
    },
    "r": {
     "delete_cmd_postfix": ") ",
     "delete_cmd_prefix": "rm(",
     "library": "var_list.r",
     "varRefreshCmd": "cat(var_dic_list()) "
    }
   },
   "types_to_exclude": [
    "module",
    "function",
    "builtin_function_or_method",
    "instance",
    "_Feature"
   ],
   "window_display": false
  }
 },
 "nbformat": 4,
 "nbformat_minor": 5
}
