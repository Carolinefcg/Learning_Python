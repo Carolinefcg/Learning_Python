{
 "cells": [
  {
   "cell_type": "markdown",
   "metadata": {},
   "source": [
    "# Exercícios\n",
    "\n",
    "São exercícios bem parecidos com os que fizemos com listas. Mas na tupla, podemos não só trabalhar com índices, mas fazer o \"unpacking\" das tuplas, o que pode facilitar nossos códigos.\n",
    "\n",
    "## 1. Análise de Vendas\n",
    "\n",
    "Nesse exercício vamos fazer uma \"análise simples\" de atingimento de Meta.\n",
    "\n",
    "Temos uma lista com os vendedores e os valores de vendas e queremos identificar (printar) quais os vendedores que bateram a meta e qual foi o valor que eles venderam."
   ]
  },
  {
   "cell_type": "code",
   "execution_count": null,
   "metadata": {
    "ExecuteTime": {
     "end_time": "2023-03-24T20:36:38.046641Z",
     "start_time": "2023-03-24T20:36:38.046641Z"
    }
   },
   "outputs": [],
   "source": [
    "meta = 10000\n",
    "vendas = [\n",
    "    ('João', 15000),\n",
    "    ('Julia', 27000),\n",
    "    ('Marcus', 9900),\n",
    "    ('Maria', 3750),\n",
    "    ('Ana', 10300),\n",
    "    ('Alon', 7870),\n",
    "]"
   ]
  },
  {
   "cell_type": "code",
   "execution_count": 9,
   "metadata": {
    "ExecuteTime": {
     "end_time": "2023-03-24T20:39:08.179670Z",
     "start_time": "2023-03-24T20:39:08.163865Z"
    }
   },
   "outputs": [
    {
     "name": "stdout",
     "output_type": "stream",
     "text": [
      "Bateu a meta! Vendedor(a) João com 15,000 vendas\n",
      "Bateu a meta! Vendedor(a) Julia com 27,000 vendas\n",
      "Bateu a meta! Vendedor(a) Ana com 10,300 vendas\n"
     ]
    }
   ],
   "source": [
    "for vendedor, valor in vendas:\n",
    "    if valor > meta:\n",
    "        print('Bateu a meta! Vendedor(a) {} com {:,} vendas'.format(vendedor, valor))"
   ]
  },
  {
   "cell_type": "markdown",
   "metadata": {},
   "source": [
    "## 2. Comparação com Ano Anterior\n",
    "\n",
    "Digamos que você está analisando as vendas de produtos de um ecommerce e quer identificar quais produtos tiveram no ano de 2020 ``mais vendas`` do que no ano de 2019, para reportar isso para a diretoria.\n",
    "\n",
    "Sua resposta pode ser um print de cada produto, qual foi a venda de 2019, a venda de 2020 e o % de crescimento de 2020 para 2019.\n",
    "\n",
    "Lembrando, para calcular o % de crescimento de um produto de um ano para o outro, podemos fazer: (vendas_produto2020/vendas_produto2019 - 1)\n",
    "\n",
    "A lógica da tupla é: (produto, vendas2019, vendas2020)"
   ]
  },
  {
   "cell_type": "code",
   "execution_count": 15,
   "metadata": {
    "ExecuteTime": {
     "end_time": "2023-03-24T20:44:25.204649Z",
     "start_time": "2023-03-24T20:44:25.173543Z"
    }
   },
   "outputs": [
    {
     "name": "stdout",
     "output_type": "stream",
     "text": [
      "Produtos com maiores vendas \n",
      "\n",
      "1. iphone | Vendas 2019: 558,147 | Vendas 2020: 951,642 | Crescimento 70.50%\n",
      "2. tv | Vendas 2019: 405,252 | Vendas 2020: 787,604 | Crescimento 94.35%\n",
      "3. máquina de café | Vendas 2019: 718,654 | Vendas 2020: 867,660 | Crescimento 20.73%\n",
      "4. notebook dell | Vendas 2019: 422,760 | Vendas 2020: 694,913 | Crescimento 64.38%\n",
      "5. notebook hp | Vendas 2019: 154,753 | Vendas 2020: 539,704 | Crescimento 248.75%\n",
      "6. microsoft surface | Vendas 2019: 438,508 | Vendas 2020: 667,179 | Crescimento 52.15%\n",
      "7. webcam | Vendas 2019: 237,467 | Vendas 2020: 295,633 | Crescimento 24.49%\n",
      "8. caixa de som | Vendas 2019: 489,705 | Vendas 2020: 725,316 | Crescimento 48.11%\n",
      "9. microfone | Vendas 2019: 328,311 | Vendas 2020: 644,622 | Crescimento 96.34%\n",
      "10. câmera canon | Vendas 2019: 591,120 | Vendas 2020: 994,303 | Crescimento 68.21%\n"
     ]
    }
   ],
   "source": [
    "vendas_produtos = [('iphone', 558147, 951642), ('galaxy', 712350, 244295), ('ipad', 573823, 26964), ('tv', 405252, 787604), ('máquina de café', 718654, 867660), ('kindle', 531580, 78830), ('geladeira', 973139, 710331), ('adega', 892292, 646016), ('notebook dell', 422760, 694913), ('notebook hp', 154753, 539704), ('notebook asus', 887061, 324831), ('microsoft surface', 438508, 667179), ('webcam', 237467, 295633), ('caixa de som', 489705, 725316), ('microfone', 328311, 644622), ('câmera canon', 591120, 994303)]\n",
    "\n",
    "#seu código aqui\n",
    "print('Produtos com maiores vendas \\n')\n",
    "i = 0\n",
    "for prod, v19, v20 in vendas_produtos:\n",
    "    if v20 > v19:\n",
    "        i += 1\n",
    "        cres = (v20/v19)-1\n",
    "        print('{}. {} | Vendas 2019: {:,} | Vendas 2020: {:,} | Crescimento {:.2%}'.format(i, prod, v19, v20, cres))"
   ]
  }
 ],
 "metadata": {
  "kernelspec": {
   "display_name": "Python 3 (ipykernel)",
   "language": "python",
   "name": "python3"
  },
  "language_info": {
   "codemirror_mode": {
    "name": "ipython",
    "version": 3
   },
   "file_extension": ".py",
   "mimetype": "text/x-python",
   "name": "python",
   "nbconvert_exporter": "python",
   "pygments_lexer": "ipython3",
   "version": "3.9.12"
  },
  "varInspector": {
   "cols": {
    "lenName": 16,
    "lenType": 16,
    "lenVar": 40
   },
   "kernels_config": {
    "python": {
     "delete_cmd_postfix": "",
     "delete_cmd_prefix": "del ",
     "library": "var_list.py",
     "varRefreshCmd": "print(var_dic_list())"
    },
    "r": {
     "delete_cmd_postfix": ") ",
     "delete_cmd_prefix": "rm(",
     "library": "var_list.r",
     "varRefreshCmd": "cat(var_dic_list()) "
    }
   },
   "types_to_exclude": [
    "module",
    "function",
    "builtin_function_or_method",
    "instance",
    "_Feature"
   ],
   "window_display": false
  }
 },
 "nbformat": 4,
 "nbformat_minor": 4
}
