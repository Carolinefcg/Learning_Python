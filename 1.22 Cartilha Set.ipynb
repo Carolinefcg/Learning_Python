{
 "cells": [
  {
   "cell_type": "markdown",
   "metadata": {},
   "source": [
    "# Métodos de Sets\n",
    "\n",
    "### Esses são os métodos mais usados de set\n",
    "\n",
    "- add -> adiciona um item no set"
   ]
  },
  {
   "cell_type": "markdown",
   "metadata": {},
   "source": [
    "### Estrutura:\n",
    "\n",
    "meu_set = {valor, valor, valor, valor,...}\n",
    "\n",
    "### Observações:\n",
    "\n",
    "- Não pode ter valores duplicados\n",
    "- Não tem ordem fixa"
   ]
  },
  {
   "cell_type": "code",
   "execution_count": 1,
   "metadata": {},
   "outputs": [
    {
     "name": "stdout",
     "output_type": "stream",
     "text": [
      "{'macbook', 'iphone', 'airpod', 'ipad'}\n"
     ]
    }
   ],
   "source": [
    "meu_set = {'iphone', 'macbook', 'ipad'}\n",
    "meu_set.add('airpod')\n",
    "print(meu_set)"
   ]
  },
  {
   "cell_type": "markdown",
   "metadata": {},
   "source": [
    "- remove -> retira um item de um set"
   ]
  },
  {
   "cell_type": "code",
   "execution_count": 2,
   "metadata": {},
   "outputs": [
    {
     "name": "stdout",
     "output_type": "stream",
     "text": [
      "{'macbook', 'ipad'}\n"
     ]
    }
   ],
   "source": [
    "meu_set = {'iphone', 'macbook', 'ipad'}\n",
    "meu_set.remove('iphone')\n",
    "print(meu_set)"
   ]
  },
  {
   "cell_type": "markdown",
   "metadata": {},
   "source": [
    "- clear -> retira todos os itens de um set"
   ]
  },
  {
   "cell_type": "code",
   "execution_count": 3,
   "metadata": {},
   "outputs": [
    {
     "name": "stdout",
     "output_type": "stream",
     "text": [
      "set()\n"
     ]
    }
   ],
   "source": [
    "meu_set = {'iphone', 'macbook', 'ipad'}\n",
    "meu_set.clear()\n",
    "print(meu_set)"
   ]
  },
  {
   "cell_type": "markdown",
   "metadata": {},
   "source": [
    "- union -> junta as informações de 2 sets. Se houver algum valor duplicado, ele constará apenas 1 vez no set final"
   ]
  },
  {
   "cell_type": "code",
   "execution_count": 5,
   "metadata": {},
   "outputs": [
    {
     "name": "stdout",
     "output_type": "stream",
     "text": [
      "{'airpod', 'ipod', 'macbook', 'iphone', 'ipad', 'apple watch'}\n"
     ]
    }
   ],
   "source": [
    "produtos = {'iphone', 'macbook', 'ipad'}\n",
    "lancamentos = {'airpod', 'apple watch', 'ipod', 'ipad'}\n",
    "todos_produtos = produtos.union(lancamentos)\n",
    "print(todos_produtos)"
   ]
  },
  {
   "cell_type": "markdown",
   "metadata": {},
   "source": [
    "- intersection -> pega apenas as informações que existem nos 2 sets ao mesmo tempo"
   ]
  },
  {
   "cell_type": "code",
   "execution_count": 7,
   "metadata": {},
   "outputs": [
    {
     "name": "stdout",
     "output_type": "stream",
     "text": [
      "{'ipad'}\n"
     ]
    }
   ],
   "source": [
    "produtos = {'iphone', 'macbook', 'ipad'}\n",
    "lancamentos = {'airpod', 'apple watch', 'ipod', 'ipad'}\n",
    "intersecao = produtos.intersection(lancamentos)\n",
    "print(intersecao)"
   ]
  },
  {
   "cell_type": "markdown",
   "metadata": {},
   "source": [
    "- difference -> retorna todas as informações de um set que não fazem parte de outro set"
   ]
  },
  {
   "cell_type": "code",
   "execution_count": 8,
   "metadata": {},
   "outputs": [
    {
     "name": "stdout",
     "output_type": "stream",
     "text": [
      "{'macbook', 'iphone'}\n"
     ]
    }
   ],
   "source": [
    "produtos = {'iphone', 'macbook', 'ipad'}\n",
    "lancamentos = {'airpod', 'apple watch', 'ipod', 'ipad'}\n",
    "produtos_nao_lancamentos = produtos.difference(lancamentos)\n",
    "print(produtos_nao_lancamentos) #repare que ipad foi retirado do resultado porque ele estava contido no set de lançamentos"
   ]
  },
  {
   "cell_type": "code",
   "execution_count": 1,
   "metadata": {
    "ExecuteTime": {
     "end_time": "2023-03-27T15:33:27.716858Z",
     "start_time": "2023-03-27T15:33:27.708866Z"
    }
   },
   "outputs": [
    {
     "name": "stdout",
     "output_type": "stream",
     "text": [
      "{'feijao', 'macarrao', 'azeite', 'arroz', 'atum'}\n"
     ]
    }
   ],
   "source": [
    "set_produtos = {'arroz', 'feijao', 'macarrao', 'atum', 'azeite'}\n",
    "\n",
    "print(set_produtos)"
   ]
  },
  {
   "cell_type": "markdown",
   "metadata": {},
   "source": [
    "- Aplicação bem útil:\n",
    "\n",
    "    1. Quantos clientes tivemos na loja?"
   ]
  },
  {
   "cell_type": "code",
   "execution_count": 2,
   "metadata": {
    "ExecuteTime": {
     "end_time": "2023-03-27T15:33:51.639024Z",
     "start_time": "2023-03-27T15:33:51.623406Z"
    }
   },
   "outputs": [
    {
     "name": "stdout",
     "output_type": "stream",
     "text": [
      "['762.196.080-97', '462.126.030-81', '988.305.810-11', '990.236.770-48', '827.363.930-40', '892.080.930-50', '925.413.640-91', '596.125.830-05', '870.565.160-33', '263.027.380-67', '393.462.330-10']\n",
      "\n",
      "Temos 11 clientes na loja\n"
     ]
    }
   ],
   "source": [
    "cpf_clientes = ['762.196.080-97', '263.027.380-67', '827.363.930-40', '925.413.640-91', '870.565.160-33', '892.080.930-50', '462.126.030-81', '393.462.330-10', '393.462.330-10', '393.462.330-10', '988.305.810-11', '596.125.830-05', '596.125.830-05', '990.236.770-48']\n",
    "\n",
    "set_cpf_clientes = set(cpf_clientes)\n",
    "cpf_clientes_unicos = list(set_cpf_clientes)\n",
    "print(cpf_clientes_unicos)\n",
    "print('\\nTemos {} clientes na loja'.format(len(set_cpf_clientes)))\n"
   ]
  }
 ],
 "metadata": {
  "kernelspec": {
   "display_name": "Python 3 (ipykernel)",
   "language": "python",
   "name": "python3"
  },
  "language_info": {
   "codemirror_mode": {
    "name": "ipython",
    "version": 3
   },
   "file_extension": ".py",
   "mimetype": "text/x-python",
   "name": "python",
   "nbconvert_exporter": "python",
   "pygments_lexer": "ipython3",
   "version": "3.9.12"
  },
  "varInspector": {
   "cols": {
    "lenName": 16,
    "lenType": 16,
    "lenVar": 40
   },
   "kernels_config": {
    "python": {
     "delete_cmd_postfix": "",
     "delete_cmd_prefix": "del ",
     "library": "var_list.py",
     "varRefreshCmd": "print(var_dic_list())"
    },
    "r": {
     "delete_cmd_postfix": ") ",
     "delete_cmd_prefix": "rm(",
     "library": "var_list.r",
     "varRefreshCmd": "cat(var_dic_list()) "
    }
   },
   "types_to_exclude": [
    "module",
    "function",
    "builtin_function_or_method",
    "instance",
    "_Feature"
   ],
   "window_display": false
  }
 },
 "nbformat": 4,
 "nbformat_minor": 4
}
