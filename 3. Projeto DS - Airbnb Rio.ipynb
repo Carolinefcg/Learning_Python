{
 "cells": [
  {
   "cell_type": "markdown",
   "metadata": {},
   "source": [
    "# Projeto Airbnb Rio - Ferramenta de Previsão de Preço de Imóvel para pessoas comuns "
   ]
  },
  {
   "cell_type": "markdown",
   "metadata": {},
   "source": [
    "### Contexto\n",
    "\n",
    "No Airbnb, qualquer pessoa que tenha um quarto ou um imóvel de qualquer tipo (apartamento, casa, chalé, pousada, etc.) pode ofertar o seu imóvel para ser alugado por diária.\n",
    "\n",
    "Você cria o seu perfil de host (pessoa que disponibiliza um imóvel para aluguel por diária) e cria o anúncio do seu imóvel.\n",
    "\n",
    "Nesse anúncio, o host deve descrever as características do imóvel da forma mais completa possível, de forma a ajudar os locadores/viajantes a escolherem o melhor imóvel para eles (e de forma a tornar o seu anúncio mais atrativo)\n",
    "\n",
    "Existem dezenas de personalizações possíveis no seu anúncio, desde quantidade mínima de diária, preço, quantidade de quartos, até regras de cancelamento, taxa extra para hóspedes extras, exigência de verificação de identidade do locador, etc.\n",
    "\n",
    "### Nosso objetivo\n",
    "\n",
    "Construir um modelo de previsão de preço que permita uma pessoa comum que possui um imóvel possa saber quanto deve cobrar pela diária do seu imóvel.\n",
    "\n",
    "Ou ainda, para o locador comum, dado o imóvel que ele está buscando, ajudar a saber se aquele imóvel está com preço atrativo (abaixo da média para imóveis com as mesmas características) ou não.\n",
    "\n",
    "### O que temos disponível, inspirações e créditos\n",
    "\n",
    "As bases de dados foram retiradas do site kaggle: https://www.kaggle.com/allanbruno/airbnb-rio-de-janeiro\n",
    "\n",
    "Elas estão disponíveis para download abaixo da aula (se você puxar os dados direto do Kaggle pode ser que encontre resultados diferentes dos meus, afinal as bases de dados podem ter sido atualizadas).\n",
    "\n",
    "Caso queira uma outra solução, podemos olhar como referência a solução do usuário Allan Bruno do kaggle no Notebook: https://www.kaggle.com/allanbruno/helping-regular-people-price-listings-on-airbnb\n",
    "\n",
    "Você vai perceber semelhanças entre a solução que vamos desenvolver aqui e a dele, mas também algumas diferenças significativas no processo de construção do projeto.\n",
    "\n",
    "- As bases de dados são os preços dos imóveis obtidos e suas respectivas características em cada mês.\n",
    "- Os preços são dados em reais (R$)\n",
    "- Temos bases de abril de 2018 a maio de 2020, com exceção de junho de 2018 que não possui base de dados\n",
    "\n",
    "### Expectativas Iniciais\n",
    "\n",
    "- Acredito que a sazonalidade pode ser um fator importante, visto que meses como dezembro costumam ser bem caros no RJ\n",
    "- A localização do imóvel deve fazer muita diferença no preço, já que no Rio de Janeiro a localização pode mudar completamente as características do lugar (segurança, beleza natural, pontos turísticos)\n",
    "- Adicionais/Comodidades podem ter um impacto significativo, visto que temos muitos prédios e casas antigos no Rio de Janeiro\n",
    "\n",
    "Vamos descobrir o quanto esses fatores impactam e se temos outros fatores não tão intuitivos que são extremamente importantes."
   ]
  },
  {
   "cell_type": "markdown",
   "metadata": {},
   "source": [
    "### Importar Bibliotecas e Bases de Dados"
   ]
  },
  {
   "cell_type": "code",
   "execution_count": 17,
   "metadata": {
    "ExecuteTime": {
     "end_time": "2023-04-19T23:48:02.281767Z",
     "start_time": "2023-04-19T23:48:02.277008Z"
    }
   },
   "outputs": [],
   "source": [
    "import pandas as pd\n",
    "import pathlib\n",
    "from zipfile import ZipFile"
   ]
  },
  {
   "cell_type": "code",
   "execution_count": 68,
   "metadata": {
    "ExecuteTime": {
     "end_time": "2023-04-20T00:18:54.479587Z",
     "start_time": "2023-04-20T00:18:54.466615Z"
    }
   },
   "outputs": [],
   "source": [
    "caminho = pathlib.Path(r'../../PYTHON/HASHTAG/data/')"
   ]
  },
  {
   "cell_type": "code",
   "execution_count": 70,
   "metadata": {
    "ExecuteTime": {
     "end_time": "2023-04-20T00:19:27.398550Z",
     "start_time": "2023-04-20T00:19:27.386539Z"
    }
   },
   "outputs": [],
   "source": [
    "zipped_file = pathlib.Path(r'dataset - projeto ds.zip')"
   ]
  },
  {
   "cell_type": "code",
   "execution_count": 71,
   "metadata": {
    "ExecuteTime": {
     "end_time": "2023-04-20T00:19:28.285616Z",
     "start_time": "2023-04-20T00:19:28.261642Z"
    }
   },
   "outputs": [
    {
     "data": {
      "text/plain": [
       "<zipfile.ZipFile filename='..\\\\..\\\\PYTHON\\\\HASHTAG\\\\data\\\\dataset - projeto ds.zip' mode='r'>"
      ]
     },
     "execution_count": 71,
     "metadata": {},
     "output_type": "execute_result"
    }
   ],
   "source": [
    "zip_file = ZipFile( caminho / zipped_file )\n",
    "zip_file"
   ]
  },
  {
   "cell_type": "code",
   "execution_count": 76,
   "metadata": {
    "ExecuteTime": {
     "end_time": "2023-04-20T00:26:59.500770Z",
     "start_time": "2023-04-20T00:26:59.483621Z"
    }
   },
   "outputs": [
    {
     "data": {
      "text/plain": [
       "[<ZipInfo filename='dataset/abril2018.csv' compress_type=deflate external_attr=0x20 file_size=123570840 compress_size=31084067>,\n",
       " <ZipInfo filename='dataset/abril2019.csv' compress_type=deflate external_attr=0x20 file_size=117472832 compress_size=29041237>,\n",
       " <ZipInfo filename='dataset/abril2020.csv' compress_type=deflate external_attr=0x20 file_size=117316975 compress_size=28936098>,\n",
       " <ZipInfo filename='dataset/agosto2018.csv' compress_type=deflate external_attr=0x20 file_size=119613599 compress_size=29911958>,\n",
       " <ZipInfo filename='dataset/agosto2019.csv' compress_type=deflate external_attr=0x20 file_size=114622228 compress_size=28387701>,\n",
       " <ZipInfo filename='dataset/dezembro2018.csv' compress_type=deflate external_attr=0x20 file_size=114032495 compress_size=28572587>,\n",
       " <ZipInfo filename='dataset/dezembro2019.csv' compress_type=deflate external_attr=0x20 file_size=114897257 compress_size=28465190>,\n",
       " <ZipInfo filename='dataset/fevereiro2019.csv' compress_type=deflate external_attr=0x20 file_size=116824815 compress_size=29308400>,\n",
       " <ZipInfo filename='dataset/fevereiro2020.csv' compress_type=deflate external_attr=0x20 file_size=119946337 compress_size=29699635>,\n",
       " <ZipInfo filename='dataset/janeiro2019.csv' compress_type=deflate external_attr=0x20 file_size=114901666 compress_size=28824311>,\n",
       " <ZipInfo filename='dataset/janeiro2020.csv' compress_type=deflate external_attr=0x20 file_size=115118075 compress_size=28528308>,\n",
       " <ZipInfo filename='dataset/julho2018.csv' compress_type=deflate external_attr=0x20 file_size=121472893 compress_size=30381492>,\n",
       " <ZipInfo filename='dataset/julho2019.csv' compress_type=deflate external_attr=0x20 file_size=115901908 compress_size=28696995>,\n",
       " <ZipInfo filename='dataset/junho2019.csv' compress_type=deflate external_attr=0x20 file_size=116694251 compress_size=28874893>,\n",
       " <ZipInfo filename='dataset/maio2018.csv' compress_type=deflate external_attr=0x20 file_size=123050907 compress_size=30870264>,\n",
       " <ZipInfo filename='dataset/maio2019.csv' compress_type=deflate external_attr=0x20 file_size=117120440 compress_size=28926952>,\n",
       " <ZipInfo filename='dataset/maio2020.csv' compress_type=deflate external_attr=0x20 file_size=116738918 compress_size=28722250>,\n",
       " <ZipInfo filename='dataset/maro2019.csv' compress_type=deflate external_attr=0x20 file_size=118143642 compress_size=29216668>,\n",
       " <ZipInfo filename='dataset/maro2020.csv' compress_type=deflate external_attr=0x20 file_size=118533957 compress_size=29291031>,\n",
       " <ZipInfo filename='dataset/novembro2019.csv' compress_type=deflate external_attr=0x20 file_size=111764542 compress_size=27737983>,\n",
       " <ZipInfo filename='dataset/novrmbro2018.csv' compress_type=deflate external_attr=0x20 file_size=112818395 compress_size=28289760>,\n",
       " <ZipInfo filename='dataset/outubro2018.csv' compress_type=deflate external_attr=0x20 file_size=114624084 compress_size=28716717>,\n",
       " <ZipInfo filename='dataset/outubro2019.csv' compress_type=deflate external_attr=0x20 file_size=111511363 compress_size=27640237>,\n",
       " <ZipInfo filename='dataset/setembro2018.csv' compress_type=deflate external_attr=0x20 file_size=116985202 compress_size=29944251>,\n",
       " <ZipInfo filename='dataset/setembro2019.csv' compress_type=deflate external_attr=0x20 file_size=112937342 compress_size=27947405>]"
      ]
     },
     "execution_count": 76,
     "metadata": {},
     "output_type": "execute_result"
    }
   ],
   "source": [
    "zip_file.infolist()"
   ]
  },
  {
   "cell_type": "code",
   "execution_count": 75,
   "metadata": {
    "ExecuteTime": {
     "end_time": "2023-04-20T00:26:38.270353Z",
     "start_time": "2023-04-20T00:26:35.866925Z"
    }
   },
   "outputs": [
    {
     "name": "stdout",
     "output_type": "stream",
     "text": [
      "1 dataset/abril2019.csv\n"
     ]
    },
    {
     "name": "stderr",
     "output_type": "stream",
     "text": [
      "C:\\Users\\Caroline\\AppData\\Local\\Temp\\ipykernel_10328\\3356911039.py:5: DtypeWarning: Columns (61,62,94) have mixed types. Specify dtype option on import or set low_memory=False.\n",
      "  file = pd.read_csv(zip_file.open(text_file.filename))\n",
      "C:\\Users\\Caroline\\AppData\\Local\\Temp\\ipykernel_10328\\3356911039.py:6: FutureWarning: The frame.append method is deprecated and will be removed from pandas in a future version. Use pandas.concat instead.\n",
      "  base_airbnb.append(file)\n"
     ]
    }
   ],
   "source": [
    "base_airbnb = pd.DataFrame()\n",
    "for i, text_file in enumerate(zip_file.infolist()):\n",
    "    if (text_file.filename.endswith('.csv') and i == 1):\n",
    "        print(i, text_file.filename)\n",
    "        file = pd.read_csv(zip_file.open(text_file.filename))\n",
    "        base_airbnb.append(file)\n",
    "        "
   ]
  },
  {
   "cell_type": "code",
   "execution_count": 73,
   "metadata": {
    "ExecuteTime": {
     "end_time": "2023-04-20T00:19:59.640300Z",
     "start_time": "2023-04-20T00:19:57.293217Z"
    }
   },
   "outputs": [
    {
     "name": "stderr",
     "output_type": "stream",
     "text": [
      "C:\\Users\\Caroline\\AppData\\Local\\Temp\\ipykernel_10328\\1129210079.py:1: DtypeWarning: Columns (61,62,94) have mixed types. Specify dtype option on import or set low_memory=False.\n",
      "  teste3 = pd.read_csv(zip_files[0])\n"
     ]
    },
    {
     "data": {
      "text/html": [
       "<div>\n",
       "<style scoped>\n",
       "    .dataframe tbody tr th:only-of-type {\n",
       "        vertical-align: middle;\n",
       "    }\n",
       "\n",
       "    .dataframe tbody tr th {\n",
       "        vertical-align: top;\n",
       "    }\n",
       "\n",
       "    .dataframe thead th {\n",
       "        text-align: right;\n",
       "    }\n",
       "</style>\n",
       "<table border=\"1\" class=\"dataframe\">\n",
       "  <thead>\n",
       "    <tr style=\"text-align: right;\">\n",
       "      <th></th>\n",
       "      <th>id</th>\n",
       "      <th>listing_url</th>\n",
       "      <th>scrape_id</th>\n",
       "      <th>last_scraped</th>\n",
       "      <th>name</th>\n",
       "      <th>summary</th>\n",
       "      <th>space</th>\n",
       "      <th>description</th>\n",
       "      <th>experiences_offered</th>\n",
       "      <th>neighborhood_overview</th>\n",
       "      <th>...</th>\n",
       "      <th>instant_bookable</th>\n",
       "      <th>is_business_travel_ready</th>\n",
       "      <th>cancellation_policy</th>\n",
       "      <th>require_guest_profile_picture</th>\n",
       "      <th>require_guest_phone_verification</th>\n",
       "      <th>calculated_host_listings_count</th>\n",
       "      <th>calculated_host_listings_count_entire_homes</th>\n",
       "      <th>calculated_host_listings_count_private_rooms</th>\n",
       "      <th>calculated_host_listings_count_shared_rooms</th>\n",
       "      <th>reviews_per_month</th>\n",
       "    </tr>\n",
       "  </thead>\n",
       "  <tbody>\n",
       "    <tr>\n",
       "      <th>0</th>\n",
       "      <td>17878</td>\n",
       "      <td>https://www.airbnb.com/rooms/17878</td>\n",
       "      <td>20190416181629</td>\n",
       "      <td>2019-04-16</td>\n",
       "      <td>Very Nice 2Br - Copacabana - WiFi</td>\n",
       "      <td>Please note that special rates apply for New Y...</td>\n",
       "      <td>- large balcony which looks out on pedestrian ...</td>\n",
       "      <td>Please note that special rates apply for New Y...</td>\n",
       "      <td>none</td>\n",
       "      <td>This is the best spot in Rio. Everything happe...</td>\n",
       "      <td>...</td>\n",
       "      <td>t</td>\n",
       "      <td>f</td>\n",
       "      <td>strict_14_with_grace_period</td>\n",
       "      <td>f</td>\n",
       "      <td>f</td>\n",
       "      <td>1</td>\n",
       "      <td>1</td>\n",
       "      <td>0</td>\n",
       "      <td>0</td>\n",
       "      <td>2.10</td>\n",
       "    </tr>\n",
       "    <tr>\n",
       "      <th>1</th>\n",
       "      <td>25026</td>\n",
       "      <td>https://www.airbnb.com/rooms/25026</td>\n",
       "      <td>20190416181629</td>\n",
       "      <td>2019-04-16</td>\n",
       "      <td>Beautiful Modern Decorated Studio in Copa</td>\n",
       "      <td>Our apartment is a little gem, everyone loves ...</td>\n",
       "      <td>This newly renovated studio (last renovations ...</td>\n",
       "      <td>Our apartment is a little gem, everyone loves ...</td>\n",
       "      <td>none</td>\n",
       "      <td>Copacabana is a lively neighborhood and the ap...</td>\n",
       "      <td>...</td>\n",
       "      <td>f</td>\n",
       "      <td>f</td>\n",
       "      <td>strict_14_with_grace_period</td>\n",
       "      <td>t</td>\n",
       "      <td>t</td>\n",
       "      <td>3</td>\n",
       "      <td>3</td>\n",
       "      <td>0</td>\n",
       "      <td>0</td>\n",
       "      <td>2.12</td>\n",
       "    </tr>\n",
       "    <tr>\n",
       "      <th>2</th>\n",
       "      <td>31560</td>\n",
       "      <td>https://www.airbnb.com/rooms/31560</td>\n",
       "      <td>20190416181629</td>\n",
       "      <td>2019-04-17</td>\n",
       "      <td>NICE &amp; COZY 1BDR - IPANEMA BEACH</td>\n",
       "      <td>This nice and clean 1 bedroom apartment is loc...</td>\n",
       "      <td>This nice and clean 1 bedroom apartment is loc...</td>\n",
       "      <td>This nice and clean 1 bedroom apartment is loc...</td>\n",
       "      <td>none</td>\n",
       "      <td>Die Nachbarschaft von Ipanema ist super lebend...</td>\n",
       "      <td>...</td>\n",
       "      <td>t</td>\n",
       "      <td>f</td>\n",
       "      <td>strict_14_with_grace_period</td>\n",
       "      <td>f</td>\n",
       "      <td>f</td>\n",
       "      <td>1</td>\n",
       "      <td>1</td>\n",
       "      <td>0</td>\n",
       "      <td>0</td>\n",
       "      <td>2.33</td>\n",
       "    </tr>\n",
       "  </tbody>\n",
       "</table>\n",
       "<p>3 rows × 106 columns</p>\n",
       "</div>"
      ],
      "text/plain": [
       "      id                         listing_url       scrape_id last_scraped  \\\n",
       "0  17878  https://www.airbnb.com/rooms/17878  20190416181629   2019-04-16   \n",
       "1  25026  https://www.airbnb.com/rooms/25026  20190416181629   2019-04-16   \n",
       "2  31560  https://www.airbnb.com/rooms/31560  20190416181629   2019-04-17   \n",
       "\n",
       "                                        name  \\\n",
       "0          Very Nice 2Br - Copacabana - WiFi   \n",
       "1  Beautiful Modern Decorated Studio in Copa   \n",
       "2           NICE & COZY 1BDR - IPANEMA BEACH   \n",
       "\n",
       "                                             summary  \\\n",
       "0  Please note that special rates apply for New Y...   \n",
       "1  Our apartment is a little gem, everyone loves ...   \n",
       "2  This nice and clean 1 bedroom apartment is loc...   \n",
       "\n",
       "                                               space  \\\n",
       "0  - large balcony which looks out on pedestrian ...   \n",
       "1  This newly renovated studio (last renovations ...   \n",
       "2  This nice and clean 1 bedroom apartment is loc...   \n",
       "\n",
       "                                         description experiences_offered  \\\n",
       "0  Please note that special rates apply for New Y...                none   \n",
       "1  Our apartment is a little gem, everyone loves ...                none   \n",
       "2  This nice and clean 1 bedroom apartment is loc...                none   \n",
       "\n",
       "                               neighborhood_overview  ... instant_bookable  \\\n",
       "0  This is the best spot in Rio. Everything happe...  ...                t   \n",
       "1  Copacabana is a lively neighborhood and the ap...  ...                f   \n",
       "2  Die Nachbarschaft von Ipanema ist super lebend...  ...                t   \n",
       "\n",
       "  is_business_travel_ready          cancellation_policy  \\\n",
       "0                        f  strict_14_with_grace_period   \n",
       "1                        f  strict_14_with_grace_period   \n",
       "2                        f  strict_14_with_grace_period   \n",
       "\n",
       "  require_guest_profile_picture require_guest_phone_verification  \\\n",
       "0                             f                                f   \n",
       "1                             t                                t   \n",
       "2                             f                                f   \n",
       "\n",
       "   calculated_host_listings_count  \\\n",
       "0                               1   \n",
       "1                               3   \n",
       "2                               1   \n",
       "\n",
       "   calculated_host_listings_count_entire_homes  \\\n",
       "0                                            1   \n",
       "1                                            3   \n",
       "2                                            1   \n",
       "\n",
       "  calculated_host_listings_count_private_rooms  \\\n",
       "0                                            0   \n",
       "1                                            0   \n",
       "2                                            0   \n",
       "\n",
       "   calculated_host_listings_count_shared_rooms  reviews_per_month  \n",
       "0                                            0               2.10  \n",
       "1                                            0               2.12  \n",
       "2                                            0               2.33  \n",
       "\n",
       "[3 rows x 106 columns]"
      ]
     },
     "execution_count": 73,
     "metadata": {},
     "output_type": "execute_result"
    }
   ],
   "source": [
    "teste3 = pd.read_csv(zip_files[0])\n",
    "teste3.head(3)"
   ]
  },
  {
   "cell_type": "markdown",
   "metadata": {},
   "source": [
    "### Consolidar Base de Dados"
   ]
  },
  {
   "cell_type": "code",
   "execution_count": null,
   "metadata": {},
   "outputs": [],
   "source": []
  },
  {
   "cell_type": "markdown",
   "metadata": {},
   "source": [
    "### Se tivermos muitas colunas, já vamos identificar quais colunas podemos excluir"
   ]
  },
  {
   "cell_type": "code",
   "execution_count": null,
   "metadata": {},
   "outputs": [],
   "source": []
  },
  {
   "cell_type": "markdown",
   "metadata": {},
   "source": [
    "### Tratar Valores Faltando"
   ]
  },
  {
   "cell_type": "code",
   "execution_count": null,
   "metadata": {},
   "outputs": [],
   "source": []
  },
  {
   "cell_type": "markdown",
   "metadata": {},
   "source": [
    "### Verificar Tipos de Dados em cada coluna"
   ]
  },
  {
   "cell_type": "code",
   "execution_count": null,
   "metadata": {},
   "outputs": [],
   "source": []
  },
  {
   "cell_type": "markdown",
   "metadata": {},
   "source": [
    "### Análise Exploratória e Tratar Outliers"
   ]
  },
  {
   "cell_type": "code",
   "execution_count": null,
   "metadata": {},
   "outputs": [],
   "source": []
  },
  {
   "cell_type": "markdown",
   "metadata": {},
   "source": [
    "### Encoding"
   ]
  },
  {
   "cell_type": "code",
   "execution_count": null,
   "metadata": {},
   "outputs": [],
   "source": []
  },
  {
   "cell_type": "markdown",
   "metadata": {},
   "source": [
    "### Modelo de Previsão"
   ]
  },
  {
   "cell_type": "code",
   "execution_count": null,
   "metadata": {},
   "outputs": [],
   "source": []
  },
  {
   "cell_type": "markdown",
   "metadata": {},
   "source": [
    "### Análise do Melhor Modelo"
   ]
  },
  {
   "cell_type": "code",
   "execution_count": null,
   "metadata": {},
   "outputs": [],
   "source": []
  },
  {
   "cell_type": "markdown",
   "metadata": {},
   "source": [
    "### Ajustes e Melhorias no Melhor Modelo"
   ]
  },
  {
   "cell_type": "code",
   "execution_count": null,
   "metadata": {},
   "outputs": [],
   "source": []
  }
 ],
 "metadata": {
  "kernelspec": {
   "display_name": "Python 3 (ipykernel)",
   "language": "python",
   "name": "python3"
  },
  "language_info": {
   "codemirror_mode": {
    "name": "ipython",
    "version": 3
   },
   "file_extension": ".py",
   "mimetype": "text/x-python",
   "name": "python",
   "nbconvert_exporter": "python",
   "pygments_lexer": "ipython3",
   "version": "3.9.12"
  },
  "toc": {
   "base_numbering": 1,
   "nav_menu": {},
   "number_sections": true,
   "sideBar": true,
   "skip_h1_title": false,
   "title_cell": "Table of Contents",
   "title_sidebar": "Contents",
   "toc_cell": false,
   "toc_position": {},
   "toc_section_display": true,
   "toc_window_display": false
  },
  "varInspector": {
   "cols": {
    "lenName": 16,
    "lenType": 16,
    "lenVar": 40
   },
   "kernels_config": {
    "python": {
     "delete_cmd_postfix": "",
     "delete_cmd_prefix": "del ",
     "library": "var_list.py",
     "varRefreshCmd": "print(var_dic_list())"
    },
    "r": {
     "delete_cmd_postfix": ") ",
     "delete_cmd_prefix": "rm(",
     "library": "var_list.r",
     "varRefreshCmd": "cat(var_dic_list()) "
    }
   },
   "types_to_exclude": [
    "module",
    "function",
    "builtin_function_or_method",
    "instance",
    "_Feature"
   ],
   "window_display": false
  }
 },
 "nbformat": 4,
 "nbformat_minor": 4
}
