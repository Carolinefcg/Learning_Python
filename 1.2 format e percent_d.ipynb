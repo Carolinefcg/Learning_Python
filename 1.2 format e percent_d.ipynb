{
 "cells": [
  {
   "cell_type": "markdown",
   "metadata": {},
   "source": [
    "# Operações com String\n",
    "\n",
    "str -> transforma número em string<br>\n",
    "in -> verifica se um texto está contido dentro do outro<br>\n",
    "operador + -> concatenar string<br>\n",
    "format e {} -> substitui valores<br>\n",
    "%s -> substitui textos<br>\n",
    "%d -> substitui números decimais<br>\n",
    "\n",
    "Vamos deixar uma cartilha para download"
   ]
  },
  {
   "cell_type": "code",
   "execution_count": 2,
   "metadata": {
    "ExecuteTime": {
     "end_time": "2023-03-06T23:34:30.486506Z",
     "start_time": "2023-03-06T23:34:30.468486Z"
    }
   },
   "outputs": [],
   "source": [
    "faturamento = 1000\n",
    "custo = 500\n",
    "lucro = faturamento - custo"
   ]
  },
  {
   "cell_type": "markdown",
   "metadata": {},
   "source": [
    "Uso do str() e do concatenar com +"
   ]
  },
  {
   "cell_type": "code",
   "execution_count": 5,
   "metadata": {
    "ExecuteTime": {
     "end_time": "2023-03-06T23:35:00.946496Z",
     "start_time": "2023-03-06T23:35:00.915290Z"
    }
   },
   "outputs": [
    {
     "name": "stdout",
     "output_type": "stream",
     "text": [
      "O faturamento da loja foi de: 1000\n"
     ]
    }
   ],
   "source": [
    "print ('O faturamento da loja foi de: '+ str(faturamento))"
   ]
  },
  {
   "cell_type": "markdown",
   "metadata": {},
   "source": [
    "Uso do Format"
   ]
  },
  {
   "cell_type": "code",
   "execution_count": 7,
   "metadata": {
    "ExecuteTime": {
     "end_time": "2023-03-06T23:35:34.155756Z",
     "start_time": "2023-03-06T23:35:34.143756Z"
    }
   },
   "outputs": [
    {
     "name": "stdout",
     "output_type": "stream",
     "text": [
      "O faturamento foi de: 1000\n"
     ]
    }
   ],
   "source": [
    "print('O faturamento foi de: {}'.format(faturamento))"
   ]
  },
  {
   "cell_type": "markdown",
   "metadata": {},
   "source": [
    "Uso do %s e %d"
   ]
  },
  {
   "cell_type": "code",
   "execution_count": 9,
   "metadata": {
    "ExecuteTime": {
     "end_time": "2023-03-06T23:36:41.598125Z",
     "start_time": "2023-03-06T23:36:41.586125Z"
    }
   },
   "outputs": [
    {
     "name": "stdout",
     "output_type": "stream",
     "text": [
      "O faturamento foi de: 1000 \n",
      "Custo de 500 \n",
      "Lucro de 500\n"
     ]
    }
   ],
   "source": [
    "print ('O faturamento foi de: %d \\nCusto de %d \\nLucro de %d' %(faturamento, custo, lucro) )"
   ]
  },
  {
   "cell_type": "markdown",
   "metadata": {},
   "source": [
    "Uso do in (mais exercícios práticos nas próximas aulas)"
   ]
  },
  {
   "cell_type": "code",
   "execution_count": 10,
   "metadata": {
    "ExecuteTime": {
     "end_time": "2023-03-06T23:36:46.904955Z",
     "start_time": "2023-03-06T23:36:46.896956Z"
    }
   },
   "outputs": [
    {
     "name": "stdout",
     "output_type": "stream",
     "text": [
      "True\n",
      "False\n"
     ]
    }
   ],
   "source": [
    "print('@' in 'lira@gmail.com')\n",
    "print('@' in 'lira.gmail.com')"
   ]
  }
 ],
 "metadata": {
  "kernelspec": {
   "display_name": "Python 3 (ipykernel)",
   "language": "python",
   "name": "python3"
  },
  "language_info": {
   "codemirror_mode": {
    "name": "ipython",
    "version": 3
   },
   "file_extension": ".py",
   "mimetype": "text/x-python",
   "name": "python",
   "nbconvert_exporter": "python",
   "pygments_lexer": "ipython3",
   "version": "3.9.12"
  },
  "varInspector": {
   "cols": {
    "lenName": 16,
    "lenType": 16,
    "lenVar": 40
   },
   "kernels_config": {
    "python": {
     "delete_cmd_postfix": "",
     "delete_cmd_prefix": "del ",
     "library": "var_list.py",
     "varRefreshCmd": "print(var_dic_list())"
    },
    "r": {
     "delete_cmd_postfix": ") ",
     "delete_cmd_prefix": "rm(",
     "library": "var_list.r",
     "varRefreshCmd": "cat(var_dic_list()) "
    }
   },
   "types_to_exclude": [
    "module",
    "function",
    "builtin_function_or_method",
    "instance",
    "_Feature"
   ],
   "window_display": false
  }
 },
 "nbformat": 4,
 "nbformat_minor": 4
}
