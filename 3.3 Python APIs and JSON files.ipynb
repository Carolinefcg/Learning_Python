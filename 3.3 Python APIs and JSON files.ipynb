{
 "cells": [
  {
   "cell_type": "markdown",
   "id": "d6f0312e",
   "metadata": {},
   "source": [
    "# Libraries"
   ]
  },
  {
   "cell_type": "code",
   "execution_count": 1,
   "id": "797b86e1",
   "metadata": {
    "ExecuteTime": {
     "end_time": "2023-07-07T00:18:10.515060Z",
     "start_time": "2023-07-07T00:18:10.352026Z"
    }
   },
   "outputs": [],
   "source": [
    "import requests\n",
    "import json"
   ]
  },
  {
   "cell_type": "markdown",
   "id": "73d8cff9",
   "metadata": {},
   "source": [
    "# Get json file from website"
   ]
  },
  {
   "cell_type": "markdown",
   "id": "309e0b50",
   "metadata": {},
   "source": [
    "From https://docs.awesomeapi.com.br/api-de-moedas"
   ]
  },
  {
   "cell_type": "code",
   "execution_count": 4,
   "id": "374c1509",
   "metadata": {
    "ExecuteTime": {
     "end_time": "2023-07-07T00:20:11.604976Z",
     "start_time": "2023-07-07T00:20:11.509219Z"
    }
   },
   "outputs": [
    {
     "name": "stdout",
     "output_type": "stream",
     "text": [
      "{'USD': {'code': 'USD', 'codein': 'BRL', 'name': 'Dólar Americano/Real Brasileiro', 'high': '4.9202', 'low': '4.9202', 'varBid': '0', 'pctChange': '0', 'bid': '4.9193', 'ask': '4.9211', 'timestamp': '1688677204', 'create_date': '2023-07-06 18:00:04'}, 'USDT': {'code': 'USD', 'codein': 'BRLT', 'name': 'Dólar Americano/Real Brasileiro Turismo', 'high': '4.95', 'low': '4.95', 'varBid': '0', 'pctChange': '0', 'bid': '4.8', 'ask': '5.1', 'timestamp': '1688670120', 'create_date': '2023-07-06 16:02:00'}, 'CAD': {'code': 'CAD', 'codein': 'BRL', 'name': 'Dólar Canadense/Real Brasileiro', 'high': '3.6822', 'low': '3.6796', 'varBid': '-0.0005', 'pctChange': '-0.01', 'bid': '3.6768', 'ask': '3.6823', 'timestamp': '1688689175', 'create_date': '2023-07-06 21:19:35'}, 'GBP': {'code': 'GBP', 'codein': 'BRL', 'name': 'Libra Esterlina/Real Brasileiro', 'high': '6.2705', 'low': '6.2657', 'varBid': '0.0024', 'pctChange': '0.04', 'bid': '6.2617', 'ask': '6.2775', 'timestamp': '1688689148', 'create_date': '2023-07-06 21:19:08'}, 'ARS': {'code': 'ARS', 'codein': 'BRL', 'name': 'Peso Argentino/Real Brasileiro', 'high': '0.0189', 'low': '0.0189', 'varBid': '0', 'pctChange': '0', 'bid': '0.0189', 'ask': '0.0189', 'timestamp': '1688689184', 'create_date': '2023-07-06 21:19:44'}, 'BTC': {'code': 'BTC', 'codein': 'BRL', 'name': 'Bitcoin/Real Brasileiro', 'high': '152000', 'low': '146980', 'varBid': '409', 'pctChange': '0.28', 'bid': '147890', 'ask': '148145', 'timestamp': '1688689189', 'create_date': '2023-07-06 21:19:49'}, 'LTC': {'code': 'LTC', 'codein': 'BRL', 'name': 'Litecoin/Real Brasileiro', 'high': '511.95', 'low': '470', 'varBid': '-17.03', 'pctChange': '-3.44', 'bid': '475.48', 'ask': '476.73', 'timestamp': '1688689189', 'create_date': '2023-07-06 21:19:49'}, 'EUR': {'code': 'EUR', 'codein': 'BRL', 'name': 'Euro/Real Brasileiro', 'high': '5.3603', 'low': '5.3566', 'varBid': '-0.0016', 'pctChange': '-0.03', 'bid': '5.3529', 'ask': '5.3609', 'timestamp': '1688689182', 'create_date': '2023-07-06 21:19:42'}, 'JPY': {'code': 'JPY', 'codein': 'BRL', 'name': 'Iene Japonês/Real Brasileiro', 'high': '0.0342', 'low': '0.03413', 'varBid': '0.0001', 'pctChange': '0.29', 'bid': '0.03419', 'ask': '0.03421', 'timestamp': '1688689184', 'create_date': '2023-07-06 21:19:44'}, 'CHF': {'code': 'CHF', 'codein': 'BRL', 'name': 'Franco Suíço/Real Brasileiro', 'high': '5.497', 'low': '5.4903', 'varBid': '-0.0019', 'pctChange': '-0.03', 'bid': '5.4887', 'ask': '5.4969', 'timestamp': '1688689179', 'create_date': '2023-07-06 21:19:39'}, 'AUD': {'code': 'AUD', 'codein': 'BRL', 'name': 'Dólar Australiano/Real Brasileiro', 'high': '3.2622', 'low': '3.2565', 'varBid': '-0.0001', 'pctChange': '0', 'bid': '3.2572', 'ask': '3.262', 'timestamp': '1688689186', 'create_date': '2023-07-06 21:19:46'}, 'CNY': {'code': 'CNY', 'codein': 'BRL', 'name': 'Yuan Chinês/Real Brasileiro', 'high': '0.6786', 'low': '0.6786', 'varBid': '0.0096', 'pctChange': '1.43', 'bid': '0.6785', 'ask': '0.6788', 'timestamp': '1688688002', 'create_date': '2023-07-06 21:00:02'}, 'ILS': {'code': 'ILS', 'codein': 'BRL', 'name': 'Novo Shekel Israelense/Real Brasileiro', 'high': '1.3239', 'low': '1.3236', 'varBid': '0.0129', 'pctChange': '0.99', 'bid': '1.3233', 'ask': '1.3238', 'timestamp': '1688689024', 'create_date': '2023-07-06 21:17:04'}, 'ETH': {'code': 'ETH', 'codein': 'BRL', 'name': 'Ethereum/Real Brasileiro', 'high': '9480.94', 'low': '9068.96', 'varBid': '-141.94', 'pctChange': '-1.53', 'bid': '9080.01', 'ask': '9104.68', 'timestamp': '1688689184', 'create_date': '2023-07-06 21:19:44'}, 'XRP': {'code': 'XRP', 'codein': 'BRL', 'name': 'XRP/Real Brasileiro', 'high': '2.34', 'low': '2.27', 'varBid': '-0.03', 'pctChange': '-1.14', 'bid': '2.28', 'ask': '2.29', 'timestamp': '1688689189', 'create_date': '2023-07-06 21:19:49'}, 'DOGE': {'code': 'DOGE', 'codein': 'BRL', 'name': 'Dogecoin/Real Brasileiro', 'high': '0.33297', 'low': '0.31849', 'varBid': '-0.00422', 'pctChange': '-1.3', 'bid': '0.32082', 'ask': '0.32082', 'timestamp': '1688688969', 'create_date': '2023-07-06 21:16:09'}}\n"
     ]
    }
   ],
   "source": [
    "currencies = requests.get('https://economia.awesomeapi.com.br/json/all')\n",
    "currencies_dic = currencies.json()\n",
    "print(currencies_dic)"
   ]
  },
  {
   "cell_type": "code",
   "execution_count": null,
   "id": "d8171d15",
   "metadata": {},
   "outputs": [],
   "source": []
  }
 ],
 "metadata": {
  "kernelspec": {
   "display_name": "Python 3 (ipykernel)",
   "language": "python",
   "name": "python3"
  },
  "language_info": {
   "codemirror_mode": {
    "name": "ipython",
    "version": 3
   },
   "file_extension": ".py",
   "mimetype": "text/x-python",
   "name": "python",
   "nbconvert_exporter": "python",
   "pygments_lexer": "ipython3",
   "version": "3.9.12"
  },
  "toc": {
   "base_numbering": 1,
   "nav_menu": {},
   "number_sections": true,
   "sideBar": true,
   "skip_h1_title": false,
   "title_cell": "Table of Contents",
   "title_sidebar": "Contents",
   "toc_cell": false,
   "toc_position": {},
   "toc_section_display": true,
   "toc_window_display": false
  },
  "varInspector": {
   "cols": {
    "lenName": 16,
    "lenType": 16,
    "lenVar": 40
   },
   "kernels_config": {
    "python": {
     "delete_cmd_postfix": "",
     "delete_cmd_prefix": "del ",
     "library": "var_list.py",
     "varRefreshCmd": "print(var_dic_list())"
    },
    "r": {
     "delete_cmd_postfix": ") ",
     "delete_cmd_prefix": "rm(",
     "library": "var_list.r",
     "varRefreshCmd": "cat(var_dic_list()) "
    }
   },
   "types_to_exclude": [
    "module",
    "function",
    "builtin_function_or_method",
    "instance",
    "_Feature"
   ],
   "window_display": false
  }
 },
 "nbformat": 4,
 "nbformat_minor": 5
}
