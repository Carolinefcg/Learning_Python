{
 "cells": [
  {
   "cell_type": "markdown",
   "id": "5ef18656",
   "metadata": {},
   "source": [
    "# Most basic"
   ]
  },
  {
   "cell_type": "code",
   "execution_count": 1,
   "id": "265e243f",
   "metadata": {
    "ExecuteTime": {
     "end_time": "2023-08-09T15:22:05.531718Z",
     "start_time": "2023-08-09T15:21:13.811842Z"
    }
   },
   "outputs": [],
   "source": [
    "import tkinter as tk\n",
    "\n",
    "janela = tk.Tk()\n",
    "\n",
    "janela.title(\"Cotação de Moedas\")\n",
    "\n",
    "janela.rowconfigure(0, weight=1)\n",
    "janela.columnconfigure([0, 1], weight=1)\n",
    "\n",
    "mensagem = tk.Label(text=\"Sistema de Busca de Cotação de Moedas\", fg='white', bg='black', width=35, height=5)\n",
    "mensagem.grid(row=0, column=0, columnspan=2, sticky=\"NSEW\")\n",
    "\n",
    "mensagem2 = tk.Label(text=\"Selecione a moeda desejada\")\n",
    "mensagem2.grid(row=1, column=0)\n",
    "\n",
    "moeda = tk.Entry()\n",
    "moeda.grid(row=1, column=1)\n",
    "\n",
    "\n",
    "dicionario_cotacoes = {\n",
    "    'Dólar': 5.47,\n",
    "    'Euro': 6.68,\n",
    "    'Bitcoin': 20000,\n",
    "}\n",
    "\n",
    "\n",
    "def buscar_cotacao():\n",
    "    moeda_preenchida = moeda.get()\n",
    "    cotacao_moeda = dicionario_cotacoes.get(moeda_preenchida)\n",
    "    mensagem_cotacao = tk.Label(text=\"Cotação não encontrada\")\n",
    "    mensagem_cotacao.grid(row=3, column=0)\n",
    "    if cotacao_moeda:\n",
    "        mensagem_cotacao[\"text\"] = f'Cotação do {moeda_preenchida} é de {cotacao_moeda} reais'\n",
    "\n",
    "\n",
    "botao = tk.Button(text=\"Buscar Cotação\", command=buscar_cotacao)\n",
    "botao.grid(row=2, column=1)\n",
    "\n",
    "janela.mainloop()"
   ]
  },
  {
   "cell_type": "markdown",
   "id": "6ccde86c",
   "metadata": {},
   "source": []
  },
  {
   "cell_type": "code",
   "execution_count": null,
   "id": "1179bddb",
   "metadata": {},
   "outputs": [],
   "source": []
  }
 ],
 "metadata": {
  "kernelspec": {
   "display_name": "Python 3 (ipykernel)",
   "language": "python",
   "name": "python3"
  },
  "language_info": {
   "codemirror_mode": {
    "name": "ipython",
    "version": 3
   },
   "file_extension": ".py",
   "mimetype": "text/x-python",
   "name": "python",
   "nbconvert_exporter": "python",
   "pygments_lexer": "ipython3",
   "version": "3.9.12"
  },
  "toc": {
   "base_numbering": 1,
   "nav_menu": {},
   "number_sections": true,
   "sideBar": true,
   "skip_h1_title": false,
   "title_cell": "Table of Contents",
   "title_sidebar": "Contents",
   "toc_cell": false,
   "toc_position": {},
   "toc_section_display": true,
   "toc_window_display": false
  },
  "varInspector": {
   "cols": {
    "lenName": 16,
    "lenType": 16,
    "lenVar": 40
   },
   "kernels_config": {
    "python": {
     "delete_cmd_postfix": "",
     "delete_cmd_prefix": "del ",
     "library": "var_list.py",
     "varRefreshCmd": "print(var_dic_list())"
    },
    "r": {
     "delete_cmd_postfix": ") ",
     "delete_cmd_prefix": "rm(",
     "library": "var_list.r",
     "varRefreshCmd": "cat(var_dic_list()) "
    }
   },
   "types_to_exclude": [
    "module",
    "function",
    "builtin_function_or_method",
    "instance",
    "_Feature"
   ],
   "window_display": false
  }
 },
 "nbformat": 4,
 "nbformat_minor": 5
}
