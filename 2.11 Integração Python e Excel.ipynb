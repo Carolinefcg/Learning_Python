{
 "cells": [
  {
   "cell_type": "markdown",
   "id": "9acbc885",
   "metadata": {},
   "source": [
    "# Integração Python + Excel\n",
    "\n",
    "### 2 formas:\n",
    "\n",
    "1. Pandas\n",
    "    - Mais usada no geral\n",
    "    - Trata o Excel como uma base de dados\n",
    "    - Faz o que quiser com o arquivo\n",
    "    - Pode desfazer a estrutura original do arquivo, caso queira editar\n",
    "2. Openpyxl\n",
    "    - Trata o Excel como uma planilha mesmo que pode ter várias coisas\n",
    "    - Edita \"como se fosse um VBA\"\n",
    "    - Menos eficiente\n",
    "    - Mantém mais a estrutura original do arquivo, mas cuidado porque não necessariamente tudo, então tem que testar\n",
    "    - Considera as fórmulas. Campos que contêm fórmulas continuam a ter e se as referências das fórmulas mudarem, eles mudam também."
   ]
  },
  {
   "cell_type": "markdown",
   "id": "1da7f8d8",
   "metadata": {},
   "source": [
    "### Desafio\n",
    "\n",
    "- Temos uma planilha de produtos e serviços. Com o aumento de imposto sobre os serviços, temos que atualizar o preço dos produtos impactados pela mudança.\n",
    "\n",
    "Novo Multiplicador Imposto: 1.5"
   ]
  },
  {
   "cell_type": "code",
   "execution_count": 1,
   "id": "79673b94",
   "metadata": {
    "scrolled": true
   },
   "outputs": [
    {
     "data": {
      "text/html": [
       "<div>\n",
       "<style scoped>\n",
       "    .dataframe tbody tr th:only-of-type {\n",
       "        vertical-align: middle;\n",
       "    }\n",
       "\n",
       "    .dataframe tbody tr th {\n",
       "        vertical-align: top;\n",
       "    }\n",
       "\n",
       "    .dataframe thead th {\n",
       "        text-align: right;\n",
       "    }\n",
       "</style>\n",
       "<table border=\"1\" class=\"dataframe\">\n",
       "  <thead>\n",
       "    <tr style=\"text-align: right;\">\n",
       "      <th></th>\n",
       "      <th>Produtos</th>\n",
       "      <th>Preço Base Original</th>\n",
       "      <th>Tipo</th>\n",
       "      <th>Multiplicador Imposto</th>\n",
       "      <th>Preço Base Reais</th>\n",
       "    </tr>\n",
       "  </thead>\n",
       "  <tbody>\n",
       "    <tr>\n",
       "      <th>0</th>\n",
       "      <td>Tablet</td>\n",
       "      <td>999.99</td>\n",
       "      <td>Produto</td>\n",
       "      <td>1.1</td>\n",
       "      <td>1099.989</td>\n",
       "    </tr>\n",
       "    <tr>\n",
       "      <th>1</th>\n",
       "      <td>Pós Graduação</td>\n",
       "      <td>4500.00</td>\n",
       "      <td>Serviço</td>\n",
       "      <td>1.3</td>\n",
       "      <td>5850.000</td>\n",
       "    </tr>\n",
       "    <tr>\n",
       "      <th>2</th>\n",
       "      <td>Celular</td>\n",
       "      <td>899.99</td>\n",
       "      <td>Produto</td>\n",
       "      <td>1.1</td>\n",
       "      <td>989.989</td>\n",
       "    </tr>\n",
       "    <tr>\n",
       "      <th>3</th>\n",
       "      <td>Passagem Aérea</td>\n",
       "      <td>799.00</td>\n",
       "      <td>Serviço</td>\n",
       "      <td>1.3</td>\n",
       "      <td>1038.700</td>\n",
       "    </tr>\n",
       "    <tr>\n",
       "      <th>4</th>\n",
       "      <td>Computador</td>\n",
       "      <td>3000.00</td>\n",
       "      <td>Produto</td>\n",
       "      <td>1.1</td>\n",
       "      <td>3300.000</td>\n",
       "    </tr>\n",
       "    <tr>\n",
       "      <th>5</th>\n",
       "      <td>SPA</td>\n",
       "      <td>480.48</td>\n",
       "      <td>Serviço</td>\n",
       "      <td>1.3</td>\n",
       "      <td>624.624</td>\n",
       "    </tr>\n",
       "    <tr>\n",
       "      <th>6</th>\n",
       "      <td>Corte Cabelo</td>\n",
       "      <td>50.00</td>\n",
       "      <td>Serviço</td>\n",
       "      <td>1.3</td>\n",
       "      <td>65.000</td>\n",
       "    </tr>\n",
       "  </tbody>\n",
       "</table>\n",
       "</div>"
      ],
      "text/plain": [
       "         Produtos  Preço Base Original     Tipo  Multiplicador Imposto  \\\n",
       "0          Tablet               999.99  Produto                    1.1   \n",
       "1   Pós Graduação              4500.00  Serviço                    1.3   \n",
       "2         Celular               899.99  Produto                    1.1   \n",
       "3  Passagem Aérea               799.00  Serviço                    1.3   \n",
       "4      Computador              3000.00  Produto                    1.1   \n",
       "5             SPA               480.48  Serviço                    1.3   \n",
       "6    Corte Cabelo                50.00  Serviço                    1.3   \n",
       "\n",
       "   Preço Base Reais  \n",
       "0          1099.989  \n",
       "1          5850.000  \n",
       "2           989.989  \n",
       "3          1038.700  \n",
       "4          3300.000  \n",
       "5           624.624  \n",
       "6            65.000  "
      ]
     },
     "metadata": {},
     "output_type": "display_data"
    }
   ],
   "source": [
    "# pandas\n",
    "import pandas as pd\n",
    "\n",
    "tabela = pd.read_excel(\"Produtos.xlsx\")\n",
    "display(tabela)"
   ]
  },
  {
   "cell_type": "code",
   "execution_count": 3,
   "id": "a14e0b4c",
   "metadata": {},
   "outputs": [],
   "source": [
    "# atualizar o multiplicador\n",
    "tabela.loc[tabela[\"Tipo\"]==\"Serviço\", \"Multiplicador Imposto\"] = 1.5\n",
    "\n",
    "# fazer a conta do Preço Base Reais\n",
    "tabela[\"Preço Base Reais\"] = tabela[\"Multiplicador Imposto\"] * tabela[\"Preço Base Original\"]"
   ]
  },
  {
   "cell_type": "code",
   "execution_count": null,
   "id": "5777b2a6",
   "metadata": {
    "deletable": false,
    "editable": false,
    "run_control": {
     "frozen": true
    }
   },
   "outputs": [],
   "source": [
    "tabela.to_excel(\"ProdutosPandas.xlsx\", index=False)"
   ]
  },
  {
   "cell_type": "code",
   "execution_count": 5,
   "id": "72efa318",
   "metadata": {},
   "outputs": [],
   "source": [
    "# openpyxl\n",
    "from openpyxl import Workbook, load_workbook\n",
    "\n",
    "planilha = load_workbook(\"Produtos.xlsx\")\n",
    "\n",
    "aba_ativa = planilha.active\n",
    "\n",
    "for celula in aba_ativa[\"C\"]:\n",
    "    if celula.value == \"Serviço\":\n",
    "        linha = celula.row\n",
    "        aba_ativa[f\"D{linha}\"] = 1.5"
   ]
  },
  {
   "cell_type": "code",
   "execution_count": null,
   "id": "97b0ef09",
   "metadata": {
    "deletable": false,
    "editable": false,
    "run_control": {
     "frozen": true
    }
   },
   "outputs": [],
   "source": [
    "planilha.save(\"ProdutosOpenPy.xlsx\")"
   ]
  }
 ],
 "metadata": {
  "kernelspec": {
   "display_name": "Python 3 (ipykernel)",
   "language": "python",
   "name": "python3"
  },
  "language_info": {
   "codemirror_mode": {
    "name": "ipython",
    "version": 3
   },
   "file_extension": ".py",
   "mimetype": "text/x-python",
   "name": "python",
   "nbconvert_exporter": "python",
   "pygments_lexer": "ipython3",
   "version": "3.9.12"
  },
  "toc": {
   "base_numbering": 1,
   "nav_menu": {},
   "number_sections": true,
   "sideBar": true,
   "skip_h1_title": false,
   "title_cell": "Table of Contents",
   "title_sidebar": "Contents",
   "toc_cell": false,
   "toc_position": {},
   "toc_section_display": true,
   "toc_window_display": false
  },
  "varInspector": {
   "cols": {
    "lenName": 16,
    "lenType": 16,
    "lenVar": 40
   },
   "kernels_config": {
    "python": {
     "delete_cmd_postfix": "",
     "delete_cmd_prefix": "del ",
     "library": "var_list.py",
     "varRefreshCmd": "print(var_dic_list())"
    },
    "r": {
     "delete_cmd_postfix": ") ",
     "delete_cmd_prefix": "rm(",
     "library": "var_list.r",
     "varRefreshCmd": "cat(var_dic_list()) "
    }
   },
   "types_to_exclude": [
    "module",
    "function",
    "builtin_function_or_method",
    "instance",
    "_Feature"
   ],
   "window_display": false
  }
 },
 "nbformat": 4,
 "nbformat_minor": 5
}
