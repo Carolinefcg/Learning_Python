{
 "cells": [
  {
   "cell_type": "markdown",
   "metadata": {},
   "source": [
    "# Aplicação de Tupla - Lista de Tuplas\n",
    "\n",
    "### Estrutura:\n",
    "\n",
    "Além de casos como o do enumerate, em que usamos uma função para transformar itens em tuplas porque isso ajuda o nosso código, temos também listas de tuplas como algo comum dentro do Python."
   ]
  },
  {
   "cell_type": "raw",
   "metadata": {},
   "source": [
    "lista = [\n",
    "    tupla1,\n",
    "    tupla2,\n",
    "    tupla3,\n",
    "    ]\n",
    "    \n",
    "ou seja\n",
    "\n",
    "lista = [\n",
    "    (valor1, valor2, valor3),\n",
    "    (valor4, valor5, valor6),\n",
    "    (valor7, valor8, valor9),\n",
    "    ]"
   ]
  },
  {
   "cell_type": "markdown",
   "metadata": {},
   "source": [
    "### Exemplo:\n",
    "\n",
    "Digamos que você está analisando as vendas do Banco de Dados de um e-commerce.\n",
    "\n",
    "Em um determinado dia, você extraiu as vendas do Banco de Dados e elas vieram nesse formato:"
   ]
  },
  {
   "cell_type": "code",
   "execution_count": 2,
   "metadata": {
    "ExecuteTime": {
     "end_time": "2023-03-22T20:35:08.181687Z",
     "start_time": "2023-03-22T20:35:08.165898Z"
    }
   },
   "outputs": [],
   "source": [
    "vendas = [\n",
    "    ('20/08/2020', 'iphone x', 'azul', '128gb', 350, 4000),\n",
    "    ('20/08/2020', 'iphone x', 'prata', '128gb', 1500, 4000),\n",
    "    ('20/08/2020', 'ipad', 'prata', '256gb', 127, 6000),\n",
    "    ('20/08/2020', 'ipad', 'prata', '128gb', 981, 5000),\n",
    "    ('21/08/2020', 'iphone x', 'azul', '128gb', 397, 4000),\n",
    "    ('21/08/2020', 'iphone x', 'prata', '128gb', 1017, 4000),\n",
    "    ('21/08/2020', 'ipad', 'prata', '256gb', 50, 6000),\n",
    "    ('21/08/2020', 'ipad', 'prata', '128gb', 4000, 5000),\n",
    "]"
   ]
  },
  {
   "cell_type": "markdown",
   "metadata": {},
   "source": [
    "- Qual foi o faturamento de IPhone no dia 20/08/2020?\n",
    "- Qual foi o produto mais vendido (em unidades) no dia 21/08/2020?"
   ]
  },
  {
   "cell_type": "code",
   "execution_count": 27,
   "metadata": {
    "ExecuteTime": {
     "end_time": "2023-03-22T20:46:47.194164Z",
     "start_time": "2023-03-22T20:46:47.185165Z"
    }
   },
   "outputs": [
    {
     "name": "stdout",
     "output_type": "stream",
     "text": [
      "O faturamento de IPhone no dia 20/08/2020 foi de R$7,400,000\n"
     ]
    }
   ],
   "source": [
    "venda_iphone = 0\n",
    "\n",
    "for i, j in enumerate(vendas):\n",
    "    if 'iphone' in vendas[i][1] and vendas[i][0] == '20/08/2020':\n",
    "        venda_iphone += vendas[i][5] *vendas[i][4]\n",
    "print('O faturamento de IPhone no dia 20/08/2020 foi de R${:,}'.format(venda_iphone))"
   ]
  },
  {
   "cell_type": "code",
   "execution_count": 72,
   "metadata": {
    "ExecuteTime": {
     "end_time": "2023-03-22T21:12:44.558235Z",
     "start_time": "2023-03-22T21:12:44.542614Z"
    }
   },
   "outputs": [
    {
     "name": "stdout",
     "output_type": "stream",
     "text": [
      "O produto mais vendido (em unidades) no dia 21/08/2020 foi o ipad com 4,000 unidades vendidas\n"
     ]
    }
   ],
   "source": [
    "# Solução 1\n",
    "max_uni = 0\n",
    "max_prod = ''\n",
    "produtos = []\n",
    "qtd_produtos = []\n",
    "\n",
    "i = 0\n",
    "for i, j in enumerate(vendas):\n",
    "    if vendas[i][0] == '21/08/2020':\n",
    "        if len(produtos) == 0 or vendas[i][1] not in produtos:\n",
    "            produtos.append(vendas[i][1])\n",
    "            qtd_produtos.append(vendas[i][4])\n",
    "        else:\n",
    "            qtd_produtos[produtos.index(vendas[i][1])] = vendas[i][4]\n",
    "                       \n",
    "print('O produto mais vendido (em unidades) no dia 21/08/2020 foi o {} com {:,} unidades vendidas'.format(produtos[qtd_produtos.index(max(qtd_produtos))], max(qtd_produtos)))"
   ]
  },
  {
   "cell_type": "code",
   "execution_count": 89,
   "metadata": {
    "ExecuteTime": {
     "end_time": "2023-03-24T20:33:53.525882Z",
     "start_time": "2023-03-24T20:33:53.494627Z"
    }
   },
   "outputs": [
    {
     "name": "stdout",
     "output_type": "stream",
     "text": [
      "O produto mais vendido (em unidades) no dia 21/08/2020 foi:\n",
      "ipad\n",
      "4,000 unidades vendidas\n",
      "Cor prata\n",
      "Capacidade 128gb\n"
     ]
    }
   ],
   "source": [
    "# Solução 2\n",
    "produto_mais_vend = ''\n",
    "qtd_produto_mais_vend = 0\n",
    "cor_produto_mais_vend = ''\n",
    "capacidade_produto_mais_vend = ''\n",
    "valor_produto_mais_vend = ''\n",
    "\n",
    "for item in vendas:\n",
    "    data, prod, cor, cap, qtd, valor = item\n",
    "    if data == '21/08/2020':\n",
    "        if qtd > qtd_produto_mais_vend:\n",
    "            qtd_produto_mais_vend = qtd\n",
    "            produto_mais_vend = prod\n",
    "            data, produto_mais_vend,cor_produto_mais_vend, capacidade_produto_mais_vend,qtd_produto_mais_vend,valor_produto_mais_vend= item\n",
    "            \n",
    "                       \n",
    "print('O produto mais vendido (em unidades) no dia 21/08/2020 foi:\\n{}\\n{:,} unidades vendidas\\nCor {}\\nCapacidade {}'.format(produto_mais_vend, qtd_produto_mais_vend, cor_produto_mais_vend, capacidade_produto_mais_vend))"
   ]
  }
 ],
 "metadata": {
  "kernelspec": {
   "display_name": "Python 3 (ipykernel)",
   "language": "python",
   "name": "python3"
  },
  "language_info": {
   "codemirror_mode": {
    "name": "ipython",
    "version": 3
   },
   "file_extension": ".py",
   "mimetype": "text/x-python",
   "name": "python",
   "nbconvert_exporter": "python",
   "pygments_lexer": "ipython3",
   "version": "3.9.12"
  },
  "varInspector": {
   "cols": {
    "lenName": 16,
    "lenType": 16,
    "lenVar": 40
   },
   "kernels_config": {
    "python": {
     "delete_cmd_postfix": "",
     "delete_cmd_prefix": "del ",
     "library": "var_list.py",
     "varRefreshCmd": "print(var_dic_list())"
    },
    "r": {
     "delete_cmd_postfix": ") ",
     "delete_cmd_prefix": "rm(",
     "library": "var_list.r",
     "varRefreshCmd": "cat(var_dic_list()) "
    }
   },
   "types_to_exclude": [
    "module",
    "function",
    "builtin_function_or_method",
    "instance",
    "_Feature"
   ],
   "window_display": false
  }
 },
 "nbformat": 4,
 "nbformat_minor": 4
}
