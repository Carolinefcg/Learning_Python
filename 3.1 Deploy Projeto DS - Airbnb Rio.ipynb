{
 "cells": [
  {
   "cell_type": "markdown",
   "metadata": {},
   "source": [
    "# Context\n",
    "Após ter feito o deploy do melhor modelo em 3. Projeto DS - Airbnb Rio, iniciamos neste notebook o passo 3 do passo-a-passo do deploy de um projeto,"
   ]
  },
  {
   "cell_type": "markdown",
   "metadata": {},
   "source": [
    "# Deploy do projeto\n",
    "\n",
    "* Passo 1 -> Criar arquivo do Modelo (joblib)\n",
    "* Passo 2 -> Escolher a forma do deploy\n",
    "\n",
    "    - Arquivo executável + Tkinter\n",
    "    - Deploy em um Microsite (Flask)\n",
    "    - Deploy apenas para uso direto (Streamlit)\n",
    "\n",
    "* Passo 3 -> Outro arquivo Python (jupyter ou PyCharm) <font color= 'green'> > Estamos aqui!</font>\n",
    "* Passo 4 -> Importar streamlit e criar código\n",
    "* Passo 5 -> Atribuir ao botã"
   ]
  },
  {
   "cell_type": "markdown",
   "metadata": {},
   "source": [
    "# Import de bibliotecas"
   ]
  },
  {
   "cell_type": "code",
   "execution_count": 2,
   "metadata": {
    "ExecuteTime": {
     "end_time": "2023-05-08T22:55:52.494905Z",
     "start_time": "2023-05-08T22:55:39.818024Z"
    }
   },
   "outputs": [
    {
     "ename": "ModuleNotFoundError",
     "evalue": "No module named 'streamlit'",
     "output_type": "error",
     "traceback": [
      "\u001b[1;31m---------------------------------------------------------------------------\u001b[0m",
      "\u001b[1;31mModuleNotFoundError\u001b[0m                       Traceback (most recent call last)",
      "Input \u001b[1;32mIn [2]\u001b[0m, in \u001b[0;36m<cell line: 2>\u001b[1;34m()\u001b[0m\n\u001b[0;32m      1\u001b[0m \u001b[38;5;28;01mimport\u001b[39;00m \u001b[38;5;21;01mpandas\u001b[39;00m \u001b[38;5;28;01mas\u001b[39;00m \u001b[38;5;21;01mpd\u001b[39;00m\n\u001b[1;32m----> 2\u001b[0m \u001b[38;5;28;01mimport\u001b[39;00m \u001b[38;5;21;01mstreamlit\u001b[39;00m \u001b[38;5;28;01mas\u001b[39;00m \u001b[38;5;21;01mst\u001b[39;00m\n\u001b[0;32m      3\u001b[0m \u001b[38;5;28;01mimport\u001b[39;00m \u001b[38;5;21;01mjoblib\u001b[39;00m\n",
      "\u001b[1;31mModuleNotFoundError\u001b[0m: No module named 'streamlit'"
     ]
    }
   ],
   "source": [
    "import pandas as pd\n",
    "import streamlit as st\n",
    "import joblib"
   ]
  },
  {
   "cell_type": "markdown",
   "metadata": {},
   "source": [
    "# Separando os tipos das variáveis"
   ]
  },
  {
   "cell_type": "code",
   "execution_count": 1,
   "metadata": {
    "ExecuteTime": {
     "end_time": "2023-05-08T22:55:37.208501Z",
     "start_time": "2023-05-08T22:55:36.733013Z"
    }
   },
   "outputs": [],
   "source": [
    "x_numericos = {'latitude': 0, 'longitude': 0, 'accommodates': 0, 'bathrooms': 0, 'bedrooms': 0, 'beds': 0, 'extra_people': 0,\n",
    "               'minimum_nights': 0, 'ano': 0, 'mes': 0, 'n_amenities': 0, 'host_listings_count': 0}\n",
    "\n",
    "x_tf = {'host_is_superhost': 0, 'instant_bookable': 0}\n",
    "\n",
    "x_listas = {'property_type': ['Apartment', 'Bed and breakfast', 'Condominium', 'Guest suite', 'Guesthouse', 'Hostel', 'House', 'Loft', 'Outros', 'Serviced apartment'],\n",
    "            'room_type': ['Entire home/apt', 'Hotel room', 'Private room', 'Shared room'],\n",
    "            'cancelation_policy': ['flexible', 'moderate', 'strict', 'strict_14_with_grace_period']\n",
    "            }"
   ]
  },
  {
   "cell_type": "code",
   "execution_count": 4,
   "metadata": {},
   "outputs": [
    {
     "name": "stdout",
     "output_type": "stream",
     "text": [
      "{'property_type_Apartment': 0, 'property_type_Bed and breakfast': 0, 'property_type_Condominium': 0, 'property_type_Guest suite': 0, 'property_type_Guesthouse': 0, 'property_type_Hostel': 0, 'property_type_House': 0, 'property_type_Loft': 0, 'property_type_Outros': 0, 'property_type_Serviced apartment': 0, 'room_type_Entire home/apt': 0, 'room_type_Hotel room': 0, 'room_type_Private room': 0, 'room_type_Shared room': 0, 'cancelation_policy_flexible': 0, 'cancelation_policy_moderate': 0, 'cancelation_policy_strict': 0, 'cancelation_policy_strict_14_with_grace_period': 0}\n"
     ]
    },
    {
     "name": "stderr",
     "output_type": "stream",
     "text": [
      "2021-02-24 17:02:58.306 WARNING root: \n",
      "  \u001b[33m\u001b[1mWarning:\u001b[0m to view this Streamlit app on a browser, run it with the following\n",
      "  command:\n",
      "\n",
      "    streamlit run C:\\Users\\joaop\\anaconda3\\lib\\site-packages\\ipykernel_launcher.py [ARGUMENTS]\n"
     ]
    }
   ],
   "source": [
    "dicionario = {}\n",
    "for item in x_listas:\n",
    "    for valor in x_listas[item]:\n",
    "        dicionario[f'{item}_{valor}'] = 0\n",
    "\n",
    "\n",
    "for item in x_numericos:\n",
    "    if item == 'latitude' or item == 'longitude':\n",
    "        valor = st.number_input(f'{item}', step=0.00001, value=0.0, format=\"%.5f\")\n",
    "    elif item == 'extra_people':\n",
    "        valor = st.number_input(f'{item}', step=0.01, value=0.0)\n",
    "    else:\n",
    "        valor = st.number_input(f'{item}', step=1, value=0)\n",
    "    x_numericos[item] = valor\n",
    "\n",
    "for item in x_tf:\n",
    "    valor = st.selectbox(f'{item}', ('Sim', 'Não'))\n",
    "    if valor == \"Sim\":\n",
    "        x_tf[item] = 1\n",
    "    else:\n",
    "        x_tf[item] = 0\n",
    "    \n",
    "    \n",
    "for item in x_listas:\n",
    "    valor = st.selectbox(f'{item}', x_listas[item])\n",
    "    dicionario[f'{item}_{valor}'] = 1\n",
    "    \n",
    "botao = st.button('Prever Valor do Imóvel')\n",
    "\n",
    "if botao:\n",
    "    dicionario.update(x_numericos)\n",
    "    dicionario.update(x_tf)\n",
    "    valores_x = pd.DataFrame(dicionario, index=[0])\n",
    "    modelo = joblib.load('modelo.joblib')\n",
    "    preco = modelo.predict(valores_x)\n",
    "    st.write(preco[0])\n",
    "    \n",
    "    "
   ]
  },
  {
   "cell_type": "code",
   "execution_count": null,
   "metadata": {},
   "outputs": [],
   "source": []
  }
 ],
 "metadata": {
  "kernelspec": {
   "display_name": "Python 3 (ipykernel)",
   "language": "python",
   "name": "python3"
  },
  "language_info": {
   "codemirror_mode": {
    "name": "ipython",
    "version": 3
   },
   "file_extension": ".py",
   "mimetype": "text/x-python",
   "name": "python",
   "nbconvert_exporter": "python",
   "pygments_lexer": "ipython3",
   "version": "3.9.12"
  },
  "toc": {
   "base_numbering": 1,
   "nav_menu": {},
   "number_sections": true,
   "sideBar": true,
   "skip_h1_title": false,
   "title_cell": "Table of Contents",
   "title_sidebar": "Contents",
   "toc_cell": false,
   "toc_position": {},
   "toc_section_display": true,
   "toc_window_display": false
  },
  "varInspector": {
   "cols": {
    "lenName": 16,
    "lenType": 16,
    "lenVar": 40
   },
   "kernels_config": {
    "python": {
     "delete_cmd_postfix": "",
     "delete_cmd_prefix": "del ",
     "library": "var_list.py",
     "varRefreshCmd": "print(var_dic_list())"
    },
    "r": {
     "delete_cmd_postfix": ") ",
     "delete_cmd_prefix": "rm(",
     "library": "var_list.r",
     "varRefreshCmd": "cat(var_dic_list()) "
    }
   },
   "types_to_exclude": [
    "module",
    "function",
    "builtin_function_or_method",
    "instance",
    "_Feature"
   ],
   "window_display": false
  }
 },
 "nbformat": 4,
 "nbformat_minor": 4
}
