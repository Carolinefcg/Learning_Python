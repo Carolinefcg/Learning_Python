{
 "cells": [
  {
   "cell_type": "markdown",
   "id": "4e5fa91b",
   "metadata": {},
   "source": [
    "### Forma Básica"
   ]
  },
  {
   "cell_type": "code",
   "execution_count": 2,
   "id": "fba45682",
   "metadata": {
    "ExecuteTime": {
     "end_time": "2023-03-07T00:13:57.186463Z",
     "start_time": "2023-03-07T00:13:57.168871Z"
    }
   },
   "outputs": [],
   "source": [
    "precos = \"Jan: 25, Fev: 27, Mar: 29\"\n"
   ]
  },
  {
   "cell_type": "markdown",
   "id": "afe5dc17",
   "metadata": {},
   "source": [
    "### Posição Inicial e Final"
   ]
  },
  {
   "cell_type": "code",
   "execution_count": 4,
   "id": "c3488405",
   "metadata": {
    "ExecuteTime": {
     "end_time": "2023-03-07T00:14:01.324513Z",
     "start_time": "2023-03-07T00:14:01.305382Z"
    }
   },
   "outputs": [
    {
     "data": {
      "text/plain": [
       "'J'"
      ]
     },
     "execution_count": 4,
     "metadata": {},
     "output_type": "execute_result"
    }
   ],
   "source": [
    "precos[0]"
   ]
  },
  {
   "cell_type": "code",
   "execution_count": 6,
   "id": "864bbfeb",
   "metadata": {
    "ExecuteTime": {
     "end_time": "2023-03-07T00:14:13.035347Z",
     "start_time": "2023-03-07T00:14:13.016351Z"
    }
   },
   "outputs": [
    {
     "data": {
      "text/plain": [
       "'9'"
      ]
     },
     "execution_count": 6,
     "metadata": {},
     "output_type": "execute_result"
    }
   ],
   "source": [
    "precos[-1]"
   ]
  },
  {
   "cell_type": "markdown",
   "id": "bca6dfd4",
   "metadata": {},
   "source": [
    "### Posição Inicial e Final com Step"
   ]
  },
  {
   "cell_type": "code",
   "execution_count": 8,
   "id": "981224c2",
   "metadata": {
    "ExecuteTime": {
     "end_time": "2023-03-07T00:14:47.300532Z",
     "start_time": "2023-03-07T00:14:47.294532Z"
    }
   },
   "outputs": [],
   "source": [
    "codigo = \"1.2.3.4,5,1,2.3.4,7.9\"\n"
   ]
  },
  {
   "cell_type": "code",
   "execution_count": 9,
   "id": "e134a9b3",
   "metadata": {
    "ExecuteTime": {
     "end_time": "2023-03-07T00:14:52.787377Z",
     "start_time": "2023-03-07T00:14:52.771343Z"
    }
   },
   "outputs": [
    {
     "data": {
      "text/plain": [
       "'97432154321'"
      ]
     },
     "execution_count": 9,
     "metadata": {},
     "output_type": "execute_result"
    }
   ],
   "source": [
    "codigo[::-2]"
   ]
  },
  {
   "cell_type": "code",
   "execution_count": null,
   "id": "4d05dcab",
   "metadata": {},
   "outputs": [],
   "source": []
  }
 ],
 "metadata": {
  "kernelspec": {
   "display_name": "Python 3 (ipykernel)",
   "language": "python",
   "name": "python3"
  },
  "language_info": {
   "codemirror_mode": {
    "name": "ipython",
    "version": 3
   },
   "file_extension": ".py",
   "mimetype": "text/x-python",
   "name": "python",
   "nbconvert_exporter": "python",
   "pygments_lexer": "ipython3",
   "version": "3.9.12"
  },
  "varInspector": {
   "cols": {
    "lenName": 16,
    "lenType": 16,
    "lenVar": 40
   },
   "kernels_config": {
    "python": {
     "delete_cmd_postfix": "",
     "delete_cmd_prefix": "del ",
     "library": "var_list.py",
     "varRefreshCmd": "print(var_dic_list())"
    },
    "r": {
     "delete_cmd_postfix": ") ",
     "delete_cmd_prefix": "rm(",
     "library": "var_list.r",
     "varRefreshCmd": "cat(var_dic_list()) "
    }
   },
   "types_to_exclude": [
    "module",
    "function",
    "builtin_function_or_method",
    "instance",
    "_Feature"
   ],
   "window_display": false
  }
 },
 "nbformat": 4,
 "nbformat_minor": 5
}
